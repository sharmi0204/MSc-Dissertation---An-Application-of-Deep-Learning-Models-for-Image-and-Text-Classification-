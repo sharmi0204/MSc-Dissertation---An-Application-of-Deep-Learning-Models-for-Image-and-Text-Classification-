{
 "cells": [
  {
   "cell_type": "code",
   "execution_count": 4,
   "metadata": {
    "id": "SBByWKmywAI4"
   },
   "outputs": [
    {
     "name": "stdout",
     "output_type": "stream",
     "text": [
      "Requirement already satisfied: sentence-transformers in c:\\users\\shanmugalingams\\anaconda3\\lib\\site-packages (2.0.0)\n",
      "Requirement already satisfied: numpy in c:\\users\\shanmugalingams\\anaconda3\\lib\\site-packages (from sentence-transformers) (1.19.5)\n",
      "Requirement already satisfied: torchvision in c:\\users\\shanmugalingams\\anaconda3\\lib\\site-packages (from sentence-transformers) (0.10.0)\n",
      "Requirement already satisfied: sentencepiece in c:\\users\\shanmugalingams\\anaconda3\\lib\\site-packages (from sentence-transformers) (0.1.96)\n",
      "Requirement already satisfied: huggingface-hub in c:\\users\\shanmugalingams\\anaconda3\\lib\\site-packages (from sentence-transformers) (0.0.12)\n",
      "Requirement already satisfied: nltk in c:\\users\\shanmugalingams\\anaconda3\\lib\\site-packages (from sentence-transformers) (3.6.1)\n",
      "Requirement already satisfied: transformers<5.0.0,>=4.6.0 in c:\\users\\shanmugalingams\\anaconda3\\lib\\site-packages (from sentence-transformers) (4.9.2)\n",
      "Requirement already satisfied: scikit-learn in c:\\users\\shanmugalingams\\anaconda3\\lib\\site-packages (from sentence-transformers) (0.24.1)\n",
      "Requirement already satisfied: tqdm in c:\\users\\shanmugalingams\\anaconda3\\lib\\site-packages (from sentence-transformers) (4.59.0)\n",
      "Requirement already satisfied: scipy in c:\\users\\shanmugalingams\\anaconda3\\lib\\site-packages (from sentence-transformers) (1.6.2)\n",
      "Requirement already satisfied: torch>=1.6.0 in c:\\users\\shanmugalingams\\anaconda3\\lib\\site-packages (from sentence-transformers) (1.9.0)\n",
      "Requirement already satisfied: typing-extensions in c:\\users\\shanmugalingams\\anaconda3\\lib\\site-packages (from torch>=1.6.0->sentence-transformers) (3.7.4.3)\n",
      "Requirement already satisfied: pyyaml>=5.1 in c:\\users\\shanmugalingams\\anaconda3\\lib\\site-packages (from transformers<5.0.0,>=4.6.0->sentence-transformers) (5.4.1)\n",
      "Requirement already satisfied: filelock in c:\\users\\shanmugalingams\\anaconda3\\lib\\site-packages (from transformers<5.0.0,>=4.6.0->sentence-transformers) (3.0.12)\n",
      "Requirement already satisfied: packaging in c:\\users\\shanmugalingams\\anaconda3\\lib\\site-packages (from transformers<5.0.0,>=4.6.0->sentence-transformers) (20.9)\n",
      "Requirement already satisfied: tokenizers<0.11,>=0.10.1 in c:\\users\\shanmugalingams\\anaconda3\\lib\\site-packages (from transformers<5.0.0,>=4.6.0->sentence-transformers) (0.10.3)\n",
      "Requirement already satisfied: regex!=2019.12.17 in c:\\users\\shanmugalingams\\anaconda3\\lib\\site-packages (from transformers<5.0.0,>=4.6.0->sentence-transformers) (2021.4.4)\n",
      "Requirement already satisfied: sacremoses in c:\\users\\shanmugalingams\\anaconda3\\lib\\site-packages (from transformers<5.0.0,>=4.6.0->sentence-transformers) (0.0.45)\n",
      "Requirement already satisfied: requests in c:\\users\\shanmugalingams\\anaconda3\\lib\\site-packages (from transformers<5.0.0,>=4.6.0->sentence-transformers) (2.25.1)\n",
      "Requirement already satisfied: pyparsing>=2.0.2 in c:\\users\\shanmugalingams\\anaconda3\\lib\\site-packages (from packaging->transformers<5.0.0,>=4.6.0->sentence-transformers) (2.4.7)\n",
      "Requirement already satisfied: joblib in c:\\users\\shanmugalingams\\anaconda3\\lib\\site-packages (from nltk->sentence-transformers) (1.0.1)\n",
      "Requirement already satisfied: click in c:\\users\\shanmugalingams\\anaconda3\\lib\\site-packages (from nltk->sentence-transformers) (7.1.2)\n",
      "Requirement already satisfied: chardet<5,>=3.0.2 in c:\\users\\shanmugalingams\\anaconda3\\lib\\site-packages (from requests->transformers<5.0.0,>=4.6.0->sentence-transformers) (4.0.0)\n",
      "Requirement already satisfied: urllib3<1.27,>=1.21.1 in c:\\users\\shanmugalingams\\anaconda3\\lib\\site-packages (from requests->transformers<5.0.0,>=4.6.0->sentence-transformers) (1.26.4)\n",
      "Requirement already satisfied: certifi>=2017.4.17 in c:\\users\\shanmugalingams\\anaconda3\\lib\\site-packages (from requests->transformers<5.0.0,>=4.6.0->sentence-transformers) (2020.12.5)\n",
      "Requirement already satisfied: idna<3,>=2.5 in c:\\users\\shanmugalingams\\anaconda3\\lib\\site-packages (from requests->transformers<5.0.0,>=4.6.0->sentence-transformers) (2.10)\n",
      "Requirement already satisfied: six in c:\\users\\shanmugalingams\\anaconda3\\lib\\site-packages (from sacremoses->transformers<5.0.0,>=4.6.0->sentence-transformers) (1.15.0)\n",
      "Requirement already satisfied: threadpoolctl>=2.0.0 in c:\\users\\shanmugalingams\\anaconda3\\lib\\site-packages (from scikit-learn->sentence-transformers) (2.1.0)\n",
      "Requirement already satisfied: pillow>=5.3.0 in c:\\users\\shanmugalingams\\anaconda3\\lib\\site-packages (from torchvision->sentence-transformers) (8.2.0)\n",
      "Requirement already satisfied: keras in c:\\users\\shanmugalingams\\anaconda3\\lib\\site-packages (2.6.0)\n",
      "Collecting tensorflow\n",
      "  Using cached tensorflow-2.6.0-cp38-cp38-win_amd64.whl (423.2 MB)\n",
      "Collecting flatbuffers~=1.12.0\n",
      "  Using cached flatbuffers-1.12-py2.py3-none-any.whl (15 kB)\n",
      "Collecting absl-py~=0.10\n",
      "  Using cached absl_py-0.13.0-py3-none-any.whl (132 kB)\n",
      "Collecting keras-preprocessing~=1.1.2\n",
      "  Using cached Keras_Preprocessing-1.1.2-py2.py3-none-any.whl (42 kB)\n",
      "Requirement already satisfied: numpy~=1.19.2 in c:\\users\\shanmugalingams\\anaconda3\\lib\\site-packages (from tensorflow) (1.19.5)\n",
      "Requirement already satisfied: wheel~=0.35 in c:\\users\\shanmugalingams\\anaconda3\\lib\\site-packages (from tensorflow) (0.36.2)\n",
      "Requirement already satisfied: typing-extensions~=3.7.4 in c:\\users\\shanmugalingams\\anaconda3\\lib\\site-packages (from tensorflow) (3.7.4.3)\n",
      "Requirement already satisfied: keras~=2.6 in c:\\users\\shanmugalingams\\anaconda3\\lib\\site-packages (from tensorflow) (2.6.0)\n",
      "Requirement already satisfied: wrapt~=1.12.1 in c:\\users\\shanmugalingams\\anaconda3\\lib\\site-packages (from tensorflow) (1.12.1)\n",
      "Collecting tensorboard~=2.6\n",
      "  Using cached tensorboard-2.6.0-py3-none-any.whl (5.6 MB)\n",
      "Collecting opt-einsum~=3.3.0\n",
      "  Using cached opt_einsum-3.3.0-py3-none-any.whl (65 kB)\n",
      "Collecting gast==0.4.0\n",
      "  Using cached gast-0.4.0-py3-none-any.whl (9.8 kB)\n",
      "Collecting google-pasta~=0.2\n",
      "  Using cached google_pasta-0.2.0-py3-none-any.whl (57 kB)\n",
      "Collecting grpcio<2.0,>=1.37.0\n",
      "  Using cached grpcio-1.39.0-cp38-cp38-win_amd64.whl (3.2 MB)\n",
      "Collecting h5py~=3.1.0\n",
      "  Using cached h5py-3.1.0-cp38-cp38-win_amd64.whl (2.7 MB)\n",
      "Requirement already satisfied: six~=1.15.0 in c:\\users\\shanmugalingams\\anaconda3\\lib\\site-packages (from tensorflow) (1.15.0)\n",
      "Requirement already satisfied: protobuf>=3.9.2 in c:\\users\\shanmugalingams\\anaconda3\\lib\\site-packages (from tensorflow) (3.17.3)\n",
      "Collecting termcolor~=1.1.0\n",
      "  Using cached termcolor-1.1.0-py3-none-any.whl\n",
      "Collecting clang~=5.0\n",
      "  Using cached clang-5.0-py3-none-any.whl\n",
      "Collecting astunparse~=1.6.3\n",
      "  Using cached astunparse-1.6.3-py2.py3-none-any.whl (12 kB)\n",
      "Collecting tensorflow-estimator~=2.6\n",
      "  Using cached tensorflow_estimator-2.6.0-py2.py3-none-any.whl (462 kB)\n",
      "Requirement already satisfied: requests<3,>=2.21.0 in c:\\users\\shanmugalingams\\anaconda3\\lib\\site-packages (from tensorboard~=2.6->tensorflow) (2.25.1)\n",
      "Requirement already satisfied: setuptools>=41.0.0 in c:\\users\\shanmugalingams\\anaconda3\\lib\\site-packages (from tensorboard~=2.6->tensorflow) (52.0.0.post20210125)\n",
      "Collecting markdown>=2.6.8\n",
      "  Using cached Markdown-3.3.4-py3-none-any.whl (97 kB)\n",
      "Requirement already satisfied: google-auth<2,>=1.6.3 in c:\\users\\shanmugalingams\\anaconda3\\lib\\site-packages (from tensorboard~=2.6->tensorflow) (1.34.0)\n",
      "Requirement already satisfied: werkzeug>=0.11.15 in c:\\users\\shanmugalingams\\anaconda3\\lib\\site-packages (from tensorboard~=2.6->tensorflow) (1.0.1)\n",
      "Requirement already satisfied: tensorboard-plugin-wit>=1.6.0 in c:\\users\\shanmugalingams\\anaconda3\\lib\\site-packages (from tensorboard~=2.6->tensorflow) (1.8.0)\n",
      "Requirement already satisfied: tensorboard-data-server<0.7.0,>=0.6.0 in c:\\users\\shanmugalingams\\anaconda3\\lib\\site-packages (from tensorboard~=2.6->tensorflow) (0.6.1)\n",
      "Collecting google-auth-oauthlib<0.5,>=0.4.1\n",
      "  Using cached google_auth_oauthlib-0.4.5-py2.py3-none-any.whl (18 kB)\n",
      "Requirement already satisfied: cachetools<5.0,>=2.0.0 in c:\\users\\shanmugalingams\\anaconda3\\lib\\site-packages (from google-auth<2,>=1.6.3->tensorboard~=2.6->tensorflow) (4.2.2)\n",
      "Requirement already satisfied: rsa<5,>=3.1.4 in c:\\users\\shanmugalingams\\anaconda3\\lib\\site-packages (from google-auth<2,>=1.6.3->tensorboard~=2.6->tensorflow) (4.7.2)\n",
      "Requirement already satisfied: pyasn1-modules>=0.2.1 in c:\\users\\shanmugalingams\\anaconda3\\lib\\site-packages (from google-auth<2,>=1.6.3->tensorboard~=2.6->tensorflow) (0.2.8)\n",
      "Requirement already satisfied: requests-oauthlib>=0.7.0 in c:\\users\\shanmugalingams\\anaconda3\\lib\\site-packages (from google-auth-oauthlib<0.5,>=0.4.1->tensorboard~=2.6->tensorflow) (1.3.0)\n",
      "Requirement already satisfied: pyasn1<0.5.0,>=0.4.6 in c:\\users\\shanmugalingams\\anaconda3\\lib\\site-packages (from pyasn1-modules>=0.2.1->google-auth<2,>=1.6.3->tensorboard~=2.6->tensorflow) (0.4.8)\n",
      "Requirement already satisfied: certifi>=2017.4.17 in c:\\users\\shanmugalingams\\anaconda3\\lib\\site-packages (from requests<3,>=2.21.0->tensorboard~=2.6->tensorflow) (2020.12.5)\n",
      "Requirement already satisfied: chardet<5,>=3.0.2 in c:\\users\\shanmugalingams\\anaconda3\\lib\\site-packages (from requests<3,>=2.21.0->tensorboard~=2.6->tensorflow) (4.0.0)\n",
      "Requirement already satisfied: urllib3<1.27,>=1.21.1 in c:\\users\\shanmugalingams\\anaconda3\\lib\\site-packages (from requests<3,>=2.21.0->tensorboard~=2.6->tensorflow) (1.26.4)\n",
      "Requirement already satisfied: idna<3,>=2.5 in c:\\users\\shanmugalingams\\anaconda3\\lib\\site-packages (from requests<3,>=2.21.0->tensorboard~=2.6->tensorflow) (2.10)\n",
      "Requirement already satisfied: oauthlib>=3.0.0 in c:\\users\\shanmugalingams\\anaconda3\\lib\\site-packages (from requests-oauthlib>=0.7.0->google-auth-oauthlib<0.5,>=0.4.1->tensorboard~=2.6->tensorflow) (3.1.1)\n",
      "Installing collected packages: markdown, grpcio, google-auth-oauthlib, absl-py, termcolor, tensorflow-estimator, tensorboard, opt-einsum, keras-preprocessing, h5py, google-pasta, gast, flatbuffers, clang, astunparse, tensorflow\n",
      "  Attempting uninstall: h5py\n",
      "    Found existing installation: h5py 2.10.0\n",
      "    Uninstalling h5py-2.10.0:\n",
      "      Successfully uninstalled h5py-2.10.0\n",
      "Successfully installed absl-py-0.13.0 astunparse-1.6.3 clang-5.0 flatbuffers-1.12 gast-0.4.0 google-auth-oauthlib-0.4.5 google-pasta-0.2.0 grpcio-1.39.0 h5py-3.1.0 keras-preprocessing-1.1.2 markdown-3.3.4 opt-einsum-3.3.0 tensorboard-2.6.0 tensorflow-2.6.0 tensorflow-estimator-2.6.0 termcolor-1.1.0\n"
     ]
    }
   ],
   "source": [
    "!pip3 install -U sentence-transformers\n",
    "!pip install keras\n",
    "!pip install tensorflow\n",
    "from keras.models import Sequential\n",
    "\n",
    "from tensorflow.keras.layers import Dense"
   ]
  },
  {
   "cell_type": "code",
   "execution_count": 7,
   "metadata": {
    "id": "P_PQm5qbb21F"
   },
   "outputs": [],
   "source": [
    "# Load libraries\n",
    "import pandas\n",
    "import numpy as np\n",
    "\n",
    "from sentence_transformers import SentenceTransformer\n",
    "from sentence_transformers import util\n",
    "\n",
    "import sklearn\n",
    "from sklearn.model_selection import train_test_split\n",
    "\n",
    "import tensorflow as tf\n",
    "from tensorflow.keras import datasets, layers, models\n",
    "import matplotlib.pyplot as plt\n",
    "\n",
    "from keras.models import Sequential\n",
    "from tensorflow.keras.layers import Dense\n",
    "\n",
    "import pickle\n",
    "import pickle"
   ]
  },
  {
   "cell_type": "code",
   "execution_count": 8,
   "metadata": {
    "id": "S7RqmYHWiLcu"
   },
   "outputs": [],
   "source": [
    "# Load data and BERT model\n",
    "data = pandas.read_csv(\"subset_14770_v2.csv\")\n",
    "sbert = SentenceTransformer('paraphrase-distilroberta-base-v1')"
   ]
  },
  {
   "cell_type": "code",
   "execution_count": 9,
   "metadata": {
    "id": "Hq1QY_A7iaLc"
   },
   "outputs": [],
   "source": [
    "# Format data and set aside columns that are not important for the first model\n",
    "data = data.set_index(\"id\")\n",
    "unimportant_columns = [\"merchantName\",\"brandName\",\"ownKindCategory\",\"include\",\"numOwnKindCategories\"]\n",
    "data_other_columns = data.loc[:,unimportant_columns]\n",
    "data = data.loc[:,[x for x in data.columns if x not in unimportant_columns]]"
   ]
  },
  {
   "cell_type": "code",
   "execution_count": 10,
   "metadata": {
    "colab": {
     "base_uri": "https://localhost:8080/"
    },
    "id": "UiCKcM-oi_KV",
    "outputId": "12a3e488-c8bb-43f9-c302-34c7d8e64a7a"
   },
   "outputs": [
    {
     "data": {
      "application/vnd.jupyter.widget-view+json": {
       "model_id": "89dceef65b9b45cdb0ce252d0c440306",
       "version_major": 2,
       "version_minor": 0
      },
      "text/plain": [
       "Batches:   0%|          | 0/463 [00:00<?, ?it/s]"
      ]
     },
     "metadata": {},
     "output_type": "display_data"
    },
    {
     "data": {
      "application/vnd.jupyter.widget-view+json": {
       "model_id": "9a9ae73cc5784bd29231afc68edeb844",
       "version_major": 2,
       "version_minor": 0
      },
      "text/plain": [
       "Batches:   0%|          | 0/463 [00:00<?, ?it/s]"
      ]
     },
     "metadata": {},
     "output_type": "display_data"
    },
    {
     "data": {
      "application/vnd.jupyter.widget-view+json": {
       "model_id": "3707a58430d846c2929ee714ae9194d6",
       "version_major": 2,
       "version_minor": 0
      },
      "text/plain": [
       "Batches:   0%|          | 0/463 [00:00<?, ?it/s]"
      ]
     },
     "metadata": {},
     "output_type": "display_data"
    },
    {
     "data": {
      "text/plain": [
       "(768,)"
      ]
     },
     "execution_count": 10,
     "metadata": {},
     "output_type": "execute_result"
    }
   ],
   "source": [
    "# Get word embeddings\n",
    "def encodf_def(x):\n",
    "    return sbert.encode(x, show_progress_bar=True, normalize_embeddings=True)\n",
    "X_category = encodf_def(np.array(data.category.values))\n",
    "X_description = encodf_def(np.array(data.description))\n",
    "X_productName = encodf_def(np.array(data.productName))\n",
    "\n",
    "# Sample\n",
    "X_category[0].shape\n",
    "\n",
    "# ### SCRATCH\n",
    "# # Only use the first sentence of the description\n",
    "# data.loc[:,\"description_0\"] = data.description.str.split(\"\\. \").apply(lambda x: x[0])\n",
    "# X_description_0 = encodf_def(np.array(data.description_0))"
   ]
  },
  {
   "cell_type": "code",
   "execution_count": 11,
   "metadata": {},
   "outputs": [],
   "source": [
    "# Form X matrix\n",
    "width = X_category.shape[1]\n",
    "INPUT_DIM = width * 2\n",
    "N = X_category.shape[0]\n",
    "\n",
    "X = np.zeros((N, INPUT_DIM))\n",
    "X[:,width*0:width*1] = X_productName\n",
    "X[:,width*1:] = X_description\n",
    "\n",
    "\n",
    "# Turn the boolean labels to a matrix\n",
    "okcat = [\"ownKindIsClothing\",\"ownKindIsAccessory\",\"ownKindIsBag\",\"ownKindIsFootwear\"]\n",
    "y = data.loc[:,okcat].astype(int).values\n",
    "\n"
   ]
  },
  {
   "cell_type": "code",
   "execution_count": 12,
   "metadata": {
    "id": "VDd8bW6JkSBZ"
   },
   "outputs": [],
   "source": [
    "# Split the data\n",
    "RANDOM_STATE = 21\n",
    "X_train, X_test, y_train, y_test = train_test_split(X, y, test_size=0.2, random_state=21, shuffle=False)\n",
    "\n",
    "train_id, test_id = train_test_split(data.index, test_size=0.2, random_state=21, shuffle=False)\n",
    "data.loc[:,\"group\"] = \"\"\n",
    "data.loc[data.index.isin(train_id),\"group\"] = \"train\"\n",
    "data.loc[data.index.isin(test_id),\"group\"] = \"test\""
   ]
  },
  {
   "cell_type": "code",
   "execution_count": 13,
   "metadata": {},
   "outputs": [],
   "source": [
    "from keras.models import Sequential"
   ]
  },
  {
   "cell_type": "code",
   "execution_count": 15,
   "metadata": {},
   "outputs": [
    {
     "name": "stdout",
     "output_type": "stream",
     "text": [
      "Epoch 1/50\n",
      "370/370 [==============================] - 25s 64ms/step - loss: 1.5125 - accuracy: 0.2536 - val_loss: 1.5104 - val_accuracy: 0.2557\n",
      "Epoch 2/50\n",
      "370/370 [==============================] - 22s 59ms/step - loss: 1.3863 - accuracy: 0.3377 - val_loss: 1.0435 - val_accuracy: 0.4635\n",
      "Epoch 3/50\n",
      "370/370 [==============================] - 23s 63ms/step - loss: 0.8554 - accuracy: 0.6217 - val_loss: 0.7609 - val_accuracy: 0.6436\n",
      "Epoch 4/50\n",
      "370/370 [==============================] - 25s 66ms/step - loss: 0.7385 - accuracy: 0.6634 - val_loss: 0.7134 - val_accuracy: 0.6861\n",
      "Epoch 5/50\n",
      "370/370 [==============================] - 24s 66ms/step - loss: 0.5382 - accuracy: 0.8173 - val_loss: 0.3906 - val_accuracy: 0.8916\n",
      "Epoch 6/50\n",
      "370/370 [==============================] - 26s 69ms/step - loss: 0.3633 - accuracy: 0.8986 - val_loss: 0.3807 - val_accuracy: 0.9027\n",
      "Epoch 7/50\n",
      "370/370 [==============================] - 24s 65ms/step - loss: 0.3571 - accuracy: 0.9043 - val_loss: 0.4074 - val_accuracy: 0.9027\n",
      "Epoch 8/50\n",
      "370/370 [==============================] - 25s 68ms/step - loss: 0.3551 - accuracy: 0.9056 - val_loss: 0.3978 - val_accuracy: 0.9041\n",
      "Epoch 9/50\n",
      "370/370 [==============================] - 25s 68ms/step - loss: 0.3528 - accuracy: 0.9071 - val_loss: 0.4028 - val_accuracy: 0.9054\n",
      "Epoch 10/50\n",
      "370/370 [==============================] - 25s 67ms/step - loss: 0.3414 - accuracy: 0.9086 - val_loss: 0.3697 - val_accuracy: 0.9098\n",
      "Epoch 11/50\n",
      "370/370 [==============================] - 25s 69ms/step - loss: 0.3177 - accuracy: 0.9089 - val_loss: 0.3827 - val_accuracy: 0.9024\n",
      "Epoch 12/50\n",
      "370/370 [==============================] - 24s 65ms/step - loss: 0.3068 - accuracy: 0.9087 - val_loss: 0.4247 - val_accuracy: 0.8946\n",
      "Epoch 13/50\n",
      "370/370 [==============================] - 22s 60ms/step - loss: 0.3129 - accuracy: 0.9070 - val_loss: 0.3969 - val_accuracy: 0.8983\n",
      "Epoch 14/50\n",
      "370/370 [==============================] - 23s 61ms/step - loss: 0.2997 - accuracy: 0.9082 - val_loss: 0.3826 - val_accuracy: 0.9044\n",
      "Epoch 15/50\n",
      "370/370 [==============================] - 22s 59ms/step - loss: 0.2915 - accuracy: 0.9083 - val_loss: 0.3710 - val_accuracy: 0.9054\n",
      "Epoch 16/50\n",
      "370/370 [==============================] - 23s 62ms/step - loss: 0.2943 - accuracy: 0.9073 - val_loss: 0.3593 - val_accuracy: 0.9037\n",
      "Epoch 17/50\n",
      "370/370 [==============================] - 22s 59ms/step - loss: 0.2877 - accuracy: 0.9090 - val_loss: 0.3486 - val_accuracy: 0.9047\n",
      "Epoch 18/50\n",
      "370/370 [==============================] - 21s 58ms/step - loss: 0.2742 - accuracy: 0.9099 - val_loss: 0.3578 - val_accuracy: 0.9041\n",
      "Epoch 19/50\n",
      "370/370 [==============================] - 22s 59ms/step - loss: 0.2864 - accuracy: 0.9085 - val_loss: 0.3435 - val_accuracy: 0.9051\n",
      "Epoch 20/50\n",
      "370/370 [==============================] - 22s 60ms/step - loss: 0.2771 - accuracy: 0.9096 - val_loss: 0.3974 - val_accuracy: 0.8872\n",
      "Epoch 21/50\n",
      "370/370 [==============================] - 24s 65ms/step - loss: 0.2736 - accuracy: 0.9100 - val_loss: 0.3422 - val_accuracy: 0.9084\n",
      "Epoch 22/50\n",
      "370/370 [==============================] - 28s 75ms/step - loss: 0.2725 - accuracy: 0.9091 - val_loss: 0.3689 - val_accuracy: 0.9078\n",
      "Epoch 23/50\n",
      "370/370 [==============================] - 28s 76ms/step - loss: 0.2680 - accuracy: 0.9100 - val_loss: 0.3561 - val_accuracy: 0.8986\n",
      "Epoch 24/50\n",
      "370/370 [==============================] - 25s 67ms/step - loss: 0.2644 - accuracy: 0.9090 - val_loss: 0.3594 - val_accuracy: 0.8990\n",
      "Epoch 25/50\n",
      "370/370 [==============================] - 26s 71ms/step - loss: 0.2655 - accuracy: 0.9072 - val_loss: 0.4436 - val_accuracy: 0.9020\n",
      "Epoch 26/50\n",
      "370/370 [==============================] - 29s 79ms/step - loss: 0.2544 - accuracy: 0.9081 - val_loss: 0.4036 - val_accuracy: 0.8956\n",
      "Epoch 27/50\n",
      "370/370 [==============================] - 24s 65ms/step - loss: 0.2472 - accuracy: 0.9080 - val_loss: 0.4564 - val_accuracy: 0.8743\n",
      "Epoch 28/50\n",
      "370/370 [==============================] - 23s 61ms/step - loss: 0.2485 - accuracy: 0.9085 - val_loss: 0.4207 - val_accuracy: 0.9027\n",
      "Epoch 29/50\n",
      "370/370 [==============================] - 22s 59ms/step - loss: 0.2416 - accuracy: 0.9101 - val_loss: 0.3293 - val_accuracy: 0.9014\n",
      "Epoch 30/50\n",
      "370/370 [==============================] - 23s 63ms/step - loss: 0.2532 - accuracy: 0.9053 - val_loss: 0.4250 - val_accuracy: 0.8959\n",
      "Epoch 31/50\n",
      "370/370 [==============================] - 23s 62ms/step - loss: 0.2334 - accuracy: 0.9095 - val_loss: 0.5239 - val_accuracy: 0.8932\n",
      "Epoch 32/50\n",
      "370/370 [==============================] - 25s 68ms/step - loss: 0.2423 - accuracy: 0.9058 - val_loss: 0.5449 - val_accuracy: 0.9017\n",
      "Epoch 33/50\n",
      "370/370 [==============================] - 27s 72ms/step - loss: 0.2358 - accuracy: 0.9084 - val_loss: 0.6112 - val_accuracy: 0.8943\n",
      "Epoch 34/50\n",
      "370/370 [==============================] - 25s 67ms/step - loss: 0.2335 - accuracy: 0.9075 - val_loss: 0.4350 - val_accuracy: 0.8983\n",
      "Epoch 35/50\n",
      "370/370 [==============================] - 26s 69ms/step - loss: 0.2320 - accuracy: 0.9058 - val_loss: 0.5501 - val_accuracy: 0.8990\n",
      "Epoch 36/50\n",
      "370/370 [==============================] - 25s 69ms/step - loss: 0.2340 - accuracy: 0.9071 - val_loss: 0.3727 - val_accuracy: 0.8814\n",
      "Epoch 37/50\n",
      "370/370 [==============================] - 27s 73ms/step - loss: 0.2496 - accuracy: 0.9033 - val_loss: 0.6286 - val_accuracy: 0.8861\n",
      "Epoch 38/50\n",
      "370/370 [==============================] - 30s 80ms/step - loss: 0.2310 - accuracy: 0.9041 - val_loss: 0.5399 - val_accuracy: 0.8936\n",
      "Epoch 39/50\n",
      "370/370 [==============================] - 26s 71ms/step - loss: 0.2296 - accuracy: 0.9074 - val_loss: 0.5686 - val_accuracy: 0.8899\n",
      "Epoch 40/50\n",
      "370/370 [==============================] - 25s 67ms/step - loss: 0.2273 - accuracy: 0.9072 - val_loss: 0.6021 - val_accuracy: 0.9125\n",
      "Epoch 41/50\n",
      "370/370 [==============================] - 26s 71ms/step - loss: 0.2166 - accuracy: 0.9107 - val_loss: 0.5718 - val_accuracy: 0.8997\n",
      "Epoch 42/50\n",
      "370/370 [==============================] - 24s 66ms/step - loss: 0.2281 - accuracy: 0.9066 - val_loss: 0.7086 - val_accuracy: 0.8885\n",
      "Epoch 43/50\n",
      "370/370 [==============================] - 24s 64ms/step - loss: 0.2399 - accuracy: 0.9049 - val_loss: 0.5564 - val_accuracy: 0.9007\n",
      "Epoch 44/50\n",
      "370/370 [==============================] - 28s 75ms/step - loss: 0.2156 - accuracy: 0.9068 - val_loss: 0.6197 - val_accuracy: 0.8976\n",
      "Epoch 45/50\n",
      "370/370 [==============================] - 25s 68ms/step - loss: 0.2307 - accuracy: 0.9061 - val_loss: 0.5621 - val_accuracy: 0.8997\n",
      "Epoch 46/50\n",
      "370/370 [==============================] - 27s 73ms/step - loss: 0.2164 - accuracy: 0.9101 - val_loss: 0.6030 - val_accuracy: 0.8943\n",
      "Epoch 47/50\n",
      "370/370 [==============================] - 26s 69ms/step - loss: 0.2078 - accuracy: 0.9107 - val_loss: 0.7507 - val_accuracy: 0.8963\n",
      "Epoch 48/50\n",
      "370/370 [==============================] - 25s 67ms/step - loss: 0.2256 - accuracy: 0.9082 - val_loss: 0.5423 - val_accuracy: 0.8983\n",
      "Epoch 49/50\n",
      "370/370 [==============================] - 25s 68ms/step - loss: 0.2142 - accuracy: 0.9083 - val_loss: 0.6021 - val_accuracy: 0.9071\n",
      "Epoch 50/50\n",
      "370/370 [==============================] - 24s 65ms/step - loss: 0.2112 - accuracy: 0.9077 - val_loss: 0.7361 - val_accuracy: 0.8986\n"
     ]
    }
   ],
   "source": [
    "# Build the model\n",
    "model = Sequential()\n",
    "model.add(Dense(INPUT_DIM*2, activation='sigmoid', input_dim=INPUT_DIM))\n",
    "model.add(Dense(np.round(INPUT_DIM/2,0), activation='sigmoid'))\n",
    "model.add(Dense(np.round(INPUT_DIM/8,0), activation='sigmoid'))\n",
    "model.add(Dense(np.round(INPUT_DIM/20,0), activation='sigmoid'))\n",
    "model.add(Dense(4, activation='softmax'))\n",
    "\n",
    "# Compile the model\n",
    "model.compile(optimizer='adam', \n",
    "              loss='categorical_crossentropy', \n",
    "              metrics=['accuracy'])\n",
    "\n",
    "# Fit the model\n",
    "history = model.fit(X_train, y_train, epochs=50,validation_data=(X_test, y_test), batch_size=32)"
   ]
  },
  {
   "cell_type": "code",
   "execution_count": 18,
   "metadata": {},
   "outputs": [
    {
     "name": "stdout",
     "output_type": "stream",
     "text": [
      "Model: \"sequential_1\"\n",
      "_________________________________________________________________\n",
      "Layer (type)                 Output Shape              Param #   \n",
      "=================================================================\n",
      "dense_5 (Dense)              (None, 3072)              4721664   \n",
      "_________________________________________________________________\n",
      "dense_6 (Dense)              (None, 768)               2360064   \n",
      "_________________________________________________________________\n",
      "dense_7 (Dense)              (None, 192)               147648    \n",
      "_________________________________________________________________\n",
      "dense_8 (Dense)              (None, 77)                14861     \n",
      "_________________________________________________________________\n",
      "dense_9 (Dense)              (None, 4)                 312       \n",
      "=================================================================\n",
      "Total params: 7,244,549\n",
      "Trainable params: 7,244,549\n",
      "Non-trainable params: 0\n",
      "_________________________________________________________________\n"
     ]
    }
   ],
   "source": [
    "model.summary()"
   ]
  },
  {
   "cell_type": "code",
   "execution_count": 16,
   "metadata": {},
   "outputs": [
    {
     "name": "stdout",
     "output_type": "stream",
     "text": [
      "Accuracy on training data: 90.93520317648053%\n",
      "Accuracy on testing data: 89.86486486486487%\n"
     ]
    }
   ],
   "source": [
    "# Get accuracy rate\n",
    "pred_train= model.predict(X_train).argmax(axis=1)\n",
    "y_train_ = y_train.argmax(axis=1)\n",
    "score = (pred_train==y_train_).sum()/len(pred_train)\n",
    "print('Accuracy on training data: {}%'.format(score*100))\n",
    "\n",
    "\n",
    "pred_test= model.predict(X_test).argmax(axis=1)\n",
    "y_test_ = y_test.argmax(axis=1)\n",
    "score = (pred_test==y_test_).sum()/len(pred_test)\n",
    "print('Accuracy on testing data: {}%'.format(score*100))\n"
   ]
  },
  {
   "cell_type": "code",
   "execution_count": 17,
   "metadata": {},
   "outputs": [
    {
     "data": {
      "image/png": "[encoded data removed]",
      "text/plain": [
       "<Figure size 432x288 with 1 Axes>"
      ]
     },
     "metadata": {
      "needs_background": "light"
     },
     "output_type": "display_data"
    },
    {
     "data": {
      "image/png": "[encoded data removed]",
      "text/plain": [
       "<Figure size 432x288 with 1 Axes>"
      ]
     },
     "metadata": {
      "needs_background": "light"
     },
     "output_type": "display_data"
    }
   ],
   "source": [
    "\n",
    "#  \"Accuracy\"\n",
    "plt.plot(history.history['accuracy'])\n",
    "plt.plot(history.history['val_accuracy'])\n",
    "plt.title('model accuracy')\n",
    "plt.ylabel('accuracy')\n",
    "plt.xlabel('epoch')\n",
    "plt.legend(['train', 'validation'], loc='upper left')\n",
    "plt.show()\n",
    "# \"Loss\"\n",
    "plt.plot(history.history['loss'])\n",
    "plt.plot(history.history['val_loss'])\n",
    "plt.title('model loss')\n",
    "plt.ylabel('loss')\n",
    "plt.xlabel('epoch')\n",
    "plt.legend(['train', 'validation'], loc='upper left')\n",
    "plt.show()"
   ]
  },
  {
   "cell_type": "code",
   "execution_count": 224,
   "metadata": {},
   "outputs": [],
   "source": [
    "# Take not of actual and predicted values\n",
    "data.loc[:,\"actual\"] = y.argmax(axis=1)\n",
    "data.loc[:,\"predicted\"] = model.predict(X).argmax(axis=1)\n",
    "\n",
    "# Category to label\n",
    "data.loc[data.actual==0,\"actual\"] = \"Clothing\"\n",
    "data.loc[data.actual==1,\"actual\"] = \"Accessories\"\n",
    "data.loc[data.actual==2,\"actual\"] = \"Bags\"\n",
    "data.loc[data.actual==3,\"actual\"] = \"Footwear\"\n",
    "data.loc[data.predicted==0,\"predicted\"] = \"Clothing\"\n",
    "data.loc[data.predicted==1,\"predicted\"] = \"Accessories\"\n",
    "data.loc[data.predicted==2,\"predicted\"] = \"Bags\"\n",
    "data.loc[data.predicted==3,\"predicted\"] = \"Footwear\"\n",
    "\n",
    "data.loc[:,\"is_correct\"] = data.actual==data.predicted\n",
    "\n",
    "# Save\n",
    "data.to_csv(\"categorization_results___v2.csv\")"
   ]
  },
  {
   "cell_type": "code",
   "execution_count": 222,
   "metadata": {},
   "outputs": [
    {
     "name": "stderr",
     "output_type": "stream",
     "text": [
      "/usr/local/lib/python3.9/site-packages/tensorflow/python/keras/optimizer_v2/optimizer_v2.py:374: UserWarning: The `lr` argument is deprecated, use `learning_rate` instead.\n",
      "  warnings.warn(\n"
     ]
    },
    {
     "data": {
      "text/plain": [
       "<tensorflow.python.keras.optimizer_v2.gradient_descent.SGD at 0x18144de20>"
      ]
     },
     "execution_count": 222,
     "metadata": {},
     "output_type": "execute_result"
    }
   ],
   "source": [
    "tf.keras.optimizers.Adam\n"
   ]
  }
 ],
 "metadata": {
  "colab": {
   "name": "embedding + initial algo.ipynb",
   "provenance": []
  },
  "kernelspec": {
   "display_name": "Python 3",
   "language": "python",
   "name": "python3"
  },
  "language_info": {
   "codemirror_mode": {
    "name": "ipython",
    "version": 3
   },
   "file_extension": ".py",
   "mimetype": "text/x-python",
   "name": "python",
   "nbconvert_exporter": "python",
   "pygments_lexer": "ipython3",
   "version": "3.8.8"
  }
 },
 "nbformat": 4,
 "nbformat_minor": 1
}
