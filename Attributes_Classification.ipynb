{
  "nbformat": 4,
  "nbformat_minor": 0,
  "metadata": {
    "colab": {
      "name": "Attributes Classification.ipynb",
      "provenance": [],
      "collapsed_sections": []
    },
    "kernelspec": {
      "name": "python3",
      "display_name": "Python 3"
    },
    "language_info": {
      "name": "python"
    }
  },
  "cells": [
    {
      "cell_type": "markdown",
      "metadata": {
        "id": "bPkcss3iytz0"
      },
      "source": [
        "**NLP ATTRIBUTES CLASSIFICATION**"
      ]
    },
    {
      "cell_type": "markdown",
      "metadata": {
        "id": "vKsP10Ewy49G"
      },
      "source": [
        "Prepare Data"
      ]
    },
    {
      "cell_type": "code",
      "metadata": {
        "colab": {
          "base_uri": "https://localhost:8080/"
        },
        "id": "Z-gXTiga18SK",
        "outputId": "aac0f2a2-6ca0-43d5-c086-b51895fdbc01"
      },
      "source": [
        "!python -m spacy download en_core_web_lg"
      ],
      "execution_count": null,
      "outputs": [
        {
          "output_type": "stream",
          "text": [
            "Collecting en_core_web_lg==2.2.5\n",
            "  Downloading https://github.com/explosion/spacy-models/releases/download/en_core_web_lg-2.2.5/en_core_web_lg-2.2.5.tar.gz (827.9 MB)\n",
            "\u001b[K     |████████████████████████████████| 827.9 MB 1.3 MB/s \n",
            "\u001b[?25hRequirement already satisfied: spacy>=2.2.2 in /usr/local/lib/python3.7/dist-packages (from en_core_web_lg==2.2.5) (2.2.4)\n",
            "Requirement already satisfied: preshed<3.1.0,>=3.0.2 in /usr/local/lib/python3.7/dist-packages (from spacy>=2.2.2->en_core_web_lg==2.2.5) (3.0.5)\n",
            "Requirement already satisfied: murmurhash<1.1.0,>=0.28.0 in /usr/local/lib/python3.7/dist-packages (from spacy>=2.2.2->en_core_web_lg==2.2.5) (1.0.5)\n",
            "Requirement already satisfied: catalogue<1.1.0,>=0.0.7 in /usr/local/lib/python3.7/dist-packages (from spacy>=2.2.2->en_core_web_lg==2.2.5) (1.0.0)\n",
            "Requirement already satisfied: thinc==7.4.0 in /usr/local/lib/python3.7/dist-packages (from spacy>=2.2.2->en_core_web_lg==2.2.5) (7.4.0)\n",
            "Requirement already satisfied: tqdm<5.0.0,>=4.38.0 in /usr/local/lib/python3.7/dist-packages (from spacy>=2.2.2->en_core_web_lg==2.2.5) (4.62.0)\n",
            "Requirement already satisfied: plac<1.2.0,>=0.9.6 in /usr/local/lib/python3.7/dist-packages (from spacy>=2.2.2->en_core_web_lg==2.2.5) (1.1.3)\n",
            "Requirement already satisfied: numpy>=1.15.0 in /usr/local/lib/python3.7/dist-packages (from spacy>=2.2.2->en_core_web_lg==2.2.5) (1.19.5)\n",
            "Requirement already satisfied: requests<3.0.0,>=2.13.0 in /usr/local/lib/python3.7/dist-packages (from spacy>=2.2.2->en_core_web_lg==2.2.5) (2.23.0)\n",
            "Requirement already satisfied: setuptools in /usr/local/lib/python3.7/dist-packages (from spacy>=2.2.2->en_core_web_lg==2.2.5) (57.4.0)\n",
            "Requirement already satisfied: cymem<2.1.0,>=2.0.2 in /usr/local/lib/python3.7/dist-packages (from spacy>=2.2.2->en_core_web_lg==2.2.5) (2.0.5)\n",
            "Requirement already satisfied: wasabi<1.1.0,>=0.4.0 in /usr/local/lib/python3.7/dist-packages (from spacy>=2.2.2->en_core_web_lg==2.2.5) (0.8.2)\n",
            "Requirement already satisfied: srsly<1.1.0,>=1.0.2 in /usr/local/lib/python3.7/dist-packages (from spacy>=2.2.2->en_core_web_lg==2.2.5) (1.0.5)\n",
            "Requirement already satisfied: blis<0.5.0,>=0.4.0 in /usr/local/lib/python3.7/dist-packages (from spacy>=2.2.2->en_core_web_lg==2.2.5) (0.4.1)\n",
            "Requirement already satisfied: importlib-metadata>=0.20 in /usr/local/lib/python3.7/dist-packages (from catalogue<1.1.0,>=0.0.7->spacy>=2.2.2->en_core_web_lg==2.2.5) (4.6.4)\n",
            "Requirement already satisfied: typing-extensions>=3.6.4 in /usr/local/lib/python3.7/dist-packages (from importlib-metadata>=0.20->catalogue<1.1.0,>=0.0.7->spacy>=2.2.2->en_core_web_lg==2.2.5) (3.7.4.3)\n",
            "Requirement already satisfied: zipp>=0.5 in /usr/local/lib/python3.7/dist-packages (from importlib-metadata>=0.20->catalogue<1.1.0,>=0.0.7->spacy>=2.2.2->en_core_web_lg==2.2.5) (3.5.0)\n",
            "Requirement already satisfied: idna<3,>=2.5 in /usr/local/lib/python3.7/dist-packages (from requests<3.0.0,>=2.13.0->spacy>=2.2.2->en_core_web_lg==2.2.5) (2.10)\n",
            "Requirement already satisfied: chardet<4,>=3.0.2 in /usr/local/lib/python3.7/dist-packages (from requests<3.0.0,>=2.13.0->spacy>=2.2.2->en_core_web_lg==2.2.5) (3.0.4)\n",
            "Requirement already satisfied: certifi>=2017.4.17 in /usr/local/lib/python3.7/dist-packages (from requests<3.0.0,>=2.13.0->spacy>=2.2.2->en_core_web_lg==2.2.5) (2021.5.30)\n",
            "Requirement already satisfied: urllib3!=1.25.0,!=1.25.1,<1.26,>=1.21.1 in /usr/local/lib/python3.7/dist-packages (from requests<3.0.0,>=2.13.0->spacy>=2.2.2->en_core_web_lg==2.2.5) (1.24.3)\n",
            "Building wheels for collected packages: en-core-web-lg\n",
            "  Building wheel for en-core-web-lg (setup.py) ... \u001b[?25l\u001b[?25hdone\n",
            "  Created wheel for en-core-web-lg: filename=en_core_web_lg-2.2.5-py3-none-any.whl size=829180942 sha256=2636c708f3a352fcbfd2925039734c97bbafb01552e094e4535c4758538d3d5d\n",
            "  Stored in directory: /tmp/pip-ephem-wheel-cache-9oy01wbw/wheels/11/95/ba/2c36cc368c0bd339b44a791c2c1881a1fb714b78c29a4cb8f5\n",
            "Successfully built en-core-web-lg\n",
            "Installing collected packages: en-core-web-lg\n",
            "Successfully installed en-core-web-lg-2.2.5\n",
            "\u001b[38;5;2m✔ Download and installation successful\u001b[0m\n",
            "You can now load the model via spacy.load('en_core_web_lg')\n"
          ],
          "name": "stdout"
        }
      ]
    },
    {
      "cell_type": "code",
      "metadata": {
        "id": "SdlxkoVq6hk0"
      },
      "source": [
        " import matplotlib.pyplot as plt "
      ],
      "execution_count": null,
      "outputs": []
    },
    {
      "cell_type": "code",
      "metadata": {
        "id": "5ykCZlfnyuZs"
      },
      "source": [
        "# import necessary libraries \n",
        "\n",
        "import numpy as np\n",
        "import pandas as pd\n",
        "import spacy\n",
        "import re\n",
        "\n",
        "\n",
        "from sklearn.feature_extraction.text import TfidfVectorizer\n",
        "from sklearn.feature_extraction.text import ENGLISH_STOP_WORDS\n",
        "from sklearn.feature_extraction.text import CountVectorizer\n",
        "from sklearn.model_selection import train_test_split\n"
      ],
      "execution_count": null,
      "outputs": []
    },
    {
      "cell_type": "code",
      "metadata": {
        "colab": {
          "base_uri": "https://localhost:8080/",
          "height": 1000
        },
        "id": "eTzCcyixy_y6",
        "outputId": "953e9aaf-c342-497f-c1cb-b590777f3480"
      },
      "source": [
        "# read the main data dump\n",
        "Nlp_data_preparation=pd.read_excel('/content/IndexDump.xlsx')\n",
        "Nlp_data_preparation\n",
        "\n",
        "# drop the first row of data due to no values\n",
        "Nlp_data_preparation.drop(Nlp_data_preparation.head(1).index, inplace=True)\n",
        "Nlp_data_preparation"
      ],
      "execution_count": null,
      "outputs": [
        {
          "output_type": "execute_result",
          "data": {
            "text/html": [
              "<div>\n",
              "<style scoped>\n",
              "    .dataframe tbody tr th:only-of-type {\n",
              "        vertical-align: middle;\n",
              "    }\n",
              "\n",
              "    .dataframe tbody tr th {\n",
              "        vertical-align: top;\n",
              "    }\n",
              "\n",
              "    .dataframe thead th {\n",
              "        text-align: right;\n",
              "    }\n",
              "</style>\n",
              "<table border=\"1\" class=\"dataframe\">\n",
              "  <thead>\n",
              "    <tr style=\"text-align: right;\">\n",
              "      <th></th>\n",
              "      <th>id</th>\n",
              "      <th>source</th>\n",
              "      <th>merchantName</th>\n",
              "      <th>link</th>\n",
              "      <th>mediaUrl</th>\n",
              "      <th>thumbnailUrl</th>\n",
              "      <th>category</th>\n",
              "      <th>brandName</th>\n",
              "      <th>productName</th>\n",
              "      <th>description</th>\n",
              "      <th>currency</th>\n",
              "      <th>salePrice</th>\n",
              "      <th>originalPrice</th>\n",
              "      <th>colour</th>\n",
              "      <th>sizes</th>\n",
              "      <th>ownKindCategory</th>\n",
              "      <th>ownKindAttributes</th>\n",
              "    </tr>\n",
              "  </thead>\n",
              "  <tbody>\n",
              "    <tr>\n",
              "      <th>1</th>\n",
              "      <td>RAKUTEN8719029404356</td>\n",
              "      <td>RAKUTEN</td>\n",
              "      <td>Scotch &amp; Soda (UK)</td>\n",
              "      <td>https://click.linksynergy.com/link?id=Bv4dmNTv...</td>\n",
              "      <td>https://www.scotch-soda.com/dw/image/v2/AANA_P...</td>\n",
              "      <td>NaN</td>\n",
              "      <td>Polo's</td>\n",
              "      <td>SCOTCH &amp; SODA</td>\n",
              "      <td>Scotch &amp; Soda Striped piqué polo</td>\n",
              "      <td>With its bold stripe and piqué weave, this pol...</td>\n",
              "      <td>GBP</td>\n",
              "      <td>84.95</td>\n",
              "      <td>84.95</td>\n",
              "      <td>Brown</td>\n",
              "      <td>S, XL, L, M, XXL</td>\n",
              "      <td>Tops</td>\n",
              "      <td>{Style Menswear}:Preppy,{MW / WW}:Menswear,{St...</td>\n",
              "    </tr>\n",
              "    <tr>\n",
              "      <th>2</th>\n",
              "      <td>RAKUTEN8718859351465</td>\n",
              "      <td>RAKUTEN</td>\n",
              "      <td>Scotch &amp; Soda (UK)</td>\n",
              "      <td>https://click.linksynergy.com/link?id=Bv4dmNTv...</td>\n",
              "      <td>https://www.scotch-soda.com/dw/image/v2/AANA_P...</td>\n",
              "      <td>NaN</td>\n",
              "      <td>Short Sleeve T-Shirts</td>\n",
              "      <td>SCOTCH &amp; SODA</td>\n",
              "      <td>Scotch &amp; Soda Cotton T-Shirt</td>\n",
              "      <td>Crafted from pure cotton, this classic tee is ...</td>\n",
              "      <td>GBP</td>\n",
              "      <td>34.95</td>\n",
              "      <td>34.95</td>\n",
              "      <td>White</td>\n",
              "      <td>S, XL, L, M, XXL</td>\n",
              "      <td>Shirts,Tops</td>\n",
              "      <td>{Colour}:White,{Downplay}:Cleavage,{MW / WW}:M...</td>\n",
              "    </tr>\n",
              "    <tr>\n",
              "      <th>3</th>\n",
              "      <td>RAKUTEN8719029380438</td>\n",
              "      <td>RAKUTEN</td>\n",
              "      <td>Scotch &amp; Soda (UK)</td>\n",
              "      <td>https://click.linksynergy.com/link?id=Bv4dmNTv...</td>\n",
              "      <td>https://www.scotch-soda.com/dw/image/v2/AANA_P...</td>\n",
              "      <td>NaN</td>\n",
              "      <td>Inbetween Jackets</td>\n",
              "      <td>SCOTCH &amp; SODA</td>\n",
              "      <td>Scotch &amp; Soda Embroidered cotton shirt</td>\n",
              "      <td>Get transported to the sunny beaches of the so...</td>\n",
              "      <td>GBP</td>\n",
              "      <td>154.95</td>\n",
              "      <td>154.95</td>\n",
              "      <td>Blue</td>\n",
              "      <td>S, XL, L, M</td>\n",
              "      <td>Shirts,Outerwear,Jackets</td>\n",
              "      <td>{Style Womenswear}:Hypebeast,{MW / WW}:Menswea...</td>\n",
              "    </tr>\n",
              "    <tr>\n",
              "      <th>4</th>\n",
              "      <td>RAKUTEN8719029313184</td>\n",
              "      <td>RAKUTEN</td>\n",
              "      <td>Scotch &amp; Soda (UK)</td>\n",
              "      <td>https://click.linksynergy.com/link?id=Bv4dmNTv...</td>\n",
              "      <td>https://www.scotch-soda.com/dw/image/v2/AANA_P...</td>\n",
              "      <td>NaN</td>\n",
              "      <td>Short Sleeve T-Shirts</td>\n",
              "      <td>SCOTCH &amp; SODA</td>\n",
              "      <td>Scotch &amp; Soda Loose-fit cotton T-shirt</td>\n",
              "      <td>Made with organic cotton, our short-sleeved T-...</td>\n",
              "      <td>GBP</td>\n",
              "      <td>45.47</td>\n",
              "      <td>45.47</td>\n",
              "      <td>Black</td>\n",
              "      <td>S, XL, L, M, XXL</td>\n",
              "      <td>Shirts,Tops</td>\n",
              "      <td>{Colour}:Black,{Downplay}:Stomach,{Style Women...</td>\n",
              "    </tr>\n",
              "    <tr>\n",
              "      <th>5</th>\n",
              "      <td>RAKUTEN8719029331782</td>\n",
              "      <td>RAKUTEN</td>\n",
              "      <td>Scotch &amp; Soda (UK)</td>\n",
              "      <td>https://click.linksynergy.com/link?id=Bv4dmNTv...</td>\n",
              "      <td>https://www.scotch-soda.com/dw/image/v2/AANA_P...</td>\n",
              "      <td>NaN</td>\n",
              "      <td>Shorts</td>\n",
              "      <td>SCOTCH &amp; SODA</td>\n",
              "      <td>Scotch &amp; Soda Artwork print Bermuda shorts</td>\n",
              "      <td>These printed Bermuda shorts take us to an und...</td>\n",
              "      <td>GBP</td>\n",
              "      <td>84.95</td>\n",
              "      <td>84.95</td>\n",
              "      <td>Blue</td>\n",
              "      <td>12, 14, 4, 16, 6, 8, 10</td>\n",
              "      <td>Shorts</td>\n",
              "      <td>{Downplay}:Back,{Style Womenswear}:Boho,{MW / ...</td>\n",
              "    </tr>\n",
              "    <tr>\n",
              "      <th>...</th>\n",
              "      <td>...</td>\n",
              "      <td>...</td>\n",
              "      <td>...</td>\n",
              "      <td>...</td>\n",
              "      <td>...</td>\n",
              "      <td>...</td>\n",
              "      <td>...</td>\n",
              "      <td>...</td>\n",
              "      <td>...</td>\n",
              "      <td>...</td>\n",
              "      <td>...</td>\n",
              "      <td>...</td>\n",
              "      <td>...</td>\n",
              "      <td>...</td>\n",
              "      <td>...</td>\n",
              "      <td>...</td>\n",
              "      <td>...</td>\n",
              "    </tr>\n",
              "    <tr>\n",
              "      <th>110723</th>\n",
              "      <td>RAKUTEN1413461000001</td>\n",
              "      <td>RAKUTEN</td>\n",
              "      <td>MATCHESFASHION - UK</td>\n",
              "      <td>https://click.linksynergy.com/link?id=Bv4dmNTv...</td>\n",
              "      <td>https://assetsprx.matchesfashion.com/img/produ...</td>\n",
              "      <td>NaN</td>\n",
              "      <td>Apparel &amp; Accessories</td>\n",
              "      <td>PIPPA HOLT</td>\n",
              "      <td>Pippa Holt - No.255 Embroidered Cotton Kaftan ...</td>\n",
              "      <td>Pippa Holt - Pippa Holt's green No.255 kaftan ...</td>\n",
              "      <td>GBP</td>\n",
              "      <td>NaN</td>\n",
              "      <td>815.00</td>\n",
              "      <td>khaki</td>\n",
              "      <td>ONE SIZE</td>\n",
              "      <td>Clothing,Beachwear</td>\n",
              "      <td>{Downplay}:Stomach,{Style Womenswear}:Boho,{Sh...</td>\n",
              "    </tr>\n",
              "    <tr>\n",
              "      <th>110724</th>\n",
              "      <td>RAKUTEN1413796000001</td>\n",
              "      <td>RAKUTEN</td>\n",
              "      <td>MATCHESFASHION - UK</td>\n",
              "      <td>https://click.linksynergy.com/link?id=Bv4dmNTv...</td>\n",
              "      <td>https://assetsprx.matchesfashion.com/img/produ...</td>\n",
              "      <td>NaN</td>\n",
              "      <td>Apparel &amp; Accessories</td>\n",
              "      <td>BALENCIAGA</td>\n",
              "      <td>Balenciaga - Bb-logo Cat-eye Tortoiseshell-ace...</td>\n",
              "      <td>Balenciaga - Balenciaga's brown sunglasses are...</td>\n",
              "      <td>GBP</td>\n",
              "      <td>NaN</td>\n",
              "      <td>270.00</td>\n",
              "      <td>tortoiseshell</td>\n",
              "      <td>ONE SIZE</td>\n",
              "      <td>Accessories,Sunglasses</td>\n",
              "      <td>{Style Womenswear}:Hypebeast,{Style Menswear}:...</td>\n",
              "    </tr>\n",
              "    <tr>\n",
              "      <th>110725</th>\n",
              "      <td>RAKUTEN1425480000001</td>\n",
              "      <td>RAKUTEN</td>\n",
              "      <td>MATCHESFASHION - UK</td>\n",
              "      <td>https://click.linksynergy.com/link?id=Bv4dmNTv...</td>\n",
              "      <td>https://assetsprx.matchesfashion.com/img/produ...</td>\n",
              "      <td>NaN</td>\n",
              "      <td>Apparel &amp; Accessories</td>\n",
              "      <td>SHAY</td>\n",
              "      <td>Shay - Emerald &amp; 18kt Gold Hoop Earrings - Wom...</td>\n",
              "      <td>Shay - Tania and Ladan Shayan routinely draw f...</td>\n",
              "      <td>GBP</td>\n",
              "      <td>NaN</td>\n",
              "      <td>960.00</td>\n",
              "      <td>green gold</td>\n",
              "      <td>ONE SIZE</td>\n",
              "      <td>Earrings,Jewellery</td>\n",
              "      <td>{Colour}:Gold,{Style Womenswear}:Feminine,{Col...</td>\n",
              "    </tr>\n",
              "    <tr>\n",
              "      <th>110726</th>\n",
              "      <td>RAKUTEN1399880000005</td>\n",
              "      <td>RAKUTEN</td>\n",
              "      <td>MATCHESFASHION - UK</td>\n",
              "      <td>https://click.linksynergy.com/link?id=Bv4dmNTv...</td>\n",
              "      <td>https://assetsprx.matchesfashion.com/img/produ...</td>\n",
              "      <td>NaN</td>\n",
              "      <td>Apparel &amp; Accessories</td>\n",
              "      <td>GOLDWIN</td>\n",
              "      <td>Goldwin - Spur Mountain Gore-tex Shell Coat - ...</td>\n",
              "      <td>GOLDWIN - Goldwin crafts this beige Spur Mount...</td>\n",
              "      <td>GBP</td>\n",
              "      <td>NaN</td>\n",
              "      <td>485.00</td>\n",
              "      <td>beige</td>\n",
              "      <td>M,S,L,XL</td>\n",
              "      <td>Coats,Clothing,Outerwear</td>\n",
              "      <td>{Style Womenswear}:Hypebeast,{Style Menswear}:...</td>\n",
              "    </tr>\n",
              "    <tr>\n",
              "      <th>110727</th>\n",
              "      <td>RAKUTEN1422642000003</td>\n",
              "      <td>RAKUTEN</td>\n",
              "      <td>MATCHESFASHION - UK</td>\n",
              "      <td>https://click.linksynergy.com/link?id=Bv4dmNTv...</td>\n",
              "      <td>https://assetsprx.matchesfashion.com/img/produ...</td>\n",
              "      <td>NaN</td>\n",
              "      <td>Apparel &amp; Accessories</td>\n",
              "      <td>PROENZA SCHOULER</td>\n",
              "      <td>Proenza Schouler - Neoprene And Leather Sandal...</td>\n",
              "      <td>Proenza Schouler - Proenza Schouler's black an...</td>\n",
              "      <td>GBP</td>\n",
              "      <td>NaN</td>\n",
              "      <td>440.00</td>\n",
              "      <td>white multi</td>\n",
              "      <td>35 EU/IT,38 EU/IT,42 EU/IT,41 EU/IT,36 EU/IT,3...</td>\n",
              "      <td>Footwear,Sandals</td>\n",
              "      <td>{Colour}:Multicolored,{Style Womenswear}:Hypeb...</td>\n",
              "    </tr>\n",
              "  </tbody>\n",
              "</table>\n",
              "<p>110727 rows × 17 columns</p>\n",
              "</div>"
            ],
            "text/plain": [
              "                          id  ...                                  ownKindAttributes\n",
              "1       RAKUTEN8719029404356  ...  {Style Menswear}:Preppy,{MW / WW}:Menswear,{St...\n",
              "2       RAKUTEN8718859351465  ...  {Colour}:White,{Downplay}:Cleavage,{MW / WW}:M...\n",
              "3       RAKUTEN8719029380438  ...  {Style Womenswear}:Hypebeast,{MW / WW}:Menswea...\n",
              "4       RAKUTEN8719029313184  ...  {Colour}:Black,{Downplay}:Stomach,{Style Women...\n",
              "5       RAKUTEN8719029331782  ...  {Downplay}:Back,{Style Womenswear}:Boho,{MW / ...\n",
              "...                      ...  ...                                                ...\n",
              "110723  RAKUTEN1413461000001  ...  {Downplay}:Stomach,{Style Womenswear}:Boho,{Sh...\n",
              "110724  RAKUTEN1413796000001  ...  {Style Womenswear}:Hypebeast,{Style Menswear}:...\n",
              "110725  RAKUTEN1425480000001  ...  {Colour}:Gold,{Style Womenswear}:Feminine,{Col...\n",
              "110726  RAKUTEN1399880000005  ...  {Style Womenswear}:Hypebeast,{Style Menswear}:...\n",
              "110727  RAKUTEN1422642000003  ...  {Colour}:Multicolored,{Style Womenswear}:Hypeb...\n",
              "\n",
              "[110727 rows x 17 columns]"
            ]
          },
          "metadata": {},
          "execution_count": 2
        }
      ]
    },
    {
      "cell_type": "code",
      "metadata": {
        "colab": {
          "base_uri": "https://localhost:8080/",
          "height": 419
        },
        "id": "2k1kTA9BzEnp",
        "outputId": "34a7e76b-6b5f-4118-ca66-0cf19d9346ae"
      },
      "source": [
        "# extract 'description' and 'OwnKindAttributes' columns from data\n",
        "required_data=Nlp_data_preparation[['description','ownKindAttributes']]\n",
        "required_data"
      ],
      "execution_count": null,
      "outputs": [
        {
          "output_type": "execute_result",
          "data": {
            "text/html": [
              "<div>\n",
              "<style scoped>\n",
              "    .dataframe tbody tr th:only-of-type {\n",
              "        vertical-align: middle;\n",
              "    }\n",
              "\n",
              "    .dataframe tbody tr th {\n",
              "        vertical-align: top;\n",
              "    }\n",
              "\n",
              "    .dataframe thead th {\n",
              "        text-align: right;\n",
              "    }\n",
              "</style>\n",
              "<table border=\"1\" class=\"dataframe\">\n",
              "  <thead>\n",
              "    <tr style=\"text-align: right;\">\n",
              "      <th></th>\n",
              "      <th>description</th>\n",
              "      <th>ownKindAttributes</th>\n",
              "    </tr>\n",
              "  </thead>\n",
              "  <tbody>\n",
              "    <tr>\n",
              "      <th>1</th>\n",
              "      <td>With its bold stripe and piqué weave, this pol...</td>\n",
              "      <td>{Style Menswear}:Preppy,{MW / WW}:Menswear,{St...</td>\n",
              "    </tr>\n",
              "    <tr>\n",
              "      <th>2</th>\n",
              "      <td>Crafted from pure cotton, this classic tee is ...</td>\n",
              "      <td>{Colour}:White,{Downplay}:Cleavage,{MW / WW}:M...</td>\n",
              "    </tr>\n",
              "    <tr>\n",
              "      <th>3</th>\n",
              "      <td>Get transported to the sunny beaches of the so...</td>\n",
              "      <td>{Style Womenswear}:Hypebeast,{MW / WW}:Menswea...</td>\n",
              "    </tr>\n",
              "    <tr>\n",
              "      <th>4</th>\n",
              "      <td>Made with organic cotton, our short-sleeved T-...</td>\n",
              "      <td>{Colour}:Black,{Downplay}:Stomach,{Style Women...</td>\n",
              "    </tr>\n",
              "    <tr>\n",
              "      <th>5</th>\n",
              "      <td>These printed Bermuda shorts take us to an und...</td>\n",
              "      <td>{Downplay}:Back,{Style Womenswear}:Boho,{MW / ...</td>\n",
              "    </tr>\n",
              "    <tr>\n",
              "      <th>...</th>\n",
              "      <td>...</td>\n",
              "      <td>...</td>\n",
              "    </tr>\n",
              "    <tr>\n",
              "      <th>110723</th>\n",
              "      <td>Pippa Holt - Pippa Holt's green No.255 kaftan ...</td>\n",
              "      <td>{Downplay}:Stomach,{Style Womenswear}:Boho,{Sh...</td>\n",
              "    </tr>\n",
              "    <tr>\n",
              "      <th>110724</th>\n",
              "      <td>Balenciaga - Balenciaga's brown sunglasses are...</td>\n",
              "      <td>{Style Womenswear}:Hypebeast,{Style Menswear}:...</td>\n",
              "    </tr>\n",
              "    <tr>\n",
              "      <th>110725</th>\n",
              "      <td>Shay - Tania and Ladan Shayan routinely draw f...</td>\n",
              "      <td>{Colour}:Gold,{Style Womenswear}:Feminine,{Col...</td>\n",
              "    </tr>\n",
              "    <tr>\n",
              "      <th>110726</th>\n",
              "      <td>GOLDWIN - Goldwin crafts this beige Spur Mount...</td>\n",
              "      <td>{Style Womenswear}:Hypebeast,{Style Menswear}:...</td>\n",
              "    </tr>\n",
              "    <tr>\n",
              "      <th>110727</th>\n",
              "      <td>Proenza Schouler - Proenza Schouler's black an...</td>\n",
              "      <td>{Colour}:Multicolored,{Style Womenswear}:Hypeb...</td>\n",
              "    </tr>\n",
              "  </tbody>\n",
              "</table>\n",
              "<p>110727 rows × 2 columns</p>\n",
              "</div>"
            ],
            "text/plain": [
              "                                              description                                  ownKindAttributes\n",
              "1       With its bold stripe and piqué weave, this pol...  {Style Menswear}:Preppy,{MW / WW}:Menswear,{St...\n",
              "2       Crafted from pure cotton, this classic tee is ...  {Colour}:White,{Downplay}:Cleavage,{MW / WW}:M...\n",
              "3       Get transported to the sunny beaches of the so...  {Style Womenswear}:Hypebeast,{MW / WW}:Menswea...\n",
              "4       Made with organic cotton, our short-sleeved T-...  {Colour}:Black,{Downplay}:Stomach,{Style Women...\n",
              "5       These printed Bermuda shorts take us to an und...  {Downplay}:Back,{Style Womenswear}:Boho,{MW / ...\n",
              "...                                                   ...                                                ...\n",
              "110723  Pippa Holt - Pippa Holt's green No.255 kaftan ...  {Downplay}:Stomach,{Style Womenswear}:Boho,{Sh...\n",
              "110724  Balenciaga - Balenciaga's brown sunglasses are...  {Style Womenswear}:Hypebeast,{Style Menswear}:...\n",
              "110725  Shay - Tania and Ladan Shayan routinely draw f...  {Colour}:Gold,{Style Womenswear}:Feminine,{Col...\n",
              "110726  GOLDWIN - Goldwin crafts this beige Spur Mount...  {Style Womenswear}:Hypebeast,{Style Menswear}:...\n",
              "110727  Proenza Schouler - Proenza Schouler's black an...  {Colour}:Multicolored,{Style Womenswear}:Hypeb...\n",
              "\n",
              "[110727 rows x 2 columns]"
            ]
          },
          "metadata": {},
          "execution_count": 3
        }
      ]
    },
    {
      "cell_type": "code",
      "metadata": {
        "colab": {
          "base_uri": "https://localhost:8080/"
        },
        "id": "6Bo0Fq4azKIH",
        "outputId": "b6896c28-52e0-4273-8b41-b26dc4c9169d"
      },
      "source": [
        "# create an array of the description column\n",
        "X = required_data.iloc[:,0:1].values\n",
        "X"
      ],
      "execution_count": null,
      "outputs": [
        {
          "output_type": "execute_result",
          "data": {
            "text/plain": [
              "array([['With its bold stripe and piqué weave, this polo definitely stands out. Designed with a regular fit, button-down collar, and short sleeves, this piece is perfect for summer wear.'],\n",
              "       ['Crafted from pure cotton, this classic tee is made with a slightly wider crew neck and small logo embroidery.'],\n",
              "       ['Get transported to the sunny beaches of the south of France with this embroidered cotton shirt. The contrast of the white summer-themed embroidery on the deep blue of the fabric makes sure this button-down shirt makes a statement. Wear over chinos and turn heads.'],\n",
              "       ...,\n",
              "       [\"Shay - Tania and Ladan Shayan routinely draw from the elegance and simplicity of Art Deco aesthetics to design their fine jewellery offering for Shay, including these 18kt gold hoop earrings. They're crafted to a small, dainty scale - known as huggies - in the label's Los Angeles studio with a hinge fastening, then set with baguette-cut emeralds that total 1.88ct.\"],\n",
              "       [\"GOLDWIN - Goldwin crafts this beige Spur Mountain coat from durable GORE-TEX shell that's engineered to withstand heavy downpours. Fitted with a roomy hood and raglan sleeves that allow for an extended range of motion, it has a diamond-shaped front yoke, then is fitted with hermetic zipped pockets.\"],\n",
              "       [\"Proenza Schouler - Proenza Schouler's black and ivory sandals are crafted from leather and neoprene for a sporty inflection. They're made in Italy with velcro straps and a smooth black leather insole, then set on a comfortable cream crepe sole.\"]],\n",
              "      dtype=object)"
            ]
          },
          "metadata": {},
          "execution_count": 4
        }
      ]
    },
    {
      "cell_type": "code",
      "metadata": {
        "id": "hW7740-RzNvS"
      },
      "source": [
        "# convert into string\n",
        "X = X.astype(str)"
      ],
      "execution_count": null,
      "outputs": []
    },
    {
      "cell_type": "code",
      "metadata": {
        "colab": {
          "base_uri": "https://localhost:8080/"
        },
        "id": "oLzB0Kg0zMn7",
        "outputId": "7a1c3cb1-ef8c-4110-8f68-c412c088782c"
      },
      "source": [
        "# check the data type\n",
        "type(X)"
      ],
      "execution_count": null,
      "outputs": [
        {
          "output_type": "execute_result",
          "data": {
            "text/plain": [
              "numpy.ndarray"
            ]
          },
          "metadata": {},
          "execution_count": 6
        }
      ]
    },
    {
      "cell_type": "code",
      "metadata": {
        "id": "SsHMP6G0zNMC"
      },
      "source": [
        "# lemmatisation - grouping together the inflected forms of a word so they can be analysed\n",
        "def preprocess(txt):\n",
        "    txt = txt.lower() # normalize\n",
        "    txt = re.sub(r'[^a-zA-Z]', ' ', txt) # remove digits and punctuation\n",
        "    doc = nlp(txt)\n",
        "    lemmatized_words = [token.lemma_ for token in doc]\n",
        "    return \" \".join(lemmatized_words)"
      ],
      "execution_count": null,
      "outputs": []
    },
    {
      "cell_type": "code",
      "metadata": {
        "id": "oHEhrVgl13Zx"
      },
      "source": [
        "# load the spaCy package\n",
        "nlp=spacy.load('en_core_web_lg')"
      ],
      "execution_count": null,
      "outputs": []
    },
    {
      "cell_type": "code",
      "metadata": {
        "id": "iv9kr6DkzXsp"
      },
      "source": [
        "# preprocess the text\n",
        "X = [preprocess(txt) for txt in X.ravel()]"
      ],
      "execution_count": null,
      "outputs": []
    },
    {
      "cell_type": "code",
      "metadata": {
        "id": "fXUeeZ8izZ21",
        "colab": {
          "base_uri": "https://localhost:8080/"
        },
        "outputId": "2efd8519-13f2-4184-d545-35433906b32f"
      },
      "source": [
        "# check the length of the preprocessed text\n",
        "len(X)"
      ],
      "execution_count": null,
      "outputs": [
        {
          "output_type": "execute_result",
          "data": {
            "text/plain": [
              "110727"
            ]
          },
          "metadata": {},
          "execution_count": 10
        }
      ]
    },
    {
      "cell_type": "code",
      "metadata": {
        "id": "eL_edmdczmJ5"
      },
      "source": [
        "# remove stopwords\n",
        "def remove_stopwords(txt):\n",
        "    words = txt.split()\n",
        "    words = [w for w in words if w not in ENGLISH_STOP_WORDS]\n",
        "    return \" \".join(words)"
      ],
      "execution_count": null,
      "outputs": []
    },
    {
      "cell_type": "code",
      "metadata": {
        "id": "la2HjWVJznke",
        "colab": {
          "base_uri": "https://localhost:8080/"
        },
        "outputId": "c1158487-700e-4bab-89e9-598254f8a233"
      },
      "source": [
        "# show text without stopwords\n",
        "X = [remove_stopwords(txt) for txt in X]\n",
        "X"
      ],
      "execution_count": null,
      "outputs": [
        {
          "output_type": "execute_result",
          "data": {
            "text/plain": [
              "['-PRON- bold stripe piqu weave polo definitely stand design regular fit button collar short sleeve piece perfect summer wear',\n",
              " 'craft pure cotton classic tee make slightly wide crew neck small logo embroidery',\n",
              " 'transport sunny beach south france embroidered cotton shirt contrast white summer themed embroidery deep blue fabric make sure button shirt make statement wear chino turn head',\n",
              " 'make organic cotton -PRON- short sleeved t shirt -PRON- come minimal detailing feature clean silhouette loose fit brand chest graphic stand',\n",
              " 'print bermuda short -PRON- underwater world underwater creature coral submarine make cotton relaxed fit -PRON- super comfortable great run make belt loop short fit single time',\n",
              " '-PRON- ve lot love -PRON- long sleeved t shirt cotton waffle weave add texture rounded hem finish seasonal transitional layer',\n",
              " 'cut lightweight slightly fabric -PRON- long sleeved t shirt add element fun outfit -PRON- mock neck print gather detailing sleeve elevate look wear blazer sophisticated look',\n",
              " 's ocean explore -PRON- short sleeved hawaiian shirt close look -PRON- print reveal intricate sea life graphic like bright pink seashell multi coloured anemone finish mock turn sleeve lay summer staple sophisticated touch',\n",
              " '-PRON- heavy jersey sweater design clean silhouette s perfect day -PRON- love single patch pocket balance pleated sleeve add hint volume',\n",
              " 'echo s -PRON- way -PRON- just look -PRON- madison sunglass rectangular frame make colourful acetate epitome era temple make wire core acetate complement hue add touch scotch place logo temple glass come -PRON- case polish cloth',\n",
              " '-PRON- trusty denim trucker jacket adjustable button waistband hem shape feature structured seam detailing cosy twist soft teddy lining',\n",
              " '-PRON- high rise skinny jean haut upgrade season premium italian fabric flattering skinny leg classic pocket styling stick complete anytime style',\n",
              " '-PRON- classic gilet smart alternative blazer make hint stretch comfort -PRON- s cut check fabric feature small faux pocket deep v neck -PRON- s perfect dress pair jean',\n",
              " 'mesh slip sneaker feature versatile design nylon mesh cover textured rubber sole lightweight style make -PRON- perfect summer day design elastic insert weave label heel',\n",
              " 'base layer make blend linen recycled polyester -PRON- s planet -PRON- round ribbed neck ultra casual feel feature small embroidered collar',\n",
              " 'soft easy layer -PRON- quilted puffer jacket make recycle polyester filling repreve hood elasticate cuff offer extra protection element',\n",
              " 'craft rich leather lace sneaker make microfibre cover memory foam sock soft micro suede lining sneaker complete logo set rubber sole',\n",
              " 'crisp comfortable bring smart family occasion make cotton -PRON- short sleeved polo embroidered logo soft touch easy outfit',\n",
              " '-PRON- love long day beach chino short make soft organic pima cotton -PRON- super comfortable light summer wear fabric little bit stretch -PRON- make nice',\n",
              " '-PRON- t wrong classic crew neck sweater simple design execute perfectly sweater suitable season light warm month perfect layer cold weather touch wool fabric make -PRON- extra comfortable',\n",
              " 'make organic cotton -PRON- amsterdams blauw trucker jacket reimagine sunlit season denim button jacket puffy princess sleeve make basic pop finish fresh powder blue washing authentic stitching',\n",
              " 'make comfortable cotton linen blend long sleeve button shirt man wardrobe pair chinos dress look',\n",
              " '-PRON- striped short make light linen blend perfect hot day cute ruffled hem contrast stripe detailing -PRON- ideal summer playdate',\n",
              " 'cut mid rise regular length signature sweatpant design everyday ease make pure cotton -PRON- feature drawstring elasticate waist pocket',\n",
              " 'embrace unisex style -PRON- soft jersey t shirt cut organic cotton -PRON- ve add -PRON- unique bear love graphic regular fit tee pair -PRON- favourite jean lay look',\n",
              " '-PRON- seasonal boyfriend jean come relaxed oversized fit organic cotton -PRON- vintage inspire wash extra panel outer seam create cool wide silhouette',\n",
              " 'available myriad different print recycle polyester swim short make statement -PRON- hit pool make lightweight fabric quick dry short finish drawstre waist pocket rear',\n",
              " '-PRON- marigold yellow bikini perfect lazy day beach jacquard fabric ruffle waistline uplifting yellow colour piece high level combine clasp subtle pattern bikini real eye catcher finish -PRON- -PRON- match bikini brief -PRON- good',\n",
              " '-PRON- round neck weave tee essential basic piece -PRON- boxy sleeve contrast colour gradient -PRON- stand basic t shirt pair short summer layer cardigan cold day',\n",
              " 'dress denim versatile sandal summer s effortless staple minimal design match gorgeous golden colour create mix high low profile mean shoe perfect casual dressy occasion rubber sole make sure step -PRON- comfortable time walk beach',\n",
              " '-PRON- favourite duty essential just upgrade cut oversized fit -PRON- s toughen studding structured seam arm hood',\n",
              " 'occasion print blazer design loose fit cut beautiful floral fabric blazer certain je ne sais quoi lift outfit -PRON- waist tie add shape finish look perfectly wear -PRON- match ord look',\n",
              " '-PRON- workwear inspire jacket cut soft buttery goat suede -PRON- rich look feel statement fabric combine -PRON- simple button design jacket -PRON- styling power throw -PRON- instantly lift outfit',\n",
              " 'beach day ready -PRON- print bikini sporty design feature starfish print adjustable spaghetti strap',\n",
              " 'soft comfortable -PRON- organic cotton sweater ultimate loungewear staple -PRON- cut slight balloon style sleeve design unique look finish tie dye print perfect pair jean -PRON- favourite sweatpant',\n",
              " 'balance outspoken silhouette typical scotch detailing -PRON- rushmore sunglass bold frame make coloured acetate -PRON- logo print temple contemporary sunglass ready summer available colourway sunglass come case polish cloth',\n",
              " 'shark embroider polo isn t fainthearted don t worry -PRON- isn t scary soft cotton fabric make shirt feel like hug thing nice light button collar short sleeve help thing cool fun easy wear -PRON- s -PRON- need',\n",
              " '-PRON- skim plus jean perfect addition -PRON- wardrobe feature mid bleach wash reveal high low contrast fade jean elevated look super slim fit comfortable touch elastane weave fabric pair white shirt effortless look',\n",
              " '-PRON- floral print t shirt turn head moment -PRON- -PRON- cut cotton elastane blend -PRON- s soft touch easy wear finish curl hem cuff piece elevate outfit',\n",
              " 'make season season -PRON- soft cotton jersey t shirt cut easy regular fit come -PRON- logo emblazon chest',\n",
              " 'wide fit brim stylish wool hat detachable ribbon crown true statement piece uplift outfit instantly',\n",
              " '-PRON- everyday hoodie make cotton cordless hood structure create clean silhouette -PRON- eye catching finish special holographic artwork shimmer -PRON- catch light',\n",
              " 'bright seascape themed print -PRON- skirt make jacquard weave fabric blend feature asymmetrical hem skirt perfect match -PRON- ord counterpart',\n",
              " 'cut tencel trade blend ribbed jersey bodysuit soft touch perfect layering sleek item square neckline strap',\n",
              " 'versatile polo date -PRON- make organic cotton blend distinct piqu weave collar pick contrast white piping regular fit tapered sleeve make polo universally flattering',\n",
              " 'jacquard print weave fabric -PRON- beautiful mid length style cinch volume -PRON- ve add belted waist finish -PRON- sharp v neck clean look',\n",
              " '-PRON- graphic t shirt just thing want little extra just look octopus artwork feature t shirt piece look good -PRON- feel lovely soft organic cotton -PRON- s make',\n",
              " 'jump handstand climb tree -PRON- s possible -PRON- comfort stretch stummer short finish light copper threading shiny metal trim skinny fit denim guarantee hit picky dresser',\n",
              " 'add gentlemanly sophistication outfit -PRON- double breasted gilet comfortable wool linen blend gilet rich look dark check pattern jet pocket lift piece pair match trouser blazer formal look remember',\n",
              " 'ralston -PRON- signature regular slim fit denim make comfort stretch cotton polyester base intense pure blue colour -PRON- visual wash reveal depth character denim finish -PRON- signature triple x classic pocket style',\n",
              " 'fun filled afternoon beach easy breezy short design wide fit weave super soft organic cotton feature bright shell print playful finish -PRON- add ruffle hem bow tie waist',\n",
              " 'make cotton blend easy short make sunny day seashell inspire print ruffle hem add playfulness elasticate waist thing comfy',\n",
              " '-PRON- sweater salmon colour gradient melange knit definitely standout piece soft lined pattern subtle accentuate gradient perfectly make recycled cotton sweater cut comfort',\n",
              " '-PRON- classic logo polo update melange piqu weave fabric make soft organic cotton stay comfortable day long pair chino short laidback summer look',\n",
              " 'pair traditional houndstooth classic chino style mott -PRON- super slim fit trouser ultra modern cuff ankle length mid rise -PRON- s perfect companion oxford shirt brogue',\n",
              " '-PRON- feel like boxy style good reason level outfit salmon colour make organic cotton wear summer light denim short button cardigan winter -PRON- good',\n",
              " '-PRON- s timeless airy lovely time -PRON- talk -PRON- cute white cotton trouser straight leg ruffle perfect sunny day -PRON- doesn t matter s schedule',\n",
              " 'handy cool little girl jumpsuit especially -PRON- look stylish dreamy embroider open add boldness -PRON- soft organic cotton make -PRON- easy',\n",
              " 'classic comfort stretch skinny jean look great -PRON- tigger plus make deep indigo denim strong slub effect pair unique -PRON- s lightly wash use responsible process finish unpick hem rugged vibe',\n",
              " 'everyday short sleeved t shirt easy styling shape regular fit understated chest pocket -PRON- feature round neck pure cotton crisp clean silhouette',\n",
              " 'make wave -PRON- ultra cool black t shirt design bright sea themed print chest weave soft organic cotton relaxed fit t shirt comfy',\n",
              " '-PRON- version perfect tee make organic cotton wardrobe essential ampe simple logo chest cuff',\n",
              " 'craft rich leather lace sneaker make microfibre cover memory foam sock soft micro suede lining -PRON- complete logo set rubber sole',\n",
              " 'staple wardrobe basic t shirt cotton clean cut make -PRON- universally flattering logo graphic -PRON- unique look great layer tee wear',\n",
              " '-PRON- new high rise kick flare jean make organic cotton craft crop inseam edgy classic flare -PRON- hug hip waist kick knee comfort stretch fabric -PRON- flexible feel -PRON- s finish dark base wash use responsible process slightly wear look',\n",
              " 'cut pure cotton lightweight soft shirt summer perfection finish chest pocket button closure soft bleached indigo colour piece great layering wear -PRON-',\n",
              " '-PRON- zip jumper trans seasonal essential warmth style cut clean silhouette military style utility pocket chest -PRON- s knit structured cotton blend -PRON- feel jacket -PRON- complete special piece high neck warmth voluminous sleeve accentuate tight cuff',\n",
              " '-PRON- coin close -PRON- pastel coloured coin wallet make recycled leather soft buttery suede toss grab style',\n",
              " 'ralston -PRON- regular slim fit jean hand brush slightly reveal -PRON- purple cast stretch denim jean seasonless look',\n",
              " 'everyday basic lift minimalist graphic left hand chest cut organic cotton -PRON- hoodie zip closure ribbed cuff hem -PRON- nice warm -PRON- lay look hoodie isn t just lounge house -PRON- layer -PRON- blazer wear -PRON-',\n",
              " 'craft smooth leather polished finish mid length boot woman feature western inspire silhouette pointed toe slightly slanted stack heel s set perfect height everyday wear',\n",
              " 'classic stripe casual crewneck -PRON- sweater work cut relaxed fit make yarn dye cotton colour -PRON- s great layering piece season transition',\n",
              " 'finish lay cut mid rise chic ankle length striped trouser feature practical drawstring waist -PRON- easy comfort day',\n",
              " 'classic meet cosy comfort -PRON- rich wool blend jacket design distinctive tartan check -PRON- s padded plush teddy collar extra warmth',\n",
              " '-PRON- denim jacket design western inspire detailing shoulder special curved seam cuff cut boxy fit -PRON- s garment dye -PRON- beautifully live feel',\n",
              " 'tried true favourite -PRON- vivex sneaker man return season fresh texture colourway version craft soft suede nylon upper set sturdy rubber sole traction stability design memory foam supreme comfort external heel stabilizer -PRON- tread steady sneaker guarantee -PRON- supreme comfort day wearability',\n",
              " 'head toe denim tuck -PRON- -PRON- boot add denim -PRON- outfit good idea cut stretchy fabric add extra comfort -PRON- feature sew detailing leg',\n",
              " 'look time -PRON- essential denim jacket design tone fabric bright blue tone -PRON- s make comfort cotton hint stretch easy button closure',\n",
              " 'set summer adventure -PRON- tencel trade blend short sleeved shirt -PRON- fun starfish print neon shade shirt add splash colour outfit pair -PRON- match short ultra cool look',\n",
              " 'classic dobby shirt dressy event make stretch cotton tonal stripe structure slim fit finish rounded hem classic collar -PRON- s versatile piece design event',\n",
              " 'sea inspire print s place carefully -PRON- hawaiian shirt piece exude just type extra -PRON- need alongside scattering starfish seahorse hermit shirt spread collar cut relaxed fit pair dark short perfect festival outfit',\n",
              " 'cut mid rise ankle length knit sweatpant design styling comfort make rich wool cotton blend -PRON- feature drawstring elasticate waist cuff',\n",
              " 'skim -PRON- skinny jean cut -PRON- s make comfort stretch cotton fresh indigo denim s heavily wash use responsible process intense authentic worn look finish classic pocket style -PRON- signature triple x embroidery',\n",
              " 'make crispy organic cotton shirt -PRON- charming classic button ruffle collar placket fit s perfect tuck -PRON- s time smart',\n",
              " 'kitte warm weather -PRON- short sleeved tee -PRON- s make breathable organic cotton bold pop colour chest finish round neck easy fit -PRON- s practical essential school weekend',\n",
              " 'ralston -PRON- regular slim fit denim stretch denim fabric jean feature special black shade design fade maintain -PRON- black colour exceptionally long time',\n",
              " 'liven -PRON- outfit print short make beautifully soft cotton short comfortable feel easy wear short wear summer thank belt loop incorporate waist -PRON- bright red stripe -PRON- playful look guarantee make outfit pop',\n",
              " 'finish lay cut mid rise chic ankle length trouser easy comfort day practical drawstring closure',\n",
              " 'spacious leg -PRON- wide leg sweatpant make organic cotton polyester blend metallic yarn subtle shine ankle length modern flair relaxed lay style',\n",
              " 'simple easy wear playful -PRON- girl t shirt deep lavender colour feature fun artwork print t shirt make organic cotton make -PRON- light airy pair playful tiered skirt denim short fun springtime look',\n",
              " '-PRON- v neck woman s sweater super soft touch feature scallop detailing edge -PRON- cuff finish ribbed hem cuff neckline -PRON- sweater perfect cool spring day chilly summer night',\n",
              " 'cut beautiful cotton linen blend -PRON- lightweight blazer perfect summer wear -PRON- deep blue indigo colour easy style classic button closure patch pocket lift look high quality finish rubber coat button partial lining single vent blazer definitely pride s wardrobe',\n",
              " 'make soft organic cotton -PRON- t shirt artwork print -PRON- little extra pop fun finish round neckline t shirt perfect layer wear -PRON-',\n",
              " '-PRON- lightweight cotton wool sweater pop lovely pink tone versatile design -PRON- feature high neck contrast colour hem cuff',\n",
              " '-PRON- ve classic shirt add touch scotch -PRON- s hidden button -PRON- slight lift cut beautifully light airy cotton linen blend perfect warm day just stick pair jean smart casual look',\n",
              " '-PRON- ve classic bermuda short level -PRON- outspoken starfish print combine -PRON- light linen blend make -PRON- perfect summer wear -PRON- long length pleated piece suitable beach restaurant pair crisp white shirt -PRON- ready',\n",
              " 'playful practical -PRON- tee come boxy fit day ease perfect hot summer day -PRON- s cut organic cotton finish playful ruffled cuff bright slogan',\n",
              " 'make stretch fabric right place -PRON- trench coat add comfort season collar neck removable hood make -PRON- versatile piece cover placket clever adjustable cuff offer extra warmth -PRON- s finish clean silhouette minimal button',\n",
              " '-PRON- sweatshirt close sun drop weave plush organic cotton -PRON- come soft yellow graphic lettering ultra comfy thank -PRON- drop shoulder roomy sleeve -PRON- s perfect throw piece evening spend toast marshmallow firepit',\n",
              " '-PRON- ribbed neckline waist cuff -PRON- lightweight pullover nice sleek fit whilst comfortable time finish small label low leave corner perfect base outfit',\n",
              " 'craft customise phylon sole rubber traction sturdy sneaker make bold step -PRON- fashion faux suede panel soft comfortable textile lining -PRON- love -PRON- midi dress crop jean',\n",
              " 'dress easy -PRON- short sleeved mini dress -PRON- structure pleat make -PRON- perfectly form fit half zip neckline great layered look -PRON- s make soft stretch fabric day comfort',\n",
              " 'craft crisp cotton poplin regular fit shirt make button collar small logo embroidery',\n",
              " 'long graceful print maxi dress make gauzy sheer fabric shirred bodice flattering finish body striking graphic print clash khaki pink make statement',\n",
              " 'thank -PRON- soft stretchy jersey minimal detailing basic ribbed tank perfect base layer pair short summertime layer cardigan winter',\n",
              " 'make ribbed jersey -PRON- striped girl dress soft touch stripe ruffle yoke sleeve add playfulness midi length dress -PRON- classic airy cut make sure -PRON- light wear summer long',\n",
              " 'casual sporty essential -PRON- cotton sweatpant -PRON- wardrobe season cut super comfortable mid rise -PRON- classic drawstring waistband sporty silhouette',\n",
              " 'cut soft linen blend -PRON- tailored jogger light airy slight taper fit pleat leg trouser bear riviera ready pair -PRON- match linen blazer ord look',\n",
              " 'mesh slip sneaker feature versatile design make cotton fabric cover textured rubber sole striped upper -PRON- nautical feel perfect summer day design elastic insert weave label heel',\n",
              " '-PRON- barfly hand sanitising spray let -PRON- clean disinfect -PRON- hand soap water make alcohol formulation signature freshness barfly fragrance -PRON- -PRON- hand clean moisturised',\n",
              " 'make -PRON- comfy day -PRON- easy unisex sweatpant design boy girl -PRON- make organic cotton s planet super comfortable -PRON- elasticate cuff classic track suit style pull waistband drawcord make essential lay day home',\n",
              " '-PRON- love sweater -PRON- high neck twist long sleeve sweater ideal layering piece',\n",
              " 'plain t shirt versatile wardrobe hero -PRON- ve -PRON- scotch twist opt cool unconventional colour classic make organic cotton cut regular fit -PRON- tee perfect base outfit',\n",
              " '-PRON- statement sweater feature layer floral pattern balloon sleeve add volume finish wide hem fit shape',\n",
              " '-PRON- perfectly drape fabric wrap doesn t need embellishment minimal detailing allow cut piece centre stage deep v neck voluminous sleeve pair jean laidback feel',\n",
              " 'sunny day just lot bright -PRON- tee weave soft cotton pop pastel pink white look extra dose sunshine -PRON- ve add print',\n",
              " '-PRON- cosy -PRON- lime green hoodie weave cotton super soft sweat design ribbed cuff kangaroo pocket extra warmth contrast purple gradient graphic add fun touch',\n",
              " 'envelop -PRON- -PRON- favourite summer piece wrap dress v neck subtle butterfly sleeve way -PRON- drapey midi length skirt dress piece wonder',\n",
              " 'make engineer stretch cotton -PRON- long sleeved tee timeless nautical inspire stripe design structure regular fit casual round neck perfect blazer jacket',\n",
              " 'short sleeved closet classic design understated round neck boxy silhouette chest artwork add pop character',\n",
              " 'personal spin -PRON- everyday look loose fit western inspire denim shirt contrast shoulder panel angled chest pocket work clean button silhouette create piece s authentically make careful cotton hemp blend',\n",
              " 'add modern ease -PRON- duty uniform -PRON- super soft sweatshirt make organic cotton add bit character -PRON- feature subtle logo chest finish ribbed cuff hem -PRON- -PRON- nice warm chilly day',\n",
              " '-PRON- flowy mid rise trouser wide legged fit cut ankle length relaxed look -PRON- zip closure add touch scotch outfit wear trouser sandal sneaker ultimate lay holiday look',\n",
              " 'boy s long sleeved t shirt perfect piece everyday wear organic cotton make -PRON- super comfortable whilst eye catch circular graphic chest make sure -PRON- isn t just functional cool say basic t fun',\n",
              " 'classic polo style -PRON- pure cotton version feature familiar polo shirt look button neck short cuff sleeve design subtle tonal chest logo',\n",
              " 'chunky structured knit button cardigan summer make gorgeously soft cotton -PRON- black base colour liven brightly coloured stripe design cut v neck ribbed hem cuff piece wear season',\n",
              " 'meet haut -PRON- high rise skinny jean subtle stretch rework split hem',\n",
              " 'trip summer south france -PRON- print crew neck sweater holiday style print piece elevate basic make cotton fit silky felpa lining sweatshirt soft touch ensure day comfort',\n",
              " 'pack contain pair stretch cotton boxer short elasticated waistband feature logo text',\n",
              " 'enjoy effortless style -PRON- midi skirt deep ocean blue fabric belt create flattering waistline whilst silky material add glam look truly versatile piece s easy style wear pair basic t shirt sneaker casual look',\n",
              " 'business wear -PRON- hoodie -PRON- single breasted blazer deep ochre yellow colour guarantee smile -PRON- face just like sunny day subtle lustre fabric draw colour',\n",
              " '-PRON- classic turtleneck upgrade season bold stripe textured rib knit cut slim fit hint stretch make -PRON- comfortable day wear -PRON- s make super soft lenzing trade ecovero trade viscose derive sustainable wood pulp come certify control source -PRON- love button cuff add dash character layer',\n",
              " 'cut airy soft organic cotton linen blend basic t shirt elevate graphic chest -PRON- slightly crop design easy pair just make -PRON- worthy addition -PRON- wardrobe',\n",
              " '-PRON- sweater playfully skew traditional nautical style -PRON- bold black cream stripe make organic cotton sweater -PRON- warm comfortable day long switch classic styling -PRON- button appear hem instead usual spot shoulder',\n",
              " 'colour texture pop print make artful statement elevated jumper make rich cotton blend style bespoke -PRON- deliver extravagant bold story',\n",
              " 'versatile easy wear -PRON- worker style chinos -PRON- make soft organic cotton blend -PRON- just stretch bend -PRON- -PRON- need -PRON- ankle length regular fit pleat leg -PRON- classic chino style staple whilst buckle waist work style feel',\n",
              " 'cut pure silk shirt beautifully smooth finish -PRON- minimalist design feature hide button sleek feel whilst rust colour lift piece make -PRON- definite eyecatcher pair pleated skirt ultimate trend look',\n",
              " 'big bright -PRON- garment dye sweatshirt standout green cut pure cotton ribbed cuff hem -PRON- s design -PRON- warm chilly day look cool artwork logo chest',\n",
              " '-PRON- everyday denim shirt organic cotton craft easy silhouette feature refined snap button gentle rounded hem elongate leg',\n",
              " 'drape perfection -PRON- midi length dress plenty ruffle -PRON- folklore inspire look tie closure neck -PRON- option switch look round v neck pair boot cool indie look',\n",
              " 'available variety warm hue classic chino craft stretch cotton cut regular slim fit trouser design pocket pocket zip button fly',\n",
              " 'weekend wear upgrade -PRON- easy crew neck sweater make soft cotton crew neck -PRON- come emblazon -PRON- logo',\n",
              " 'true multitasker -PRON- jacket ready season high neck cord hood hem protect inclement weather quilt inner gilet offer extra warmth remove layer mild day',\n",
              " 'cut square neck ultra soft t shirt -PRON- new basic -PRON- reimagine popular comfort stretch tee ribbed fabric wrap body nice fit look wear -PRON- solo jean thing casual style blazer',\n",
              " 'echo s starlet look accessorize -PRON- sleek silk scarf make fine silk bold pattern scarf uplift outfit instant',\n",
              " 'ready long day seaside -PRON- scotch style beach bag cover starfish spangled print bag finish knot detailing strap small logo -PRON- relaxed round shape create load room beach essential',\n",
              " 'barfly signature fragrance scotch soda like clothe scent -PRON- character feature fresh note citrus herb middle note lavender jasmine note sandalwood musk madagascar vanilla barfly intense simple fragrance',\n",
              " 'v neck shirt true classic perfect base outfit cut soft linen -PRON- feel airy ideal piece tropical temperature',\n",
              " 'playful staple -PRON- polo come fun graphic chest contrast pipe collar soft touch -PRON- s cut cotton blend touch elastane extra bit comfort stretch',\n",
              " 'ralston -PRON- signature denim style contain recycle cotton -PRON- s lightly stonewash use responsible process worn look -PRON- s cut classic mid rise slim leg comfort stretch',\n",
              " 'knot detailing large button square neckline -PRON- linen capture summer lightweight fabric playful design pair -PRON- match short easy ord look',\n",
              " 'strike perfect balance refined casual -PRON- jacquard knit cardigan spin sand melange colour cotton -PRON- weave design lift piece whilst -PRON- shawl collar horn button finish look perfectly elevate outfit unique knit cardigan',\n",
              " 'light wash organic cotton -PRON- denim mini skirt easy look design straight silhouette -PRON- fall just knee style pocket true jean skirt appeal',\n",
              " 'skim -PRON- skinny fit denim indigo jean stretch denim wash mid blue subtle color variation d effect',\n",
              " 'petit ami -PRON- slim boyfriend denim woman season -PRON- ve add embroidery comfort stretch cotton touch character cut low rise style finish classic pocket regular length',\n",
              " 'slim fit polished cut elevate -PRON- premium cotton button average refine subtle indigo check make -PRON- versatile rounded hem casual wear untucked',\n",
              " 'beautiful floral print cargo trouser perfect way cheer outfit cut paper bag waistline cool cord belt trouser fit comfy -PRON- lightweight cotton blend fabric thing cool hot month whilst trouser -PRON- relaxed look',\n",
              " 'make sturdy organic cotton s planet -PRON- crewneck sweater structure easy everyday fit playtime chill time -PRON- come -PRON- emblazon chest',\n",
              " '-PRON- ve -PRON- everyday bomber jacket tweak -PRON- high neck large patch pocket -PRON- ve ribbed waist cuff classic bomber jacket silhouette -PRON- hint stretch soft cotton blend line comfort warmth',\n",
              " 'morning till evening maxi dress look good encase colourful print piece drape perfection scalloped sleeve ruffle detailing tiered skirt finish look',\n",
              " 'snuggle -PRON- wide fit hoodie make soft cotton hem cuff -PRON- guarantee warmth cosiness cover beautiful botanical print piece isn t basic wear playground home',\n",
              " 'cut beautiful sky blue cotton fabric boxy shirt voluminous sleeve ruffle edging cuff -PRON- high neckline feature ruffle -PRON- regency feel -PRON- pearl look button rich oxford quality piece stand test time',\n",
              " 'let s switch wardrobe game organic cotton sweatpant -PRON- -PRON- significant -PRON- ve design -PRON- pastel toned sweatpant fully unisex feature jet pocket single pocket right hand decide comfortable -PRON- want easily change waistline drawstring time say goodbye -PRON- -PRON- -PRON- s',\n",
              " 'update comfort stretch jersey fabric mid rise -PRON- cargo trouser practical cool -PRON- classic cargo pocket leg finish modern turn cuff',\n",
              " '-PRON- wide sleeve drape fabric beautiful dress refined addition -PRON- summer wardrobe wait cut dark blue cotton blend -PRON- v neck design finish perfectly waist',\n",
              " '-PRON- ve make -PRON- organic cotton tee cut easy regular fit minimal branding everyday essential look good way -PRON- style -PRON-',\n",
              " 'key player cross seasonal wardrobe -PRON- cardigan chunky knit contain alpaca wool plush soft feel beautiful cream colour v neck design make cardigan perfect cool spring day chilly summer night',\n",
              " 'bring holiday vibe home -PRON- graphic t shirt boy regular fit tee cool tropical artwork place shirt s',\n",
              " 'make wave -PRON- button shirt design bold starfish print cut relaxed fit -PRON- s easy layer -PRON- everyday essential pair -PRON- match short ultimate summer uniform',\n",
              " 'make supple leather -PRON- luxe belt complete look finish metal detailing curved buckle loop -PRON- -PRON- favourite denim oversized blazer make cow leather belt',\n",
              " 'carry -PRON- style -PRON- jacquard tote bag hand sketch unique seasonal design -PRON- large internal pocket big stuff small outside pocket little thing',\n",
              " '-PRON- skinny denim cut skim update season lightly fade blue black wash live feel contain recycled cotton regular length mid rise -PRON- fit tight thigh ankle -PRON- s finish -PRON- trademark triple x pocket comfort stretch day wear',\n",
              " 'add modern luxury -PRON- wardrobe -PRON- fil coupe shirt weave pure cotton intricate weave make -PRON- supple soft pattern add touch play finish bright white button regular fit shirt special wear',\n",
              " 'feature chunky pocket chest -PRON- lightweight cotton shirt inspire workwear utility trend gorgeous seaside blue colour lift design -PRON- versatile look suitable occasion',\n",
              " 'tailor perfection cut soft fabric slight sheen -PRON- regular tapered fit trouser perfect way elevate outfit finish d ring belt seam run leg piece definitely -PRON-',\n",
              " 's love -PRON- easy mid rise trouser wide leg fit comfortable elastic waistband soft drapey fabric tonal jacquard pattern special finish',\n",
              " 'man s shirt design influence traditional american workwear note chest pocket western inspire stitching make soft organic cotton -PRON- come different shade blue make -PRON- easy mix match',\n",
              " '-PRON- lift unisex long sleeved t shirt -PRON- bear love graphic place chest left arm black graphic stand sharp contrast fabric s light colour elevate look say goodbye binary style',\n",
              " '-PRON- ve upgrade classic polo shirt length button classic polo collar -PRON- version finish chest pocket metallic weave',\n",
              " 'ralston -PRON- regular slim fit denim man make premium soft cotton blend subtle stretch comfortable mid rise jean feature contrast stitching timeless design',\n",
              " 'craft smooth suede polished finish ankle boot woman feature western inspire silhouette pointed toe slightly slanted stack heel s set perfect height everyday wear',\n",
              " 'addition -PRON- wardrobe need -PRON- crew neck sweatshirt embroidery regal deep blue colour soft touch sweater make cotton blend ribbed hem cuff -PRON- nice warm piece easy style pair jean layer oxford shirt',\n",
              " '-PRON- slightly dressy look polo parent approve feature classic polo feature button collar smart cut shirt make super soft cotton making sure -PRON- s comfy polo isn t just practical -PRON- s fun just pop collar contrast colour hide underneath pretty cool -PRON- ask -PRON-',\n",
              " 'cut petal pink cotton mercerise chinos soft touch hint elastane weave -PRON- day comfort cut ankle length design pleated straight fit trouser perfect spring day',\n",
              " 'make soft cotton blend s weave stretch flexibility comfort stylish sock feature palm tree image -PRON- ribbed trim ensure -PRON- stay place day sock fun comfortable',\n",
              " '-PRON- classic cotton shirt versatile regular cut subtle rounded hem great lay layer look -PRON- ve add playful twist jacquard print subtle work weekend',\n",
              " 'like -PRON- clothe scent -PRON- character feature fresh note bergamot lemon base note guaiac sandalwood note lotus rise -PRON- heart eau parfum woman intense elegant fragrance',\n",
              " 'thing classic denim shirt -PRON- craft pure cotton just right thickness -PRON- ve achieve neat clean silhouette cover placket pocketless design',\n",
              " '-PRON- add lace edge -PRON- basic rib -PRON- just little lift cut organic cotton blend piece touch elastane weave -PRON- slight extra flex need',\n",
              " 'friday -PRON- print black red jumpsuit cut floaty slightly textured fabric stunning jumpsuit smart occasion ready day comfort fit look -PRON- ve add elasticated waistband design don t forget playful fabric tie neck -PRON- ultimate accessory',\n",
              " 'inspire military style -PRON- denim jacket come sleek deep indigo finish beautiful hardware button pocket buttonhole pick contrast copper topstitching feminise belted waist add stretch day comfort -PRON- s modern classic stay -PRON- wardrobe year come',\n",
              " 'nordic folk story inspire bold artwork rich cotton blend sweater unexpected pop subtle contrast colour hem cuff',\n",
              " '-PRON- ve classic update blend traditional striped print button closure shirt collarless design finish curved hem chest pocket piece perfect everyday wear',\n",
              " 'make silk look fabric -PRON- shirt dress drape beautifully accentuate -PRON- balloon sleeve long cuff waist tie help bring feminine shape look easy wear -PRON- midi silhouette look great boot sandal make -PRON- perfect year round',\n",
              " '-PRON- ve -PRON- everyday hoodie literal twist season gather hem -PRON- s super soft thank organic cotton blend playful print pop neat cordless hood pocketless design finish clean silhouette',\n",
              " 'ocean blue trouser high rise fit flattering waist tie ultimate comfort -PRON- ve add elasticated waistband convenient slash pocket design trouser feature welt pocket combine -PRON- ankle length trouser basic t shirt -PRON- set sunlit season',\n",
              " 'add little flair -PRON- everyday outfit -PRON- abott twill cotton chino structure twill clean cut style chinos polished look business casual -PRON- dress -PRON-',\n",
              " 'make snug fit -PRON- super skinny fit la milou easy wear thank -PRON- super stretch fabric cut mid rise clean faux pocket wash cool rock roll look perfect anytime year',\n",
              " 'lightweight sunlight ready -PRON- garment dye shirt perfect item thing heat make light linen fabric -PRON- simple sleeve roll way buttonable fabric tie pair -PRON- favourite light chino ultimate riviera look',\n",
              " 'inspire magnificent wild nature tahiti -PRON- new fragrance man combine sun warm scent tropical fruit flower wood refreshing signature bergamot brazilian mango wine leaf layer exotic woody base clary sage sandalwood aromatic spiranol finally touch whiskey accord blend musk ambery wood break fragrance convey ultimate freedom travel spray perfect flight tropical island',\n",
              " 'fashion s love affair leopard print continue -PRON- late iteration standout dress come belted waist voluminous sleeve elegant drape zip make dress wardrobe essential',\n",
              " 'make rich wool cotton blend -PRON- crewneck sweater bold season colourful jacquard pattern high cut crew neck warmth',\n",
              " 'wrap -PRON- relaxed fit crew neck sweater slip -PRON- enjoy tropical themed graphic sweater don t forget time feel softness organic cotton fabric ribbed hem cuff make -PRON- cosier drop shoulder seam neck shoulder -PRON- bold look',\n",
              " 'summer refinement embody -PRON- beach chinos cut ecovero trade linen blend -PRON- lightweight soft comfort level enhance fabric waist tie ensure perfect fit pair loose fit white shirt ultimate look',\n",
              " 'feature hand sketch print design house short sleeve cotton tee pop navy white tone',\n",
              " 'cut pure cotton chino lightweight ideal beachwear -PRON- striped design fabric belt finish look perfectly wear loose fitting enjoy holiday vibe',\n",
              " '-PRON- ve make -PRON- short sleeved tee lasting blend hemp organic cotton -PRON- s planet super comfortable finish cheerful print relaxed fit tee summer vibe',\n",
              " 'dive wonder sea -PRON- underwater print liven classic black t shirt brim shark jellyfish -PRON- s cut soft organic cotton ideal fun filled day beach',\n",
              " 'mini s dream skirt make tulle -PRON- skirt fun contrast polka dot subtle shimmer available midi length elastic waistband add shine ensure comfort day perfect summer birthday party smart occasion ask extra glitter',\n",
              " '-PRON- lightweight cotton wool sweater light supple soft knit weave versatile design -PRON- feature high neck contrast colour hem cuff',\n",
              " '-PRON- crop cut shoulder design broderie anglaise exude summer vibe -PRON- ruffled neckline elasticate hem cuff thing fun easy wear cut deep black cotton piece lightweight soft touch ideal sunny day',\n",
              " 'ready lounge -PRON- pastel tone oversized hoodie make organic cotton cut unisex design piece suitable gender super soft hoodie label -PRON- low left corner -PRON- upmarket look soft hood ribbed hem cuff -PRON- warm season wear -PRON- matching unisex sweatpant complete -PRON- lounge look',\n",
              " '-PRON- crew neck sweater level floral artwork place black artwork stand stark contrast lavender cotton fabric sweater wear sweatpant ultimate relaxed fit',\n",
              " '-PRON- s voluminous -PRON- s pink -PRON- -PRON- crispy cotton line dress -PRON- little s new favourite garment sure',\n",
              " 'cut soft cotton blend -PRON- oversized sweater feel like warm hug moment -PRON- -PRON- feature artwork print piece comfortable stylish',\n",
              " '-PRON- high rise skinny jean just right fit active stylish girl cut organic cotton blend -PRON- elastane -PRON- tiny bit extra stretch finish shiny gold trim lovely light blue colour -PRON- perfect type springtime',\n",
              " 'standout crowd -PRON- knit polo style kimono make deep blue fabric rust coloured piping collar contrast beautifully -PRON- button closure wide sleeve spread collar dress easy',\n",
              " 'lightweight breathable cotton wardrobe essential pretty scallop sleeve casual round neck',\n",
              " '-PRON- single breasted trench coat perfect mix traditional design standout print -PRON- s straight fit elevate piece small label left sleeve slanted pocket finish look beautifully style -PRON- match chino watch head turn -PRON- walk',\n",
              " '-PRON- cotton blend polo shirt design clean minimal make hint stretch comfort -PRON- s wardrobe fundamental work',\n",
              " '-PRON- modern design trouser make rich cotton twill fabric just little touch elastane make sure -PRON- stay comfortable day long pocket trouser leg regular tapered fit lift look make -PRON- perfect outfit',\n",
              " '-PRON- logo tee make cotton lay round neck pop colour chest -PRON- s easy style piece slot wardrobe',\n",
              " '-PRON- double duty coach jacket craft reversible silhouette check solid colour -PRON- change match -PRON- look adjustable cuff chill neat button classic collar finish everyday layer',\n",
              " '-PRON- ve reimagine polo structured polo inspire sweater cut classic polo button collar -PRON- feature sweater inspire ribbed cuff hem combine -PRON- sweater soft cotton blend felpa fabric -PRON- warm comfortable day long',\n",
              " 'make striking impression time time -PRON- short textured jacket cut pattern jacquard weave fabric -PRON- s structured soft sheen -PRON- balloon sleeve add -PRON- daring design button -PRON- leave -PRON- undo whichever way -PRON- wear -PRON- -PRON- turn head',\n",
              " 'inspire icon sailor style -PRON- stripe breton jumper make cotton rib knit accent shoulder high round neck make -PRON- sophisticated',\n",
              " 'cut soft pastel melange fabric blazer exude springtime sophistication -PRON- button closure white feel finish collar coin pin detailing lift look -PRON- high end finish',\n",
              " 'bring south france feel city -PRON- playful printed shirt feature beach seashell palm tree lay scene mirror relaxed fit cut viscose blend twill wear -PRON- solo lightweight jacket layer fresh summer day',\n",
              " 'overall print knot organic cotton skirt gorgeous draped design -PRON- midi length -PRON- relaxed look whilst lining hidden zip closure showcase high quality tailoring piece pair simple t shirt sunshine ready outfit',\n",
              " 'cubic zirconia freshwater pearl oval pendant just fabulous able tell -PRON- diamond quiet pendant like hide jewellery box -PRON- enjoy wear sparkly -PRON- opinion hang sterling silver chain -PRON- love piece auree jewellery new owner big responsibility -PRON- need look carefully considerately p',\n",
              " 'effortlessly accessorize -PRON- handmade sophia smockey quartz bangle carat gold vermeil stack -PRON- wear just add simple touch gold gorgeous golden brown tone smokey quartz gemstone metal ct gold vermeil recycled sterling silver -PRON- ethical jewellery brand stone natural smockey quartz mm diameter dimension cm diameter note product make hand slight natural variation length tone o',\n",
              " 'leather gold emboss snake bag x zip pocket middle slot pocket magnetic stud closure x slip pocket x zip pocket inside bag shiny gold metal fitting metal zip closure body leather black lining cotton wipe clean',\n",
              " 'gift just present art concept apply sapphire necklace sense -PRON- small everyday wear elegant make feel special pink sapphire shine mile away catch eye k rise gold ct white diamond ct pink sapphire',\n",
              " 'short chic feel effortless look good introduce bonnie mini dress stretchy cotton comfy silk line inside length virago sleeve square neckline belt silver coloured round buckle bonnie design flatter material main cotton spandex line silk spandex wash dry clean',\n",
              " 'cotton jersey roundneck sweatshirt classic knitwear pattern applique organic cotton gots sertificate polyester maschine wash cold washbag handwash tumble dry warm iron',\n",
              " 'lace application sleeve midi length elastic waist line outfit fabric metallic belt include fabric naylon cotton line viscose',\n",
              " 'delicately feminine chain earring earring feature diamond cut circle pendant delicate draping chain craft sterling silver finish classic ear wire care clothing remove wash order come inside black gift box free cleaning cloth ready gift -PRON- -PRON- piece sterling silver silver naturally tarnish time wear help -PRON- tarnish free long anti tarnish tab',\n",
              " 'luxurious black velvet upper hand embroider green black gold eagle sock feature black quilt satin inner lining gold emboss donhall bell quilt leather sock outsole natural tan leather slipper make england use protective spray use',\n",
              " 'craft recycle k yellow gold sterling silver combination contrast metal make geometric circle earring perfect accent minimalist look material ct yellow gold silver make london',\n",
              " 'create statement iconic lucy ashton design ring hinged movement beautifully handcraft light weight sterling silver item come beautifully gift wrap ready gift -PRON- -PRON- piece sterling silver silver naturally tarnish time wear help -PRON- tarnish free long anti tarnish tab inside box -PRON- s recommend piece -PRON- original packaging different metal',\n",
              " 'tune t shirt black gots cerfitie organic cotton tee feature cool colourful print flirty message -PRON- come black soft touch make great casual outfit pair high waisted trouser jean deni -PRON- chief designer photoshoot -PRON- living room lockdown uk -PRON- cm tall wear t shirt size s -PRON- correct size check sizing information garment mad',\n",
              " '-PRON- orange fascinating color collection orange symbolize confidence rascas collection balance urban formative beauty sophisticated color -PRON- color reveal -PRON- true self small version -PRON- plucky earring use basic module rascas add bold twisted texture carefully contrast smooth form delicately set orange stone create accent point design minimal intricate des',\n",
              " 'inspire luo tribe kenya koy white luo shirt oxford cotton shirt make fine cotton incorporate eye catch authentic african fabric kikoy provide unique touch colour classic white shirt classic fit shirt semi cutaway collar single cuff purchase luo community kenya wash degree heat hang iron avoid tumble dry',\n",
              " 'design london dry clean',\n",
              " 'lily roo s gold teardrop birthstone locket glass perfect personalised jewellery gift special turquoise birthstone december know manifest positivity serenity -PRON- able personalise beautiful pendant add dainty solid ct gold letter charm -PRON- classic teardrop locket design half allow skin partially locket birth month december gemstone turquoise mean',\n",
              " 'tiny moon charm stud sell pair leave right ct yellow gold vermeil plate sterling silver ball stud mm moon charm mm w x mm h butterfly fitting gift ready brand cotton gift bag include make use sterling silver plate ct gold vermeil high coverage plating available -PRON- finish clear e coating add longevity piece -PRON- plate -PRON- jewellery make sure trace nickel le',\n",
              " 'pisa bracelet ideal covet delicate jewellery feature petite gemstone fine chain size adjuster fit wrist size pisa bracelet come variety candy colour collect -PRON- pair -PRON- favourite outfit bracelet make ideal gift birthday love small favour bridesmaid thank -PRON- capri collection inspire glitz glamour italian riviera combine understated elegance o',\n",
              " 'simple chain bracelet enhance characteristic northskull motif rose seal charm bracelet set modern classic reinvigorate minimal look silver accessory add luxe -PRON- overall ensemble wipe jewellery gently soft cloth remove dirt oil wear help protect prolong look -PRON- advisable wear jewellery swimming pool jacuzzi sauna steam room whilst exercise bathe shower',\n",
              " 'feature flowy fit seam tailor sleeve modest crop polyester viscose come package -PRON- suede adiba pink pouch perfect gift machine wash warm inside non chlorine bleach tumble dry low iron dry clean',\n",
              " '-PRON- series fringed bag -PRON- weekend companion big essential adjustable cross body strap -PRON- everyday bag use clutch fun bag summer mention -PRON- festival wardrobe fine italian grain leather detachable cross body strap fully line internally grey grosgrain internal zip pocket open pocket',\n",
              " 'stunning dress sure -PRON- stand piece season bold eye catching hand illustrate print georgette promise unique look style semi lined skirt split wrap tie ensure ease fit -PRON- print design house exclusive -PRON- thee style make uk limited edition dress length cm machine washable polyester',\n",
              " 'life perpetually motion pause gaze stream event element pass notice -PRON- rivulet design viscosity collection inspire endless triviality life -PRON- inspire way people act react triviality bold daring ring make sterling silver carefully polished perfection hand polish sterling silver remove jewelry task carry physical tas',\n",
              " 'modest design accentuate black tone bring conceptual modern look dress make vegan silk relaxed fit -PRON- feature high neck zip design occasion -PRON- wear loose shape detachable waist belt fabric cupro care dry clean',\n",
              " 'inspire tropical forest leopard natural plant peaceful night original hand paint design available smithsonian museum hand wash cold machine wash cold flat try bleach iron need',\n",
              " 'swinge y necklace make natural freshwater pearl rhinestone tassel japan golden plated brass finding length adjust clip wear single long necklace double wrap short necklace match outfit necklace look brilliant stunning nice gift birthday anniversary festival -PRON- contain nice jewelry box packed',\n",
              " 'handmade ear cuff make sterling silver rhodium plating feature multiple faceted white topaz gemstone minimalist design trend gemstone -PRON- stylish finish band polished finish band showcase multiple round gemstone easy way curate ear cuff wear ear doesn t require piercing place ear cuff -PRON- ear slide -PRON- -PRON- comfortable sec',\n",
              " 'ready run -PRON- short dual layer flattering cut shoreditch short hold -PRON- necessity help -PRON- stand running pack sweat wicking phone pocket way stretch uv protection polyester elastane lyrca xtra life trade polyamide elastane wash similar colour c iron tumble dry drip dry',\n",
              " 'dash narrow scarf brown blue yellow pink approx x cm product knit small factory leicester hand finish house -PRON- hackney studio make fine merino wool source uk base company aware item vary slightly nature -PRON- construction handwash',\n",
              " '-PRON- know thing -PRON- t -PRON- chapstick birth control headphone allergy pill pouch solve room spare feature colorful bold pattern boot ultra bright bag digitally collage acrylic painting print eco canvas partially make recycled material produce recycle material polyester canvas pouch feature custom digitally print pattern line pattern cotton fa',\n",
              " 'hand carve anatomically correct skull ring make london solid sterling silver approximate weight g sterling silver oxidise polished',\n",
              " 'stunning bay laurel leaf design finely etch vein display leave ct gold plate brass handcraft istanbul turkey jewelry ct gold plate brass avoid contact moisture chemical sort store enclose pouch',\n",
              " '-PRON- beautiful ct gold chrysoprase gemstone necklace bali birthstone collection gold disc engrave special date polish brush -PRON- wear -PRON- way hand set gemstone chrysoprase traditionally symbolise happiness enterprise encourage common sense th century thief actually believe place stone -PRON- mouth make -PRON- invisible -PRON- t g',\n",
              " 'ideal love statement jewellery make nature inspire earring finish touch special occasion outfit butterfly adorn white cubic zirconia suspend baroque pearl -PRON- organic shape change light -PRON- iridescence baroque pearl naturally form organic irregular shaping butterfly meaning represent spiritual rebirth transformation creativity endless potential vibrant joy change ascension',\n",
              " 'dreamer late addition lola rise s family diamond slogan bunting necklace focus power aspiration sterling silver come gold rise gold rhodium plating inspiring dream diamond bunting necklace feature diamond stud letter charm suspend slender chain clean dry clean cloth product metal rhodium plate l sterling silver stone diamond fasten lobster clasp',\n",
              " 'ct gold beaded ring faceted round rise quartz charm wear stack gold jewellery time regular gold plating order come package beautiful ora gift box protect -PRON- jewellery piece individually place pouch soft line box stop -PRON- scratch tangle ideally store -PRON- jewellery dark cool dry place try piece apart avoid friction damage tangling',\n",
              " '-PRON- love design signature plunge bra fully pad underwired style design provide support uplift -PRON- make entirely silk satin include underband cup lining shoulder strap silk cover upper cup decorate gorgeous lace cool handwash reshape whilst damp allow dry naturally satin silk elastane lace nylon skilfully handcraft emma harris atelier derbyshire england',\n",
              " '-PRON- look leave feel high dry anchor away captain new occasion await set silver anchor cufflink bring -PRON- quite opposite -PRON- iceberg proof gravity defiant feel urge paint -PRON- like -PRON- french cufflink brass silver coating engrave logo',\n",
              " 'pant high waist pleat -PRON- loose thigh narrow leg downwards waist emphasize belt cover fabric buckle comfortable pocket perfect match blazer samantha true red dry clean iron c composition viscose polyester elastane',\n",
              " 'simply design pendulum cross distinctly offer edgy rock chic vibe sophistication material silver color white gold measurement l mm gift ready brand cotton gift bag include pendulum traditionally use harness subconscious treasured item mind -PRON- inspire -PRON- create -PRON- p d l collection embellish sense equilibrium edgy style modern aesthetic p d l connect pendula design',\n",
              " 'handmade necklace make acrylic wood straw metal -PRON- s hand mold create love creative people make brasil piece special -PRON- perfect mix match material make important personality fashion olivia palermo wear -PRON- necklace available cream color cleaning use dry cloth mesh prevent surface scratch avoid prolongued contact alcohol perfume cosmetic salt chlorinated water',\n",
              " 'luxurious black velvet handcraft dark blue glass bead -PRON- s soft build -PRON- win t push hurt -PRON- head wear handmade london',\n",
              " 'linen slightly crop length self fabric cover button high quality silk thread wear shirt outer make south korea linen dry clean',\n",
              " 'kore skirt exciting contemporary traditional line midi -PRON- make use panel gorgeous grey white striped cotton meticulously sew create clean line sharp angle contrast drape soft fabric skirt finish elasticated waist make striped cotton -PRON- passionate create clothing sustainable stylish garment make zero waste use certify organic c',\n",
              " 'make sterling silver bracelet hand set multifaceted white zircon sagittarius celebrate birthday november december finish lobster clasp size adjuster available ct rosegold gold plating clean damp cleaning cloth avoid prolong contact perfume hand cream soap',\n",
              " 'make sterling silver necklace hand set multifaceted white zircon leaf clover uncommon variation common leaved clover accord tradition leave bring good luck -PRON- finder especially accidentally addition leaf believe represent faith second hope love fourth luck ct gold plating finish lobster clasp size adjuster',\n",
              " 'contemporary ring unique square shape design superior comfort allow -PRON- perfectly stack ring set ct rise gold vermeil sterling silver finish man make diamond perfect wear stack opes robur stack ring designer piece craft use fine material suitable sensitive skin s box rise gold stacking ring opes robur designer box set jewelry pouch certificate authent',\n",
              " 'life perpetually motion pause gaze stream event element pass notice -PRON- rivulet design viscosity collection inspire endless triviality life -PRON- inspire way people act react triviality daring delicate necklace make sterling silver carefully polished perfection hand polish sterling silver approximately mm wide mm',\n",
              " 'gold plate brass balance karma strengthen relationship purity generosity integrity bring loyalty -PRON- wearer semiprecious stone magic earring dress ready receive lot compliment true statement piece perfect gift packaging handle care',\n",
              " 'lovely necklace set sterling silver feature heart chain necklace pull heart silver necklace extension hoop lobster clasp express -PRON- write -PRON- story make meaningful gift say -PRON- heart belong -PRON- love -PRON- love -PRON- sweetheart piece handmade -PRON- artisan craftsman use fine precious metal -PRON- jewellery ethically make accord stric',\n",
              " 'love -PRON- natalie short sleeve round neck blue white leaf match -PRON- silk palazzo pant -PRON- style jean short main composition silk size fit cut comfortable fit garment length measure cm model wear size uk garment care specialist dry clean',\n",
              " 'ct gold plate half circle hammer disc attach flexible connector lead beautiful semi precious yellow agate half circle encase gold plate framing pushback close ct gold plate brass semi precious stone yellow agate handcraft istanbul turkey inspire kolonya traditionally lemon scent fragrance use refresher perfume antiseptic turkish home depict lemon shape wedge jewelry ct gold plat',\n",
              " 'baguette diamond carve tourmaline earring -PRON- bold combination pure geometric motif natural form ri noor line express sense brilliance originality piece start passion gem discover beauty irregularity imperfection natural stone precious semi precious gem accent unique setting craft k k gold rhodium plate silver stunning look easily transition fro',\n",
              " 'natural beauty dark blue lapis lazuli wondrous sky night make perfect drop sparkling star constellation zodiac pendant necklace reverse pendant equally beautiful feature cut star lapis lazuli peep engraved -PRON- star sign elegant capricorn birth sign pendant necklace perfect covet delicate jewellery add sparkle gold dip sterling silver encase disc l',\n",
              " '-PRON- kiss charm bead bracelet perfect mix delicate edgy make -PRON- truly unique accessory clean dry clean cloth natural white zircon gold plate sterling silver wisteria mix dye agate',\n",
              " 'small beautiful absolute -PRON- piece wear evening day guarantee draw s attention vegan minibag utmon es pour paris elegantly sleek structured crossbody simply necessity life s great adventure petit minibag offer simple classic design necessary feature great crossbody bag light yellow interior offer plenty storage space detachable golden chain -PRON-',\n",
              " 'zero waste reversible unisex jacket handcraft warm wool fabric feature raw edge oversized neck angular design sustainably create local deadstock fabric source fabscrap wear -PRON- jacket extra warmth winter sweater fall ethically produce new york use zero waste design principle -PRON- true square tree plant garment sell dry clean',\n",
              " 'unique double strand short necklace make deep purple natural baroque smoky quartz japan golden plated brass finding wear -PRON- day night occasion look beautiful stunning nice gift birthday anniversary festival -PRON- contain nice jewelry box packed',\n",
              " 'handmade acrylic earring light modern cleaning use dry cloth mesh prevent surface scratch avoid prolongued contact alcohol perfume cosmetic salt chlorinated water',\n",
              " 'season -PRON- offer discover -PRON- new color colar pink dress bring fresh seductive energy perfect fit warm summer day city straight silhouette shoulder strap long skirt deep split subtle open coral pink viscose polyester elastane cold hand wash',\n",
              " 'twirl midi wonder cut half circle ensure twirl power dress -PRON- strappy sandal silk cami dance night away -PRON- favourite tee trainer brunch city simple striking silk sandwashed satin rusty orange high waist zip dry clean',\n",
              " 'vintouch s roma collection explore mastery roman jewelry craftsmanship contemporary point view ring handmade gold plate silver feature red carnelian stone understate elegant wear day night cast karat gold sterling silver micron thickness protect gold plating natural oxidation micron palladium plate apply gold plating process palladium anti oxidizing precious metal -PRON- suggest avoi',\n",
              " 'set -PRON- inner goddess free divine statement boho luxe inspire pearl necklace feature multiple freshwater keshi pearl finish k gold shell detailing adjustable chain allow -PRON- wear miranda different length fabulously highlight -PRON- d colletage packaging order come beautifully package white soft pouch brand box polish cloth tissue paper care card quality care -PRON- jewellery design enjoy day whe',\n",
              " 'meet luciana wrap dress feminine silk dress silhouette fix wrap tie belt waist cinch -PRON- hide zip fastening ensure perfect fit style dip hem elegantly sweep knee dip calf hem delicate flutter sleeve offer feminine coverage arm print understated ditsy floral black ground dress extremely versatile style perfect year round dress',\n",
              " 'ready festival season eb unisex canvas bum bag easy adjust wearer plenty pocket ensure practical piece remain stylish organised adjustable weave waistband metal clip fasten suede yellow embroil tag portable piece boast plenty zip pocket key possession cotton suede soft clean cloth squeeze excess liquid blot away',\n",
              " 'reflective articulate beam linear etching catch light hand hammer fringe add organic aesthetic inorganic design flutter treasure light air ear instantly brighten -PRON- complexion finish bezel set rainbow moonstone cabochon good juju hand fabricate sterling silver post friction polish silver rub gently dry jewellery polishing cloth avoid expose moonstone causti',\n",
              " 'myth french girl siene fringe earring similar ease long earring feature elongate chain fringe cascade neck decorate pav charm rest small hoop opening french inspire piece worldly appeal good care remove -PRON- jewelry daily wear wipe -PRON- piece soft cloth remove impurity store airtight bag -PRON- wear',\n",
              " 'new -PRON- favourite pebble necklace piece feature delicate semi precious gemstone pebble diamond set centre special piece add luxury -PRON- everyday look curio diamond mini pebble necklace lobster clasp fasten extension alter length clean dry clean cloth product metal rhodium plate sterling silver stone blue lace agate fasten lobster clasp',\n",
              " 'conquista viscose elastan fabric print fabric waist solid colour waist sleeveless round neckline loose fit length size s cm viscose elastan gentle machine wash turn garment inside cold water mild detergent iron reverse tunble dry bleach',\n",
              " 'pair hallmarke solid sterling silver hexagon drop earring modern statement earring mm hexagon stud link large mm diameter hexagon deep linear abstract hexagon pattern earring come large silicon sterling silver ear nuts add security support piece -PRON- collaboration artist leah hewson eoxlh include complimentary edge maintain -PRON- edge silver polishing cloth model gold vermeil scal',\n",
              " 'slim fit cotton shirt showcase feminine elegant fit showcase lace sleeve detailing beautiful style accentuate waist cut follow curve woman s silhouette sophie cameron davies cotton shirt luxuriously hand finish -PRON- custom make gold edge button cotton polyamide dry clean cold hand wash',\n",
              " 'bloomsbury bangle heart academic london sage blue glossy enamel emboss raise silver lettering inside silver plate shell whistle bango logo engrave inside -PRON- bangle arrive gorgeous little black gold box stainless steel gold plate bangle enamel resin avoid prolong contact water chemical product e g soap perfume abrasive product avoid impact hard surface',\n",
              " 'jimba s signature hobo bag feature oversized silhouette knotted shoulder strap perfect everyday bag piece big store -PRON- daily essential champagne color silk hobo bag silk shantung knot shoulder self strap cm strap drop approximately dip open interior cotton lining zip pocket jimba embossed logo handmade bag come dust bag dry clean',\n",
              " 'code ace gross weight gms gold purity kt gold weight gms silver purity sterling silver weight gms diamond weight ct jewelry make hand feature detailed workmanship careful avoid drop bang physical impact result damage piece include stone fall care -PRON- jewelry caution away harsh chemical perfume water -PRON- wipe clean polishing cloth maintain',\n",
              " 'lovingly design handmade necessary vintage feel ensure -PRON- s perfect everyday satchel -PRON- use -PRON- signature suntanne leather work design leather continue develop rich patina use -PRON- comfortably fit daily essential shoulder strap adjustable inside dark green canvas lining zip pocket sale -PRON- guarantee provision school bag cambodian child need awesome char',\n",
              " '-PRON- luna collection entire handmade gold vermeil luna rhodolite garnet gold chain bracelet wire wrap hand make bracelet ideal want layer size approx cm long open flat material k gold sterling silver gold layer micron time gold plate jewelry gold layer micron define federal trade commission vermeil rhodolite garnet gemstone mm faceted',\n",
              " 'reneta sweater fuchsia polish product handmade create manual machine craftsman warmia sweater make high quality polish yarn bite nice touch skin friendly sweater s versatility translate fact -PRON- include everyday sport elegant style wedding party -PRON- personalize sweater product tailor -PRON- need -PRON- request -PRON- lengthen shorten narrow widen change color add pocket',\n",
              " 'double strand necklace make gray freshwater pearl natural malachite japan golden plated brass finding -PRON- s beautiful elegant matching midi dress blouse knitwear look gorgeous nice gift birthday anniversary festival -PRON- contain nice jewelry box packed',\n",
              " 'ct gold plate silver earring french hook stunning single drop earring feature multi faceted citrine hydro crystal suitable pierced ear french hook item present l telita signature jewellery box clean damp cleaning cloth avoid prolong contact perfume hand cream soap',\n",
              " 'ancient europe people believe topaz break spell quell anger -PRON- surely believe beauty spell yellow topaz november birthstone earring cast unbreakable apart bring wisdom longevity s life november birthstone bring vogue -PRON- wardrobe elegant pioneer jewel -PRON- buy topaz online form earring -PRON- life poise grace set ct white gold',\n",
              " 'pebble shape ct gold vermeil pendant come adjustable chain alter -PRON- desire length use slider mechanism make -PRON- easy team necklace layered look pendant come beautifully engrave word love handwritten font pendant wear way enable engraving katie belle jewellery sterling silver carat gold vermeil plate sterling silver kee',\n",
              " 'mellaris sorena dress drc autumn pink sorena dress perfect addition -PRON- workwear wardrobe notice delicate cuff sleeve panel bodice make dress sophisticated subtly elegant -PRON- hand select crepe material -PRON- visual appeal -PRON- s practicality ensure -PRON- dress fitted comfortable body sculpting panel knee length fully line wash care hand wash separately dry clean gentle main fabric',\n",
              " 'make sterling silver bracelet hand set multifaceted white zircon virgos celebrate birthday august september finish lobster clasp size adjuster available ct rosegold rhodium plating clean damp cleaning cloth avoid prolong contact perfume hand cream soap',\n",
              " 'high waist wide legged panta palazzo pant lateral zip make soft satin italian cotton design s elegant stripe make perfect bella vita outfit wear -PRON- fresh white linen shirt capri sandal satin cotton machine wash c wash iron separately inside expose direct sunlight long',\n",
              " 'collection s signature sunday crop handcraft athens greek cotton timeless white -PRON- carefully study handmade designer greek skilful artisan cotton fabric manufacture nafpaktos beautiful village southern greece -PRON- s cut crop -PRON- look best coordinate midi skirt collection sit high waist cotton delicate cold handwash dry clean',\n",
              " 'tree great example people lose hope -PRON- shed -PRON- leave reopen spring special icon baja k pendant remind -PRON- -PRON- hope flourish -PRON- reason start -PRON- day hope k gold ct sapphire',\n",
              " 'elegant black suede pump decorative jewel insole outsole genuine leather hand craft italy upper suede leather insole leather outsole leather',\n",
              " 'tell diamond unless -PRON- crazy tell -PRON- simple beautiful chora circle necklace available gold vermeil sterling silver look fabulous inspire -PRON- favourite church istanbul drip mosaic fresco piece catch eye -PRON- wear -PRON- jean theatre -PRON- look wonderful layer long necklace -PRON- sofia jaipur necklace par',\n",
              " 'beautiful clover necklace s attention contemporary design accent pave set cubic zirconia stone perfect layering beautiful -PRON- make sterling silver rhodium plating finish avoid contact chemical product fragrance detergent substance tarnish precious stone material -PRON- use mild detergent warm water clean pat dry soft lint free cloth mind extensive exposure t',\n",
              " 'sleek ultra chic diamond hollow tusk pendant rest smoothly breastbone create sophisticated glow outfit contemporary necklace handcraft gold dip sterling silver hand set rise cut diamond add touch everyday luxury diamond th anniversary gemstone birthstone april make excellent personalised birthday gift symbol purity diamond bring love clarity partnership bonding relationship',\n",
              " 'sea inspire shell earring -PRON- seasonal wardrobe -PRON- love -PRON- enjoy sandy beach ocean wave porcelain shell mould handcraft natural clamshell shell hand paint gold lustre necessity making process small area shell unglaze consider -PRON- defect handmade denmark -PRON- vary slightly piece piece handmade porcelain gold l',\n",
              " 'alps backpack practical stylish option day use make soft tan leather antique finish hardware -PRON- serve -PRON- -PRON- commute office weekend -PRON- come main spatial compartment padded laptop sleeve fit inch laptop adjustable strap make -PRON- particularly comfortable carry wipe clean dry cloth remove dust',\n",
              " 'red enamel pill pendant cast sterling silver ct rise gold plate come rose gold plate bead chain ct rise gold plate sterling silver avoid natural oxidisation -PRON- jewellery -PRON- box wear clean soft cloth',\n",
              " 'wide armhole maxi dress scarf collar drawstre waist cuff button closure -PRON- product handmade slight variation expect make kind unique consider -PRON- defective garment make sustainable production viscose machine washable degree',\n",
              " 'house design unique style statement add class -PRON- wrist stylish companion feature scissor hand -PRON- alore collection effortlessly emphasise -PRON- individuality mm case diameter mm band width rise gold mesh strap iprg plating rise gold dial stainless steel atm water resistant year warranty share atm water resistant',\n",
              " 'ultimate lst aka little silver wear -PRON- -PRON- fav jean silk pant tuck maxi twirl cut bias fluid silk satin -PRON- drape effortlessly turn slightly hemline fun flirty finish sand wash satin silk silver cut bias effortless drape hip length silk dry clean',\n",
              " '-PRON- oval ring play masculine style signet ring smooth line finely cut swarovski stone -PRON- light feminine modern classic silver crystal colour combination enhance outfit need extra bit sparkle handmade uk swarovski crystal stone stone size x mm',\n",
              " 'luxury silk scrunchie -PRON- hair nice soft split end print make -PRON- appealing gift able cute gift box silk cold wash',\n",
              " 'rejoice flare trouser make cycle fabric surplus factory material leave previous collection -PRON- source fabric use -PRON- -PRON- collection -PRON- new life love trouser flare silhouette high waist -PRON- come beige pink upper panel angled pocket belt wide belt loop trouser fasten jean button matching',\n",
              " 'code ops gross weight gms gold purity kt gold weight gms gemstone lapis opal ethiopian melon tourmaline turquoise gemstone weight ct diamond weight ct jewelry make hand feature detailed workmanship careful avoid drop bang physical impact result damage piece include stone fall care -PRON- jewelry caution away harsh chemical perfume',\n",
              " '-PRON- bouquet drop nod pretty spring bloom long drop ivory pearl sweet delicate like fresh cut lily bloom -PRON- wear day make k gold plating brass hypo allergenic post freshwater pearl pearlized glass increase longevity jewelry clean dry use soft cloth avoid wear -PRON- jewelry shower exercise wear apply perfume hairspray protect -PRON- piece rain humidity',\n",
              " 'city line introduce high impact colour combination new angle establish form taste tempting pair earring bring wearer time swinging -PRON- craft sterling silver set synthetic electric turquoise white cubic zirconia wear -PRON- shift dress silhouette geometric print instantly complete look style earring coordinate necklace ring collection latch fasten pierced ear',\n",
              " 'dress perfect -PRON- summer holiday fabulously craft panel fabric dress super flattering wonderfully comfortable -PRON- love piece style summer occasion perfect bit beach bar glamour composition viscose crepe gold lurex cool machine wash wash colour seperately',\n",
              " 'sharp edged cut design make switzerland design london los angeles mazarin uncompromising statement growth hybrid black x rose offer elegant combination strike x understate sapphire crystal eta g chronograph movement leather strap stainless steel case swiss make year warranty watch clean soft cloth water band replaceable rd party band cover product warranty',\n",
              " 'diamond baguette ruby opal linear earring -PRON- bold combination pure geometric motif natural form ri noor line express sense brilliance originality piece start passion gem discover beauty irregularity imperfection natural stone precious semi precious gem accent unique setting craft k k gold rhodium plate silver stunning look easily transition fro',\n",
              " 'craft k rise gold sterling silver necklace elegant versatile perfect everyday wear available length suit -PRON- style material k rise gold sterling silver size pendant approx mm mm length chain cm extension cm necklace present myia s brand box ready gift material k rise gold sterling silver make london',\n",
              " 'stay cool comfortable season super soft organic cotton t shirt flatter season style easy match wardrobe piece lasting versatility complement timeless sense style feature eye catch embroider bee short sleeve add effortless style help arm cool neutral white choice add versatility closet available black grey embroider london organic cotton machine wash o',\n",
              " 'inspire fox fur nebula locate monoceros celestial fox fur earring create impress glow central sky blue topaz contrast texture sterling silver gemstone fox fur earring reflect blue light young star elegant contrast bold centre motif create perfect look daily night wear choice make start finish -PRON- london workshop celestial fox fur earring add different twist',\n",
              " 'ivana luxury knitted cape -PRON- favourite piece aw season make sumptuous merino wool cozy coverup knit geometric intarsia border -PRON- loose silhouette perfect layer sweater -PRON- internal belt -PRON- fasten lose shape wear -PRON- chic alternative coat mild day belt fastening style adriana maxi ribbed knit dress merino wool dry clean',\n",
              " 'stunning little acorn oak leaf bracelet craft hand solid sterling silver adjustable chain -PRON- sit perfectly wrist stylishly finish outfit match jewellery lucy flint jewellery collection come beautifully package lucy flint jewellery brand box make solid sterling silver clean -PRON- silver jewellery regularly jewellery cloth dip -PRON- sparkle chemical beauty product perfume cause',\n",
              " 'flattering cut bias adjustable shoulder strap camisole make handmade mulberry silk central vietnam silk essential piece -PRON- use way wear -PRON- kaftan kimono jacket short vacation wear -PRON- suit jacket skirt office hour good people fengshui sign metal earth slip silk dry clean hand wash mild soap cold water',\n",
              " 'unisex elegant asymmetrical harem sweatpant make soft sustainable micromodal black modern luxurious pant bring comfort style -PRON- everyday wear make feel love ethic nyc micromodal spandex wash cold hang dry lay flat',\n",
              " 'handmade ct dip gold black onyx design ireland jane style tip complete -PRON- look layer -PRON- hoop -PRON- leanna necklace personalize blanche necklace emma jane jewellery handcraft use high quality material -PRON- receive -PRON- beautiful jewellery recyclable jewellery box -PRON- design -PRON- store -PRON- jewellery -PRON- jewellery box double perfectly protect -PRON- jewellery travel -PRON- like tell ou',\n",
              " 'sweet looking slip complex meet eye hide underband close hook eye unwired cup fit provide light support soft lace lay upper cup shoulder strap silk cover feature keyhole opening underband cool handwash reshape whilst damp allow dry naturally satin silk elastane lace nylon skilfully handcraft emma harris atelier derbyshire',\n",
              " 'soft make italy colori navy pyramid organic cotton sock craft high quality long staple brush organic cotton feature aztec inspire design intricate pyramid inspire design vibrant colour combination make sock easy way add pop colour outfit wash inside low temperature certify organic cotton nylon elastane make italy',\n",
              " 'modern art deco safety pin earring inspire architecture historic hotel south beach specifically century hotel earring mm x mm feature clear cz s tarnish resistant heavy k gold brass -PRON- jewelry away follow help -PRON- jewelry stay gorgeous oil hair product perfume soap detergent chlorine salt water remove showering store baggie provide wear',\n",
              " '-PRON- cradled pearl drop earring effortlessly elegant contemporary pearl occasion craft sterling silver finish freshwater pearl approximate overall length cm away liquid',\n",
              " 'arnaud soulignac claire naa designer paris inspire beauty japanese paper fold s art decide create origami jewellery craft france -PRON- design include elegant swan sterling silver suspend cm long chain avoid contact chemical soap perfume water -PRON- jewelry -PRON- bag protect humidity avoid natural oxidation finally -PRON- shine let -PRON- jewel -PRON- b',\n",
              " 'uniquely beautiful make gorgeous bezel set -PRON- love simple design hand cut salt pepper diamond slice ring piece completely unique individually image good representation piece -PRON- guarantee exact shape -PRON- receive -PRON- gorgeous stacking item -PRON- love delicate look wear -PRON- -PRON- make solid karat yellow gold diamond april s birthstone know symbol purity',\n",
              " 'long weekender tee combine eco dri release polygiene anti odor technology ultimate t shirt -PRON- wear friday morning sunday night wash craft family run factory portugal luxurious t shirt make eco blend dri release yarn luxury cashmere s moisture wicking fast drying -PRON- s treat polygiene -PRON- wear wash -PRON- silver anti odor technology -PRON- recommend wee',\n",
              " 'natural color mini knot bag straw fabric interior cotton lining interior slip pocket jimba embossed logo handmade bag come dust bag dry clean',\n",
              " '-PRON- long sleeve silk blouse generous neckline patch pocket chest -PRON- ve design polka dot -PRON- slightly irregular purpose make -PRON- unperfect lovely design feel light airy -PRON- ivory silk blouse comfortable piece perfect wear spring -PRON- live hot climate region summer -PRON- live north additional shirt collar placket sew gorge cm trim small yoke',\n",
              " 'enugo s pilar pant classic straight leg trouser chunky fabric craft stretchy textile ultimate comfort unique detailing include fabric cover button short slit -PRON- match -PRON- tigre blazer kind business look professional dry cleaning recommend iron max degree tumble dry bleach fabric polyester viscose elastane',\n",
              " 'beautiful simple stud characterful mismatched expession evoke awake snooze mode earring carat gold plate light weight suitable pierce ear base metal surgical steel allergy free earring cm exclusive milk tooth collaboration artist maria ines gul celebration thing female pair earring arrive beautifully package bespoke individual box earring carat gold plate light weight',\n",
              " 'beautifully intricate lobster charm katie mullally animal collection detailed tail claw feature fun quirky charm collectable kmm piece sure turn head lobster charm wear inch sterling silver curb chain layer piece charm chain solid sterling silver katie mullally charm handmade uk hallmarke london assay office unique kmm hallmark guarantee',\n",
              " 'form long drop cradle freshwater pearl sleek contemporary pearl designer earring adorn zirconia accent vast zirconia make earring hypnotic -PRON- dazzling effect -PRON- catch light day night purity earring make -PRON- idea finish touch evening bridal wedding attire earring make impact comfortable wear pierce earring post butterfly fastening ste',\n",
              " 'mega blackout sleep peacefully stylish luxe silk sleep mask feature letter j illustrate super soft wadding pipe trim soft silk good sleep gentle hand wash cold water',\n",
              " 'glorious large texture sterling silver stud earring handcraft -PRON- london studio process lose wax casting surface reflect light edge curl slightly inwards like gentle wave bold size earring light wear thetis leader mythical sea nymph patron sailor fisherman deborah s passion swimming restorative power water begin child live sea swimming -PRON- stre',\n",
              " 'flooid bear past curate present make inclusive future pendant lovingly remake vintage casting originally design london s s -PRON- rebellious timeless classic style buffalo -PRON- way choose leather thong option chain necklace layer -PRON- chain -PRON- minimalist -PRON- decide style stay hand make uk sterling silver plate real leather',\n",
              " 'design ideal love statement jewellery make floral inspire earring finish touch special occasion outfit flower adorn baroque pearl change light -PRON- iridescence sterling silver dip ct rosegold aaa grade ruby cubic zirconia baroque pearl pierce earring post butterfly fastening style note evening wear cocktail party black tie material sterling silver dip ct rosego',\n",
              " 'stud contemporary aesthetic minimalist design handmade stud set sterling silver feature baguette cut london blue topaz gemstone geometric stud earring compliment outfit perfect day eveningwear fine jewellery everyday original designer piece handmade ethically produce -PRON- artisan craftsman use fine precious metal -PRON- jewellery present brand neola box stud t',\n",
              " 'kt rise gold multi sapphire woman band ring handmade jewelry gross weight gms gold purity kt gold weight gms silver purity silver weight gms gemstone sapphire gemstone weight ct diamond weight cts jewelry make hand feature detailed workmanship careful avoid drop bang physical impact result damage piece include stone fall care -PRON- jewelry caution away harsh chemic',\n",
              " 'limited edition exclusive wolf badger gorgeous sunny yellow velvet bag feature stunning embellish heart eye catch attention use -PRON- make hair accessory travel use -PRON- funky clutch style -PRON- fave outfit gorgeous luxury velvet bag silky soft touch stylish feature dressing table bag fully line feature match colour zip make beautiful gift style queen gentle hand',\n",
              " 'real chameleon woman -PRON- present casual fun way -PRON- romantic emotional woman -PRON- know -PRON- want shoulder handbag leather pine green color synthetic white shearling yellow textured leather golden pin inner pocket -PRON- use -PRON- maria maleta mini bucket choose -PRON- favorite just pull strap opposite direction -PRON- bag different mix color make portug',\n",
              " 'imply literally darling -PRON- wardrobe -PRON- darling -PRON- want wear lunch dinner drink dance resemble prim structure beautifully drape sleeve button wrist make -PRON- fluid fabulous make luxurious silk satin darling just short ankle pretty versatile -PRON- struggle think place -PRON- wouldn t fit red printe',\n",
              " 'mix day extraordinary metallic gold dress feature v neck wear plunge add drama outfit double dimension fit sleeve volume sparkle sheen fabric fluid gold foil coat jersey nude base layer invisible seam line neckline dress look amazing boot heel trainer flattering figure make london uk polyester elastane',\n",
              " 'lavender dreamer recalcitrant oh graceful cross bag kartu -PRON- curious member -PRON- family perky ready romantic walk city short trip provence gently lively -PRON- fly slightly lift ground sharp eye notice bag insensibly fascinate hellip silence -PRON- feel -PRON- inside cross body -PRON- polyester mix lining leather pocket -PRON- phone key lavende',\n",
              " 'feel specail k rise gold',\n",
              " 'sophisticated elegant leather damask envelope come gorgeous red lining magnetic closure pocket detachable metal strap bag internal zipper pocket detachable leather tassel augment hand carve xinjiang jade love knot key feature hand carve xinjiang jade detachable leather tassel internal zip pocket removable metal chain length cm -PRON- recommend following protect maintain -PRON- desti saint handbag store -PRON- leathe',\n",
              " 'lovely statement earring handmade -PRON- workshop -PRON- make sterling silver coat ct gold vermeil petal hand engrave center earring embed amethyst earring embed pink tourmaline dimension mm earring hook x mm wide limited edition handmade jaipur india sterling silver coat ct gold vermeil embed amethyst tourmaline store -PRON- jewellery',\n",
              " 'charming little word script necklace feature word love set sparkle white sapphire gorgeous necklace simple understated unique eye catch time love charm suspend fine quality rolo chain available range chain length make ct hard gold plate sterling silver white sapphire wear -PRON- jewellery sport swimming sleep remove apply perfume deodorant cosmetic',\n",
              " '-PRON- neckline boast brilliance diamond inspire -PRON- meticulously craft beautifully style diamond zodiac necklace pretty petite elegant gemini birth sign pendant necklace perfect covet delicate jewellery extra sparkle gold dip sterling silver handset white round brilliant diamond add touch everyday luxury gemini celebrate birthday june make ideal personalised birthday',\n",
              " 'beautiful heart arrow charm necklace just perfect valentine s day romantic gift gorgeous necklace make sterling silver -PRON- feature lovely solid charm heart arrow charm carve wax send casting -PRON- hand carve machine make -PRON- endearing quality feel -PRON- -PRON- just perfectly charming necklace length -PRON- extension chain adjustment wea',\n",
              " 'versatile jacket imbue contemporary charm feel fresh relevant new season ahead beautifully craft lightweight viscose linen -PRON- redefine classic parka shape retain -PRON- innate wearability utilitarian inspire drawstre waist detachable hood flap pocket ensure piece practical -PRON- elegant composition linen viscose dry clean',\n",
              " 'make sterling silver bracelet hand set multifaceted white zircon leo celebrate birthday july august finish lobster clasp size adjuster available ct rosegold rhodium plating clean damp cleaning cloth avoid prolong contact perfume hand cream soap',\n",
              " 'craft sterling silver initial l precision engrave myia s geometric font traditional inspire round signet ring perfect personalised gift ideal everyday wear ring present myia s brand box ready gift material sterling silver uk hallmarke',\n",
              " 'striped blue deconstruct elaborate construction shoulder panel lace make striped pure silk italian cotton light blue wrap material -PRON- slip silhouette adjustable strap ruffle strap -PRON- want classic cut flattering wrap silhouette tie define -PRON- shape wear -PRON- linen beige checkered button pant presentation composition silk cotton wash carefully hand',\n",
              " 'girly frill adorn bow shoulder strap shape perfect set tapered pant wear -PRON- daily basis meeting friend -PRON- make good quality cotton cotton elastan wash degree',\n",
              " 'pretty bracelet make freshwater pearl red coral japan golden plated brass finding -PRON- match outfit day night look stunning lovely gift birthday anniversary festival -PRON- contain nice jewerly box packed',\n",
              " 'perfect everyday layer necklace -PRON- enamel necklace impression moonlight water -PRON- great necklace summer -PRON- s mesmerizing color k rise gold ct white diamond ct white diamond',\n",
              " 'make statement monte carlo earrings inspire glitz glam beautiful french coast organic shield hand set latelita signature zircon catch light reminiscent sparkle ocean pierce earring post butterfly fasten great pairing st tropez ring material sterling silver dip ct gold oxidisation enhance feature handset micro pave aaa grade emerald cubic zirconia packaging item present',\n",
              " 'asymmetric long sleeve shirt dress cutout shoulder pocket talented signature button chest area different color easy iron cotton mashine wash c',\n",
              " 'gloria ring inspire -PRON- favorite feminist gloria steinem classy beautiful strong ring pack punch -PRON- unusual juxtaposition band large rectangular setting mm x mm black onyx black onyx gemstone believe help absorb transform negative energy help prevent drain personal energy wear protect -PRON- jewelry knock scratch chemical harsh light extreme temperature -PRON- recommend remove jewel',\n",
              " '-PRON- want look professional head toe -PRON- head office step hour flight directly meeting wide elastic band feel bootie ease slip particular style mm eco ortholite padding add insole forepart cushioned stride -PRON- anti slip emboss rubber forepart prevent tip outsole wear create buffer -PRON- ground sleek gold foil outso',\n",
              " 'let baguette bracelet -PRON- new wardrobe staple ideal love delicate jewellery gemstone bracelet feature rectangular cut cabochon space fine chain available variety colour bracelet look chic pair jean blouse finish touch evening look bracelet lobster clasp station fit majority wrist size great pairing baguette necklace material sterling silver dip ct rise',\n",
              " 'raven black brixham silver round leather bracelet design skilfully handcraft completely great britain quality -PRON- trust modern journeyman woman anchor crew ownership exploratory lifestyle enjoy happy good life combine british craft manufacturing discern modern minimalist style genuine natural round shape smooth leather gb secure solid sterling silver facet arrow shape clasp match angled cla',\n",
              " 'midnight fine cashmere blend scarf eyelash hem atmospheric scarf feature ethereal print photographic hand illustrate element magical scarf include gravestone mystical branch worldly misty midnight sky cashmere modal make england dry clean',\n",
              " 'k yellow gold single diamond baguette solitaire fragile nature',\n",
              " 'saskia make silk purple hand paint print feature hide button stand wide cuff zebra print come wide ribbon neckline bow fabric silk wash dry clean',\n",
              " 'lovely double hoop earring set sterling silver feature intertwine hoop hoop distinctive hammer texture contrast smooth polished hoop hoop small blue topaz gemstone place inner circle unity shape symbol friendship love express -PRON- write -PRON- story make meaningful gift say forever earring handmade -PRON- artisan craftsman use fine',\n",
              " 'diamond triangle shape helix cartilage lobe earring accent high quality natural white diamond diamond stud perfect example high end pierce jewellery good choice multiple ear piercing combination -PRON- ready remove earring -PRON- need use -PRON- hand make sure hold earring -PRON- doesn t lose grab end similar way twist appropriate direction backing compl',\n",
              " 'experience glowing shimmer -PRON- deep v turquoise satin dress instantly transform -PRON- fashion pure luxury feminine v neck smooth fabric -PRON- look feel effortlessly confident -PRON- dinner party fancy event special occasion enriching style dress -PRON- steal -PRON- feature deep v exude confidence long sleeve stylish layer fashion masterfully weave premium satin fabric',\n",
              " 'elegant silk camisole trim delicate lace perfect multiple occasion -PRON- s elegant wear different event include -PRON- ceremony city alternatively pair -PRON- jean create effortlessly chic look adjustable strap opt custom size standard size -PRON- easy clothe make especially -PRON- fabric upcycled silk lace upcycled polyamide viscose dry cleaning',\n",
              " 'raha hand embroider bomber mink coat quilted panel design embellish coat deep v neck functional pocket -PRON- fully line metallic zip centre fasten modal wash inside gentle hand wash bleach iron low dry cleaning recommend tumble fabric -PRON- hope -PRON- love beautiful hand embroider garment delicate nature thread beadwork handle care care',\n",
              " 'cuff represent statement piece katarina cudic s new collection really make difference accent -PRON- uniqueness piece completely handmade use silver make kt yellow gold adaptable easy wear cuff suitable daytime evening wear katarina cudic s jewelry handcraft silver k yellow gold handle love -PRON- piece retain -PRON- beauty year come -PRON-',\n",
              " 'camisole wrinkle resistant cotton blend voluminous ruffle cut crispy fabric burn orange stripe crop look -PRON- good wear high waisted pant skirt extra slim strap slightly oversized silhouette add beachy feel style -PRON- comfortable sandal layer white tee create cool city look spring summer runway collection composition polyester cotton polyamide elastane lining',\n",
              " 'reversible backpack different special design dark green suede camel leather dark green elastic adjustable strap inner pocket make portugal backpack fit laptop -PRON- use -PRON- backpack way just pull strap opposite direction elastic -PRON- backpack different mix color -PRON- girl love travel new place spend lot time outside s',\n",
              " 'inspire magic halo surround -PRON- myth unicorn cameo ring symbolize endless opportunity life reserve -PRON- intend express wearer s dreamer hand carve unicorn cameo bezel set sterling silver unicorn cameo signet ring present vintouch italy signature package carve cameo porcelain socially responsible decision specie shell use work traditional cameo consider',\n",
              " 'beautiful pendant necklace handmade represent constellation capricorn tiny hole drill map constellation sparkle white sapphire contrast size hand flush set sparkle like star pendant make mm sterling silver lightly hammer smooth create classy high quality finish wear -PRON- jewellery sport swimming sleep remove apply perfume deodorant',\n",
              " 'cubic zirconia triple bezel charm hoop earring sell pair hoop ct yellow gold vermeil hoop outside diameter mm x mm thickness hoop inside diameter mm cubic zirconia charm mm w x mm h cubic zirconia stone charm hinge huggie hoop gift ready brand cotton gift bag include earring make use sterling silver plate ct gold vermeil high coverage plating available -PRON- finish clear e coating',\n",
              " 'form superior marine grade l stainless steel hand build -PRON- portland works workshop sheffield place harry brearley invent stainless steel bailey sheffield cable trade bracelet construct lifetime -PRON- bailey sheffield clean cloth -PRON- need occasionally rejuvenate -PRON- jewellery time -PRON- need wash -PRON- bracelet -PRON- suggest -PRON- mild detergent warm water -PRON-',\n",
              " 'ostwald traditional craft -PRON- nostalgic collection -PRON- seek creative confrontation tradition modernity let luscious varied creation emerge touch nostalgia authenticity great love favourite piece value -PRON- design classic estelle simple elegant timeless -PRON- magnetically underlaid collar closure -PRON- bag model open gracefully like precious object short carrying handle cleverly recess -PRON- fit',\n",
              " 'dress -PRON- wrist fun elegant cuff craft sterling silver cuff feature natural genuine diamond carat diamond use micro plate micro pave setting cuff plate kt rise gold vermeil piece long shelf life cuff mm long mm wide cuff thickness range mm mm cuff beautifully present inspirational poem home write luvmyjewelry founder',\n",
              " 'perfect print -PRON- ve champion polka year dotty dress far -PRON- favourite way wear trend winslet dress come effortless fit require little styling make -PRON- look chic ideal throw just add boot trainer -PRON- choice outer layer trust -PRON- -PRON- love -PRON- craft lightweight crepe flowy relaxed skirt tiered hem functional button classic dress wear year year delicate machine',\n",
              " '-PRON- s time feel heat sheer darling adapt traditional t shirt cut leaf blouse display -PRON- s d texture gloriously impact complement -PRON- matching leaf short classic style trick wear -PRON- pair light blue jean delicate hand wash delicate machine wash polyester',\n",
              " 'finally -PRON- -PRON- perfect sized solid rise gold vermeil hoop earring tick box -PRON- wear -PRON- -PRON- tick selection delicious interchangeable gemstone drop tick ultimate holiday companion -PRON- win t precious space suitcase tick pretty crystal drop catch light pick colour -PRON- wear make -PRON- easy wear easy decision indecisive -PRON- love',\n",
              " 'wonderful pair earring easy wear hoop make sterling silver generous coating ct hard gold plating tiny star hand form pierce freely wire hoop lovely gold star hoop earring look stylish stunning wear simple classy contemporary hoop measure approximately cm wear -PRON- jewellery sport swimming sleep remove apply perfume deodorant',\n",
              " 'delicate edgy chic -PRON- love -PRON- pair single line chain earring -PRON- minimal line stud carefully handcraft k yellow gold sell individually price list chain line double earring -PRON- jewellery design carefully handmade london -PRON- handcrafted nature piece unique vary slightly finish -PRON- jewellery craft use solid k gold include post clasp earre backing item weigh g ar',\n",
              " 'fun shape hex diamond stud earring set mini diamond ultimate sparkle wear -PRON- -PRON- -PRON- huggie stud fun ear stack sale support survivor campus sexual assault -PRON- nonprofit restore dignity provide rent medical tuition assistance diamond ct k white gold protect -PRON- jewelry household chemical harsh soap sunlight excessive heat cold remove -PRON- jewelry washi',\n",
              " 'petite stud earring feature small large eye design dark blue central stone adorn latelita signature sparkle versatility pretty earring allow -PRON- wear office attire little black dress evening pierce earring butterfly fasten material sterling silver ct rosegold plating handset micro pave white zircon style note great pairing star moon drop necklace perfect everyday styling packagin',\n",
              " 'round cufflink craft solid brass rigid cuff brass -PRON- material choice -PRON- initial mens product -PRON- warm appearance subtle lustre engage weight -PRON- s ability suitably compliment attire -PRON- brass item hand finish coat high quality metal lacquer preserve finish minimise tarnish remove -PRON- jewellery apply cologne product react metal cause -PRON- cufflink tarnish beco',\n",
              " 'k gold plate brass tassel earring earring spice outfit make -PRON- look special polish dry cloth',\n",
              " 'single delicate gold oval shape hoop earring strike blue lapis lazuli crystal charm handmade rolling hill istanbul lapis stone encourage self awareness self expression stimulate clarity creativity lapis lazuli assist confront speak s truth inspire confidence earring wear charm different style x single mm gold oval hoop earring mm sphere lapis lazuli crystal charm yuka unite traditional j',\n",
              " 'clear travel case feature bee hydrangea design edging ideal hold make accessory -PRON- come transparent pvc let -PRON- eye -PRON- belonging open -PRON- wipe clean',\n",
              " 'mellaris beverly jumpsuit black botanical print beverley dress effortless -PRON- summer wardrobe season piece design wrap style bodice flow line skirt dress flattering body shape size beautiful pink trim sleeve detailing make stunning floral print pop allow -PRON- appreciate beautiful detailing design wrap contrast vibrant print wash care hand wash cold separate',\n",
              " 'modern signet ring feature marquise gemstone ring inner brace adjustable fit size opalescent crack mother pearl stone tarnish resistant heavy k gold brass -PRON- jewelry away follow help -PRON- jewelry stay gorgeous oil hair product perfume soap detergent chlorine salt water remove showering store baggie provide wear',\n",
              " 'piece showcase rumour s contemporary houndstooth pattern craft fine merino wool rich blend jacquard knit dress soft touch ultra comfortable ivory dominate monochrome scheme dress winter shade pale essential season striking weekend piece guarantee turn head accessorise chunky gold cuff necklace glamorous look slip merino wool polyester cool handwash bleach tum',\n",
              " 'zip satine drape form crepe satine match dry clean',\n",
              " 'design conceptual creativity atticus skull seal stud earring unite edgy aesthetic expert craftsmanship define characteristic northskull motif style casual look silver earring bring individual touch -PRON- everyday wipe jewellery gently soft cloth remove dirt oil wear help protect prolong look -PRON- advisable wear jewellery swimming pool jacuzzi sauna steam room whilst',\n",
              " 'bright color tiana skirt summer wardrobe collection mini skirt make soft cotton lycra fabric style skirt fit layer ruffle hem fasten metallic zip skirt pair cami blouse complete -PRON- look cotton lycra machine wash cold bleach iron medium dry clean',\n",
              " 'beautiful art deco inspire locket sterling silver statement open box chain locket seamlessly open close secure clasp space inside picture rachel jackson london jewellery sterle silver carat gold plate sterling silver wear -PRON- recommend -PRON- store -PRON- jewellery box -PRON- come minimise effect sunlight environment prevent chain tangle avoid contact wit',\n",
              " 'fun tee stud leather peter pan collar yoke cuff hand cut scallop edge sleeve lightly gather leather cuff make italy proudly embellish ireland fabric silk viscose leather care instruction hand wash jersey',\n",
              " 'design latelita s gold plate sterling silver birthstone earring month june feature central pearl gemstone -PRON- white tone cute stud earring set twisted rope design dip ct gold earring make ideal birthday gift especially lover gemstone delicate jewellery -PRON- birthstone gemini month june gemstone th anniversary marriage -PRON- symbolize purity know stone',\n",
              " 'carousel jewel gold double line earring everyday essential craft sterling silver finish carat gold plating sterling silver carat gold plate avoid water',\n",
              " 'peach orange floral long sleeved maxi dress true decadence spring collection feature length chiffon sleeve lace trim pleated detailing create elevated evening look make ideal extra special seasonal event shell polyester dry clean bleach tumble dry iron',\n",
              " 'contemporary earring unusual distinctive design hexagonal shape earring feature lovely grey freshwater pearl set ct rise gold vermeil solid sterling silver original designer piece handmade -PRON- artisan craftsman use fine precious metal authentic freshwater pearl -PRON- jewellery ethically make accord strict fair trade standard -PRON- jewellery present brand neola box earring perfect',\n",
              " '-PRON- curio collection inspiration rare unusual trinket striking design display slender chain sparkling central stud charm curio bracelet s central stud accompaine delicate chain slider fasten luxurious addition -PRON- jewellery collection clean dry clean cloth product stone neon apatite bracelet type slider fasten metal ct gold vermeil sterling silver',\n",
              " 'beautiful handmade polymer clay earring inspire endless beauty flower earring raise area hand paint floral varnish help maintain condition earring time use gold plate iron fish hook rise gold link look -PRON- earring polymer clay delicate material try avoid drop pressure earring ensure long life -PRON- pair earring coat varnish',\n",
              " 'mia vietnam inspire shirt guarantee make statement -PRON- cut slight oversized feel make silk feature hide button stand wide cuff fabric silk wash care dry clean',\n",
              " 'french make pepin mini torsade chain cm long ct gold plate brass care avoid extreme humidity heat cause tarnish -PRON- gold vermeil silver jewellery dark cool dry place substance like oil nail polish remover chlorine perfume react metal plate jewellery cause -PRON- tarnish true sweat make sure -PRON- remove -PRON- gold plate jewellery -PRON- exercise require heavy work w',\n",
              " 'gold hoop stun unique k brush gold plate texture -PRON- add touch contemporary elegance look earring mix -PRON- dainty stone ring make perfect pairing metal k gold plate hypoallergenic nickel free brass',\n",
              " 'sporty wedge sandal zebra detailing heel measure mm mm platform insole outsole genuine leather hand craft italy insole leather outsole leather',\n",
              " 'pair hallmarked solid sterling silver cylindrical drop earring diamond criss cross pattern -PRON- inspire jewellery tool earring secure lever ear wire polished finish fully plate carat gold mechanical collection available silver black rhodium hallmarke dublin castle ireland gold vermeil sterling silver plate carat gold sterling silver preventive care important maintain -PRON- gold vermei',\n",
              " 'wooly pant lycra comfortable fit pocket machine wash cold bleach tumble dry warm iron',\n",
              " 'light jacket cotton polyester elastane design embroidery -PRON- miss -PRON- drink -PRON- drink miss -PRON- make turkey wash inside similar color degree',\n",
              " '-PRON- elegant iolite drop earring unnoticed handcraft sterling silver finish carat matte gold plating earring feature beautiful carve iolite stone measure approximately cm oxidation wear -PRON- sterling silver jewelry tarnish time regular cleaning sterling silver polish cloth -PRON- jewelry look like new',\n",
              " 'diamond clover key pendant make kt white gold accent ct t w sparkly diamond material kt gold ct material color white gold approximate weight grams primary stone diamond total carat weight ct average color h average clarity',\n",
              " '-PRON- large coin charm necklace accessory season perfect gift add impact outfit clean dry clean cloth natural white zircon gold plate sterling silver blue sandstone',\n",
              " 'pant intricately pleat yoke pleat pleat create effect spatial inflate leg spacious leg gather ankle trouser cover zipper hide pocket seam slouchy pant make perfect match giorgia viola blazer specialist cleaning chemical iron c composition viscose silk nylon elastane lining viscose',\n",
              " 'abstract art arch earring create clear black gold mirror laser cut acrylic earring finish teal pink yellow green black pigmented resin glitter earring post hypoallergenic stainless steel push stud handmade acrylic resin glitter stainless steel push stud',\n",
              " 'rise cameo earring fashion piece art piece cameo carefully handcraft hand paint fine white porcelain -PRON- experience hour kiln temperature reach c earring feature dark romantic look black gold tone finish highlight olive green velvet ribbon bow earring come k gold leverback ear hook handmade porcelain cameo k gold leverback ear hook gol',\n",
              " 'colori red norwegian organic cotton sock feature intricate fair isle inspire design vivid base complement heel toe sock craft long staple certify organic cotton ensure breathability comfort vivid colour fair isle inspire design make great winter style sock add pop colour outfit wash inside low temperature certify organic cotton nylon elastane height cm',\n",
              " 'chain link season compose intricate twisted rope chain revival miss link -PRON- fall wardrobe make k gold plating brass hypo allergenic hand cast polished form toggle clasp s vintage stock chain increase longevity jewelry clean dry use soft cloth avoid wear -PRON- jewelry shower exercise wear apply perfume hairspray protect -PRON- piece rain humidity wear s',\n",
              " 'make modern individual le morne backpack allow -PRON- carry include -PRON- laptop minimal stylish look backpack -PRON- adventure print haircalf make united states print calf leather hair smooth calf leather trim microfiber lining',\n",
              " 'gold plate green agate stud earring cubic zirconia embellishment beautifully hand paint green enamel create depth enhance glistening zirconia material brass k gold plate stone green agate cubic zirconia item gift wrap silver gold plating tarnish time prolong -PRON- lovingly handmade opuline jewellery remove prior cleaning bathing try avoid contact agent perfume cosmetic harsh chemical',\n",
              " 'ring handmade k yellow gold gram diamond cts tourmaline cts tsavorite jewelry make hand feature detailed workmanship careful avoid drop bang physical impact result damage piece include stone fall care -PRON- jewelry caution away harsh chemical perfume water -PRON- wipe clean polishing cloth maintain beautiful shine mind extens',\n",
              " 'believe come solid k eco gold earring bring -PRON- good fortune undeniably classic cool light feather super comfortable wear day day design catch light care info piece jewellery design handmade -PRON- studio london bespoke unique -PRON- -PRON- handmade machine make -PRON- perfectly imperfect -PRON- believe ethical responsible sustainable producti',\n",
              " 'evolve special edition ear cuff new shape fine line flow -PRON- ear timeless piece fit -PRON- ear diverse way depend -PRON- shape wear note let ear cuff flow ear -PRON- conch -PRON- fit -PRON- ear perfectly possibility slide -PRON- ear lobule anti helix inside size mm length cm exclusive design handmade handcraft brass material brass mvdt design handmade pu',\n",
              " 'stylish vegan leather wallet feature anchor design interior card slot note compartment material vegan leather',\n",
              " 'lynda classic boatneck jersey exciting modern edge elegant shape shoulder carry wide flared sleeve shape complement s asymmetric hem -PRON- eye catch contemporary finish tuck -PRON- skirt trouser formal equally stylish look -PRON- passionate sustainable fashion make zero waste fair trade organic fleece look feel luxurious -PRON- come colou',\n",
              " 'true rock earre collection sell single -PRON- razor blade design cast sterling silver carat gold plate black enamel hang carat gold plate huggie hoop avoid natural oxidisation -PRON- jewellery -PRON- box wear clean soft cloth',\n",
              " '-PRON- love diamond stick ear jacket effortlessly modern feel low bar attach earring cool style twist bar stud turn upward look -PRON- climb -PRON- ear sale support survivor campus sexual assault -PRON- nonprofit restore dignity provide rent medical tuition assistance diamond ct k yellow gold protect -PRON- jewelry household chemical harsh soap sunlight ex',\n",
              " 'bold punchy reeve backpack certainly make strong statement construct -PRON- specialist quilt lightweight nylon vibrant orange pop black hardware make -PRON- ultimate accessory stand crowd perfect urban environment -PRON- sleek exterior zip pocket multiple compartment inside carry -PRON- essential consign rubberised patch logo zip round open grab handle adjustable ergonomic backpack strap zip pocket consign',\n",
              " 'vest design woman -PRON- wear basic moment -PRON- s vest -PRON- transform modern cool look vest soft luxurious feel garment -PRON- year come vest hide unwanted curve vest hold snap allow multiple way wear edge raw armhole -PRON- edgy feel sustainable feature garment design zero waste pattern',\n",
              " 'culotte perfect choice casual office chic look metallic culotte design pocket elasticated waist pair loose wrap blouse stylish ensemble shell cotton spandex lining polyester hand wash cold separately dry clean recommended wash like colour avoid colour transfer press reverse iron low heat',\n",
              " '-PRON- slice crystal layer earring elegant sophisticated statement style feature crescent shape detailing slice crystal craft sterling silver finish carat gold plating craft sterling silver finish carat gold plating',\n",
              " 'shotof s black bluebell dress inspiration feminine retro design form sleeveless wrap dress -PRON- s shape slim fit wrap bodice style -PRON- simply hoop earring stiletto heel casual daytime look viscose',\n",
              " 'shotof bring luxury slant -PRON- beachwear offering colorful shirtdress craft breathable semi sheer multicolored print fine italian fabric shrug -PRON- -PRON- swimsuit day wear -PRON- evening polyester elastane',\n",
              " 'add bit glamour -PRON- look deco twin stone bangle bangle easily slip hand feature oval shape cutout -PRON- classic stone metal k gold plate hypoallergenic nickel free brass',\n",
              " 'flow romantic dress cut -PRON- comfortable summer day -PRON- good choice everyday meeting walk beach -PRON- make good quality cotton wash degrees cotton elastane',\n",
              " 'beautiful leather shake -PRON- hand moment -PRON- pick bag magnetic fold flap hide cross zipper bag awfully efficient pack thing laptop tablet document work relate item -PRON- stylish professional classy bag great match man woman need free -PRON- hand problem just whip strap shoulder crossbody great -PRON- dash tha',\n",
              " 'delicate feminine gold tone earring make -PRON- studio brass component solder hand enrich genuine red crystal swarovski handcraft rosaspina firenze make italy pierced ear light gold plate brass nichel free lead free cadmium free good preserve -PRON- jewel rosaspina firenze follow simple rule avoid contact water cosmetic perfume body lotion hair spray damage finish jewelle',\n",
              " 'contemporary drop pendant yellow gold plate sterling silver blue sapphire gem hexagon setting dangle pearl pendant suspend match yellow gold plate sterling silver chain x blue sapphire gem x freshwater pearl sterling silver yellow gold plating',\n",
              " 'necklace love -PRON- collection craft sterling silver kt yellow gold plating micron heart shape sodalite stone -PRON- wear necklace vary length example choker lariat heart shape stone movable inspire power love collection feature movable heart motif signify follow -PRON- heart s inner voice love love yearn -PRON- heart -PRON- family relative friend',\n",
              " 'inspire endlessly change seasonal colour night sky baltic sea jemima s home swedish coast feel love magical curvy crescent moon inspire hoop earring make ct solid gold -PRON- choice colour signature dancing scatter diamond make -PRON- magical mixture stone wear star stud singly pair perfect versatile adornment -PRON- love mix match -PRON- stone sprinkle green tourmaline th',\n",
              " 'sophisticated suitable occasion palladium tone blacelet make -PRON- studio brass component assemble hand handcraft rosaspina firenze make italy clasp closure palladium plate brass nichel free lead free cadmium free good preserve -PRON- jewel rosaspina firenze follow simple rule avoid contact water cosmetic perfume body lotion hair spray damage finish jewellery chemical special p',\n",
              " '-PRON- black chestnut reversible italian leather shopper design use soft supple leather make age beautifully lifetime easily transition stylish black sophisticated chestnut handbag perfectly proportioned everyday use detachable italian leather pouch signature leather tassel stylized double happiness ingot complete look timeless elegance occasion key feature italian leather easily reverse black chestnut includ',\n",
              " 'stay classy true -PRON- moon phase cuff craft sterling silver cuff feature natural genuine diamond carat diamond use individual plate prong set cuff mm long mm wide cuff thickness range mm mm cuff beautifully present inspirational poem dreamer write luvmyjewelry founder ceo store jewelry clean dry place protect dust humidity moisture',\n",
              " 'fit true size -PRON- suggest order -PRON- normal size tailor update -PRON- wardrobe wait delilah s inspire mini houndstooth check adorn -PRON- new favourite cigarette pant chic style trouser finish just ankle fit allow plethora footwear -PRON- favourite chunky heeled ankle boot ultimate autumn winter look look -PRON- delilah blazer try high low styling classic cabl',\n",
              " 'relaxed fit shirt straight hem silk cuff collar finish silk underside look great button wear open jacket silk velvet hand wash cold water spin hang dry',\n",
              " 'beautiful pattern flower palm leave print fine italian satin silk tie add personality elegance -PRON- look perfect tie wear -PRON- suit silk handmade italy dry clean',\n",
              " '-PRON- new collection -PRON- bring -PRON- -PRON- favourite gold rekha reflect handbag brand new big size detachable beaded cross body strap intricately craft rekha reflect handbag handmade intricate mosaic jewel beading circular hoop bracelet handbag perfect size hold -PRON- daily essential pair flared jean simple white tee effortless glamour remove strap elevated evening look mae cassidy collection hand',\n",
              " 'beautiful minimal star moon chain earring finely handcraft silver k gold plate star moon finish hand engrave dot pierced ear treat care item gold plate silver good wet -PRON- color longer',\n",
              " 'organic cotton pocket slim fit elastic drawstring waistband ribbed cuff tonal embroidery logo elasticated waistband special westmark packaging supplementary booklet organic cotton oeko tex certify',\n",
              " 'pleated velvet midi skirt fit true size model wear size s dry wash',\n",
              " 'inspire dreamy hue mediterranean summer elegant ring feature square cabochon cut rise quartz gemstone accent ct gold plate border handmade modern matte finish sterling silver geometric jewel pair perfectly sardinia quartz square earring chic coordination approx stone size cm gemstone rise quartz stone love promote self love friendship deep inner healing feeling peace -PRON- jewelry th',\n",
              " 'olympia dress -PRON- stop piece season metre metre luxurious silk chiffon flood dress look incredible wear olympia dress floor length dress semi sheer silk chiffon body arm chest yoke solid silk satin dress button waist tie control volume print -PRON- volcano print painting turbulent beautiful tropical landscape erupt volcano bird parad',\n",
              " 'inspire lively beautiful city marseille earring -PRON- just live classic teardrop ct gold vermeil ct gold sterling silver simple hook fitting wander warm city street breeze office perfect fun lunch beach club make great present -PRON- -PRON- bear -PRON- good friend -PRON- love piece auree jewellery new owner big responsibility -PRON- need look',\n",
              " 'weighty timeless navy gold chain bracelet add sophistication -PRON- wardrobe -PRON- purchase gold plate item -PRON- collection -PRON- recommend -PRON- remove -PRON- jewellery shower swim exercise heavy duty thing gold plate surface finish -PRON- come contact water perfume surface object -PRON- scratch wear away surface',\n",
              " 'cotton shirt fit form flare arm machine wash cold tumble dry bleach warm iron',\n",
              " 'beautiful reminder strength -PRON- withhold available white gold diamond feroza k gold weight grams stone cts height mm width mm chain length cm extend cm avoid apply perfume hairspray deodorant item avoid apply lotion near item cleaning use soft cloth jewellery cloth remove stain bring bling use jewellery cleaner water dish soap work pretty',\n",
              " 'grapefruit fresh member kartu family kartu city bag like slice grapefruit load vitamin c entire day unconventional shape spaciousness grapefruit noteceable bag perfect casual day work weekend getaway -PRON- functional city bag perfect companion cheer -PRON- make day better inside bag -PRON- polyester mix lining lea',\n",
              " 'atiena swahili mean guardian night lovely necklace make lab create gemstone london blue topaz color -PRON- set sterling silver surround pave crystal pair -PRON- opal choker -PRON- favorite gold chain k gold plate sterling silver crystal adjustable silicon slider clasp wear length cm sale support survivor campus sexual assault -PRON- nonprofit restore dignity provide rent medical',\n",
              " 'gorgeous agate stone flower setting make ring cute ct gold plate silver ring available different size hand carve flower ring make compliment swallow range jewellery delicate addition look great simple spinel cab ring swallow -PRON- story adorn sailor past little land bird mean shore close -PRON- mate life symbol freedom love -PRON- extremely',\n",
              " 'use -PRON- attach -PRON- -PRON- tote -PRON- essential conveniently securely fasten interior -PRON- bag soft calf leather handmade italy silver magnetic snap button fit card',\n",
              " 'embrace -PRON- inner cat lady carat gold plate sterling silver panther stud -PRON- egyptian goddess series earring inspire bastet egyptian goddess protection strength panther head x cm',\n",
              " '-PRON- s time experience modern approach kimono wear drop shoulder slouchy silhouette kusama kimono celebrate high quality natural fabric design ultra joyful feminine print perfect item daily beach occasion specialist dry clean',\n",
              " 'lea dress ss signature piece design -PRON- ruffle ruche right place truly flatter waist hip cut silk -PRON- feel like liquid silk dry clean',\n",
              " 'sophisticated cashmere shawl neutral shade beige shawl make uk -PRON- composition cashmere versatile piece -PRON- lightweight -PRON- transition autumn winter weather option wear wrap scarf store -PRON- item untie ensure accessory touch scarf order help preserve integrity fabric avoid contact rain harsh chemical entrust -PRON- specialized prof',\n",
              " 'scrunchie fashion stay silk scrunchie hold hair tangle dent crease reduce breakage perfect modern chic hairstyle slip mulberry silk specially select elastic inside handcrafted hand wash c dry clean special detergent delicate fabric ph neutral dry flat shade iron low setting bleach tumble dry',\n",
              " '-PRON- elegant diamond stud exude everyday elegance craft mix solid carat gold sterling silver earring forever pair feature slice diamond rose cut diamond border large oval drop stud beautiful handcraft antique look pair unique bear april lucky diamond -PRON- birthstone diamond traditionally think provide wearer relationship increase inner s',\n",
              " 'solid karat gold ring lab make white sapphire bandwidth mm hallmarke goldsmith company assay office london gently scrub -PRON- jewellery soft bristle brush warm water dry soft cloth -PRON- ready remember -PRON- jewellery chain precious delicate treat -PRON- gently -PRON- -PRON- -PRON-',\n",
              " 'hallmarked solid sterling silver wedge ring highly polished finish ring hand pierce sterling sheet hand turn finish -PRON- taper mm wide mm base make -PRON- comfortable wear gap design allow flexibility size minimalist statement ring include complimentary edge maintain -PRON- edge silver polishing cloth hallmarke dublin castle ireland handmade solid sterling silver sheet silver jewellery',\n",
              " 'little cameo romantic symbolism -PRON- say cameo carver use depict image woman -PRON- love commission realize woman s silhouette today -PRON- bring classic piece new century pair -PRON- whitey baroque pearl cameo handset k gold silver -PRON- minimal enrich -PRON- style understate elegance delicate touch uniqueness pierce earring post butterfly fastening pre',\n",
              " 'sunset walk beach shell pebble -PRON- toe just beneath frothy tide come shoreline pendant ode pretty treasure moment like hand form organic pendant remind -PRON- vintage sea coral special fossil bring sea subtle shine chain necklace brighten -PRON- neck layer beautifully long short chain make k gold plating brass hand cast form increase longevity',\n",
              " 'loren dress drc sky blue silver sequin loren perfect occasion dress spring summer season -PRON- modern design tailoring allow number fit -PRON- like glove accentuate -PRON- figure natural curve additional sequin neckline drape peplum transform classic figure hug dress kind sequin sully line knee length wash care hand wash separately dry clean gentle main fabric composition polyester elas',\n",
              " 'bold bracelet big chunky piece collection mvdt design handmade pure metal brass sterling silver brass nickel free alloy copper zinc -PRON- use century semi precious alternative gold piece tarnish age differently -PRON- expose range factor area high level humidity rapid transformation comparison cold dry depend ph level -PRON-',\n",
              " 'lava stone make cool black bracelet discrete metal ring matte black make bracelet subtle interesting course pair black colour black material natural stone stainless steel ring logo engrave wear water',\n",
              " 'tracie bracelet adjustable gold plate feature medium size oval stone -PRON- layer -PRON- different stone option -PRON- casual outfit date night ready don t forget add -PRON- -PRON- exist christina green bracelet stack metal k gold plate hypoallergenic nickel free brass',\n",
              " 'pale pink pique cotton shirt subtle touch blue white mottled kenyan kikoy fabric inside collar cuff slit gusset kikoy fabric locally source kenya design inspire tropical white sandy beach turquoise sea kenyan coast mawimbi mean wave swahili national language kenya new collection bring new charity project sale',\n",
              " 'star -PRON- thing -PRON- certainly -PRON- season perfect accessory -PRON- match -PRON- necklace just -PRON- short drop earring modern original easy wear beautiful delicate original handmade uk handmade uk',\n",
              " 'spoil -PRON- poemotion swimsuit mark -PRON- favourite silhouette -PRON- s ultimately flattering result minimal tan line -PRON- s perfect piece accompany -PRON- -PRON- lush time beach -PRON- wear design bodysuit high waisted jean warm day city delicate machine wash polyamide elastane',\n",
              " 'bring bejewel touch -PRON- personalised jewellery collection beautiful zodiac necklace plate ct gold personalised necklace feature rose quartz charm zodiac stone aquarius chic zodiac pendant perfect treat -PRON- love ottoman hand aquarius zodiac necklace rise quartz charm come lovely box ready gift necklace handmade ct gold plate brass -PRON- jewellery washin',\n",
              " 'enugo s molina skirt make fabric combination plain check fabric make item unique product decorative gathering -PRON- match -PRON- puntarenas jacket kind business look check fabric wool plain fabric polyester wool elastane lining viscose professional dry cleaning recommend iron max degree tumble dry bleach',\n",
              " 'ct rise gold plate sterling silver drop earring french hook stunning petite drop earring feature multi faceted sapphire hydro crystal item present l telita signature jewellery box clean damp cleaning cloth avoid prelonged contact perfume hand cream soap',\n",
              " 'bow blouse puff sleeve sheer grey check feature gather puff sleeve pussy bow tie v neckline button cuff -PRON- s cut loose fit wear -PRON- match skirt -PRON- ss collection knot pussy bow tie neck simply leave -PRON- loose spring summer runway collection composition polyester lining cotton model wear size s',\n",
              " 'timeless sterling silver locket necklace feature semi precious tourmaline gemstone birthstone october beautifully unique way wear -PRON- birthstone pack earthy toned gemstone glass pendant textured vintage inspire finish hang adjustable length chain birthstone locket carefully handmade order -PRON- studio east london come present beautifully brand gift box available rose gold yello',\n",
              " 'earring perfect size stud small slight pop color -PRON- look gift -PRON- metal k gold plate hypoallergenic nickel free brass',\n",
              " 'comfy t shirt make organic cotton hemp -PRON- pocket imitation trim ramie -PRON- look chic pair jacket casual style ramie pant -PRON- s timeless piece woman wardrobe hemp organic cotton dry clean hand wash cold water machine wash delicate cycle',\n",
              " 'bracelet make natural lapis baroque japan golden plated brass finding -PRON- wear day night occasion matching denim blouse knitwear look stunning lovely gift birthday anniversary festival -PRON- contain nice jewelry box packed',\n",
              " 'craft k gold plate sterling silver mini tetrahedron stud earring triangular face face meet vertex create pyramid stud stack ear range position depend -PRON- style earring present myia s brand box ready gift material k gold plate sterling silver',\n",
              " 'argentina bikini low rise super high cut highlight -PRON- gorgeous leg embrace silky lycra make style versatile wear high leg hiphugger design feature super high cut coverage medium construction waistband wear high leg hipster design barbados key trend cheeky liner signature seareina pink fit model wear size small fabric care hand wash non bleach soft lingerie detergent line dry trop',\n",
              " 'oversize bum bag black water resistant fabric adjustable nylon strap furora subtera logo zipper pocket fully line outer polyamide line cotton polyester belt nylon hand wash make poland',\n",
              " 'noble rope -PRON- new addition -PRON- hand braid rope series easy wear band slightly elastic tension offer lightweight versatility incredible shine like -PRON- royal rope -PRON- simplicity mind modern individual hand braid l stainless steel polish',\n",
              " '-PRON- ziba artisanal lapis lazuli earring handcraft k gold plate brass ethically source afghan lapis lazuli inspire kochi nomadic tribe afghanistan piece simple make everyday wear formal occasion ziba artisanal lapis lazuli earring handcraft artisan old city kabul afghanistan gold plate dual layer k gold base metal brass nickel free alloy copper zinc use',\n",
              " 'phoebe grace scarf wear way -PRON- use belt neck scarf head scarf size fit approximately cm x cm silk care dry clean',\n",
              " 'dress mid length fit dress contrast body panel ribbed sleeve slit add comfortable wearer wear work evening dry clean',\n",
              " 'fit true size -PRON- suggest order -PRON- normal size relax cool easy s -PRON- want shirt soft sustainable tencel fabric feel silky drape beautifully safari inspire detailing -PRON- extra set good friend jean come weekend -PRON- s ultimate throw -PRON- dress craft tencel fabric trend safari style utility patch pocket long length delicate m',\n",
              " 'small organize protege backpack mini version -PRON- good sell professional backpack tote perfect prefer travel light complete zip pocket easily access essential bag carry -PRON- need right -PRON- need -PRON- stylish durable heavyweight organic cotton twill fabric line supple soft milled grain leather luxurious touch interior pocket slip pocket zippered zip compartment f',\n",
              " '-PRON- lovingly hand craft -PRON- wash bag use fine leather -PRON- s soft characterful age beautifully -PRON- leather wash bag carefully handmade ensure -PRON- high quality -PRON- vintage inspired design super functional perfect use home -PRON- travel zip section easy organisation inside black waterproof lining zip pocket -PRON- use hardwearing brass zip -PRON- arrive vida vida dust bag',\n",
              " 'real easy wear oversized v soft bamboo jersey unique look create feature -PRON- hand illustrate print perfect jean effortless casual look bamboo absorb time carbon hardwood tree -PRON- need half land cotton need produce fibre -PRON- doesn t need irrigation pesticide -PRON- print design house exclusive -PRON- thee style make uk limited edition machine w',\n",
              " '-PRON- -PRON- worth carat gold plate sterling silver medallion necklace inspire hathor egyptian goddess festivity music dancing rachel jackson london jewellery sterle silver carat gold plate sterling silver wear -PRON- recommend -PRON- store -PRON- jewellery box -PRON- come minimise effect sunlight environment prevent chain tangle avoid contact water body lo',\n",
              " 'introduce -PRON- new girl gang member sienna craft -PRON- exclusive dainty star print ultra feminine slim fitting blouse feature flattering v neck line contrast pussy bow lengthy cuff tie finish curved hem strike voluminous sleeve push tie leave -PRON- undone languidly drape style -PRON- coordinate sienna puff ball mini skirt killer combination multicoloured cherry tomato pink white bla',\n",
              " 'celebrate life sterling silver skull diamond eye bracelet piece finish hand oxidize sterling silver vintage artisanal look unique patina pattern assemble adjustable wax cotton cord solid sterling silver wax cotton cord skull set f g color si clarity diamond burnish set total diamond weight ct oxidize matte finish dimension skull approximately x x mm approximate length inch',\n",
              " 'double wrap bracelet feature row faceted watermelon tourmaline gem ombre rainbow handcrafted dainty addition -PRON- wrist colourful precious stone rule heart chakra encourage flow love health wealth girl ask handcraft aa grade tourmaline gemstone organic untreated rise gold vermeil nb delicate handmade item gemstone colour vary bracelet handle care away water',\n",
              " 'diamond micro pave set inscribe k genevieve collection s logo k gold total weight g pc diamond total carat ct diamond micro pave setting inscribe k genevieve collection s logo',\n",
              " 'lovingly design handmade necessary vintage feel ensure -PRON- s classic day bag -PRON- use -PRON- signature suntanne leather work design leather continue develop rich patina use -PRON- comfortably fit ipad daily essential shoulder strap adjustable inside dark green canvas lining zip pocket sale -PRON- guarantee provision school bag cambodian child need aweso',\n",
              " 'set -PRON- holiday treat jetsetter -PRON- life gorgeous linen look nordic grey travel wallet -PRON- look chic stylish -PRON- feature signature kikki k lining plenty space -PRON- passport important travel document card currency dream big travel organise style travel accessory feature linen look fabric fibre cotton polyester kikki k brand line self colour hardware zipper',\n",
              " 'beautiful sky blue topaz ocean droplet charm hoop embellish trio delicate granulation charm hang dainty slim hoop gemstone catch light beautifully ct yellow gold plate brass sky blue topaz gold plate sterling silver earring post earring',\n",
              " 'high waisted panta palazzo wide leg denim jean -PRON- embellish tiny thunder embroidery lateral zip make italy denim cotton lycra elastane embroidery polyester filament machine wash c wash iron separately inside careful protect embroidery fabric cloth iron low temperature note blue black dark denim subject loss color washing phenomenon fade pay attention contami',\n",
              " 's style dress inspire wham music video puff sleeve queen safari collection wash hand material marciano fabric polyester',\n",
              " 'ultra soft comfortable satin silk fabric simple sleek wide leg trouser essential -PRON- wardrobe dress pair trainer inspired look -PRON- cool minimal black cactus print main composition silk fit true size cut comfortable fit skim hip size fit classic fit size inside leg length measure cm model wear size uk care dry clean',\n",
              " 'style staple bag woman stay trend multi function cross body bag gold metal finish detachable strap make -PRON- multi function wear cross body hold hand soft grained leather light gold metal component adjustable strap hole light gold stud adjustment internal card holder zip section detachable key holder height cm width cm max strap drop cms come brand white dustbag desi',\n",
              " 'wonder great philosopher common bright mind sure importantly splendid mustache silvery mustache lapel pin small fun stylish way radiate kind sophistication spend hour mustache wax shop counter solution include miniature mustache lapel pin -PRON- kind philosophy colour silver material brass',\n",
              " 'craft wool classic statement accessory -PRON- winter day hand wash',\n",
              " 'krabi coolest check man s linen shirt -PRON- -PRON- wear -PRON- open beach cover button -PRON- short sunny occasion wear look ideal summer shirt linen cutaway collar removable stay button barrel cuff brand button machine hand wash',\n",
              " 'make sterling silver necklace hand set multifaceted white zircon taurus celebrate birthday april finish lobster clasp size adjuster packaging item present latelita london signature packaging care instruction maintain -PRON- jewellery wipe gently damp cloth soft clean soak water avoid contact soap detergent perfume hair spray',\n",
              " 'cocktail dress italian satin stretch tule layer shape structure skirt -PRON- metal zipper pocket stripe dress architectural piece like colourful puzzle make usa import fabric italian satin stretch tulle layer dry clean',\n",
              " 'peach lace midi dress pleated skater skirt true decadence spring collection feature feminine lace lace sleeve figure flat pleat line shape simply add statement earring heel polished look polyester dry clean bleach tumble dry iron',\n",
              " 'wide sleeve fit waist midi dress pocket padded elbow cotton elastan mashine wash c',\n",
              " 'large hallmarked solid sterling silver gear necklace polished finish removable gear edge stamp come cm mm gauge medium weight box chain -PRON- custom hand stamp edge tag mechanical collection come complimentary edge maintain -PRON- edge silver polishing cloth hallmarke dublin castle ireland silver jewellery remain -PRON- shiny good wear daily dry air tight box bag clean tarnishing simply',\n",
              " 'beautiful handmade sterling silver ring dalia tane collection inspire dahlia national flower mexico medium flower approximately cm feature slim band wear -PRON- stack ring sophisticated look ring available large medium sized flower variation match jewelry available dalia tane collection right wolf badger arrive -PRON- door package beautiful tane',\n",
              " '-PRON- classic finlay xs backpack mother fix introduce splinter collection -PRON- key silhouette -PRON- rugged urban edit refined style clean cut contour make classic finlay xs backpack young brother finlay backpack spacious interior functional storage make bag perfect day day use consign seal approval black rubberised logo main compartment zip round opening zip pocket rubberised black e',\n",
              " 'cocktail ring feature contrast effect contemporary design vintage inspire element -PRON- cast rise gold plate sterling silver set smoky quartz add wow factor -PRON- style wear statement piece solo nude manicure -PRON- jewellery away salt water harsh chemical especially chlorine detergent -PRON- advisable remove -PRON- jewellery shower apply make subject gemstone jewellery sudd',\n",
              " 'longsleeve print dress asymmetric hem scarf neck mini length make sustainable silk georgette se ea italian silk georgette care dry cleaning hand wash c',\n",
              " 'necklace contemporary aesthetic minimalist design handmade necklace set sterling silver feature baguette cut gemstone lovely peridot blue chalcedony piece lobster clasp extension hoop length necklace adjust easily necklace look stunning -PRON- mix match necklace layered look original designer piece handmade ethically produce o',\n",
              " '-PRON- wave romanticism cameo pearl jewelry return trend vintouch revisit use sustainable ethically source raw material make k gold plate silver necklace delicately string pink baroque pearl little cameo charm try layer -PRON- choker make material entirely handcraft -PRON- workshop town torre del greco italy mini cameo pearl necklace hand carve special ex',\n",
              " 'introduce phoebe blazer -PRON- favourite blazer date -PRON- love -PRON- beautiful hour glass silhouette -PRON- create wearable outfit -PRON- bi stretch tailoring fabric add element luxury single button fastening statement pocket work accentuate -PRON- waist -PRON- modern tailor look try pair -PRON- cigarette pant sophisticated touch denim craft premium bi stretch tailoring long line hour glass silhouette sing',\n",
              " 'handmade tactile leather wallet combine beautiful leather classic design leather soft characterful natural grain develop beautiful patina s note sleeve coin pocket card space -PRON- use leather need lining inner suede leather feel luxurious protective sale -PRON- guarantee provision school bag cambodian child need awesome charity united world schoo',\n",
              " 'iconic style ancient roman jewelry inspire alluring design minerva amethyst tondo earrings cast solid sterling silver vintouch pair earring set genuine mm drop facete amethyst gem encircle sophisticated handmade twisted frame understated elegant handmade sterling silver ring look just chic evening wear -PRON- -PRON- everyday outfit present vintouch italy signature packaging vintouch jewel',\n",
              " 'woman like important thing -PRON- bucket bag great example bag big lose -PRON- elegance black bag velvet black leather black velvet black strap real leather inner pocket make portugal ref prolong exposure heat light humidity avoid remove small stain use dry cloth natural material real leather crack undergo color change problem',\n",
              " 'tiny little thing strike deep blue sapphire champagne diamond -PRON- love -PRON- natural mm blue sapphire natural mm brown diamond solid k yellow gold length approximately mm sell individually handmade piece unique note -PRON- stone natural colour stone vary slightly -PRON- promise good colour match -PRON- order item collection irena chmura jewellery design carefully handmade london d',\n",
              " '-PRON- clubmaster iconic watch tortoise shell rise gold finishing discrete elegant style open aperture window semi gloss black dial allow -PRON- chill hypnotic effect balance wheel movement quietly work -PRON- magic -PRON- briston automatic watch offer timeless masterpiece pull yesteryear watchmaking affordable price sapphire glass transparent case -PRON- view entire movement decorate c te',\n",
              " 'celestial inspire ring hand craft sterling silver set cubic zirconia stone k rise gold plate -PRON- new piece good condition store -PRON- original packaging jewellery box remove item bathe clean soft damp cloth',\n",
              " '-PRON- lovingly handmade use -PRON- fine leather -PRON- year perfect -PRON- s soft characterful age beautifully -PRON- leather wash bag carefully handmade ensure -PRON- high quality -PRON- vintage inspired design super functional perfect use home -PRON- travel inside black waterproof lining zip pocket -PRON- arrive vida vida dust bag sale -PRON- guarantee provision school bag',\n",
              " 'isabela mini quilt white bag entirely hand make start finish produce love tiny bag fit essential phone key credit card money lipstick comfortable easy wear bring dry clean outer modacrylic acrylic polyester inner polyester make paris',\n",
              " 'comfortable jacket fit waist wide sleeve pocket cotton mashine wash c',\n",
              " 'silk chopin make -PRON- -PRON- set consist luxury soft cup bra elegant high waisted brief -PRON- s wire free style study specially pattern perfect fit shape support -PRON- natural boost offer unrestricted comfort satin fabric silk lace polyester dry clean',\n",
              " 'mix lace fabric elasticated underband offer simply light sense -PRON- -PRON- just try -PRON- lingerie set mix match approach comfortable design set fit -PRON- free create combination suit -PRON- slim shoulder strap adjust personalized fit make lithuania independent designer cut soft fabric -PRON- decorate -PRON- classic floral print product lace b',\n",
              " 'gorgeous unusual pendant beautiful hand engrave star constellation aries star sign pendant totally utterly unique -PRON- special sign hand engrave stone set sparkly diamond beautiful pendant aries hand engrave stamp assay sign ensure true authenticity silver frosted gold pendant gold plate sterling silver come sterling silver chain beautifu',\n",
              " 'vibrant yellow leather coin purse sure bring bit fun -PRON- handbag make supple italian leather -PRON- s soft strong exterior -PRON- coin note card safe organised available range colour -PRON- colourful soft italian leather accessory low maintenance try avoid -PRON- completely wet -PRON- clean soft brush damp cloth',\n",
              " 'denim vest topstitched cut stretch denim vest tailor sharp silhouette feature row sandy beige button emphasize pair -PRON- -PRON- match mini skirt style open simple floaty blouse dress spring summer runway collection composition cotton polyester elastane lining viscose polyester model wear size eu',\n",
              " 'mesmerise ocean moon -PRON- dive mystical subconscious powerful peaceful symbolism emotive narrative beauty magic moon ocean inextricably link moon pull wave turn mother ocean cleansing life moon powerful symbol intuition clarity soul ocean symbol collective subconscious emotion wisdom goddess ocean yemaya key inspirati',\n",
              " 'craft sterling silver geometric square ring ideal stack wear ring slightly round edge vertex make ring comfortable wear material sterling silver thickness mm ring present myia s brand box ready gift material sterling silver',\n",
              " 'release bohemian beach babe season s statement piece head turn -PRON- inspire treasure -PRON- travel earring feature cowrie sea shell bakelite coral branch drop metallic gold emit radiant shine coral drop swing naturally wear add movement add pop colour earring make statement light wear ideal love statement jewellery wear beach pool s',\n",
              " 'stunning silk velvet devore shirt perfect jean dress -PRON- favourite evening trouser hand wash cold water hang dry',\n",
              " 'beguiling skirt make floral embroidered white cotton fabric -PRON- bohemian vibe make prague -PRON- offer high waist double layer embroidered fabric zipper closure skirt preciosa crystal button closure -PRON- wear -PRON- espadrille wedge sandal -PRON- sure summer staple description high waist skirt floral embroidery preciosa crystal button closure skirt zipper skirt fit sil',\n",
              " 'inspiration grand masquerade ball beautifully craft grande mask pendant contrast brush gold boxy chain make statement event -PRON- truly know -PRON- yellow kt gold vermeil necklace represent notion wipe jewellery gently soft cloth remove dirt oil wear help protect prolong look -PRON- advisable wear jewellery swimming pool jacuzzi sauna steam room whilst e',\n",
              " 'little bit wild little bit wonderful midi skirt cut silk crepe chine -PRON- bold ikat print cut high waist create flattering fit frill create maximalist look -PRON- walk dance wear black turtleneck chic versatility throw boldly pattern duster time -PRON- want create hayley menzies impact composition silk crepe chine lace cotton polyamide viscose care dry clean',\n",
              " 'square chain inverted drop wear -PRON- casual chic outfit palladium tone necklace make -PRON- studio brass component solder hand enrich genuine azure blue crystal swarovski make italy palladium plate brass nickel free lead free cadmium free good preserve -PRON- jewel rosaspina firenze follow simple rule avoid contact water cosmetic perfume body lotion hair spray damage finish jewe',\n",
              " 'mega blackout sleep peacefully stylish luxe silk sleep mask feature letter e illustrate super soft wadding pipe trim soft silk good sleep come beautiful gift box dry clean',\n",
              " 'contemporary hoop earring add sparkle perfect dress suspend zirconia shimmer movement earring make impact comfortable wear pierce earring post butterfly fasten materal handcraft use sterling silver ct rosegold plating aaa cubic zirconia style note perfect love statement jewellery make ideal gift perfect accessory cocktail black tie event bridal wedding jewellery',\n",
              " '-PRON- need little love right epic chunky love ring feature -PRON- signature rachel jackson london art deco inspire letter -PRON- want little love somebody little love -PRON- ring just cheese rachel jackson london jewellery sterle silver carat gold plate sterling silver wear -PRON- recommend -PRON- store -PRON- jewellery box -PRON- come minimise effect',\n",
              " 'original shirt flared sleeve tie belt waistline fancy sleeve add nonchalance fashionable accent -PRON- outfit shirt minimalistic rich form -PRON- make good quality cotton wash degrees cotton elastane',\n",
              " 'necklace love -PRON- collection craft sterling silver kt yellow gold plating micron heart shape thulite stone -PRON- wear necklace vary length example choker lariat heart shape stone movable inspire power love collection feature movable heart motif signify follow -PRON- heart s inner voice love love yearn -PRON- heart -PRON- family relative friend m',\n",
              " 'long sleeve belt linen shirt dress feature spread collar button placket lace trim -PRON- summer dress holiday season hand wash cold',\n",
              " 'casual comfortable oh cute stylish jumpsuit -PRON- want wear -PRON- special occasion elasticate shoulder waistband floaty leg pocket hand wash cold wash like colour avoid colour transfer press reverse iron low heat allow shrinkage',\n",
              " 'cleopatra necklace handcraft silver k gold plate special piece chunky vintage style chain small hand decorate fasting detailed pendent represent cleopatra egyptian eye script necklace total length cm plus pendant cm diameter treat care long lasting gold plate advise wet item spray perfume -PRON-',\n",
              " 'classic earring feature star burst design cubic zirconia set brush metal disc incorporate latelita london signature sparkle catch light day night earring finish post butterfly fasten great finish touch evening bridal special occasion look material sterling silver aaa grade white cubic zirconia style note ideal covet minimalist jewellery pair match teardrop starburst',\n",
              " 'necklace make freshwater pearl black coral black white colour combination forever chic timeless -PRON- good choice jewerly season -PRON- wear bare shoulder denim midi dress look gorgeous nice gift birthday anniversary festival -PRON- contain nice jewelry case pack different plastic bead make machine gemstone bead slightly different o',\n",
              " 'inspire endlessly change seasonal colour night sky baltic sea jemima s home swedish coast -PRON- star -PRON- life far jemima concern little solid ct gold pendant perfect delicate companion practically -PRON- especially layer moon pendant little extra magic metal ct gold recycle fairmine fairtrade metal request',\n",
              " 'perfect gift mother stylish stretch bracelet feature cultured pearl turquoise howlite gemstone recycle glass gold tone metal letter create mama mama -PRON- akola jewelry -PRON- good -PRON- recommend store -PRON- akola jewelry fabric bag provide prevent scratching tangle remove -PRON- akola jewelry apply perfume cosmetic physical activity',\n",
              " 'shell feature bangle cast real shell use traditional silversmithing technique -PRON- look delightful wear look great stack bracelet bangle lucy flint jewellery collection superb accessory everyday wear come beautifully package lucy flint jewellery brand box make solid sterling silver hallmarke birmingham assay office clean -PRON- silver jewellery regularly jewellery cloth dip ke',\n",
              " '-PRON- fleur collection inspire color view texture lavender field -PRON- beautiful gerbera tweed black high waisted pant inspire mayfield london sunset time day -PRON- wear pant -PRON- match gerbera blazer set -PRON- style crop shirt blouse item functional zipper fringe pocket fringed leg item make cotton wool materi',\n",
              " '-PRON- outfit glamorous lift playful classic design add seamless finish touch luxury hand pick natural gemstone -PRON- need complete perfect day length necklace adjust slide bead introduce versatile way wear -PRON- favourite piece suit outfit -PRON- signature finish gemstone embed end necklace deliver subtle luxury wear wear -PRON- piece',\n",
              " 'brilliant shirt long grab tummy area love -PRON- -PRON- come second synthetic silk machine wash hang dry ironing require synthetic silk polyester',\n",
              " 'rise gold plate bangle warp iron grey enamel resin whistle bango logo inside rim shoreditch high street highway aldgate millennium park e district burst culture history e live hip town warp iron grey enamel rose gold encapsulate smoky city dark past e awash glow boutique shop frivolity stainless steel rise gold plate bangle enamel resin avoid prolong contact wi',\n",
              " 'drop minibag colour lion brown come adjustable strap wear cross body shoulder long short hand ideal -PRON- -PRON- want -PRON- essential -PRON- base model come yiy logo token special yiy bag -PRON- ability personalize -PRON- bag token sprout nature gemstone shed antler fossil -PRON- unique just like -PRON- -PRON- switch -PRON- depend -PRON- meaning -PRON- style -PRON- moment',\n",
              " 'ideal love statement jewellery make nature inspire earring finish touch special occasion outfit butterfly adorn multi coloured cubic zirconia suspend baroque pearl -PRON- organic shape change light -PRON- iridescence butterfly meaning represent spiritual rebirth transformation creativity endless potential vibrant joy change ascension ability experience wonder life pierce earri',\n",
              " 'aro black akoya pearl onyx bracelet string durable stretch elastic handmade kensington london aro cotton gift bag box include -PRON- piece craft hand unique gemstone pearl naturally form vary slightly size shape colour pearl organic gemstone preserve -PRON- radiance avoid let pearl come contact cosmetic hair spray perfume detergent sea swimming pool sauna',\n",
              " 'hallmarked solid sterling silver pendant inner hexagon symmetrical linear pattern removable pendant hidden bale come cm sterling silver curb chain piece -PRON- collaboration artist leah hewson eoxlh coordinate stud drop earring available include complimentary edge maintain -PRON- edge silver polishing cloth sterling silver hallmarke dublin castle ireland silver jewellery remain -PRON- shiny good wear daily ke',\n",
              " 'purple embroider little flower soft french terry short grace short high waste short terry cloth soft elastic waistband high comfortable feeling make -PRON- leg extra flattering short cut slightly comfortable short run town grace short steal -PRON- heart cotton rayon polyester machine wash cold tumble dry low dry clean make usa',\n",
              " 'playful chic carefully handcraft k yellow gold arc stud look great wear -PRON- layer -PRON- stud -PRON- jewellery design carefully handmade london -PRON- handcrafted nature piece unique vary slightly finish -PRON- jewellery craft use solid k gold include post clasp earre backing item weigh g fully assay hallmarke design delicate dainty subtle',\n",
              " 'make new york city k gold hand plate brass clam charm wipe dry cloth store dry area',\n",
              " 'scarf cut silk satin england pin hem finish grey snakeskin print black white border tie piece loosely -PRON- neck loop handle favourite tote available blue make england silk dry clean',\n",
              " 'add rebellious elegance -PRON- look snake necklace choose kt yellow gold brass sterling silver edgy gunmetal make new york city care instruction store duster bag clean dry cloth',\n",
              " 'beautifully delicate beaded sterling silver chain perfect everyday wear worn layer necklace -PRON- wear length katie belle jewellery sterling silver carat gold vermeil plate sterling silver -PRON- katie belle jewellery look beautiful -PRON- advise -PRON- follow care instruction wear -PRON- recommend -PRON- store -PRON- jewellery jewellery pouch provide -PRON-',\n",
              " 'loose dress elastic waist slit satin effect asymmetrical look longer button lock fabric viscose rayon',\n",
              " 'modern addition -PRON- shirt collection feature step hem make understated statement shirt loose fit volume comfort create boxy silhouette dry clean hand wash cotton',\n",
              " 'gold plate brass agate overall sense balance chakra know stable soldier offer spiritual protection creativity harmony pearl symbol affection good luck balance karma strengthen relationship purity generosity integrity bring loyalty -PRON- wearer semiprecious stone magic earring dress summer ready receive lot compliment true statement piece perfect gi',\n",
              " 'silk knit tie feature unique texture solid purple make -PRON- perfect piece formal casual attire silk dry clean make italy',\n",
              " 'stardrops necklace feature mm individually solid k gold disc hand create melt metal tiny granule hammer -PRON- flat solder -PRON- hand make little loop -PRON- fasten lovely solid gold trace chain delicate process make hand achieve -PRON- organic texture create natural process create sit perfectly -PRON- decolette create beautiful sprinkle sparkle care',\n",
              " 'rainbow stripe sleeve sweater fit ribbed round neck sweater make recycle cashmere body cashmere sleeve cold hand wash wool detergent air dry flat',\n",
              " 'code ace gross weight gms gold purity kt gold weight gms gemstone ruby gemstone weight ct jewelry make hand feature detailed workmanship careful avoid drop bang physical impact result damage piece include stone fall care -PRON- jewelry caution away harsh chemical perfume water -PRON- wipe clean polishing cloth maintain beautiful shine mind',\n",
              " 'stud earring feature sterling silver orb swarovski element pearl lie say giant collection inspire child s fairytale jack beanstalk jewellery feature swarovski element pearl represent magic bean golden orb symbolic golden egg lay giant s prize hen classic jewellery base classic fairytale modern twist sterling sliver available gold dark grey pearl silver ivory pearl',\n",
              " 'pacific ocean obvious inspiration model natural blue stone great addition wardrobe include navy suit discreet powerful like old fashioned colour blue material natural stone stainless steel ring logo engrave wear water',\n",
              " 'bring perfect sparkle -PRON- hand wear beautifully design tennis bracelet -PRON- eternal love beauty timeless tennis bracelet feature row white diamond hand set white gold quality clean sparkling natural diamond bracelet make great care white gold gram bracelet set natural diamond total carat cts -PRON- product come beautiful gift box let jewelry make han',\n",
              " '-PRON- collection limited edition jacket focus luxury texture par excellence mix fabric compose wool acrilic polyester -PRON- make look sophisticated pure luxury art tailoring red wool blend jacket old gold thread jacket craft like classic atelier finish hand carefully fasten hook loop closure maintain harmony embroidery old gold thread tint pearl accessible pret porter concep',\n",
              " 'ultimate essential -PRON- smart casual wardrobe shirt dress softly tailored feminine rap style tie contemporary kakhi green colour modest knee cut soft drape perfect summer tie waist tie open different look centre conceal button eyelet cut collar inspire nut bolt motorbike stretch lightweight fabric gentle cycle hand wash dry clean',\n",
              " 'beautifully structure soft utterly feminine construct striped luxe cotton silk fabric yarned weave -PRON- feature contrast fabric shoulder reversible jewel metal center zip ii reversible ivory luxurious ton sur ton jacquard fabric subtly texturise surface luxe cotton silk stripes ii cotton silk jacquard dry clean',\n",
              " 'v neck sleeveless dress inner pleat beautiful movement raw hem piece elegance edge navy grey red georgette dry clean',\n",
              " 'stylish sterling silver necklace product study make spending time reindeer susanne s native sweden -PRON- s carve wax cast silver finish hand make hand london wipe silver cloth silver clean product',\n",
              " '-PRON- wardrobe retro makeover vintage inspire stripe sweater rita sundown spectrum sweater perfectly complement jean cord skirt band stripe light cobalt blue base seventy feel simple sweater right trend fabric cotton viscose delicate machine wash degree similar colour dry flat reshape wet iron inside low temperature tumble dry bleach',\n",
              " 'oversized travel wrap inspire sarus crane ranthambore national park india elegant sarus crane tall fly bird world stand m tall -PRON- easily recognize -PRON- red head neck grey body pale pink leg responsibly source merino wool handloom weave india dye low impact fiber reactive azo free portion proceed donate tiger watch organization work protect conserve wildlif',\n",
              " 'delicate hoop earring -PRON- inspiration monkey paw knot monkey paw knot typically tie end rope serve weight make -PRON- easy throw -PRON- use past anchor rock climbing stuff -PRON- crack monkey paw knot design ruban collection make celebrate fascinating combination beauty practicality design make sterling silver carefully polished perfection hand polish',\n",
              " 'let -PRON- pamper moire underwire bra perfect comfort guarantee good support thank sail shape moire make embroidered tulle elegant shape recall precious overlay shell blue velvet strap make bra extremely sophisticated item signature chit -PRON- double strap finely cover closure perfect design backless dress embroider tulle blue velvet u',\n",
              " 'romantic midi dress -PRON- sew silk chiffon pattern pea refer parisian timeless minimalist style flared form make crinkled frill finish intricate hemstitch waist wrinkle elastic band underline sash type belt dress separate slip knee length hand wash c mild detergent -PRON- recommend use fabric softener prevent static electricity fabric remove excess water dry overh',\n",
              " 'high waisted panta palazzo wide leg denim jean animali pattern print digital technique lateral zip make italy denim cotton lycra elastane machine wash c wash iron separately inside',\n",
              " 'lilac felice flower print knit jumper balloon sleeve unique print flattering fit elegant make jumper suitable everyday life evening occasion develop make uk model cm tall wear size small cotton viscose mix dry clean dry clean',\n",
              " 'diamond girl s good friend diamond pav bracelet sterling silver perfect special occasion -PRON- s perfect bridal bridesmaid accessory special gift anniversary birthday just little gift -PRON- rachel jackson london jewellery sterle silver carat gold plate sterling silver wear -PRON- recommend -PRON- store -PRON- jewellery box -PRON- come minimise effect sunlight environ',\n",
              " 'fashionable asymmetric woman feel hat velvet band hat make high quality feel perfect style material feel velvet dimension brim approximately spot clean necessary',\n",
              " 'inspire perfection sophistication species mexican flora ring form similarly perfect proportion make luminous silver vermeil approximately measure cm x cm diameter rigorous selection fine material hand craft -PRON- piece house -PRON- proprietary workshop mexico tane aim ensure piece meet utmost criterion elegance beauty quality w',\n",
              " 'single woven scarf exceptionally soft easy handle smooth light texture ideal use scarf shawl hollow fiber alpaca wool isolation perfect cold winter beautiful soft shine product luxurious look scarf natural handmade product elaborate production process wool smooth acryl add maintain strenght smoothness case hair loose o',\n",
              " 'blue metallic dazzle druzy cuff ring make real statement druzy make tiny crystal mineral form surface stone druzys promote positivity remove stress tension -PRON- mind replace -PRON- serenity calmness adjustable gold plate cuff ring genuine gemstone brazil store -PRON- jewellery pouch box minimise effect sunlight environment avoid contact water body lotion perfume su',\n",
              " 'blossom pink sapphire accentuate beautiful emerald delicate flower inspire ring make dream like stacker x mm oval pink sapphire mm padparadscha sapphire mm diamond cut emerald mm diamond cut emerald set solid k yellow gold band thickness mm note -PRON- stone natural colour stone vary slightly especially true padparadscha sapphire -PRON- s impossible stone o',\n",
              " 'craft k gold plate sterling silver minimal ultra skinny stacking ring perfect wear stack -PRON- high material k gold plate sterling silver',\n",
              " 'brick red travel print organic cotton t shirt mens design print handfinishe completely great britain quality -PRON- trust modern journeyman woman anchor crew ownership exploratory lifestyle enjoy happy good life combine british craft manufacturing discern modern minimalist style certify organic cotton g m soft feel hand pick gmo free print handfinishe labelling decorati',\n",
              " 'embrace baron sterling silver drop earring showstopper pair set score glisten emerald green zirconia stone inspire element history hendrikka s native iceland silver drop earring inspire elaborate carafe hand generation waage family mysterious entrepreneur musician baron charles francois xavier gauldree boilleau live iceland turn s cr',\n",
              " 'dramatic -PRON- directional customer make soft crepe cara cape oversized sleeveless voluminous cape overlay finish fit cuff sleeve exaggerate dip hem create strike silhouette wear -PRON- skinny jean high heel create add drama hand wash recommend wash like colour avoid colour transfer press reverse iron low heat polyester',\n",
              " 'angelina design v shape neckline asymmetrical bell sleeve style make tree friendly viscose source cotton linter produce transparent conscious policy -PRON- family facility vidin bulgaria dry clean viscose elastane',\n",
              " 'mellaris olympia dress drc pale blue snake jacquard -PRON- olympia dress classic sophisticated style elegant waist neckline flattering dress work beautiful soft mid weight snake jacquard fabric enable design lie close skin fit -PRON- like glove additionally finish touch dress -PRON- unique drape neckline create ultimate chic look shoulder pleat fully line wash care ha',\n",
              " '-PRON- core collection bra low rise deep band light support flat overlock stitching comfort hibiscus polyester spandex design supportive unobtrusive workout bra consider make workout comfortable low rise minimal strap help -PRON- push -PRON- workout hold -PRON- -PRON- model wear extra small engage truly holistic aesthetic peak vigour item fully machine washable check specifi',\n",
              " 'great everyday basic popular super soft t shirt look great breathe -PRON- feel cool comfortable offer exceptional breathability cotton cool choice warm weather season garment wear -PRON- layer cool weather embroidered design stylish choice work occasion feature embroidered bee pleasant look comfortable fit sleeve loose fit great choice occasion',\n",
              " 'napoli allow -PRON- match -PRON- belt item clothing -PRON- wardrobe design incorporate different leather metallic gold zebra print black leather -PRON- great addition -PRON- spring summer wardrobe wear -PRON- -PRON- fave jean dress wipe clean damp cloth',\n",
              " 'metallic leather biker jacket fit true size model wear size s dry wash',\n",
              " 'make statement eye catch ct gold vermeil pendant necklace showcase stunning hexagonal shape labradorite gemstone measure approximately mm x mm chain measure maximum length easily adjust -PRON- desire length use sliding mechanism labradorite birthstone august represent intuition labradorite say dispel negative energy whilst strengthen faith trust grey colour dark fleck speckle wi',\n",
              " 'simple moon star ring hammer band great stack wear minimal look ring look great wear midi ring band measure mm width ring adjustable choose size guide ring make star moon -PRON- d prefer email alteration care clothing remove wash order come inside black gift bag free cleaning cloth ready gift',\n",
              " '-PRON- animal spirit panther necklace mid length sterling silver chain -PRON- egyptian goddess series necklace inspire bastet egyptian goddess protection strength rachel jackson london jewellery sterle silver carat gold plate sterling silver wear -PRON- recommend -PRON- store -PRON- jewellery box -PRON- come minimise effect sunlight environment prevent chain t',\n",
              " 'dusk jumpsuit -PRON- good sell piece season relax lose fitting button jumpsuit comfy pocket bodice line beautiful silk print length shin ankle beautiful wear -PRON- summer day layer polo neck base layer year print graphic cheetah skin print inspire old badly make taxidermy particular certain piece leonard silk make england u',\n",
              " 'colori navy criss cross organic cotton sock craft soft long staple certify organic cotton vibrant sock feature fun criss cross design accent flourish wash inside low temperature certify organic cotton nylon elastane height cm eur uk make italy',\n",
              " 'mayfair new edition serts collection exclusive sert collection silhouette make premium leather suede combine upper s comfortable wear day premium leather suede combine upper innovation text logo embossment tongue flat nylon lace comfortable lightweight xl eva sole handmade',\n",
              " 'k rise gold ring stud pave diamond jewelry make hand feature detailed workmanship careful avoid drop bang physical impact result damage piece include stone fall care -PRON- jewelry caution away harsh chemical perfume water -PRON- wipe clean polishing cloth maintain beautiful shine mind extensive exposure saltwater sunlight harsh chemical permanently da',\n",
              " 'modern twist classic braided optic belt symbolise subtle noticeable fashion forwardness brown elastic leather stretch cm guarantee perfect fit ultimate wear comfort accompany beautifully feminine shape buckle matt gold finish belt work outfit catch people s eye width cm make italy elastic stretchable cm braid vegetable leather smooth vegetable',\n",
              " 'ahoy sailor contrary popular belief anchor bring thing -PRON- look example instead reach new level dark blue self tie bow tie bring hope outfit colour navy pattern anchor material cotton style self tie easy clean iron',\n",
              " 'eye -PRON- navy blue bamboo sock gorgeous detachable eye brooch wear brooch -PRON- sock -PRON- wear -PRON- -PRON- clothing accessory style -PRON- favourite heel trainer ankle boot sock come beautifully box make beautiful gift material soft breathable material viscose bamboo polyester elastane remove brooch wash -PRON- sock wash cool wash hang ou',\n",
              " '-PRON- bestseller wear way wear turquoise stud add fan entirely new look material stud turquoise sterling silver micron ct gold plate fan brass micron ct gold plate care -PRON- piece silver jewellery naturally tarnish time make sure protect -PRON- jewellery minimise remove -PRON- jewellery apply scent lotion potion remember chlorine especially damaging -PRON-',\n",
              " 'belt combine carve piece natural horn strap hand stitch english bridle leather horn piece sit hold real handmade bridle piece -PRON- simple black leather strap small metal belt buckle natural colour variety horn range translucent honey opaque white course piece unique slightly different pattern horn piece make vietnam br',\n",
              " 'delicate petal evocative flower design inspire beauty delicacy flower create dress perfectly outline extremely feminine sophisticated silhouette flower colour center stage original designer dress material polyester underdress silk voluminous undercoat polyester model cm tall wear size s handwashing c',\n",
              " 'craft sterling silver initial r precision engrave myia s geometric font traditional inspire round signet ring perfect personalised gift ideal everyday wear ring present myia s brand box ready gift material sterling silver uk hallmarke',\n",
              " 'inspire long walk forest abstract art sculpturally shape ring resemble tree branch cross -PRON- cast white gold plate sterling silver accent ct amethyst surprise special matching pair earring collection -PRON- jewellery away salt water harsh chemical especially chlorine detergent -PRON- advisable remove -PRON- jewellery shower apply make',\n",
              " 'tommy navy blue light blue belt elastic belt fit cm long stretch cm belt hole brown leather piping emboss slope town logo matt silver colour buckle accompany reusable natural jute slope town bag waterproof standard width cm unless note leather nylon wash clean soft cloth dump warm water',\n",
              " 'exude timeless glamour wrap jumpsuit -PRON- s ideal special event party wedding -PRON- like complete classic look pair kitten heel soft stretchy jersey pocket ruched wrap composition viscose spandex hand wash recommend wash like colour avoid colour transfer press reverse iron low heat',\n",
              " 'city collection feature high impact colour combination new angle establish form taste tempting ring bring wearer time swinging -PRON- cast sterling silver set labradorite shimmering cubic zirconia wear -PRON- shift dress silhouette geometric print instantly complete look complement stopper coordinate necklace collection -PRON- jewellery away saltwater harsh chemical esp',\n",
              " 'cool sterling silver provide ideal setting natural peridot gemstone glow colour spring pair -PRON- pinglin drop earring bring joy natural peridot adore ancient egyptians favour -PRON- famous queen cleopatra natural peridot day national gemstone egypt celebrate way -PRON- glow deep green artificial light natural peridot ideal gemstone impress grand event birthstone',\n",
              " 'k gold plate sterling silver earcuff earcuff sell individually material k gold plate sterling silver jewelry care -PRON- advisable wear jewelry whilst exercise bathe shower beach piece expose water dry -PRON- gently thoroughly soft cloth moisture cause tarnishing weaken mechanism clasp',\n",
              " 'recycled leather loop keyring probably sustainable way -PRON- key safe easily accessible hand craft -PRON- london studio natural rubber base recycled leather -PRON- timeless robust accessory design complement modern wardrobe lifestyle -PRON- -PRON- finish include shield rivet london branding sustainable material divert fast fashion leather offcut landfill support local london base artisan',\n",
              " 'fit loose flare dress dry clean',\n",
              " 'disc turquoise sandal aspiga classic people come time time replace -PRON- original pair handmade kenya disc beaded sandal leather upper rubber flat sole small disc hand sew bead thong style sandal genuine tan leather upper glass bead plastic minimise impact environment flat flexible non slip rubber sole hand cut upper sol bead work sew hand odd imperfection leather wi',\n",
              " 'gold small razor blade charm cast sterling silver carat gold plate start -PRON- true rock charm collection pick n mix -PRON- -PRON- plain gold gold silver charm choose -PRON- enamel charm collection black gold purple rise gold red gold include skull plectrum razor blade star lip charm bespoke -PRON- statement piece hang -PRON- -PRON- belcher charm bracelet belcher charm necklace alternatively hang -PRON- -PRON- cha',\n",
              " 'ring contemporary aesthetic minimalist look feel handmade ring set sterling silver feature narrow silver bar ring accentuate black onyx gemstone -PRON- wear -PRON- mixed match gold silver version create intriguing statement piece original designer piece handmade ethically produce -PRON- artisan craftsman use fine precious metal -PRON- jewellery come present branded',\n",
              " 'inspire golden touch kind midas ancient mycenean inspire earring make solid dot circle ct gold piece jewellery design handmade -PRON- studio london -PRON- handmade machine make -PRON- perfectly imperfect -PRON- believe ethical responsible sustainable production business practice -PRON- use solid gold fine old metal supplier hatton garden centre jewellery district london whi',\n",
              " 'delicate mini dress frill add lot charm style dress flow comfortable summer day -PRON- make good quality cotton wash degrees cotton elastane',\n",
              " 'piece tattoo candy collection tailor -PRON- individuality motif represent -PRON- flavour spice traditional tattoo styling -PRON- piece encapsulate premium bespoke beauty unique edge s hard define -PRON- pendant earring triple charm choker hellip doesn t quite cut -PRON- mix match layer -PRON- build -PRON- story piece talk -PRON- talk prolong beauty lustre -PRON- cart',\n",
              " 'adore adorn s handcraft silver twist ring mm mm mother pearl inlay craft simple chic wear protect -PRON- jewelry knock scratch chemical harsh light extreme temperature -PRON- recommend remove jewelry -PRON- shower bathe particularly chlorinated water avoid spray perfume apply cream directly -PRON- jewelry away extreme temperature humidity sunlight avoid wear -PRON- jewelry use bl',\n",
              " 'dedicated woman want add little colour -PRON- daily routine little treasure collection s main inspiration joyful moment -PRON- focus delicate handcraft piece tiny piece art funky chic recycled sterling silver gold plating carat handmade piece unique use gently wipe -PRON- jewelry soft cloth store -PRON- original smilla brav jewelry box dust bag prot',\n",
              " 'luxurious bracelet feature exotic tone natural yellow tiger eye stone blend beautifully gold perforate skull forward think construction piece bring unique element bracelet make -PRON- contemporary design variety outfit wipe jewellery gently soft cloth remove dirt oil wear help protect prolong look -PRON- advisable wear jewellery swimming pool',\n",
              " 'true stunner add touch magic ear stack natural mm light blue sapphire natural mm brown diamond solid k yellow gold length approximately mm sell individually handmade piece unique note -PRON- stone natural colour stone vary slightly -PRON- promise good colour match -PRON- order item collection irena chmura jewellery design carefully handmade london -PRON-',\n",
              " 'feature hook bar closure slit pocket white high rise trouser belted waist ideal formal event style white blazer waist coat bustier -PRON- collection machine wash accord instruction care label smooth fabric main polyester elastane',\n",
              " 'minimal structure silk white cardigan wrap body elegant simplicity japanese design sleeve make minimal line louder silk dry clean',\n",
              " 'century princess wear dress like design matsour black cocktail dress entirely craft embellish flower extra comfort provide pure natural silk lining extra layer skirt add beneath petticoat create skirt effect exquisite formal dress showcase modest v neck intricate flower sew entirety bodice sleeve skirt make silk undershirt skirt',\n",
              " 'craft sterling silver mini geometric faceted bar stud perfect addition stud lover -PRON- multi facet effortlessly catch light wear shine like diamond minimal stud wear range position mixed stack ear earring present myia s brand box ready gift material sterling silver',\n",
              " '-PRON- sterling silver large pearl drop necklace elegant addition outfit thank -PRON- timeless design necklace perfect accessory bride -PRON- bridesmaid handmade -PRON- london studio use genuine freshwater pearl necklace ideal gift -PRON- -PRON- jewellery little tlc -PRON- jewellery shine bright -PRON- beautiful large pearl drop pendant necklace send -PRON- complimentary lily roo gift box',\n",
              " 'eruption print wintery surreal collection erupt volcano hand gold fish polar bear walrus tropical flower colour mute tone strong green x cm make italy available silk twill solid heavy weight silk hold colour beautiful silk twill make italy dry clean',\n",
              " 'tote bag commission imperial health charity raise money -PRON- patient engagement programme alongside museum accredit collection work charity organise wide range art base workshop run artist residence programme hospital imperial college healthcare nhs trust illustration british artist david shrigley special commission party parliamentary group art health wellbeing',\n",
              " 'fit form lycra silk satine dry clean',\n",
              " 'glorious large lustrous baroque pearl hang diamond slice set carat gold plate sterling silver organic style diamond setting complement shape baroque pearl wonderful mix texture luxury stud earring create -PRON- london studio pearl pair vary slightly avoid contact chemical perfume hairspray',\n",
              " 'sleep style -PRON- luxurious pyjama -PRON- kiss sky print match -PRON- beautiful pyjama come beautiful luxury gift box silk handwash',\n",
              " 'project rwb red white blue padstow silver rope bracelet design skilfully handcraft completely great britain quality -PRON- trust modern journeyman woman anchor crew ownership exploratory lifestyle enjoy happy good life combine british craft manufacturing discern modern minimalist style mm diameter performance marine grade polyester nylon rope gb secure solid sterling silver bar hook cleat gb b',\n",
              " 'lulu sweater instantly refresh -PRON- wardrobe subtle metallic stripe fun design -PRON- craft soft navy cotton modal blend match tie highlight cutout wear -PRON- -PRON- favorite staple cutout tie cotton modal metallic stripe lurex cool handwash dry clean',\n",
              " 'slim fit silk shirt showcase feminine elegant fit italian lace sleeve detailing beautiful style accentuate waist cut follow curve woman s silhouette mint green tone pastel mint peach lace perfect summer wardrobe essential cold hand wash dry clean silk polyamide',\n",
              " 'sleek slice amazonite necklace showcase beautiful aquatic blue stone hexagonal cut -PRON- say amazonite gemstone mighty amazon river powerful force nature chain necklace craft rose gold plate sterling silver accentuate -PRON- neckline pair different texture layer necklace luxurious look quick buff jewellery cleaning cloth remove metal tarnish gemstone look glossy avoid exposure',\n",
              " 'jamie navy blue belt elastic belt fit cm long stretch cm belt hole soft brown matt leather piping emboss slope town logo silver colour matt buckle waterproof stripy green blue bamboo sock size knit natural bamboo fibre -PRON- -PRON- soft experience -PRON- foot incredibly soft moisture wicking antibacterial allow stay cool heat stay comfortably warm cold day odor resistant belt l',\n",
              " '-PRON- popular pattern bright new color palette -PRON- short circuit envelope style magnetic clasp embroider vintage obi silk exterior vintage silk obi interior orange handmade cm x cm fold vintage nature obi sash use make friend rhyme clutch lead slight imperfection fabric -PRON- relish history character silk make -PRON- perfectly imperfect pattern placement vary',\n",
              " 'gold petal garnet long earring k gold plate cast karat gold sterling silver micron thickness perfect length statement earring special day -PRON- life clip make mexico high quality light weight cast karat gold sterling silver micron thickness -PRON- suggest avoid contact soap detergent chlorine chemical substance alter original characteristic -PRON- jewel -PRON- wear -PRON-',\n",
              " 'ready center attention cobalt blue flower label pin definitely conversation starter don t say -PRON- didn t warn -PRON- turn head compliment include price little bad boy colour cobalt blue material microfiber',\n",
              " 'high waist short ruffle pocket zipper ring puller design perfect accomplice -PRON- summer escape enjoy adventure machine wash cold similar color iron low temperature composition main cotton elastane cotton',\n",
              " 'contemporary ring unique original design handmade ring make strong fashion statement stand -PRON- distinctive shape ring feature metal bar different length overlap adjacent finger ring make sterling silver rhodium plating enhance maintain lustre silver ring accentuate round cut white topaz gemstone pave channel set piece handcraft -PRON- goldsm',\n",
              " '-PRON- classic taylor short sleeve tee return season -PRON- new amazing print cotton modal',\n",
              " 'navy blue purse gold zip make vegan leather feature bright yellow pineapple pattern lining design handy coin pocket multiple card holder note compartment purse ensure necessity place safely securely material vegan leather',\n",
              " 'backpack origin collection ideal weekender bag feature like padded laptop tablet pocket twin pocket flap mag dot fastening ergonomic padded backpack strap main compartment spacious include small slip zip pocket extra storage inch padded laptop sleeve available range bold colour style consign rubber patch logo grab handle ergonomic adjustable padded backpack strap flap fro',\n",
              " 'introduce -PRON- timeless piece doubt treasure year come define tone tone stitch signature trench coat promise -PRON- perfect outwear option grey day forever piece wardrobe staple -PRON- wear machine wash inside cold water bleach dry clean iron tumble dry',\n",
              " 'gold plate brass multicoloured chalcedony promote brotherhood good absorb negative energy -PRON- bring mind body emotion spirit harmony semiprecious stone magic earring dress summer ready receive lot compliment true statement piece perfect gift packaging handle care',\n",
              " 'simple personalised disc ring plain band great stack wear minimal look hand stamp initial -PRON- personal touch choose letter -PRON- d like drop menu -PRON- piece sterling silver silver naturally tarnish time wear help -PRON- tarnish free long anti tarnish tab inside order -PRON- s recommend piece -PRON- original packaging different metal away ot',\n",
              " 'lapel pin land crab like small silver sun -PRON- suit jacket rudder lapel pin highlight passion oceanside impeccable eye colour silver material brass',\n",
              " 'muscat little round rogue -PRON- simply pass unnoticed muscat bear catch eye -PRON- -PRON- roll play trick springish look vilnius street -PRON- s make -PRON- comfortable company bright coat mock bag suddenly -PRON- muscat -PRON- long strap elegantly giggle opera ballet theatre phenomenon muscat maybe -PRON- chance -PRON- party yes -PRON- right muscat like hard',\n",
              " 'sani silk slip dress make lustrous silk satin coral cut slightly loose size fit knee skimming style slim shoulder strap black silk flattering v neck -PRON- look equally chic wear -PRON- perfect mini dress layer t shirt silk dry clean',\n",
              " 'high waist pencil skirt silhouette -PRON- wrong -PRON- classic chic bring shimmer -PRON- closet beautiful piece cover motive make gold pink blue black sequin geometrical shape make sequin sew black tulle sequin upcycled high waist skirt organic silk satin waistline zipper left skirt preciosa crystal closure feminine silhouette material sequin tulle care instruction dry clean han',\n",
              " 'intricately detailed stopper -PRON- inspiration la belle poque -PRON- reserve evening wear special occasion -PRON- instantly draw eye excite exuberant cocktail ring make sterling silver set array fabulous gemstone include amethyst sodalite cubic zirconia -PRON- ring away salt water harsh chemical especially chlorine detergent -PRON- advisable remove -PRON- jewellery shower applyin',\n",
              " 'new addition vintage inspire katie mullally coin collection american coin solid sterling silver elegant cent coin charm perfect minimalist piece compliment outfit day night american coin charm wear inch yellow gold plate curb chain katie mullally design charm collectible delicately layer piece charm chain solid sterling silver gold plating carat',\n",
              " 'look dress impress overplay -PRON- print version -PRON- meghan dress perfect dress work special occasion date night model cm tall wear size eu uk design make uk colour print wave shade blue fabric lining viscose main fabric tencel silk bra friendly center zipper slightly crop sleeve midi length slit slim fitting dry clean cold hand wash',\n",
              " 'pair hallmarked solid sterling silver drop earring point star link star inner recess star -PRON- extra cool megastar depth polished star catch light sit flat -PRON- ear extra large pair ear nuts comfort security party ready include complimentary edge maintain -PRON- edge silver polishing cloth ethically make hallmarke dublin castle ireland sterling silver tarnish tim',\n",
              " 'craft sterling silver initial pendant precision engrave classic script font small solid silver round disc perfect personalised gift ideal everyday wear necklace sit just -PRON- collarbone wear length necklace present myia s brand box ready gift sterling silver',\n",
              " 'gold plate k sterling silver pearl zircon stone avoid damage -PRON- jewel care -PRON- contact hard chemical order prevent friction contact origin minor damage jewel -PRON- use -PRON- original package protective casing order -PRON- jewel clean wipe -PRON- help soft fabric use maintain brilliancy diamond jewelry gold surface',\n",
              " 'port louis bag -PRON- everyday city bag -PRON- allow -PRON- carry -PRON- good safely modern sophisticated carry port louis bag handle crossbody bag make new york usa smooth calf leather',\n",
              " 'wild rock crystal rise opal necklace length cm store -PRON- jewelry tresor box -PRON- come -PRON- tresor jewelry pouch travel -PRON- jewelry shine longer remember wear jewelry sleep shower spray swim sweat water erode jewelry metal fast make -PRON- gemstone dull remember wear jewelry -PRON- expect contact water don t wear -PRON- jewelry shower exercise swimming avoid',\n",
              " 'stand crowd fresh hoop earring -PRON- marina collection feature white nassau shell dangle k gold silver handmade hoop present -PRON- vintouch signature packaging pierce earring post butterfly fastening shell ethically source local supplier ensure -PRON- fair trade environmental sustainable origin avoid contact soap detergent chlorine chemical substance alter t',\n",
              " 'urban cufflink clean elegant design strong individual style statement create quintessential urban dent mobile versatile geometric line -PRON- urban collection embrace deep jewel tone reflect bold attitude subtle sophistication inspire architecture contemporary uni sex cufflink design feature elegant semi precious stone hand cut -PRON- design specification set sterling silver note ma',\n",
              " 'singe heart eye huggie -PRON- worn -PRON- match earring individual look -PRON- earring delicately design hug -PRON- earlobe ease k gold plate plate product naturally tarnish exposure air perfume moisturiser make chlorine salt avoid expose -PRON- jewellery condition remove swim shower exercise sleep extend -PRON- jewellery s life shine',\n",
              " 'grocery new collection silk scarf light fresh smooth silk great autumn winter -PRON- -PRON- warm classy bright bold color -PRON- add great touch impact outfit silk satin dry clean design uk make italy package luxury presentation box',\n",
              " 'celestial trifid necklace tribute trifid nebula h ii region locate sagittarius -PRON- combination open cluster star emission nebula reflection nebula dark nebula meaning trifid divide lobe explain choice gemstone set necklace divide necklace feature marquise setting marquise setting second single oval setting central necklace',\n",
              " 'fun bold sisal crystal drop earring perfect pair dress -PRON- everyday look k gold tone plate brass k gold ear wire swarovski crystal sisal -PRON- akola jewelry -PRON- good -PRON- recommend store -PRON- akola jewelry fabric bag provide prevent scratching tangle remove -PRON- akola jewelry apply perfume cosmetic physical activity',\n",
              " 'nyla feature horn layered glass delicate silhouette sure steal k gold tone plate brass recycle glass bead horn surgical steel ear post -PRON- akola jewelry -PRON- good -PRON- recommend store -PRON- akola jewelry fabric bag provide prevent scratching tangle remove -PRON- akola jewelry apply perfume cosmetic physical activity',\n",
              " 'make sterling silver necklace hand set multifaceted white zircon capricorns celebrate birthday december january finish lobster clasp size adjuster available ct rise gold plating item present latelita signature jewellery box clean damp cleaning cloth avoid prolong contact perfume hand cream soap',\n",
              " 'carmine extremely cozy comfortable elegant smock perfect casual friday office beautiful weekend gateway create delicate fleecy textile offer pleasant warm feeling organic gots certify cotton help -PRON- skin breath freely perfect people sensitive allergic skin just piazza del carmine heart brera milan carmine design heart la milla s eco collection sell product la milla plant tree',\n",
              " 'semi precious strawberry quartz pendant handmade -PRON- london studio make ct gold plate brass cm simple chain strawberry quartz natural quartz crystal red scarlet silver inclusion lepidocrocite hematite titanium -PRON- crystal physical energy vitality protection -PRON- heal crystal base chakra care avoid extreme humidity heat cause tarnish -PRON- gold vermeil silver jewellery da',\n",
              " '-PRON- lovingly handmade use -PRON- fine leather -PRON- year perfect -PRON- s soft characterful age beautifully -PRON- leather wash bag carefully handmade ensure -PRON- high quality -PRON- vintage inspired design super functional perfect use home -PRON- travel inside black waterproof lining zip pocket -PRON- arrive vida vida dust bag sale -PRON- guarantee provision school bag',\n",
              " '-PRON- use classic oversize shirt mini dress viscose satin fabric feel soft -PRON- want -PRON- hide zipper edge sleeve make -PRON- chic fabric composition viscose',\n",
              " 'classically elegant blended hypnotic beauty natural aquamarine gemstone bridal collection girl aquamarine gemstone pendant earring make poetically eye catch blue -PRON- big day feature aquamarine teardrop dangle gold plate fitting bridal collection girl aquamarine gemstone pendant earring delicate colour natural gemstone good use create subtle stylishly graceful addition -PRON- wedding day',\n",
              " 's inspire art deco hoop make unique statement earring great day night hoop mm x mm feature clear cz stone tarnish resistant heavy k gold brass -PRON- jewelry away follow help -PRON- jewelry stay gorgeous oil hair product perfume soap detergent chlorine salt water remove showering store baggie provide wear',\n",
              " 'lovely handmade gold paisley charm bracelet feature small paisley charm set white sapphire lovely bindi style bracelet really charming edge paisley charm hand finish texture add -PRON- s appeal sparkle white sapphire set charm make unique unusual bracelet perfect wear -PRON- stack bracelet -PRON- range lovely paisley bracelet availa',\n",
              " 'reversible triple wrap bracelet metal buckle jeff wan logo engrave texture calf leather smooth calf leather interior reversible buckle metal',\n",
              " 'brilliant necklace make freshwater pearl rhinestone border turquoise japan golden plated brass finding -PRON- wear blouse midi dress tunic look classy elegant -PRON- s suitable occasion day night -PRON- s nice gift birthday anniversary festival -PRON- contain nice jewelry box packed',\n",
              " 'classic circle drop earring earring perfect layer wear minimal look earring feature diamond cut circle make catch light craft high quality sterling silver finish classic ear wire match necklace available care clothing remove wash order come inside black gift bag free cleaning cloth ready gift -PRON- -PRON- piece sterling silver sil',\n",
              " 'say perfect bore -PRON- opt purity comfort refresh -PRON- look -PRON- classic white ronius watch -PRON- come tbilisi georgia idea brand -PRON- childhood friend grow popular georgian designer zviad tsikolia -PRON- good friend decide create watch colour -PRON- symbolize -PRON- friendship -PRON- watch minimalist colourful stylish deliver high quality fair price -PRON-',\n",
              " 'k gold plate sterling silver earcuff mm river pearl earcuff sell individually material k gold plate sterling silver jewelry care -PRON- advisable wear jewelry whilst exercise bathe shower beach piece expose water dry -PRON- gently thoroughly soft cloth moisture cause tarnishing weaken mechanism clasp',\n",
              " 'iconic necklace -PRON- newly launch bali birthstone collection feature natural rose quartz gemstone solid ct yellow gold disc choose wear polished brush reverse personalise hand engrave initial date remember stone heart token unconditional love rise quartz associate october birthday th wedding anniversary -PRON- just wear -PRON- -PRON- like colour small feature rise quartz charm',\n",
              " 'ab adaptation traditional military duffle bag adjustable shape rectangle trapezoid inside pocket mesh netting make japanese canvas japanese fabric cotton handle strap strong webbing polyester small inside pocket zipper closer large inside pocket fit laptop bag closure way zipper point adjustable opening adjustable shape close button make collaboration ulrike adam pattern prototype bag',\n",
              " 'cigarette loafer handmade laminated leather malleable smooth prioritize great comfort present incredible fit fully line leather available various fun colour shoe level outfit pair flat look effortless colour perfect blue jean suede leather professional care handmade portugal',\n",
              " 'denise dress cut fluid silk timeless black float body -PRON- flare sleeve flattering v neckline delicate belt define waist silk elastan dry clean',\n",
              " 'new spring summer -PRON- pippa bustier craft mid weight cotton structured piece bone smocked zip fastening wear -PRON- -PRON- poppy mini skirt ellie maxi skirt play proportion black cream expose zip fastening cotton fully line dry clean',\n",
              " 'short boxy jacket feature raglan sleeve pocket snap button embroidered lining woman satin mint green ribbon wool wash degree wash separately wash iron inside bleach tumble dry cold iron dry clean',\n",
              " 'ring perfect evening stroll city arch craft sterling silver ring feature natural genuine diamond carat diamond use micro pave setting ring plate kt rise gold vermeil piece long shelf life ring offer custom size ring range mm mm thickness ring beautifully present inspirational poem home write luvmyjewelry founder ceo',\n",
              " 'necklace make mm white pearl trim natural lapis lazuli gold plate brass finding beautiful white blue color combination summer wear -PRON- denim satin blouse midi dress occasion -PRON- s lovely gift birthday anniversary festival -PRON- contain nice jewelry case pack different plastic bead make machine gemstone bead slightly different colour',\n",
              " 'cozy christopher -PRON- double breasted cardigan sweater make gg superfine merino wool hand wash dry clean',\n",
              " 'inspire sculpture movement female body stunningly craft modern necklace grande chain ultimate bold statement add outfit design denote confidence beautiful ct gold vermeil necklace collection -PRON- donate -PRON- mao necklace sell nhs wipe jewellery gently soft cloth remove dirt oil wear help protect prolong look -PRON- advisable t',\n",
              " 'citrine sister aquamarine combine bewitching mix yellow body distinctive blue design effortlessly plunge waistline floor expose cut waist float hem make -PRON- feel seductive alluring time -PRON- wear -PRON- rest assure eye -PRON- especially -PRON- sunny golden yellow body sure hot colour season silk dry clean',\n",
              " 'pair hallmarked solid sterling silver star cufflink fully plate carat gold ct gold vermeil polished star sterling silver bullet toggle swivel link megastar collection unisex ct gold vermeil gold vermeil pronounce vur sterling silver gold plate sterling silver preventive care important maintain -PRON- gold vermeil jewellery -PRON- s good vermeil jewellery separate jewellery th',\n",
              " 'elia profoundly wonderful humble midi length open dress make mid weight soft touch leopard pattern fabric cupro fabric breath like cotton drape beautifully look feel like silk -PRON- skin vegan fabric fabric eco tex standard certification dress mermaid skirt open strap golden cuff button invisible centre zipper fabric cupro viscose care cold hand wash cool iron dry cleanable',\n",
              " 's escape fun whimsical nature ring craft sterling silver ring feature natural genuine diamond carat diamond use micro pave setting ring plate kt yellow gold vermeil piece long shelf life ring offer custom size ring range mm mm thickness ring beautifully present inspirational poem home write luvmyjewelry founder c',\n",
              " 'classic round white freshwater pearl earring sterling silver stud scroll ora piece jewellery craft hand unique order come package beautiful ora gift box note pearl organic gem vary slightly size shape colour pearl organic gemstone preserve -PRON- radiance avoid let pearl come contact cosmetic hair spray perfume detergent sea swimming pool sauna -PRON- r',\n",
              " 'center attention high heel great combination camel color kidskin leather deep purple suede sparkly gold gem die entirely make hand course wear -PRON- morning noon night camel kidskin upper camel kidskin aubergine suede loop vamp gold swarovski gem fully leather line adjustable buckle ankle mm heel suede cuoio sole strictly handmade italy protect shoe moisture harsh environment damage leath',\n",
              " 'winter sun collection originally design oliver goldsmith collection feature lightly tint sun lense intend remove brightness interior light sun s glare winter s day -PRON- use ease strain eye digital device today s collection -PRON- -PRON- popular style produce -PRON- small size -PRON- suitable indoor winter use gopas originally design c',\n",
              " 'd printing technology use kind dress combination traditional garment futuristic state art d printing technique highly inspiring exciting -PRON- -PRON- dress removable cargo pocket triangle window material d print accessory plant base corn potato sugarcane recyclable plastic pla fabric viscose polyester material d print accessory plant base corn potato suga',\n",
              " 'gift just present art concept apply diamond necklace sense -PRON- small everyday wear elegant make feel special pink sapphire shine mile away catch eye k rise gold ct white diamond ct pink sapphire',\n",
              " 'gorgeous gold mini lightening bolt charm hang gorgeous sterling silver hoop sweet easy wear earring available silver sterling silver hoop gold plate sterling silver charm avoid wet',\n",
              " '-PRON- priceless girl perfect everyday wear carat gold plate sterling silver coin necklace inspire hathor egyptian goddess festivity music dancing rachel jackson london jewellery sterle silver carat gold plate sterling silver wear -PRON- recommend -PRON- store -PRON- jewellery box -PRON- come minimise effect sunlight environment prevent chain tangle avoid contact w',\n",
              " 'necklace make natural freshwater pearl lapis lazuli gold plate brass leaf finding -PRON- wear long short necklace let -PRON- customize -PRON- look different length offer multitude way create look -PRON- -PRON- contain nice jewelry case pack different plastic bead make machine gemstone bead slightly different colour shape',\n",
              " 'attach -PRON- -PRON- tote -PRON- essential conveniently securely fasten interior -PRON- bag italian calf leather handmade italy silver magnetic snap button',\n",
              " 'lovely bracelet handmade -PRON- workshop -PRON- make sterling silver coat rich blue enamel -PRON- adjustable match earring bracelet size adjustable central motif mm x mm handmade jaipur india sterling silver coat blue enamel store -PRON- jewellery soft line pouch box separately -PRON- don t damage precious metal naturally tarnish exposure air perfume moisturiser make hairspray perspirat',\n",
              " 'large square scarf available place like home print create away week feel extremely happy return home london print celebration favourite piece place photograph london kew gardens victoria albert museum beautiful print orange red pink tone silk make italy dry clean',\n",
              " 'strand smoky quartz bead accent iconic gisy sterling silver toggle closure wear bracelet daily -PRON- vacation neutral bold color outfit good people earth metal fengshui sign come silk gisy bag picture use special non abrasive cloth avoid scratch new section cloth regularly avoid area intentionally oxidize design rub circular pattern follow',\n",
              " 'scarf cut silk satin england pin hem finish deep blue snakeskin print black white border tie piece loosely -PRON- neck loop handle favourite tote available grey make england silk dry clean',\n",
              " 'like little secret -PRON- ear -PRON- solid eco ct gold mm ball earring essential everyday stud earring -PRON- -PRON- comfortable sleep sturdy withstand shower make -PRON- lily flo jewellery s minimalism collection base philosophy capsule wardrobe design make life easy high quality versatile piece wear like second skin',\n",
              " '-PRON- green floral pyjama set craft luxury cotton available size s m l -PRON- nightwear collection feature gorgeous hand make block print contrast print feature pop seasonal colour -PRON- nightwear collection piece come match cloth bag make perfect gift cotton',\n",
              " '-PRON- beautiful bee stud cross body come season colour inject fun -PRON- spring outfit wear day night care -PRON- leather clean wipe damp sponge follow dry cloth nature product avoid contact light coloured fabric upholstery colour transfer composition leather natural product variation -PRON- leather item',\n",
              " 'modernist design standout appeal logo star hoop earring recogniable northskull creation blend singular hoop star charm engrave -PRON- logo arrow centre silver earring add cool look wipe jewellery gently soft cloth remove dirt oil wear help protect prolong look -PRON- advisable wear jewellery swimming pool jacuzzi sauna steam room whilst exercise bathi',\n",
              " 'piece drapery collection inspire ballet movement organic shape make costume dancer motion statement ring design custom algorithm simulate gravity force fabric drape finger person wear -PRON- piece d print cast brass plate karat gold -PRON- feature freshwater pearl add playful touch polished gold surface material karat gold plate brass care clean',\n",
              " 'baori collection inspire chand baori rajasthan baori bawli mean step sanskrit perfectly symmetrical architecturally sound engineer century forever fascinate cool dark subterranean world passageway chamber strong image -PRON- mind labyrinth step provide access water jewel tree london product make sterling silver piece natural silver finish',\n",
              " 'mini dress touch s excess thank puff sleeve flippy skirt ultra ornate print cut silk crepe chine v neckline dress flippy skirt belt waist cinch complete effect gold hoop -PRON- match enchant leopard hairband composition silk crepe du chine care dry clean',\n",
              " 'solid eco ct rise gold reach star bracelet -PRON- stardust collection inspire amazing thing happen star align bracelet feature mm handmade disc individually slice hammer flat solder delicate tri belcher chain feature springer clasp dainty sturdy collection echo magic stardust fall heaven delicately -PRON- body piece handmade unique',\n",
              " 'grey italian lycra eco friendly hand embroider swarovski crystal stretch tulle fabric lining mid rise waist fit true size fold iron rinse contact salt water chlorine hand wash cold water use mild gentle soap lie flat dry',\n",
              " 'fit true size -PRON- suggest order -PRON- normal size make statement rio red hot update -PRON- tailored wardrobe -PRON- perfect -PRON- suited separate craft -PRON- -PRON- comfy bi stretch tailoring focusse sleek flattering shape -PRON- love add extra bit wow rio trouser beautifully bright crimson hue perfect pack punch -PRON- half rio jacket wear -PRON- little black craft bi stretch t',\n",
              " 'calabaza sweatshirt come cornelli hand embroider illustration orange typical fruit valencia -PRON- inspiration resort oversized sweat make soft cotton jersey -PRON- feel extra cozy hand embroider sew barcelona spain wash low heat ironing dry cleaning tumble dry cotton',\n",
              " 'military inspire jacket scottish tartan design celebrity designer pelayo d az extraordinary jacket make wool pamper small foremost embroidery make meter black soutache cord marvelous design complete edge pipin cord brass button hand stitch wild piece fast fashion industry -PRON- -PRON- s synonymous quality hand write let -PRON-',\n",
              " 'nancy classic come stay large wide glass face character exclusive expression combination oversize glass wide frame unique make -PRON- modern timeless glass -PRON- want use year year uv protection scratch resistant polycarbonate lense high quality optical hinge clean bag include formable temple metalcore',\n",
              " 'fun flirty heart diamond stud earring set mini diamond ultimate sparkle wear -PRON- -PRON- pair -PRON- huggie stud fun ear stack sale support survivor campus sexual assault -PRON- nonprofit restore dignity provide rent medical tuition assistance diamond ct k yellow gold protect -PRON- jewelry household chemical harsh soap sunlight excessive heat cold remove -PRON- jewelr',\n",
              " 'ct gold beaded ring round white opal charm wear stack gold jewellery time regular gold plating order come package beautiful ora gift box protect -PRON- jewellery piece individually place pouch soft line box stop -PRON- scratch tangle ideally store -PRON- jewellery dark cool dry place try piece apart avoid friction damage tangling',\n",
              " 'elegant k gold hand plate brass bracelet clasp closure make new york city wipe dry cloth store dry area',\n",
              " 'design latelita s gold plate sterling silver birthstone earring month february feature central amethyst gemstone -PRON- rich purple tone cute stud earring set twisted rope design dip ct gold earring make ideal birthday gift especially lover gemstone delicate jewellery amethyst natural tranquiliser -PRON- relieve stress strain soothe irritability balance mood swing dispel anger rage fear anx',\n",
              " 'finely detailed sterling silver pendant adorn imprint feather company hang silver link chain sterling silver',\n",
              " 'design motley crew -PRON- -PRON- hillside crossbody tote play -PRON- thing stylish secure lightweight versatile -PRON- young professional carry bag handle wear -PRON- cross body hand free explore make italy smooth calf leather canvas lining',\n",
              " 'beautiful bride bridesmaid alike bridal collection tribal rise quartz necklace use unique eye catching design alongside natural beauty rose quartz create statement make necklace add feminine class -PRON- special day bridal collection tribal rise quartz necklace feature garland individual enchanting rise quartz gemstone gold chain fringe tassel drape gold plate salome token suspend centre blend uniq',\n",
              " 'jasper onyx quartz long necklace set sterling silver finish carat gold plating beautiful elegant necklace feature stunning rare marble like stone add -PRON- outfit perfect day evening wear wear single long chain double away liquid',\n",
              " 'heath spice known -PRON- beautiful range colour longevity handbag create equally practical work study cosy weekend walk short getaway classic twist kartu heath -PRON- good friend -PRON- wouldn t -PRON- promise handbag main section polyester mix lining small zippered pocket -PRON- phone key inside spacious leather pocket handbag close metal',\n",
              " 'golden staple -PRON- need -PRON- k gold plate romee curb chain necklace add stylish hint texture -PRON- look basic reinvent philosophy chain story ring s nostalgia transitional classic feature variety chain type adjustable length effortless piece -PRON- wear brass k gold plating curb chain lobster clasp closure nickel free jewel deserve little loving care avoid contact',\n",
              " 'kt gold plating natural white zircon clean dry clean cloth',\n",
              " 'contemporary mismatched threader earring square round purple amethyst gemstone dangle chain ct yellow gold quick buff jewellery cleaning cloth remove metal tarnish gemstone look glossy',\n",
              " 'nomadic location inspire natural texture elegantly dramatic silhouette define -PRON- collection style hand make india cut organic silk fall loosely floor sweep tiere hem ultra low floaty syros hand dye golden palm green ultimate statement dress bohemian luxurious -PRON- effortlessly beach evening year year feeling freedom silk handwash gently',\n",
              " 'multi cluster ear cuff hand craft sterling silver plate set cubic zirconia stone wear simply mix match stud earring mini hoop ear jacket -PRON- multiple piercing -PRON- ear -PRON- wear -PRON- ear -PRON- extra piercing unexpected flash silver sell individually select option -PRON- like ear cuff -PRON- left right ear -PRON- new piece good condition store -PRON- t',\n",
              " 'necklace make pearl natural lapis lazuli gold plate brass finding trim -PRON- s classy elegant prefect piece complement outfit day night -PRON- s nice gift birthday anniversary festival -PRON- contain nice jewelry case pack different plastic bead make machine gemstone bead slightly different colour shape',\n",
              " '-PRON- brief -PRON- cover way quick drying fabric soft hand feel -PRON- thing worry power workout bond seam prevent chafe minimal visible line sweat wicking second skin feel breathable cotton gusset lining reuse packaging -PRON- -PRON- new wash bag wash similar colour c iron tumble dry drip dry',\n",
              " 'beautiful clover necklace s attention contemporary design accent pave set cubic zirconia stone perfect layering beautiful -PRON- make sterling silver kt rise gold vermeil finish piece perfect complement fashion forward modern woman want design subtle day glamorous make statement need available rose yellow tone avoid contact chemical product',\n",
              " 'stretch cotton longsleeve shirt ruffle talented signature button chest area different color cotton elastan maschine wash cold tumble dry warm iron',\n",
              " 'stunning vintage inspire wishbone charm simple classic piece signature katie mullally wishbone collection bespoke design say bring good luck wearer wishbone charm wear inch gold plate curb chain katie mullally design charm collectable delicately layer piece charm chain solid sterling silver gold plating carat micron katie mullally charm',\n",
              " 'denim dress short sleeve construct durable cotton mix denim punctuate silver snap fastener shape straight silhouette -PRON- feature detachable belt cinch waist style heeled sandal sneaker lay look composition cotton polyester lining care instruction machine wash degree',\n",
              " 'beautiful transparent mesh t shirt basic fit design man woman -PRON- round neckline somewhat wide sleeve wear -PRON- pair jean underneath suit jacket layer nice styling option endless withe turn head effect nylon wash degree washingbag',\n",
              " 'luce long dress make buttery satin fabric design feature discreet v neck frame black lace strap small slit confine fit comfort forever piece essential woman s closet versatile -PRON- style leather jacket casual day -PRON- giulia blouse special ocasion palazzo vii look -PRON- bella pump wash care hand wash gently garment leave -PRON- flat dry handmade portugal',\n",
              " 'open new perspective elegance ring craft sterling silver ring feature natural genuine diamond carat diamond use micro pave setting ring offer custom size ring range mm mm thickness ring beautifully present inspirational poem home write luvmyjewelry founder ceo store jewelry clean dry place protect dust humidity moisture extreme temperat',\n",
              " 'circle round eternally -PRON- beginning end circular disc make sterling silver personalise create unique memorable gift disc personalise engrave initial maximum short message character special symbol disc appeal want pure sleek classic design beautiful gift child parent partner timeless piece hand craft',\n",
              " 'let peace -PRON- big dream kaftan handmade organic handwoven khadi cotton handprinte -PRON- artisan use ancient craft wooden block print deep v neck split sensual edge relaxed silhouette -PRON- love simplicity message piece feeling freedom handmade artisan organic cotton',\n",
              " 'care extra mustache set golden stache perfect way class -PRON- sleeve -PRON- odd fall love pair straight away -PRON- encourage -PRON- -PRON- moment concept mustache really grow -PRON- brass gold coating engrave logo',\n",
              " 'new summer dress shape -PRON- exclusive palm print fredrika dress feature v neck long length pretty tie waist -PRON- love contrast tasseled tie belt vibrant palm print sale item directly rainforest trust purchase protect threaten tropical forest save endanger wildlife partnership community engagement average -PRON- cost project acre raise s',\n",
              " 'dangle earring handmade k white gold gram diamond ct jewelry make hand feature detailed workmanship careful avoid drop bang physical impact result damage piece include stone fall care -PRON- jewelry caution away harsh chemical perfume water -PRON- wipe clean polishing cloth maintain beautiful shine mind extensive exposure saltwater su',\n",
              " 'minimalist textured ring polki diamond set ct gold plate sterling silver polki diamond make unfinished natural diamond polki essentially uncut diamond earth natural way enhancement lab creation diamond know antiquity stone invincibility brine victory superior strength fortitude courage -PRON- wearer -PRON- associate lightning fearlessness -PRON- property protection',\n",
              " 'century princess wear dress like design matsour pink cocktail dress entirely craft embellish flower extra comfort provide pure natural silk lining extra layer skirt add beneath petticoat create skirt effect exquisite formal dress showcase modest v neck intricate flower sew entirety bodice sleeve skirt dry clean',\n",
              " 'craft lustrous crepe silk beautiful skirt make statement midi silhouette delicate feminine pleat classic colour combination make piece wonderfully versatile wear silk blouse office bold accessory evening fully line conceal zip fastening composition silk care dry clean',\n",
              " 'skirt -PRON- versatility good look midi length line skirt swish -PRON- walk wear heel pump silk blouse jumper main composition silk garment care specialist dry clean size fit cut comfortable fit garment length measure cm model wear size uk care dry clean',\n",
              " 'cuff studio bring -PRON- comfortably noticeable ear cuff town just right size check -PRON- win t feel -PRON- charm everyday life downtown ear cuff great alternative lady gentleman don t ear piercing want flat ear cuff hug middle ear inner outside -PRON- jewelry handmade lithuania netherlands jewelry handmade',\n",
              " 'sleeveless line silhouette jungle print fabric black tencel elastane fabric rest garment black cm wide vertical panel tencel elastane fabric round neckline round hem cm short length size cm cm respectively gentle machine wash turn garment inside cold water mild detergent iron reverse tunble dry bleach',\n",
              " 'sleep ultimate luxury -PRON- gorgeous slinky slip -PRON- kansas summer stripe print dress adjustable strap cut bias flattering fit come luxury brand gift box silk hand wash warm water',\n",
              " 'hand string sandalwood necklace feature grey toned baroque pearl pav diamond clasp -PRON- accent piece detachable pyrite bead tassel -PRON- believe -PRON- make necklace extremely versatile double strand create chunky look wear -PRON- long sleek sexy look way -PRON- choose style -PRON- -PRON- t wrong wipe damp cloth soap necessary lie flat dry',\n",
              " 'unique unisex screw cuff bracelet beautiful new signature screw cuff bold design handcraft high quality titanium steel finish layer k gold piece come opes robur designer box cuff pouch certificate authenticity hallmark opes robur jxp k k gold plate stainless steel suitable sensitive skin wipe clean jewellery polishing cloth avoid contact harsh chemical',\n",
              " 'whimsical fun clutch carry precious tree grow dr suess watchful lorax feature embroidered vintage obi silk exterior vintage green silk obi interior handmade cm x cm fold vintage nature obi sash use make friend rhyme clutch lead slight imperfection fabric -PRON- relish history character silk make -PRON- perfectly imperfect care instruction spot clean clean damp cloth',\n",
              " 'pocketful pearl earring lend touch sophistication -PRON- ear feature understated pearl accent pair -PRON- piece collection style -PRON- -PRON- exist ear stack easy effortless feature consciously source freshwater pearl sea light series design kind reminder modern woman set -PRON- daily intention care step breathe explore self love lightweight natural pearle',\n",
              " '-PRON- don t feel pointed thing life -PRON- soon soft grant inspire thorn rose spikey ear cuff ensure alternative twist outfit spike follow halfway line wearer ear purchase leave l right r ear wear singularly double dramatic look pierce earring stud butterfly fastening hook secure upper ear handcraft use sterling silver high polished ct roseg',\n",
              " 'make summer day -PRON- good -PRON- white summer cotton dress green strap glass button breathable cotton design allow breeze air refresh -PRON- -PRON- add stylish finish stunning summer beauty stunning glass brawn button close dress soft cotton fabric make -PRON- great everyday comfort hot summer day feature make premium grade cotton fabric material beautifully make green shoulder strap glass button clo',\n",
              " 'flirt shirty cousin dress feature mandarin collar super simple shape available copper plain blue print silk shirt sure wardrobe staple -PRON- jazz -PRON- jean power -PRON- love wear -PRON- vintage levi s coloured suede slipper pull relaxed look mother pearl button dry clean silk sandwashe satin rusty orange slit mother pearl matching',\n",
              " 'non wired bra craft saturated pink floral lace exquisitely silvery ring hook closure -PRON- sheer appearance add sensual touch -PRON- contemporary shape wear delight pantie delight high pantie complete set white pantie match white strap lace nylon elastane make italy elastic scallop edge elastic source production leftover uk bra strap elastic make italy hardware ho',\n",
              " 'design comfort style maya nightwear range make soft modal feel beautiful wear showcase vibrant floral print pale blue eye catching range exude jubilant tranquil exterior brighten -PRON- day design love new zealand print modal modal engineer cellulose plant fibre beautiful wear -PRON- feel silk smooth breathable cold machine wash',\n",
              " 'extra large hallmarke solid sterling silver pow pendant plate carat gold removable pendant come cm carat gold plate sterling silver belcher chain average weight pendant gram pop art collection available bam silver xl pendant model scale gold vermeil hallmarke sterling silver plate carat yellow gold sterling silver preventive care important maintain -PRON- gold vermeil jewellery care',\n",
              " 'easy wear summer basic dry clean',\n",
              " 'curl delicate romantic knicker black flock tulle oriental design drawing japanese cherry tree sakura -PRON- feminine exotic touch line -PRON- wild chic collection match -PRON- -PRON- lily japan bralette versatile set wild vibe couture lingerie make italy flock fabric pl pa ea pl ny sp delicate retr style hand wash low temperature brief make flock tulle -PRON- use luxury fabric plea',\n",
              " 'beautify -PRON- hand season statement making ring ring beautifully craft light weight sterling silver complete ornate filigree design connect chain order come inside black gift box free cleaning cloth ready gift -PRON- -PRON- piece sterling silver silver naturally tarnish time wear help -PRON- tarnish free long anti tarnish tab inside box -PRON- s recomm',\n",
              " 'pure silk perfect tailoring total luxury glamorous blazer statement leopard print tick right box -PRON- wear softly cut bodysuit way add removable d colletage accessory modest office look easily apply simple snap closure wear plunge neck -PRON- sophisticated evening style notch lapel split handcuff add right perfect tailored finish pair straight cut trouser',\n",
              " 'classic style sleeveless wear white reverse turquoise print hand paint isabel print silk satin italy dry clean bleach tumble dry silk cotton make london',\n",
              " 'cool sophisticated style drop shoulder dress perfect summer event style stretch invisible zip seam split style make uk limited edition dress length cm machine washable polyester spandex',\n",
              " 'delicate feminine design perfect stake wear day piece silver slim screw cuff handcraft titanium steel complete high polished finish piece come complete luxury opes robur boxset certificate authenticity hallmark opes robur jxp wipe clean jewellery polishing cloth maintain beautiful shine avoid contact harsh chemical',\n",
              " 'sweet juicy looking pineapple hang chain handmade sterling silver dainty necklace look gorgeous make -PRON- perfect accessory everyday wear match piece available lucy flint jewellery range come beautifully package lucy flint jewellery brand box make solid sterling silver clean -PRON- silver jewellery regularly jewellery cloth dip -PRON- sparkle chemical beauty product perfume c',\n",
              " 'natural beauty dark blue lapis lazuli wondrous sky night make perfect drop sparkling star constellation zodiac pendant necklace reverse pendant equally beautiful feature cut star lapis lazuli peep engraved -PRON- star sign elegant aquarius birth sign pendant necklace perfect covet delicate jewellery add sparkle sterling silver encase disc lapis lazuli',\n",
              " 'round shaped shirt feature volume cut -PRON- high cuff sleeve construct cotton polyamide elastane cotton polyamide elastane wash degree wash separately wash iron inside bleach tumble dry cold iron dry clean',\n",
              " 'green colour earth natural peridot gemstone -PRON- beauty shine -PRON- setting fully adjustable sterling silver bracelet -PRON- bring delight wearer day especially wear tandem match earring peridot adore ancient egyptians favour -PRON- famous queen cleopatra natural peridot day national gemstone egypt celebrate way -PRON- glow deep green artificial lig',\n",
              " 'lover s eye woman s organic tee black regular fit t shirt soft touch -PRON- feature subtle graphic print chest brand woven label hem make gots certify organic cotton deni -PRON- chief designer photoshoot -PRON- living room lockdown uk -PRON- cm tall wear t shirt size s -PRON- correct size check sizing information tee make gots certify organi',\n",
              " 'sweet juicy looking pear handsome weight tactile feel touch -PRON- quality feel wear pendant hang trace chain make hand hallmarke birmingham assay office delightful necklace complete outfit come beautifully package lucy flint jewellery brand box make solid sterling silver hallmarke birmingham assay office clean -PRON- silver jewellery regularly jewellery cloth dip -PRON- sparkling',\n",
              " 'drop earring perfect accessory everyday grind craft sterling silver earring feature natural genuine diamond carat diamond use micro plate micro pave bezel setting earring plate kt rise gold vermeil piece long shelf life earring drop mm ear lobe mm wide mm earring beautifully present inspirational poem home wr',\n",
              " 'small pouch pretty pink title -PRON- brand new range stylish pouch feature popular design charfleet range block colour design pretty pink title complete zip make pvc cotton stylish modern pouch accessory season poly cotton line coated pvc inner',\n",
              " 'code ing gross weight gms gold purity kt gold weight gms diamond weight cts note ring size available make order jewelry make hand feature detailed workmanship careful avoid drop bang physical impact result damage piece include stone fall care -PRON- jewelry caution away harsh chemical perfume water -PRON- wipe clean polishing cloth maintain beaut',\n",
              " 'stylish diamond cross pendant suspend sleek k yellow gold chain -PRON- exclusive collection approximate length material kt gold material color yellow gold approximate length closure spring clasp stone diamond diamond weight ct average color h average clarity si',\n",
              " 'perfect gift -PRON- -PRON- tao letterbox gift set -PRON- favourite classic navy exterior surprise fenella smith fun line package -PRON- slick black dust bag send box small fit letterbox really perfect gift wipe clean',\n",
              " 'warn attempt eat -PRON- simitri clutch matter delicious -PRON- look -PRON- gold candy make lot love care ingredient include ton creativity workmanship -PRON- s frosted gold bit colourful stone flavour childhood nostalgia try -PRON- reach adult -PRON- gorgeous statement piece gold crystal multi colored stone stud clutch magnetic belt closure lush black velvet interior l',\n",
              " 'clementine color silk tassel dangle molten metal accent -PRON- celia statement earring length drop k gold tone plate brass silk tassel braid raffia bead recycle glass bead surgical steel ear post ae clem make uganda -PRON- akola jewelry -PRON- good -PRON- recommend store -PRON- akola jewelry fabric bag provide prevent scratching tangle remove -PRON- akola jewelry apply perfume cosmetic physical activity',\n",
              " 'elegant spring coat knee length material jacquard viscose line professional cleaning',\n",
              " 'cozy jameson long sleeve double face print crew neck sweatshirt hide zipper perfect chilly night cotton modal',\n",
              " 'crepe skirt geometric lace hem mini skirt dry clean',\n",
              " 'volume sleeve elegant touch cut fit type body fabric polyester dry clean delicate carefully overload cleaning process term chemical mechanical thermal carefully let environment wet bleach',\n",
              " 'yellow neon craze continue v neck sleeveless blouse neon yellow lace neon yellow sequin yoke -PRON- fit variety garment -PRON- asymmetric viscose skirt yellow neon stripe good care delicate hand wash composition viscose polyester make turkey',\n",
              " 'need adjust -PRON- screen really yesteryear ombre clutch katherine hepburn love carry suave black white world -PRON- leave -PRON- believe beautiful lie don t -PRON- doesn t matter remember -PRON- say complain explain delicate nature hand embroidered embellishment handle care',\n",
              " 'mens cosmetic bag salteksnis loyal companion kartu mens briefcase sage lover new experience extraordinary adventure modern design praticality step salteksnis spacious manly travel accessory stylish overall everyday look salteksnis fit bathroom neccesitie perfume little thing man wouldn t spend -PRON- day need worry day',\n",
              " 'spring look -PRON- gorgeous large flower noora dress cute spring day brighten -PRON- weekend perfect weekend away trip country pub main composition silk size fit fit true size garment length measure cm model wear size uk garment care specialist dry clean',\n",
              " 'tourmaline crystal property serve powerful energy protector carry stone help -PRON- pick people s toxic energy make -PRON- -PRON- k rise gold ct black diamond ct tourmaline',\n",
              " '-PRON- offer -PRON- clubmaster classic chronograph watch tortoise shell acetate black dial rise gold dressing elegant sophisticated -PRON- compliment -PRON- outfit -PRON- business meeting -PRON- party night dome mineral crystal glass water resistant m -PRON- really -PRON- watch high quality japanese chronograph movement date function eye important home time watch accessorise -PRON- heart content -PRON-',\n",
              " 'work sophisticated cute wide leg palazzo trouser total staple -PRON- wardrobe style crop body main composition silk fit true size cut comfortable fit skim hip size fit classic fit size inside leg length measure cm model wear size uk care dry clean',\n",
              " 'mandible ring hand carve anatomically correct jaw bone ring hand make london solid recycled silver piece hand make sized finish order',\n",
              " 'square chain inverted drop wear -PRON- casual chic outfit palladium tone necklace make -PRON- studio brass component solder hand enrich genuine peony pink crystal swarovski make italy palladium plate brass nickel free lead free cadmium free good preserve -PRON- jewel rosaspina firenze follow simple rule avoid contact water cosmetic perfume body lotion hair spray damage finish jewe',\n",
              " 'self tie waist v neck midi length cross machine washing c polyester polyurethane',\n",
              " 'loose pant pocket waistband satin effect fabric polyester',\n",
              " 'indigo dye long sleeved sweatshirt make organic ring spin comb cotton incredibly soft touch natural feel skin slogan embroider london available anthracite embroider london organic cotton machine wash',\n",
              " 'good birthday gift -PRON- love -PRON- hand craft -PRON- experienced jeweler precious material pisces zodiac constellation necklace k yellow gold diamond make diamond solid k gold plate mean durability hypoallergenic long color fade come authenticity certificate -PRON- house gemologist luxe gift pack simple elegant necklace win -PRON- compliment -PRON- wear',\n",
              " 'explore -PRON- golden universe fall love -PRON- jewellery gold just dot s golden outfit sterling silver',\n",
              " 'asymmetrical look silky cotton lace applique long sleeve main fabric viscose rayon washing machine c',\n",
              " 'silver turquoise stone ring sterling collection collection speak intricate varied design present -PRON- ve focus build collection silver silver jewellery use costume jewellery bc backbone modern jewellery today -PRON- strip gold plating focus raw material collection -PRON- ve manipulate raw silver form possible far -PRON- innovate modern',\n",
              " 'petite stud earring feature small crescent moon ascend size star adorn latelita signature sparkle versatility pretty earring allow -PRON- wear office attire little black dress evening pierce earring butterfly fasten great pairing star moon drop necklace material sterling silver handset micro pave white zircon package item present latelita london signature packaging care instruc',\n",
              " 'let -PRON- lobe talking teardrop fan diamante earring pair statement stud feature cubic zirconia gem bold teardrop fan design perfect petite pair add little sparkle -PRON- look curated ear series design woman mind feature easy stack earring pierce stud celestial ear cuff multi pierced look piercing need remix curate ear stack uniquely -PRON- butterfly earring sterling silv',\n",
              " 'sara dress extraordinary elegant cool -PRON- eclectic lay piece carry -PRON- entire day ease ice blue fabric decorate leaf embroidery motif skirt end asymmetric detailing spaghetti strap fit self tie fit square neckline split maxi dress end ankle style -PRON- light weight jacket sneaker open point heel delicate machine wash recycle polyester lining viscose',\n",
              " 'woman s red grey helianthus luxury tote bag feature contrast colour block panel chunky strap internal pocket fasten press stud make uk roll end hainsworth son supple high quality melton wool production colourway limit piece fabric shell roll end wool make england dry clean',\n",
              " 'sweet delicate pearl classic hoop freshwater cultured pearl mm solid k yellow gold hoop item handmade -PRON- truly unique piece jewellery total length earring cm hoop internal diameter mm thickness mm earring sell individually -PRON- like pair order quantity note -PRON- stone natural colour stone vary slightly -PRON- promise good colour ma',\n",
              " 'let s introduce -PRON- limited edition collab alma mikelsone x chit designer ifa school paris design set day dreamer free -PRON- wild soul brazilian cut brief new brief enhance combination jungle print jersey contrast green make italy lace lace transparency awaken audacity -PRON- spirit finesse elegance color recall exotic destination thrill adventure th',\n",
              " 'rainbow bralette recall warm color earth exotic destination ancient culture embroidery geometric shape design chit produce locally italy blend african yellow red recall distant majestic land green lush forest choose color rebirth life rainbow set design thinking wild spirit woman travel soul push -PRON- travel curiosity',\n",
              " 'cast -PRON- mind glorious day -PRON- childhood enjoy -PRON- playground climbing frame slide fun fair remember -PRON- favourite song wiggle -PRON- body rhythm present -PRON- scribble doodle memory happy moment -PRON- life wiggle wiggle collection let wiggle wiggle bracelet -PRON- bubbly vibrant youthful personality bracelet make sterling silver wit',\n",
              " '-PRON- favourite cross body bag colour right trend summer perfect coral colour compliment -PRON- summer wardrobe make fine soft oil leather bag little crease bump leather -PRON- soft -PRON- wear -PRON- mark bag new dimension -PRON- follow -PRON- -PRON- journey -PRON- like -PRON- leather smooth uniform bag -PRON- -PRON- like -PRON-',\n",
              " 'montpelier feature lustrous golden south sea pearl hang opposite beautiful chain k yellow gold allow individual pearl shimmer -PRON- individual glow classic contemporary pair earring perfect addition complete outfit pearl care daily care pearl organic gemstone vulnerable acid alkaline extreme humidity preserve -PRON- pearl radiance avoid let -PRON- come contact cosmetic hair spr',\n",
              " '-PRON- favourite stone unusual -PRON- lot compliment whilst wear ring case sterling silver ct gold vermeil care -PRON- piece silver jewellery naturally tarnish time make sure protect -PRON- jewellery minimise remove -PRON- jewellery apply scent lotion potion remember chlorine especially damaging use soft lint free cloth silver cleaner clean sterling silver gold plate jewellery reduce tarni',\n",
              " 'waimea cotton bracelet create man s wrist summer make fashionable simple statement -PRON- s manufacture cotton rope panareha branding engrave old silver shackle beige colour black cotton old silver shackle',\n",
              " 'modern high waist luxury swimwear inspire vintage silhouette -PRON- complete light fabric ruffle fit traditional princess seam magnolia make entirely -PRON- italian eurojersey make -PRON- extremely comfortable long lasting wear magnolia pair -PRON- magnolia color block solid color pallet hand wash rinse cold bleach lie dry',\n",
              " 'valencia -PRON- s v neck midi shirtdress cut orange check cotton seersucker -PRON- puffed sleeve elastic band -PRON- choice wear -PRON- short long sleeve perfect spring season fully make barcelona spain orange valencia dress come soon wash soft ironing tumble dry cotton elastane',\n",
              " 'wrap unique design handcraft type high quality soft organic cotton stitching pristine french seam garment -PRON- truly hard working staple woman s wardrobe wear classic black trouser skirt piece statement jewellery heel jean sneaker comfort make london uk fabric trim organic cotton oeko tex standard certify produce austria',\n",
              " 'casual blouse tie sleeve perfect weekend button closure tie sleeve relax fit wash care hand wash separately dry clean gentle main fabric composition cotton',\n",
              " 'feminine samaah dress make cotton white geometric print indian floral print mango mojito color line style dress peplum tie strap slit dress style kimono heel pair earring cotton machine wash cold bleach iron low dry clean',\n",
              " '-PRON- taler tiny star bracelet ya wishin star easy love design feature string -PRON- tiny star bead -PRON- iconic taler star piece -PRON- firm fave bracelet add -PRON- jewelz juicy enamel finish -PRON- craftsman feature adjustable clasp closure choose -PRON- favourite colour wisely wild stack -PRON- clean soft dry cloth avoid contact chemical perfume hairspray',\n",
              " 'eye catch balcony bra feature gently padded silk low cup surmount french leaver lace cup line silk theatrical pleat fit bust cradle shoulder strap delicious raspberry silk satin whilst rest underband contrast panel black sheer mesh echo match brief thong s design carefully hand cut lace placement highlight delicate topstitching hardware plate ct gol',\n",
              " 'shine brighter star -PRON- meticulously craft beautifully style open star pendant necklace sparkle brilliance diamond pretty petite necklace feature star shape pendant adorn diamond elegant understated aesthetic make -PRON- perfect covet delicate jewellery add sparkle star use symbolize heavenly body purity good luck dream shoot star sign self fulfilment advance',\n",
              " 'make impression explosive sparkling drop earring incorporate baguette square shape cubic zirconia set rose gold burst outwards central large multi faceted zircon suspend small sunburst stud allow movement wear ideal covet statement jewellery add sparkle stud post butterfly fastening evening wear cocktail party black tie material sterling silver ct rise gold plating handset',\n",
              " 'poplin crop shirt centre placket ruffle relaxed sleeve cotton garment unfinished hem raw edge fray',\n",
              " 'gold plate faux fur tiger bangle big cat lover want make statement endanger specie polish dry faux fur water',\n",
              " 'oversize hoodie s climate make organic cotton pastel color combination medium knitwear ideal proposition spring summer elastane addition ensure comfort guarantee original shape high quality fabric left characteristic loop fluff leave mark clothe protective wash mild detergent iron c composition cotton spandex',\n",
              " 'seam tee circle park construct soft comb cotton single asymmetric seam extend round t shirt classic piece unique twist feature double cotton shoulder panel extra structure fit true size model',\n",
              " 'ring make order unique handcraft brush finish oxidize sterling silver gemstone solid sterling silver oxidize matte finish available size j q uk handcraft usa',\n",
              " 'special mm ctw blue solitaire sapphire halo stud earring set solid ct ethical gold -PRON- modern interpretation timeless style design create elegant silhouette -PRON- refined halo setting intentionally draw light angle spotlight -PRON- sapphire s brilliance -PRON- heavenly sapphire collection celebrate vibrance heavenly natural colour hue -PRON- personally source -PRON- sapphire celebrate beauty nature vibrant',\n",
              " 'simple glamorous seville dome necklace hang long pendant chain -PRON- intricate design inspire andalusian seville orange lbl bestseller add zest outfit make sterling silver -PRON- good clean -PRON- silver jewellery soft silver polish cloth gold plate item -PRON- good use gold polish cloth',\n",
              " 'life surprise discover -PRON- -PRON- pandora macrame box bag design sophisticated box silhouette construct hand dye pure cotton handy box bag carry -PRON- spring summer essential comfortably fit -PRON- mobile phone sunglass wallet lip balm hand sanitizer feature cotton strap handle soft cotton tassel sturdy cotton cord weave color blush pink composition pure natural cotton hand dye care instruction hand wash',\n",
              " 'perfect everyday stud craft solid sterling silver octahedron stud face face equilateral triangle sacred geometry octahedron represent element air link heart chakra center love compassion earring present myia s brand box ready gift material sterling silver',\n",
              " 'unique cocktail ring feature floral motif dramatic ruby encrust petal surround center brilliant round diamond set k white gold ri noor jewelry make hand feature detailed workmanship careful avoid drop bang physical impact result damage piece include stone fall care -PRON- ri noor jewelry caution harsh chemical away precious metal stone -PRON- use mild detergent warm water c',\n",
              " 'diamond triple dangle heart threader earring make kt white gold accent ct t w round diamond material kt gold material color white gold approximate weight gram closure ear wire primary stone diamond total carat weight ct average color j average clarity style threader',\n",
              " 'classic man woman timeless design replete edgy make spectacle unique accessory situation vision kjaerbede unique personal timeless look sunglass combine effortless simplistic nordic design functionality quality uv protection scratch resistant polycarbonate lense high quality optical hinge clean bag include formable temple metalcore',\n",
              " 'perfect classic white tee modern edge feature unique d hologram pattern whyte studio logo half sleeve shoulder hologram d print super soft cotton fabric gentle cycle hand wash',\n",
              " 'selene lunar goddess greek mythology piece hold immense maker energy cluster painstakingly hand bead freshwater pearl black spinel glisten pyrite mimic moon s greyscale shade pendant hand forge sterling silver bezel set rainbow moonstone stone flash wave pink blue purple chain black rhodium sterling silver diamond cut texture add sparkle rainbow moonstone ca',\n",
              " 'oversized design jumper -PRON- love knit season design soft cashmere -PRON- come funnel neck organic stitching style -PRON- -PRON- favourite jean weekend hand wash dry clean cashmere',\n",
              " 'delightful silk satin cami cut bias elegant figure skim silhouette theatrical pleat adorn low silk line cup enhance bust upper cup produce luxurious french leaver lace silk adjustable strap cross large stop lace panel art nouveau inspire line delicately intricate design slider ring strap ct gold dip cool handwash reshape whilst damp allow dry naturally',\n",
              " 'beautiful graphic earring -PRON- design seville oranges spain pair earring -PRON- provide unique versatility wearer simple gold circle transition daywear evening look addition intricate jacket piece carat yellow gold plate sterling silver -PRON- purchase gold plate item -PRON- collection -PRON- recommend -PRON- remove -PRON- jewellery shower swim exerc',\n",
              " 'florence bracelet feature round cut gemstone space evenly fine chain little droplet colour capture light bracelet wear capri collection inspire glitz glamour italian riviera combine sophisticated european design finish lobster clasp size adjuster ease wear great pairing florence multi coloured necklace piece capri collection simple everyday styling birthstone ma',\n",
              " 'earring feature petite butterfly atop dainty half hoop adorn latelita london signature sparkle perfect adore delicate jewellery add sparkle pierce earring butterfly fastening butterfly consider great luck perfect everyday styling beautiful accessory bridal jewellery bridesmaid gift material sterling silver dip ct rosegold handset micro pave white zircon package item present',\n",
              " 'craft k rise gold sterling silver combination contrast metal make necklace elegant perfect everyday wear necklace present myia s brand box ready gift material k rise gold sterling silver',\n",
              " 'midi wrap dress make cotton drape beautifully -PRON- figure dress decorate shoulder epaulet metal chain deep green cotton design slim fit conceal zip fastening cotton hand wash delicate machine wash temperature c',\n",
              " 'sirena s marine embroidery lure -PRON- adorn -PRON- skin exquisite pia designer sirena balconette bra brand new shape studio pia s ss collection provide luxurious everyday silhouette embroider sheer tulle inspire seaweed design house studio pia s london studio bespoke embroidery compliment jungle green cruelty free organic stretch silk satin encase adjustable strapping bra feature k gold pla',\n",
              " 'khaki green talbot silver rope bracelet design skilfully handcraft completely great britain quality -PRON- trust modern journeyman woman anchor crew ownership exploratory lifestyle enjoy happy good life combine british craft manufacturing discern modern minimalist style mm diameter performance marine grade polyester nylon rope gb secure solid sterling silver facet barrel clasp hook gb brace',\n",
              " 'light silk semi sheer buttery soft leather peter pan collar yoke cuff hand cut scallop edge sleeve lightly gather leather cuff fabric silk leather care instruction hand wash silk make italy embellish ireland',\n",
              " 'ideal accompaniment -PRON- lovely alphabet necklace gorgeous emerald charm pendant make perfect personalised gift stone expertly cut set luxurious ct gold plate textured mould great jazz -PRON- favourite necklace colourful season -PRON- sign symbol semi precious stone charm come vibrant amethyst ruby mysterious moonstone ottoman hand emerald charm come package lovely velvet pouch ready',\n",
              " 'lose glamorous history palea earring consider individual journey component -PRON- manage make -PRON- way surface modern artifact humble organic treasure encapsulate hand fabricate sterling silver bezel prong setting enjoy showcase aboveground forever treasure include gild magnetite jade california high quality black jade contain magnetite chrysanthemum burst elect',\n",
              " 'step elegance -PRON- new pandan clutch make exclusively -PRON- artisan central java matta clutch finely assemble hard clutch shiny gold frame design -PRON- sweet companion special celebration feel -PRON- solid natural pandan weave texture truly comfort hold story matta clutch make heart warm story share conversation hard clutch black velvet lining long gold chain strap available request wipe',\n",
              " 'organic cotton crew neck regular fit chest graphic tone tone logo embroidery arm ribbed neckline special westmark packaging organic cotton oeko tex certify',\n",
              " 'add bit glamour -PRON- look deco twin stone bangle bangle easily slip hand feature oval shape cutout -PRON- classic stone metal k gold plate hypoallergenic nickel free brass',\n",
              " 'tiffany midi dress easy wear choice everyday make luxurious silk -PRON- cinch -PRON- waist feature flattering v neck team -PRON- trainer easy everyday look silk spandex hand wash',\n",
              " 'ace nayman s signature hoodie brighten -PRON- style wear embroidery color hoodie day time add little fun -PRON- routine wear -PRON- evening make statement machine wash reshape damp wash similar color wash dry iron inside',\n",
              " 'beautiful statement earring easily step -PRON- casual look game clean use dry cloth mesh prevent surface scratch avoid prolong contact alcohol perfume cosmetic salt chlorinated water',\n",
              " 'necklace love -PRON- collection craft sterling silver kt yellow gold plating micron heart shape rhodochrosite stone -PRON- wear necklace vary length example choker lariat heart shape stone movable inspire power love collection feature movable heart motif signify follow -PRON- heart s inner voice love love yearn -PRON- heart -PRON- family relative fri',\n",
              " 'black spinel cufflink add touch elegance subtle glamour outfit black tie smart casual craft solid sterling silver set hand pick natural gemstone -PRON- ideal complement -PRON- dress sport watch black spinel cufflink perfect gentleman like understate -PRON- style comfort knowledge -PRON- wear high quality black spinel black spinel seek af',\n",
              " 'duty stylish essential jumper perfect layer outfit temperature drop -PRON- like cosy wear -PRON- knit culotte split funnel neck chunky knit wide rib composition acrylic polyester nylon machine wash cold hand wash recommend wash separately avoid colour transfer dry flat wash press reverse iron low heat apply gentle steam restore shape',\n",
              " '-PRON- amethyst gold texture ring wear stack craft sterling silver finish carat gold plating diameter stone approximately cm style ring available labradorite aqua chalcedony rise quartz -PRON- make ring size standard make size order contact -PRON- team info carouseljewel com regard make order wash',\n",
              " 'red fedora hat handmade embroidery band hat make super quality feel fedora floppy brim material wool feel grosgrain band dimension brim approximately spot clean necessary',\n",
              " 'classic cloche straw hat delicate tie grosgrain band hat make super quality seagrass straw perfect beach walk city loose weave allow -PRON- head breath comfortably material seagrass straw grosgrain band spot clean',\n",
              " 'short sleeve crop jacket allover print stretch gabardine fabric round neckline fasten decorative button white silver outer pocket chest cm hem fabric straight silhouette unlined length size cm gentle machine wash turn garment inside cold water mild detergent iron reverse tunble dry bleach',\n",
              " 'rise quartz gemstone necklace perfect valentines gift rise quartz know stone unconditional love friendship -PRON- open heart increase self love heal inner peace establish great compassion harmony oneself relationship natural gemstone source brazil sterling silver delicate chain necklace length gemstone measure approx mm store -PRON- jewellery pouch box minimise effect sunlight th',\n",
              " 'peachy polka s perfect bright day breezy feminine flowing drape provide day elegance elevated classic tea dress piece button delicately nip -PRON- waist look just good wedding -PRON- weekend brunch plan craft lightweight crepe gathering sleeve functional button dress occasion delicate machine wash',\n",
              " 'pair earring look elegant classic make black tiger eye japan golden plated brass finding -PRON- wear woman suit work piece dress dinner sweater weekend -PRON- nice gift birthday anniversary -PRON- contain jewelry box',\n",
              " 'single swarovski crystal dark grey pearl pendant embellish gold plate sterling silver leaf make thailand gold plate sterling silver swarovski pearl',\n",
              " 'figure hug cloud skirt high waste fasten invisible zip skirt feature print smoke cloud pair plain t shirt casual look material cotton washing hand wash cool water dry clean',\n",
              " 'comfortable soft t shirt -PRON- plus -PRON- hide unwanted curve t shirt base zero waste pattern sustainable feature organic cotton spandex gots certify cotton make new york -PRON- plant tree garment sell hand wash cold cold machine wash laundry bag',\n",
              " 'small moon star cradle diamond cut circle earring subtle striking order come inside black gift box complimentary cleaning cloth ready gift -PRON- -PRON- piece sterling silver silver naturally tarnish time wear help -PRON- tarnish free long anti tarnish tab inside order -PRON- s recommend piece -PRON- original packaging different metal away',\n",
              " 'travel perfect style -PRON- luxury italian leather passport cover perfect discern globetrotter design fit standard sized passport handmade london england passport case handmade soft luxury italian leather soft buff leather interior leather age beautifully boast characteristic patina time gold snap button closure internal sleeve -PRON- signature n damus london motif emboss brown leather patch',\n",
              " 'black brixham silver rope bracelet design skilfully handcraft completely great britain quality -PRON- trust modern journeyman woman anchor crew ownership exploratory lifestyle enjoy happy good life combine british craft manufacturing discern modern minimalist style mm diameter performance marine grade polyester nylon rope gb secure solid sterling silver facet arrow shape clasp match angled cla',\n",
              " 'refresh -PRON- workwear selection belted pencil skirt silver snap edgy asymmetric hem craft cotton style high rise waist oversized patch pocket wear -PRON- crisp white shirt simple tee depend occasion composition cotton care instruction machine wash degree',\n",
              " 'don t let -PRON- look sail away poorly choose pin -PRON- sleek golden anchor lapel pin save questionable outfit small shiny minimalist -PRON- lapel pin box lapel pin drawer lapel pin closet -PRON- allow say colour gold material brass',\n",
              " 'classic rope chain necklace make wear perfect base layer style piece wear -PRON- skomer studio day collection focus everyday piece versatile easily worn handcraft london make use sterling silver necklace handmade use sterling silver -PRON- skomer studio jewellery look shiny new gently wipe jewellery soft polishing cloth remove body oi',\n",
              " 'noir black marker print organic cotton t shirt women design print handfinishe completely great britain quality -PRON- trust modern journeyman woman anchor crew ownership exploratory lifestyle enjoy happy good life combine british craft manufacturing discern modern minimalist style certify organic cotton g m soft feel hand pick gmo free print handfinishe labelling decorative',\n",
              " 'behold petal power mint leather microfiber tabby adorn hand cut leather flower tone distressed silver bronze white leather hold place antique silver stud draw metallic tone embellishment wear parker distress silver leather skirt care instruction hand wash microfibre fabric leather microfibre',\n",
              " 'high waist length trouser wide cuff pocket model cm tall wear size s length cm cotton mashine wash c',\n",
              " 'shotof s v neck liguria blouse decorate delicate floral print encapsulate label s feminine mood loose fitting silhouette suit woman continue fluidity blouse pant wear -PRON- dress day night dress viscose',\n",
              " 'portland lighthouse lighthouse use guide mariner -PRON- way century famous ancient lighthouse pharos alexandria egypt c bc -PRON- guide light beacon hope symbol stability strength reliability careful expose -PRON- jewellery chemical household cleaner perfume cause damage discolouration surface -PRON- jewellery cleaning best non',\n",
              " 'design intricately design statement earring make impact light wear elegant chic natural mother pearl earring incorporate sparkle zircon hand carve floral inspire slice mother pearl central design sparkle zircon mother pearl subtly change colour -PRON- s iridescence catch light pierce earring creole fasten material sterling silver handset micro pave aaa grade cubic zirconia carve white mothe',\n",
              " 'standout rock sky green pendant perfect accessory make colourful statement stunning unusual green agate cave stone pendant natural sparkly druzy inclusion beautifully contrast ct gold plate vermeil sterling silver pendant unique shape colour composition semi precious gemstone adding uniqueness -PRON- piece difference natural inclusion green agate cave carefull',\n",
              " 'mellaris adelle dress yellow pink contrast -PRON- late dress adelle design fit flare silhouette -PRON- fall beautifully asymmetric hem line feature contrast colour panel shoulder v neck contrast colour shoulder asymmetric wash care hand wash separately dry clean gentle main fabric composition polyester elastane lining fabric composition polyester',\n",
              " 'maxi dress slit left height thigh make flow viscose fabric perfect warm day pocket seam collect elastic waist additionally tie sash neckline dress ruffled elastic beautifully expose shoulder -PRON- wear -PRON- asymmetrically cover arm sensually reveal hand wash cold water mild detergent soak unscrew spin remove excess water',\n",
              " 'backpack peppermint light fresh summer companion -PRON- aroma surely warm -PRON- chilly autumn evening -PRON- subtle kind manner afraid cold wind brave travel wild reach iceland wind whet african desert mislead deep -PRON- heart -PRON- elegant lady fascinate bright colourful hat high heel peppermint inspire woman dip life hand make -PRON- miss unexpected',\n",
              " 'leaf chandelier line earring k gold plate cast karat gold sterling silver micron thickness light weight comfortable wear perfect length statement earring -PRON- like wear day make mexico high quality light weight available silver cast karat gold sterling silver micron thickness -PRON- suggest avoid contact soap detergent chlorine chemical substance alter original c',\n",
              " 'comfortable modest zip bold daring unzip sustainable zip -PRON- dress dual unpredictable personality adjust zipper dress achieve -PRON- perfect styling reveal contrast yellow lining dress make cupro sustainable material come fine fibre cotton plant -PRON- delicate nature fibre use production cotton fabric regenerate gentle cupro mater',\n",
              " 'sweet tiny pearl wrap shiny cuff catch eye natural cultured pearl size mm ear cuff thickness mm internal diameter mm solid k yellow gold available k gold handmade piece unique note -PRON- stone natural colour stone vary slightly irena chmura jewellery design carefully handmade london -PRON- handcrafted nature piece unique vary',\n",
              " 'say hello good sell beach dress season bora lagoon maxi dress real holiday essential -PRON- love elegant maxi length make -PRON- great head beach bar day head evening choose stunning colour option composition viscose crepe silver lurex cool machine wash wash colour seperately',\n",
              " 'starkissed crescent cuff minimal chic craft sterling silver cuff feature natural genuine diamond carat diamond use individual flat pave individual plate prong setting cuff mm long mm wide cuff thickness range mm mm cuff beautifully present inspirational poem dreamer write luvmyjewelry founder ceo store jewelry clean dry place protect dust humidity',\n",
              " 'casual refine statement make embroidered cotton pant work -PRON- cozy pocket ecru lavender shade feature tonal embroidery monochromatic look ecru lavender make brush cotton twill sustainably produce model machine wash cold line dry',\n",
              " 'pendulum inspire cross pendant hang basic square shape layered chain -PRON- style chain suit -PRON- style outfit occasion -PRON- adjustable length material silver color white gold measurement l cm cm gift ready brand cotton gift bag include pendulum traditionally use harness subconscious treasured item mind -PRON- inspire -PRON- create -PRON- p d l collection embellish sense equilibrium',\n",
              " 'extra fine merino wool pull make italy rich tiger embroidery burgundy round neck pull wear -PRON- -PRON- miniskirt wide leg jean unisex wearability pull extra fine merino wool micron embroidery polyester filament machine wash inside c wool program dry cleaning careful embroidery iron inside low temperature protect cloth ironing',\n",
              " 'turquoise summer stretch jersey fabric cotton semi sheer fabric stripes cm width boat neckline sleeveless cm trim neckline armhole loose sack style silhouette measurement size s cm shoulder width bust waist hemline body length cotton gentle machine wash turn garment inside cold water mild detergent iron reverse tunble dry bleach',\n",
              " 'genuine italian lambskin bag make usa celestial half moon shape hide magnetic closure finish signature silver hardware wear handheld bag transition shoulder crossbody length unsnap strap pull strap extend snap place emboss dooz original aquarius zodiac logo pocket bag unique fact handmade product natural italian lambskin l',\n",
              " 'line skirt pocket line row small snap fastener length skirt cm skirt run small size big -PRON- actual size main fabric cotton virgin wool polyamide lining acetate viscose',\n",
              " 'diamond claw setting inscribe k genevieve collection s logo k gold total weight g pc diamond total carat ct diamond claw setting inscribe k genevieve collection s logo',\n",
              " 'classic stylish feminine charm unique dress come belt wear unique way thank separate fabric panel -PRON- recommend pair dress kitten heel minimal jewellery soft jersey fabric drape shoulder look change wear belt panel composition viscose spandex hand wash recommend wash like colour avoid colour transfer press reverse iron low heat',\n",
              " 'inspire italian renaissance art th century piece cherubini collection symbolize love joy live -PRON- maniacally curate -PRON- small order express wearer s deep romantic personality hand carve porcelain cameo depict cherub hold grape symbolize fertility prosperity -PRON- s bezel set hand engrave kt gold sterling silver frame cherubino cameo ring present vintouch ita',\n",
              " 'initial g precision engrave traditional inspire silver round signet ring perfect everyday wear ring present myia s brand box ready gift material sterling silver uk hallmarked',\n",
              " 'cute floral addition outfit little daisy necklace handmade solid sterling silver hang trace chain match bracelet earring ring available lucy flint jewellery arrive package pretty lucy flint jewellery brand box make solid sterling silver clean -PRON- silver jewellery regularly jewellery cloth dip -PRON- sparkle chemical beauty product perfume cause silver dull -PRON- s good',\n",
              " 'nautical hoop demand wear bikini preferably boat craft vintage s wire stock curved tubular brass -PRON- picture lightweight hoop travel -PRON- south france summer make k gold plating brass hypo allergenic post refinish s vintage stock wire increase longevity jewelry clean dry use soft cloth avoid wear -PRON- jewelry shower exercise wear apply perfume',\n",
              " 'elegant tailor cloak black wool cloak charlie spacious sleeve flap pocket breast pocket -PRON- close snap -PRON- look warm winter jacket fashionable coat -PRON- party dress -PRON- feel home -PRON- -PRON- wearable circumstance wool line acetate make europe fabric outer wool lining acetate wash care dry clean',\n",
              " 'vintouch jewel lovingly handmade brand s studio torre del greco italy use traditional technique responsibly source material cast karat gold sterling silver necklace string dainty irregular pearl small cameo s carefully hand carve fine porcelain wear -PRON- solo layer -PRON- different necklace stunning neck game present plastic free vintouch signature packaging entirely handcraft -PRON- workshop',\n",
              " 'cosmos universe regard complex orderly bring order daily chaos sparkle cosmos ring -PRON- simple elegant design cosmos ring great everyday styling fashion use intersect ring hand set spark zircon detailing wear normal ring buy small size wear midi ring stack ring talisman collection dramatic look material sterling silver handset micro pave aaa g',\n",
              " 'elegant amethyst gemstone ring make real statement amethyst quartz know stone violet flame help protect negative energy -PRON- use beat addiction help cure insomnia genuine gemstone brazil note ring carefully handpicke -PRON- raw beauty vary slightly shape size image piece unique kind store -PRON- jewellery pouch box minimise th',\n",
              " 'stay fresh minty marvel mint mark hand fan stamp collection inspiration stamp seal use traditional letter write layer screen print mark high grade cotton fabric exclusive pantone shade soft minty hue bounce fresh green lime make pastel perfect fan owner unique fan bear khu khu logo signify breath life protection ancient egyptian khu fan hand make spain',\n",
              " 'spring summer -PRON- way -PRON- gorgeous matilda dress camo print just item brighten day -PRON- long elasticate cuffed sleeve long row mini button run way dress flattering v neck line fit dress -PRON- main composition rpet crepe chine size fit fit true size garment length measure cm model wear size uk garment care c tumble dry low iron low',\n",
              " 'eternity band k white gold finger band include pave set ruby petal lotus motif pave set white diamond rinoor s imagine band incredibly versatile wear occasion ring finger stack color collection bold impactful look ri noor jewelry make hand feature detailed workmanship careful avoid drop bang physical impact result damage t',\n",
              " 'awake dream maybe -PRON- decide -PRON- present vision -PRON- experience -PRON- phantasmagoria amazing artistic illusion create talented mat miller -PRON- -PRON- good make garment really cozy comfortable good quality print completely embed material look really impressive -PRON- soft synthetic fleece high quality print matter time -PRON- w',\n",
              " 'leather strap perfect wear tightly crossbody short arm shoulder strap make new york city leather crossbody strap sterling silver plate hardware',\n",
              " 'timeless leather harlem clutch super soft nappa incredibly versatile wear silver gold face perfect size -PRON- essential ideal evening summer holiday magnetic fastening open gold hard wear design make exclusively uk dry clean composition exterior leather interior cotton lining',\n",
              " 'timeless silver plate polar bear swim iceberg true statement piece dry polish',\n",
              " 'necklace feature small petite star dangle crescent moon adorn latelita signature sparkle finish lobster clasp size adjuster ease wear complement moon star ring earring material sterling silver dip ct rosegold handset micro pave aaa grade white cubic zirconia',\n",
              " 'design link gemstone earring ideal covet delicate jewellery feature single gemstone suspend highly polished chain link link gemstone earring extremely versatile easily style day night link gemstone earring ideal love colourful jewellery -PRON- come variety gemstone collect -PRON- pair -PRON- favourite outfit rise quartz stone universal love -PRON- restore trust harmony',\n",
              " 'beautiful classic inspire tulip handmade artisan saeeda material bamiyan turquoise white jasper stone set sterling silver ring enclosure lead nickel free care instruction dry cool place away moisture direct sunlight polish -PRON- artisan s craft use wedge lemon polish surface small cotton towel',\n",
              " 'highly polished stud earring create -PRON- london studio process lose wax casting -PRON- make sterling silver curl flow like ripple water inspire -PRON- love sea collection encapsulate fascinating fluidity ocean s wave avoid contact chemical perfume hair spray',\n",
              " 'little black dress s just home summer picnic -PRON- dinner ultimate throw number cut silk crepe chine eve midi cut t shirt sleeve deep v neckline feminine flared skirt fabric belt cinch waist delicate pearl button little look close wink composition silk crepe du chine care dry clean',\n",
              " 'timeless carat gold plate sterling silver locket necklace feature semi precious rock crystal gemstone birthstone april beautifully unique way wear -PRON- birthstone pack clear crystal gemstone glass pendant textured vintage inspire finish hang adjustable length chain birthstone locket carefully handmade order -PRON- studio east london come present beautifully brand gift box available',\n",
              " 'attach -PRON- -PRON- tote -PRON- essential conveniently securely fasten interior -PRON- bag italian calf leather handmade italy silver magnetic snap button',\n",
              " 'stone twice sparkle augustine jewel south france collection inspire pastel colour french riviera silver earring feature beautiful citrine gemstone make solid sterling silver colour vary slightly image natural colour variation gemstone available green amethyst rise quartz smoky quartz sky blue topaz',\n",
              " 'brown solid texture striped linen knit tie craft light linen yarn source supplier northern italy small stripe various knitting pattern combine new update classic solid knit tie linen square end cm x cm dry clean make italy',\n",
              " '-PRON- use cowhide avoid scratch grain use clean length slightly long regular rider jacket emphasis -PRON- luxurious style estimate delivery date week place order -PRON- brand inspire japanese subculture s bosouzoku youth biker group design original vintage clothing -PRON- clothe source japan make fine japanese craftsmanship wash leave -PRON- leather handwas',\n",
              " 'large square scarf print le mont saint michel print -PRON- scenic print inspire lady -PRON- come know live switzerland involve wolf owl conservation -PRON- dream -PRON- world landscape mountain creature cornflower blue base x cm make italy available silk chiffon semi sheer silk silk chiffon dry clean make italy',\n",
              " 'round modern cufflink minimalist design lover make surgical steel manually ground polished concrete available anthracite grey sell set -PRON- come beautifully pack gravelli giftbox material use durable stable expose cufflink soap detergent perfume clean damp soft cloth high quality surgical steel mild skin cause irritation damage allergy',\n",
              " '-PRON- design ring -PRON- try -PRON- cubic zirconia time -PRON- just bit blingy -PRON- use white topaz instead -PRON- transform gloriously bedazzling ring nearly small white topaz set broad curved band raise edge hole catch maximum light -PRON- -PRON- night thousand star -PRON- remind -PRON- exactly -PRON- think people gaze -PRON- admire -PRON- -PRON- finger metal',\n",
              " '-PRON- orange fascinating color collection orange symbolize confidence rascas collection balance urban formative beauty sophisticated color -PRON- color reveal -PRON- true self uniquely design intertwine metal frame rascas accentuate orange cubic zirconia signature color tone rascas s s symbolize confidence fresh look match occasion style material brass cubic zi',\n",
              " 'step elegance -PRON- new pandan clutch make exclusively -PRON- artisan central java matta clutch finely assemble hard clutch shiny gold frame design -PRON- sweet companion special celebration feel -PRON- solid natural pandan weave texture truly comfort hold story matta clutch make heart warm story share conversation hard clutch black velvet lining wipe gently soft damp clotch',\n",
              " 'introduce -PRON- vegan bag astrid sassy backpack make soft matte water resistant pu leather stand structured unique silhouette -PRON- pinch smart zipper flap design -PRON- important belonging safe laptop backpack perfect commuter road warrior -PRON- feature laptop compartment water bottle holder luggage strap internal pocket fit -PRON- essential snack astrid bold carry',\n",
              " 'grey freshwater drop pearl pendant inch ct gold ball chain gold jewellery time regular gold plating order come package beautiful ora gift box pearl organic gemstone preserve -PRON- radiance avoid let pearl come contact cosmetic hair spray perfume detergent sea swimming pool sauna -PRON- recommend remove jewellery -PRON- shower bath -PRON- pearl af',\n",
              " 'organic cotton hoodie feature tone tone logo embroidery -PRON- wrist regular fit limited edition hoodie come special westmark packaging organic cotton oeko tex certify',\n",
              " 'belt entirely hand bead grain leather maasai tribe kenya -PRON- average day bead single medium sized belt maasai beading tradition maasai tribe date year purchase project maasai community kenya eye catch unique authentic accessory add touch colour -PRON- everyday attire beautiful meaning cultural heritage link -PRON- th',\n",
              " 'lightweight crossbody denim textile italian vegetable tan leather contrast italian ribbon trim center bag italian vegetable tan leather shoulder strap trimming interior open pocket make italy come dust bag nosetta product make italy expert craftsmanship quality italian material slight variation color texture occur enhance product s beauty maintain quality product -PRON- recommend limit',\n",
              " 'garner quilt tote bag bring sporty edge -PRON- look construct -PRON- specialist quilted light weight nylon -PRON- perfect casual everyday wear commute travel -PRON- functional stylish finish spacious interior make -PRON- ideal day bag consign rubberised patch logo zip fasten twin shoulder strap rubber zip pull orange consign brand interior inner slip zip pocket lightweight quilted nylon clean damp cloth soak wat',\n",
              " 'diamond pave set inscribe k genevieve collection s logo join k gold eyelash shape diamond ring diamond pave setting inscribe k genevieve collection s logo join k gold eyelash shape diamond ring k gold total weight g pc round diamond total carat ct',\n",
              " 'craft sterling silver circle ring add perfect accent minimalist look perfect create unique style statement ring present myia s brand box ready gift material sterling silver',\n",
              " 'rainy spring summer day storm wear cotton trench imagine -PRON- favourite outfit -PRON- outstanding fresh hue classic trench coat modern update silver snap oversized pocket shoulder epaulette relaxed silhouette make -PRON- perfect piece successful transition season composition cotton lining viscose polyester care instruction dry clean',\n",
              " 'return -PRON- couldn t happy better prepare little number small dazzle -PRON- occasion -PRON- slinky shoulder strap -PRON- love pair -PRON- -PRON- vintage levi s night withe girl elevated laidback look -PRON- pair -PRON- -PRON- fav silk pant audreys -PRON- glam -PRON- pair -PRON- maxi twirl -PRON- ultimate red carpet look silver sand wash',\n",
              " 'like supernova star burst necklace sparkle add glitz glam outfit wear sign proction necklace feature small opalite evil eye charm lobster clasp size adjuster ease wear great pairing star burst ring earring like bit sparkle everyday chic styling material sterling silver dip ct rosegold handset micro pave aaa grade cubic zirconia opalite evil eye charm item present la',\n",
              " 'piece vintouch s collection make hand use stone personally pick designer alessandro ricevuto necklace brand s rebel rebel collection cast karat gold plate silver hold bezel set keshi baroque pearl glitter natural pink ruby stone adjust length wear -PRON- layer short style present plastic free vintouch signature packaging cast karat gold sterling silver micron thickness protect g',\n",
              " 'premium vegan leather pochette oakbark petite slimline pouch carry -PRON- daily essential -PRON- carry -PRON- key wallet phone business card -PRON- pocket -PRON- know bulk stuff feel carry option look stylish easy day pouch pouch clutch fashion staple man woman -PRON- need carry -PRON- wallet inside -PRON- include card holder',\n",
              " 'lovely ring handmade -PRON- workshop -PRON- make sterling silver coat ct gold vermeil embed pink opal handmade jaipur india sterling silver coat ct gold vermeil embed pink opal store -PRON- jewellery soft line pouch box separately -PRON- don t damage precious metal naturally tarnish exposure air perfume moisturiser make hairspray perspiration household cleaning product chlorin',\n",
              " 'gold signature crystal ring k gold plate cast karat gold sterling silver micron thickness smoky crystal size adjustable make mexico high quality light weight cast karat gold sterling silver micron thickness -PRON- suggest avoid contact soap detergent chlorine chemical substance alter original characteristic -PRON- jewel -PRON- wear -PRON- jewellery piece -PRON- bag order protect',\n",
              " 'design perfect chic daytime look look equally good little black dress simple stud perfect adore minimalist jewellery modern twist finish spiked carve gemstone lapis lazuli handcraft use sterling silver carats lapis lazuli style note make ideal birthday gift pretty petite earring make perfect gift bridesmaid material handcraft use sterling silver carat lapis lazu',\n",
              " 'contour perfectly body ultra comfort -PRON- hop legging s wardrobe seamless anti bacterial breathable soft touch integrate sport bra reflective logo team -PRON- isle knot vest sophisticated comfort wash similar colour c iron tumble dry drip dry',\n",
              " 'piece drapery collection inspire ballet movement organic shape make costume dancer motion cuff bracelet design custom algorithm simulate gravity force fabric drape wrist person wear -PRON- piece d print cast brass plate rhodium polished surface highlight -PRON- elegant intricate fold material rhodium plate brass care clean jewelry polishing cloth remove bathin',\n",
              " 'craft fine silk jersey stunning dress feature -PRON- signature shibori tie dyeing technique flattering central line symmetry print sleeve originally hand dye soft silk jersey comfortable elegant beautiful drape cut stretch jersey slim fit fine silk jersey silk print uk make london uk silk dry clean recommend ethically produce use local artisan craftsmanship handmade london',\n",
              " 'elegant gold slice topaz drop earring delicately handcraft -PRON- set sterling silver finish carat gold plating length earring cm width cm earring available green onyx lapis red onyx aqua chalcedony oxidation wear -PRON- sterling silver jewelry tarnish time regular cleaning sterling silver polish cloth -PRON- jewelry look like new',\n",
              " 'create luxurious cashmere yarn hand embellishment -PRON- krystle sweater wrist skim sleeve easy fit study modern refinement -PRON- adorn gold sequin bead embellishment lend decidedly glamourous sophisticated finish team -PRON- dark trouser easy everyday look dress -PRON- brightly coloured trouser skirt pin heel embroidery handmade sweater hand finish extra quality cashm',\n",
              " 'contemporary design minimalist shape key feature handmade ring geometric ring flat gemstone embellishment ring set sterling silver feature tree round small white topaz gemstone -PRON- wear -PRON- mixed match minerva ring original designer piece handmade -PRON- artisan craftsman use fine precious metal -PRON- jewellery ethically make accord',\n",
              " 'v mon s fall winter collection introduce round backpack versatile design backpack bag carry tote shoulder bag base notion simplicity ultimate sophistication inspire geometrical shape v mon s vision create timeless versatile premium leather handbag -PRON- collection feature range earthy hue inspire greek nature core characteristic -PRON- bag -PRON- shapeshifting qualitie',\n",
              " 'inspire golden touch kind midas ancient mycenean inspire necklace handmade solid circle ct gold circle mm diameter connect solid gold chain texture capture light beautifully contemporary sophisticated piece jewellery design handmade -PRON- studio london -PRON- handmade machine make -PRON- perfectly imperfect -PRON- believe ethical responsible sustainable production business pract',\n",
              " 'design link gemstone earring ideal covet delicate jewellery feature single gemstone suspend highly polished chain link link gemstone earring extremely versatile easily style day night link gemstone earring ideal love colourful jewellery -PRON- come variety gemstone collect -PRON- pair -PRON- favourite outfit green onyx symbol restfulness purity -PRON- say t',\n",
              " 'silver leather short diamond chain pocket leather lining polyester dry clean',\n",
              " ...]"
            ]
          },
          "metadata": {},
          "execution_count": 12
        }
      ]
    },
    {
      "cell_type": "code",
      "metadata": {
        "id": "thJyN8u-zqZ3"
      },
      "source": [
        "# create an array \n",
        "X=np.array(X)"
      ],
      "execution_count": null,
      "outputs": []
    },
    {
      "cell_type": "code",
      "metadata": {
        "id": "xZP_60I2zw8q"
      },
      "source": [
        "# use countvectoriser to convert a collection of text documents to a vector of token counts\n",
        "vectorizer = CountVectorizer()\n",
        "tfidf_df = vectorizer.fit_transform(X.ravel())"
      ],
      "execution_count": null,
      "outputs": []
    },
    {
      "cell_type": "code",
      "metadata": {
        "id": "1D3waM-yz17U",
        "colab": {
          "base_uri": "https://localhost:8080/"
        },
        "outputId": "073f62c9-b936-4ac5-9171-8d0153765bbe"
      },
      "source": [
        "# show tfidf_df\n",
        "tfidf_df"
      ],
      "execution_count": null,
      "outputs": [
        {
          "output_type": "execute_result",
          "data": {
            "text/plain": [
              "<110727x30976 sparse matrix of type '<class 'numpy.int64'>'\n",
              "\twith 2795423 stored elements in Compressed Sparse Row format>"
            ]
          },
          "metadata": {},
          "execution_count": 15
        }
      ]
    },
    {
      "cell_type": "code",
      "metadata": {
        "id": "LnRkk2m2z2oT",
        "colab": {
          "base_uri": "https://localhost:8080/"
        },
        "outputId": "b7c6f519-345f-4120-ba2a-2bd55fe4ca74"
      },
      "source": [
        "# check the shape of tfidf_df\n",
        "tfidf_df.shape"
      ],
      "execution_count": null,
      "outputs": [
        {
          "output_type": "execute_result",
          "data": {
            "text/plain": [
              "(110727, 30976)"
            ]
          },
          "metadata": {},
          "execution_count": 16
        }
      ]
    },
    {
      "cell_type": "code",
      "metadata": {
        "id": "9x4JUu-gz36e",
        "colab": {
          "base_uri": "https://localhost:8080/"
        },
        "outputId": "5d486532-b119-4917-dc5a-0ac68877d1d6"
      },
      "source": [
        "# extracting the last column of the data\n",
        "required_data_own_kind_attribute=required_data.iloc[:,1].values\n",
        "required_data_own_kind_attribute"
      ],
      "execution_count": null,
      "outputs": [
        {
          "output_type": "execute_result",
          "data": {
            "text/plain": [
              "array(['{Style Menswear}:Preppy,{MW / WW}:Menswear,{Style Menswear}:Classic,{Colour}:Brown',\n",
              "       '{Colour}:White,{Downplay}:Cleavage,{MW / WW}:Menswear,{Style Menswear}:Classic,{Style Menswear}:Rebel',\n",
              "       '{Style Womenswear}:Hypebeast,{MW / WW}:Menswear,{Colour}:Blue',\n",
              "       ...,\n",
              "       '{Colour}:Gold,{Style Womenswear}:Feminine,{Colour}:Green,{MW / WW}:Womenswear',\n",
              "       '{Style Womenswear}:Hypebeast,{Style Menswear}:Utilitarian,{Show off}:Stomach,{Downplay}:Arms,{Colour}:Beige,{Style Menswear}:Hypebeast,{MW / WW}:Menswear,{Show off}:Cleavage',\n",
              "       '{Colour}:Multicolored,{Style Womenswear}:Hypebeast,{Style Womenswear}:Rebel,{Style Menswear}:Hypebeast,{MW / WW}:Womenswear'],\n",
              "      dtype=object)"
            ]
          },
          "metadata": {},
          "execution_count": 17
        }
      ]
    },
    {
      "cell_type": "code",
      "metadata": {
        "id": "KzMwQqZvz5VC",
        "colab": {
          "base_uri": "https://localhost:8080/",
          "height": 810
        },
        "outputId": "94f21ce7-c89b-49b2-d672-6387b8806a5d"
      },
      "source": [
        "# read the attributes file\n",
        "attribute_csv=pd.read_csv('/content/attributes.csv')\n",
        "attribute_csv"
      ],
      "execution_count": null,
      "outputs": [
        {
          "output_type": "execute_result",
          "data": {
            "text/html": [
              "<div>\n",
              "<style scoped>\n",
              "    .dataframe tbody tr th:only-of-type {\n",
              "        vertical-align: middle;\n",
              "    }\n",
              "\n",
              "    .dataframe tbody tr th {\n",
              "        vertical-align: top;\n",
              "    }\n",
              "\n",
              "    .dataframe thead th {\n",
              "        text-align: right;\n",
              "    }\n",
              "</style>\n",
              "<table border=\"1\" class=\"dataframe\">\n",
              "  <thead>\n",
              "    <tr style=\"text-align: right;\">\n",
              "      <th></th>\n",
              "      <th>Category \\nClothing</th>\n",
              "      <th>Category-\\nAccessories</th>\n",
              "      <th>Category-Accessories\\nBags</th>\n",
              "      <th>Category -\\nFootwear</th>\n",
              "      <th>Attribute-\\nColor</th>\n",
              "      <th>Attribute-\\nPrint</th>\n",
              "      <th>Styles\\nwomenswear</th>\n",
              "      <th>Styles\\nMenswear</th>\n",
              "      <th>Body fit</th>\n",
              "      <th>Budgets</th>\n",
              "      <th>Show off</th>\n",
              "    </tr>\n",
              "  </thead>\n",
              "  <tbody>\n",
              "    <tr>\n",
              "      <th>0</th>\n",
              "      <td>All In One</td>\n",
              "      <td>Belts</td>\n",
              "      <td>Shoulder Bags</td>\n",
              "      <td>Heels</td>\n",
              "      <td>Beige</td>\n",
              "      <td>Animal</td>\n",
              "      <td>Rebel</td>\n",
              "      <td>Rebel</td>\n",
              "      <td>fuller bust</td>\n",
              "      <td>0-150</td>\n",
              "      <td>arms</td>\n",
              "    </tr>\n",
              "    <tr>\n",
              "      <th>1</th>\n",
              "      <td>Nightwear</td>\n",
              "      <td>Gloves</td>\n",
              "      <td>Top Handle Bags</td>\n",
              "      <td>Boots</td>\n",
              "      <td>Black</td>\n",
              "      <td>Check</td>\n",
              "      <td>Classic</td>\n",
              "      <td>Classic</td>\n",
              "      <td>Maternity</td>\n",
              "      <td>150-500</td>\n",
              "      <td>back</td>\n",
              "    </tr>\n",
              "    <tr>\n",
              "      <th>2</th>\n",
              "      <td>Jacket</td>\n",
              "      <td>Hats</td>\n",
              "      <td>Clutches</td>\n",
              "      <td>Loafers</td>\n",
              "      <td>Blue</td>\n",
              "      <td>Floral</td>\n",
              "      <td>Feminine</td>\n",
              "      <td>Preppy</td>\n",
              "      <td>Petite</td>\n",
              "      <td>500+</td>\n",
              "      <td>cleavage</td>\n",
              "    </tr>\n",
              "    <tr>\n",
              "      <th>3</th>\n",
              "      <td>Coats</td>\n",
              "      <td>Jewellery</td>\n",
              "      <td>Belt Bags</td>\n",
              "      <td>Trainers</td>\n",
              "      <td>Brown</td>\n",
              "      <td>Gingham</td>\n",
              "      <td>Hypebeast</td>\n",
              "      <td>Hypebeast</td>\n",
              "      <td>Plus</td>\n",
              "      <td>NaN</td>\n",
              "      <td>legs</td>\n",
              "    </tr>\n",
              "    <tr>\n",
              "      <th>4</th>\n",
              "      <td>Dresses</td>\n",
              "      <td>Scarves</td>\n",
              "      <td>Tote Bags</td>\n",
              "      <td>Sandals</td>\n",
              "      <td>Gold</td>\n",
              "      <td>Houndtooth</td>\n",
              "      <td>Minimal</td>\n",
              "      <td>Utilitarian</td>\n",
              "      <td>Tall</td>\n",
              "      <td>NaN</td>\n",
              "      <td>shoulders</td>\n",
              "    </tr>\n",
              "    <tr>\n",
              "      <th>5</th>\n",
              "      <td>Shirts</td>\n",
              "      <td>Sunglasses</td>\n",
              "      <td>Holdall</td>\n",
              "      <td>Slippers</td>\n",
              "      <td>Green</td>\n",
              "      <td>No print</td>\n",
              "      <td>Normcore</td>\n",
              "      <td>Normcore</td>\n",
              "      <td>NaN</td>\n",
              "      <td>NaN</td>\n",
              "      <td>stomach</td>\n",
              "    </tr>\n",
              "    <tr>\n",
              "      <th>6</th>\n",
              "      <td>Skirts</td>\n",
              "      <td>Travel Accessories</td>\n",
              "      <td>Backpacks</td>\n",
              "      <td>Shoes</td>\n",
              "      <td>Grey</td>\n",
              "      <td>Other print</td>\n",
              "      <td>Boho</td>\n",
              "      <td>NaN</td>\n",
              "      <td>NaN</td>\n",
              "      <td>NaN</td>\n",
              "      <td>NaN</td>\n",
              "    </tr>\n",
              "    <tr>\n",
              "      <th>7</th>\n",
              "      <td>Tops</td>\n",
              "      <td>Hair Accessories</td>\n",
              "      <td>NaN</td>\n",
              "      <td>NaN</td>\n",
              "      <td>Multicolored</td>\n",
              "      <td>Polka dot</td>\n",
              "      <td>NaN</td>\n",
              "      <td>NaN</td>\n",
              "      <td>NaN</td>\n",
              "      <td>NaN</td>\n",
              "      <td>NaN</td>\n",
              "    </tr>\n",
              "    <tr>\n",
              "      <th>8</th>\n",
              "      <td>Trousers</td>\n",
              "      <td>Pocket squares</td>\n",
              "      <td>NaN</td>\n",
              "      <td>NaN</td>\n",
              "      <td>Neutral</td>\n",
              "      <td>Stipes</td>\n",
              "      <td>NaN</td>\n",
              "      <td>NaN</td>\n",
              "      <td>NaN</td>\n",
              "      <td>NaN</td>\n",
              "      <td>NaN</td>\n",
              "    </tr>\n",
              "    <tr>\n",
              "      <th>9</th>\n",
              "      <td>Jumpsuits</td>\n",
              "      <td>Cufflinks</td>\n",
              "      <td>NaN</td>\n",
              "      <td>NaN</td>\n",
              "      <td>Orange</td>\n",
              "      <td>Tartan</td>\n",
              "      <td>NaN</td>\n",
              "      <td>NaN</td>\n",
              "      <td>NaN</td>\n",
              "      <td>NaN</td>\n",
              "      <td>NaN</td>\n",
              "    </tr>\n",
              "    <tr>\n",
              "      <th>10</th>\n",
              "      <td>Vests</td>\n",
              "      <td>Beach Accessories</td>\n",
              "      <td>NaN</td>\n",
              "      <td>NaN</td>\n",
              "      <td>Pink</td>\n",
              "      <td>Tweed</td>\n",
              "      <td>NaN</td>\n",
              "      <td>NaN</td>\n",
              "      <td>NaN</td>\n",
              "      <td>NaN</td>\n",
              "      <td>NaN</td>\n",
              "    </tr>\n",
              "    <tr>\n",
              "      <th>11</th>\n",
              "      <td>Shorts</td>\n",
              "      <td>Ties</td>\n",
              "      <td>NaN</td>\n",
              "      <td>NaN</td>\n",
              "      <td>Purple</td>\n",
              "      <td>NaN</td>\n",
              "      <td>NaN</td>\n",
              "      <td>NaN</td>\n",
              "      <td>NaN</td>\n",
              "      <td>NaN</td>\n",
              "      <td>NaN</td>\n",
              "    </tr>\n",
              "    <tr>\n",
              "      <th>12</th>\n",
              "      <td>Swimwear</td>\n",
              "      <td>Wallets</td>\n",
              "      <td>NaN</td>\n",
              "      <td>NaN</td>\n",
              "      <td>Red</td>\n",
              "      <td>NaN</td>\n",
              "      <td>NaN</td>\n",
              "      <td>NaN</td>\n",
              "      <td>NaN</td>\n",
              "      <td>NaN</td>\n",
              "      <td>NaN</td>\n",
              "    </tr>\n",
              "    <tr>\n",
              "      <th>13</th>\n",
              "      <td>Beachwear</td>\n",
              "      <td>NaN</td>\n",
              "      <td>NaN</td>\n",
              "      <td>NaN</td>\n",
              "      <td>Silver</td>\n",
              "      <td>NaN</td>\n",
              "      <td>NaN</td>\n",
              "      <td>NaN</td>\n",
              "      <td>NaN</td>\n",
              "      <td>NaN</td>\n",
              "      <td>NaN</td>\n",
              "    </tr>\n",
              "    <tr>\n",
              "      <th>14</th>\n",
              "      <td>Underwear</td>\n",
              "      <td>NaN</td>\n",
              "      <td>NaN</td>\n",
              "      <td>NaN</td>\n",
              "      <td>White</td>\n",
              "      <td>NaN</td>\n",
              "      <td>NaN</td>\n",
              "      <td>NaN</td>\n",
              "      <td>NaN</td>\n",
              "      <td>NaN</td>\n",
              "      <td>NaN</td>\n",
              "    </tr>\n",
              "    <tr>\n",
              "      <th>15</th>\n",
              "      <td>Blouses</td>\n",
              "      <td>NaN</td>\n",
              "      <td>NaN</td>\n",
              "      <td>NaN</td>\n",
              "      <td>Yellow</td>\n",
              "      <td>NaN</td>\n",
              "      <td>NaN</td>\n",
              "      <td>NaN</td>\n",
              "      <td>NaN</td>\n",
              "      <td>NaN</td>\n",
              "      <td>NaN</td>\n",
              "    </tr>\n",
              "    <tr>\n",
              "      <th>16</th>\n",
              "      <td>Jeans</td>\n",
              "      <td>NaN</td>\n",
              "      <td>NaN</td>\n",
              "      <td>NaN</td>\n",
              "      <td>NaN</td>\n",
              "      <td>NaN</td>\n",
              "      <td>NaN</td>\n",
              "      <td>NaN</td>\n",
              "      <td>NaN</td>\n",
              "      <td>NaN</td>\n",
              "      <td>NaN</td>\n",
              "    </tr>\n",
              "    <tr>\n",
              "      <th>17</th>\n",
              "      <td>Jumpers</td>\n",
              "      <td>NaN</td>\n",
              "      <td>NaN</td>\n",
              "      <td>NaN</td>\n",
              "      <td>NaN</td>\n",
              "      <td>NaN</td>\n",
              "      <td>NaN</td>\n",
              "      <td>NaN</td>\n",
              "      <td>NaN</td>\n",
              "      <td>NaN</td>\n",
              "      <td>NaN</td>\n",
              "    </tr>\n",
              "    <tr>\n",
              "      <th>18</th>\n",
              "      <td>Knitwear</td>\n",
              "      <td>NaN</td>\n",
              "      <td>NaN</td>\n",
              "      <td>NaN</td>\n",
              "      <td>NaN</td>\n",
              "      <td>NaN</td>\n",
              "      <td>NaN</td>\n",
              "      <td>NaN</td>\n",
              "      <td>NaN</td>\n",
              "      <td>NaN</td>\n",
              "      <td>NaN</td>\n",
              "    </tr>\n",
              "    <tr>\n",
              "      <th>19</th>\n",
              "      <td>Outerwear</td>\n",
              "      <td>NaN</td>\n",
              "      <td>NaN</td>\n",
              "      <td>NaN</td>\n",
              "      <td>NaN</td>\n",
              "      <td>NaN</td>\n",
              "      <td>NaN</td>\n",
              "      <td>NaN</td>\n",
              "      <td>NaN</td>\n",
              "      <td>NaN</td>\n",
              "      <td>NaN</td>\n",
              "    </tr>\n",
              "    <tr>\n",
              "      <th>20</th>\n",
              "      <td>Blazers</td>\n",
              "      <td>NaN</td>\n",
              "      <td>NaN</td>\n",
              "      <td>NaN</td>\n",
              "      <td>NaN</td>\n",
              "      <td>NaN</td>\n",
              "      <td>NaN</td>\n",
              "      <td>NaN</td>\n",
              "      <td>NaN</td>\n",
              "      <td>NaN</td>\n",
              "      <td>NaN</td>\n",
              "    </tr>\n",
              "    <tr>\n",
              "      <th>21</th>\n",
              "      <td>Loungewear</td>\n",
              "      <td>NaN</td>\n",
              "      <td>NaN</td>\n",
              "      <td>NaN</td>\n",
              "      <td>NaN</td>\n",
              "      <td>NaN</td>\n",
              "      <td>NaN</td>\n",
              "      <td>NaN</td>\n",
              "      <td>NaN</td>\n",
              "      <td>NaN</td>\n",
              "      <td>NaN</td>\n",
              "    </tr>\n",
              "    <tr>\n",
              "      <th>22</th>\n",
              "      <td>Activewear</td>\n",
              "      <td>NaN</td>\n",
              "      <td>NaN</td>\n",
              "      <td>NaN</td>\n",
              "      <td>NaN</td>\n",
              "      <td>NaN</td>\n",
              "      <td>NaN</td>\n",
              "      <td>NaN</td>\n",
              "      <td>NaN</td>\n",
              "      <td>NaN</td>\n",
              "      <td>NaN</td>\n",
              "    </tr>\n",
              "    <tr>\n",
              "      <th>23</th>\n",
              "      <td>Lingerie</td>\n",
              "      <td>NaN</td>\n",
              "      <td>NaN</td>\n",
              "      <td>NaN</td>\n",
              "      <td>NaN</td>\n",
              "      <td>NaN</td>\n",
              "      <td>NaN</td>\n",
              "      <td>NaN</td>\n",
              "      <td>NaN</td>\n",
              "      <td>NaN</td>\n",
              "      <td>NaN</td>\n",
              "    </tr>\n",
              "  </tbody>\n",
              "</table>\n",
              "</div>"
            ],
            "text/plain": [
              "   Category \\nClothing Category-\\nAccessories  ...  Budgets   Show off\n",
              "0           All In One                  Belts  ...    0-150       arms\n",
              "1            Nightwear                 Gloves  ...  150-500       back\n",
              "2               Jacket                   Hats  ...     500+   cleavage\n",
              "3                Coats              Jewellery  ...      NaN       legs\n",
              "4              Dresses                Scarves  ...      NaN  shoulders\n",
              "5               Shirts             Sunglasses  ...      NaN    stomach\n",
              "6               Skirts     Travel Accessories  ...      NaN        NaN\n",
              "7                 Tops       Hair Accessories  ...      NaN        NaN\n",
              "8             Trousers         Pocket squares  ...      NaN        NaN\n",
              "9            Jumpsuits              Cufflinks  ...      NaN        NaN\n",
              "10               Vests      Beach Accessories  ...      NaN        NaN\n",
              "11              Shorts                   Ties  ...      NaN        NaN\n",
              "12            Swimwear                Wallets  ...      NaN        NaN\n",
              "13           Beachwear                    NaN  ...      NaN        NaN\n",
              "14           Underwear                    NaN  ...      NaN        NaN\n",
              "15             Blouses                    NaN  ...      NaN        NaN\n",
              "16               Jeans                    NaN  ...      NaN        NaN\n",
              "17             Jumpers                    NaN  ...      NaN        NaN\n",
              "18            Knitwear                    NaN  ...      NaN        NaN\n",
              "19           Outerwear                    NaN  ...      NaN        NaN\n",
              "20             Blazers                    NaN  ...      NaN        NaN\n",
              "21          Loungewear                    NaN  ...      NaN        NaN\n",
              "22          Activewear                    NaN  ...      NaN        NaN\n",
              "23            Lingerie                    NaN  ...      NaN        NaN\n",
              "\n",
              "[24 rows x 11 columns]"
            ]
          },
          "metadata": {},
          "execution_count": 18
        }
      ]
    },
    {
      "cell_type": "markdown",
      "metadata": {
        "id": "BdChk-4g0NG4"
      },
      "source": [
        "**COLOUR CLASSIFICATION**\n"
      ]
    },
    {
      "cell_type": "code",
      "metadata": {
        "id": "nOwLS2GSz8xy",
        "colab": {
          "base_uri": "https://localhost:8080/"
        },
        "outputId": "f53e6e47-1aa1-4545-eb2d-4b021562c1a3"
      },
      "source": [
        "# extract only the colour column from the attributes dataset\n",
        "attribute_csv_colors=attribute_csv['Attribute-\\nColor']\n",
        "\n",
        "# drop all missing values from the colour column\n",
        "attribute_csv_colors=attribute_csv_colors.dropna()\n",
        "attribute_csv_colors"
      ],
      "execution_count": null,
      "outputs": [
        {
          "output_type": "execute_result",
          "data": {
            "text/plain": [
              "0            Beige\n",
              "1            Black\n",
              "2             Blue\n",
              "3            Brown\n",
              "4             Gold\n",
              "5            Green\n",
              "6             Grey\n",
              "7     Multicolored\n",
              "8          Neutral\n",
              "9           Orange\n",
              "10            Pink\n",
              "11          Purple\n",
              "12             Red\n",
              "13          Silver\n",
              "14           White\n",
              "15          Yellow\n",
              "Name: Attribute-\\nColor, dtype: object"
            ]
          },
          "metadata": {},
          "execution_count": 19
        }
      ]
    },
    {
      "cell_type": "code",
      "metadata": {
        "id": "0MCfugCGz9YY",
        "colab": {
          "base_uri": "https://localhost:8080/"
        },
        "outputId": "8b0190c5-3e01-4f5d-a596-ceca4dea2a32"
      },
      "source": [
        "# converting the values in the colours column into a list\n",
        "attribute_csv_colors_list=attribute_csv_colors.to_list()\n",
        "attribute_csv_colors_list"
      ],
      "execution_count": null,
      "outputs": [
        {
          "output_type": "execute_result",
          "data": {
            "text/plain": [
              "['Beige',\n",
              " 'Black',\n",
              " 'Blue',\n",
              " 'Brown',\n",
              " 'Gold',\n",
              " 'Green',\n",
              " 'Grey',\n",
              " 'Multicolored',\n",
              " 'Neutral',\n",
              " 'Orange',\n",
              " 'Pink',\n",
              " 'Purple',\n",
              " 'Red',\n",
              " 'Silver',\n",
              " 'White',\n",
              " 'Yellow']"
            ]
          },
          "metadata": {},
          "execution_count": 20
        }
      ]
    },
    {
      "cell_type": "code",
      "metadata": {
        "id": "GCJmBtNyz-nb"
      },
      "source": [
        "colors=[]"
      ],
      "execution_count": null,
      "outputs": []
    },
    {
      "cell_type": "code",
      "metadata": {
        "id": "oNitObrwz_-A"
      },
      "source": [
        "# to find out whether the colour is in the list or not\n",
        "def Enquiry(lis1):\n",
        "    if not lis1:\n",
        "        return 1\n",
        "    else:\n",
        "        return 0"
      ],
      "execution_count": null,
      "outputs": []
    },
    {
      "cell_type": "code",
      "metadata": {
        "id": "bL_ReCmu0BT7"
      },
      "source": [
        "import re\n",
        "\n",
        "# matching the colours in the attributes file to the colours in the IndexDump\n",
        "for i in range(len(required_data_own_kind_attribute)):\n",
        "  for j in range(len(attribute_csv_colors)):\n",
        "    value=re.findall(str(attribute_csv_colors[j]),str(required_data_own_kind_attribute[i]))\n",
        "    if Enquiry(value)==0:\n",
        "      colors.append(value)"
      ],
      "execution_count": null,
      "outputs": []
    },
    {
      "cell_type": "code",
      "metadata": {
        "id": "EzZgKlSe0Csf",
        "colab": {
          "base_uri": "https://localhost:8080/"
        },
        "outputId": "7c3c4402-8f0f-4c09-f295-c19872a341c9"
      },
      "source": [
        "# to see how many colours are in the indexdump file\n",
        "len(colors)"
      ],
      "execution_count": null,
      "outputs": [
        {
          "output_type": "execute_result",
          "data": {
            "text/plain": [
              "120823"
            ]
          },
          "metadata": {},
          "execution_count": 24
        }
      ]
    },
    {
      "cell_type": "code",
      "metadata": {
        "id": "vLrCxtuE0D6p",
        "colab": {
          "base_uri": "https://localhost:8080/"
        },
        "outputId": "be12e08c-78ac-4233-9c08-ca98c1354dff"
      },
      "source": [
        "# check all the colours that appear in the indexdump file\n",
        "colors"
      ],
      "execution_count": null,
      "outputs": [
        {
          "output_type": "execute_result",
          "data": {
            "text/plain": [
              "[['Brown'],\n",
              " ['White'],\n",
              " ['Blue'],\n",
              " ['Black'],\n",
              " ['Blue'],\n",
              " ['Neutral'],\n",
              " ['Black'],\n",
              " ['Blue'],\n",
              " ['Pink'],\n",
              " ['Green'],\n",
              " ['Blue'],\n",
              " ['Blue'],\n",
              " ['Blue'],\n",
              " ['White'],\n",
              " ['Black'],\n",
              " ['White'],\n",
              " ['Blue'],\n",
              " ['Black'],\n",
              " ['Blue'],\n",
              " ['Orange'],\n",
              " ['Black'],\n",
              " ['Grey'],\n",
              " ['Black'],\n",
              " ['Blue'],\n",
              " ['Brown'],\n",
              " ['Yellow'],\n",
              " ['Black'],\n",
              " ['Neutral'],\n",
              " ['Black'],\n",
              " ['Brown'],\n",
              " ['Black'],\n",
              " ['Orange'],\n",
              " ['Brown'],\n",
              " ['Blue'],\n",
              " ['Blue'],\n",
              " ['Black'],\n",
              " ['White'],\n",
              " ['Black'],\n",
              " ['Grey'],\n",
              " ['Neutral'],\n",
              " ['Blue'],\n",
              " ['Blue'],\n",
              " ['Black'],\n",
              " ['Neutral'],\n",
              " ['Blue'],\n",
              " ['Blue'],\n",
              " ['Blue'],\n",
              " ['Pink'],\n",
              " ['Brown'],\n",
              " ['Red'],\n",
              " ['Blue'],\n",
              " ['Brown'],\n",
              " ['Orange'],\n",
              " ['White'],\n",
              " ['White'],\n",
              " ['Blue'],\n",
              " ['Blue'],\n",
              " ['Black'],\n",
              " ['Blue'],\n",
              " ['Black'],\n",
              " ['Black'],\n",
              " ['Blue'],\n",
              " ['Brown'],\n",
              " ['Gold'],\n",
              " ['Blue'],\n",
              " ['Black'],\n",
              " ['Neutral'],\n",
              " ['Green'],\n",
              " ['Red'],\n",
              " ['Pink'],\n",
              " ['Blue'],\n",
              " ['Blue'],\n",
              " ['Black'],\n",
              " ['White'],\n",
              " ['Black'],\n",
              " ['Black'],\n",
              " ['Blue'],\n",
              " ['White'],\n",
              " ['Blue'],\n",
              " ['Black'],\n",
              " ['Brown'],\n",
              " ['Black'],\n",
              " ['White'],\n",
              " ['Purple'],\n",
              " ['Neutral'],\n",
              " ['Blue'],\n",
              " ['Neutral'],\n",
              " ['Pink'],\n",
              " ['Blue'],\n",
              " ['Black'],\n",
              " ['White'],\n",
              " ['Blue'],\n",
              " ['Yellow'],\n",
              " ['Blue'],\n",
              " ['Grey'],\n",
              " ['White'],\n",
              " ['Pink'],\n",
              " ['Brown'],\n",
              " ['Pink'],\n",
              " ['Black'],\n",
              " ['White'],\n",
              " ['Yellow'],\n",
              " ['Neutral'],\n",
              " ['White'],\n",
              " ['Green'],\n",
              " ['Pink'],\n",
              " ['White'],\n",
              " ['Green'],\n",
              " ['Green'],\n",
              " ['Blue'],\n",
              " ['White'],\n",
              " ['Blue'],\n",
              " ['Blue'],\n",
              " ['Red'],\n",
              " ['Grey'],\n",
              " ['Neutral'],\n",
              " ['Blue'],\n",
              " ['Blue'],\n",
              " ['Neutral'],\n",
              " ['Black'],\n",
              " ['Blue'],\n",
              " ['Yellow'],\n",
              " ['Brown'],\n",
              " ['White'],\n",
              " ['White'],\n",
              " ['Multicolored'],\n",
              " ['Black'],\n",
              " ['Brown'],\n",
              " ['Green'],\n",
              " ['Blue'],\n",
              " ['Brown'],\n",
              " ['Green'],\n",
              " ['Blue'],\n",
              " ['Green'],\n",
              " ['Blue'],\n",
              " ['Orange'],\n",
              " ['Black'],\n",
              " ['White'],\n",
              " ['Purple'],\n",
              " ['Blue'],\n",
              " ['Yellow'],\n",
              " ['White'],\n",
              " ['Black'],\n",
              " ['Blue'],\n",
              " ['Black'],\n",
              " ['Blue'],\n",
              " ['Brown'],\n",
              " ['Blue'],\n",
              " ['Green'],\n",
              " ['Black'],\n",
              " ['Brown'],\n",
              " ['Blue'],\n",
              " ['Green'],\n",
              " ['Pink'],\n",
              " ['Blue'],\n",
              " ['White'],\n",
              " ['White'],\n",
              " ['White'],\n",
              " ['Multicolored'],\n",
              " ['Black'],\n",
              " ['Blue'],\n",
              " ['Black'],\n",
              " ['Brown'],\n",
              " ['Blue'],\n",
              " ['Blue'],\n",
              " ['Blue'],\n",
              " ['Blue'],\n",
              " ['White'],\n",
              " ['Black'],\n",
              " ['Neutral'],\n",
              " ['Black'],\n",
              " ['Blue'],\n",
              " ['Pink'],\n",
              " ['Neutral'],\n",
              " ['Blue'],\n",
              " ['Multicolored'],\n",
              " ['Blue'],\n",
              " ['Purple'],\n",
              " ['Red'],\n",
              " ['Black'],\n",
              " ['Grey'],\n",
              " ['Blue'],\n",
              " ['Pink'],\n",
              " ['Blue'],\n",
              " ['Blue'],\n",
              " ['Brown'],\n",
              " ['Grey'],\n",
              " ['Blue'],\n",
              " ['Brown'],\n",
              " ['Multicolored'],\n",
              " ['Neutral'],\n",
              " ['Neutral'],\n",
              " ['White'],\n",
              " ['Brown'],\n",
              " ['Yellow'],\n",
              " ['Black'],\n",
              " ['Black'],\n",
              " ['Black'],\n",
              " ['Black'],\n",
              " ['Pink'],\n",
              " ['Purple'],\n",
              " ['Pink'],\n",
              " ['Purple'],\n",
              " ['Blue'],\n",
              " ['Blue'],\n",
              " ['Blue'],\n",
              " ['Brown'],\n",
              " ['Pink'],\n",
              " ['Black'],\n",
              " ['Grey'],\n",
              " ['Blue'],\n",
              " ['Neutral'],\n",
              " ['Brown'],\n",
              " ['Blue'],\n",
              " ['Green'],\n",
              " ['Neutral'],\n",
              " ['Brown'],\n",
              " ['Silver'],\n",
              " ['White'],\n",
              " ['Brown'],\n",
              " ['Gold'],\n",
              " ['Gold'],\n",
              " ['Orange'],\n",
              " ['Yellow'],\n",
              " ['Grey'],\n",
              " ['Black'],\n",
              " ['Silver'],\n",
              " ['Black'],\n",
              " ['Gold'],\n",
              " ['Silver'],\n",
              " ['Black'],\n",
              " ['Gold'],\n",
              " ['White'],\n",
              " ['Silver'],\n",
              " ['Gold'],\n",
              " ['Gold'],\n",
              " ['Neutral'],\n",
              " ['Pink'],\n",
              " ['Purple'],\n",
              " ['Silver'],\n",
              " ['Black'],\n",
              " ['Orange'],\n",
              " ['Yellow'],\n",
              " ['Silver'],\n",
              " ['Black'],\n",
              " ['Blue'],\n",
              " ['White'],\n",
              " ['Silver'],\n",
              " ['Black'],\n",
              " ['Silver'],\n",
              " ['Gold'],\n",
              " ['Gold'],\n",
              " ['Green'],\n",
              " ['Neutral'],\n",
              " ['Silver'],\n",
              " ['White'],\n",
              " ['Silver'],\n",
              " ['Gold'],\n",
              " ['Pink'],\n",
              " ['Purple'],\n",
              " ['Blue'],\n",
              " ['Silver'],\n",
              " ['Red'],\n",
              " ['Silver'],\n",
              " ['Black'],\n",
              " ['Black'],\n",
              " ['Neutral'],\n",
              " ['White'],\n",
              " ['Silver'],\n",
              " ['White'],\n",
              " ['Gold'],\n",
              " ['Gold'],\n",
              " ['Pink'],\n",
              " ['Silver'],\n",
              " ['Gold'],\n",
              " ['Silver'],\n",
              " ['Blue'],\n",
              " ['Pink'],\n",
              " ['Purple'],\n",
              " ['Blue'],\n",
              " ['Gold'],\n",
              " ['White'],\n",
              " ['Green'],\n",
              " ['Pink'],\n",
              " ['Purple'],\n",
              " ['Pink'],\n",
              " ['Purple'],\n",
              " ['Black'],\n",
              " ['Pink'],\n",
              " ['Purple'],\n",
              " ['Neutral'],\n",
              " ['Brown'],\n",
              " ['Red'],\n",
              " ['White'],\n",
              " ['Grey'],\n",
              " ['Silver'],\n",
              " ['Blue'],\n",
              " ['Blue'],\n",
              " ['Silver'],\n",
              " ['White'],\n",
              " ['Blue'],\n",
              " ['Silver'],\n",
              " ['White'],\n",
              " ['Blue'],\n",
              " ['Gold'],\n",
              " ['Pink'],\n",
              " ['Gold'],\n",
              " ['White'],\n",
              " ['Gold'],\n",
              " ['Pink'],\n",
              " ['Purple'],\n",
              " ['Green'],\n",
              " ['Grey'],\n",
              " ['Gold'],\n",
              " ['Orange'],\n",
              " ['Yellow'],\n",
              " ['Orange'],\n",
              " ['Yellow'],\n",
              " ['Gold'],\n",
              " ['Pink'],\n",
              " ['Purple'],\n",
              " ['Gold'],\n",
              " ['White'],\n",
              " ['Blue'],\n",
              " ['Green'],\n",
              " ['White'],\n",
              " ['White'],\n",
              " ['Gold'],\n",
              " ['Black'],\n",
              " ['Silver'],\n",
              " ['White'],\n",
              " ['White'],\n",
              " ['Gold'],\n",
              " ['Neutral'],\n",
              " ['Gold'],\n",
              " ['White'],\n",
              " ['Black'],\n",
              " ['Red'],\n",
              " ['Gold'],\n",
              " ['Pink'],\n",
              " ['Silver'],\n",
              " ['Silver'],\n",
              " ['Brown'],\n",
              " ['Neutral'],\n",
              " ['Blue'],\n",
              " ['White'],\n",
              " ['Yellow'],\n",
              " ['Gold'],\n",
              " ['Blue'],\n",
              " ['Red'],\n",
              " ['Black'],\n",
              " ['Pink'],\n",
              " ['Purple'],\n",
              " ['Gold'],\n",
              " ['Pink'],\n",
              " ['White'],\n",
              " ['Blue'],\n",
              " ['Black'],\n",
              " ['Silver'],\n",
              " ['Brown'],\n",
              " ['Black'],\n",
              " ['Gold'],\n",
              " ['Blue'],\n",
              " ['Blue'],\n",
              " ['Gold'],\n",
              " ['Gold'],\n",
              " ['Gold'],\n",
              " ['Pink'],\n",
              " ['Gold'],\n",
              " ['Blue'],\n",
              " ['Neutral'],\n",
              " ['White'],\n",
              " ['Black'],\n",
              " ['Gold'],\n",
              " ['Silver'],\n",
              " ['Gold'],\n",
              " ['Neutral'],\n",
              " ['Pink'],\n",
              " ['White'],\n",
              " ['Silver'],\n",
              " ['Black'],\n",
              " ['Silver'],\n",
              " ['Gold'],\n",
              " ['Pink'],\n",
              " ['Red'],\n",
              " ['White'],\n",
              " ['Blue'],\n",
              " ['Gold'],\n",
              " ['Pink'],\n",
              " ['Orange'],\n",
              " ['Yellow'],\n",
              " ['Green'],\n",
              " ['White'],\n",
              " ['Yellow'],\n",
              " ['Red'],\n",
              " ['Gold'],\n",
              " ['Black'],\n",
              " ['Black'],\n",
              " ['Pink'],\n",
              " ['Purple'],\n",
              " ['Gold'],\n",
              " ['Gold'],\n",
              " ['White'],\n",
              " ['White'],\n",
              " ['Gold'],\n",
              " ['White'],\n",
              " ['Silver'],\n",
              " ['Blue'],\n",
              " ['Black'],\n",
              " ['Red'],\n",
              " ['Gold'],\n",
              " ['Green'],\n",
              " ['Black'],\n",
              " ['Black'],\n",
              " ['Green'],\n",
              " ['Gold'],\n",
              " ['Neutral'],\n",
              " ['Pink'],\n",
              " ['Black'],\n",
              " ['Silver'],\n",
              " ['Black'],\n",
              " ['Blue'],\n",
              " ['Gold'],\n",
              " ['Pink'],\n",
              " ['Purple'],\n",
              " ['Silver'],\n",
              " ['White'],\n",
              " ['Green'],\n",
              " ['White'],\n",
              " ['Pink'],\n",
              " ['Purple'],\n",
              " ['Orange'],\n",
              " ['Yellow'],\n",
              " ['Brown'],\n",
              " ['Green'],\n",
              " ['Silver'],\n",
              " ['Silver'],\n",
              " ['White'],\n",
              " ['Silver'],\n",
              " ['Black'],\n",
              " ['Gold'],\n",
              " ['Pink'],\n",
              " ['Silver'],\n",
              " ['White'],\n",
              " ['Gold'],\n",
              " ['Pink'],\n",
              " ['White'],\n",
              " ['Gold'],\n",
              " ['Gold'],\n",
              " ['Silver'],\n",
              " ['Gold'],\n",
              " ['Pink'],\n",
              " ['Purple'],\n",
              " ['Gold'],\n",
              " ['Gold'],\n",
              " ['Blue'],\n",
              " ['Gold'],\n",
              " ['Pink'],\n",
              " ['Purple'],\n",
              " ['Black'],\n",
              " ['Gold'],\n",
              " ['White'],\n",
              " ['Brown'],\n",
              " ['Silver'],\n",
              " ['Orange'],\n",
              " ['Yellow'],\n",
              " ['Silver'],\n",
              " ['Orange'],\n",
              " ['Yellow'],\n",
              " ['Gold'],\n",
              " ['Neutral'],\n",
              " ['White'],\n",
              " ['Gold'],\n",
              " ['White'],\n",
              " ['Gold'],\n",
              " ['Pink'],\n",
              " ['Gold'],\n",
              " ['Red'],\n",
              " ['Pink'],\n",
              " ['Purple'],\n",
              " ['Gold'],\n",
              " ['Gold'],\n",
              " ['Blue'],\n",
              " ['Blue'],\n",
              " ['Silver'],\n",
              " ['White'],\n",
              " ['Blue'],\n",
              " ['Gold'],\n",
              " ['Pink'],\n",
              " ['Purple'],\n",
              " ['Black'],\n",
              " ['Gold'],\n",
              " ['Green'],\n",
              " ['Red'],\n",
              " ['Gold'],\n",
              " ['Black'],\n",
              " ['Green'],\n",
              " ['Orange'],\n",
              " ['Yellow'],\n",
              " ['Gold'],\n",
              " ['Gold'],\n",
              " ['Blue'],\n",
              " ['Gold'],\n",
              " ['Gold'],\n",
              " ['Orange'],\n",
              " ['Yellow'],\n",
              " ['Black'],\n",
              " ['Orange'],\n",
              " ['Yellow'],\n",
              " ['Gold'],\n",
              " ['Black'],\n",
              " ['Brown'],\n",
              " ['Red'],\n",
              " ['Blue'],\n",
              " ['Blue'],\n",
              " ['Gold'],\n",
              " ['Gold'],\n",
              " ['Silver'],\n",
              " ['Black'],\n",
              " ['Brown'],\n",
              " ['Silver'],\n",
              " ['White'],\n",
              " ['Blue'],\n",
              " ['Pink'],\n",
              " ['Purple'],\n",
              " ['Gold'],\n",
              " ['Neutral'],\n",
              " ['Black'],\n",
              " ['Silver'],\n",
              " ['Black'],\n",
              " ['Gold'],\n",
              " ['Gold'],\n",
              " ['Black'],\n",
              " ['White'],\n",
              " ['Brown'],\n",
              " ['Blue'],\n",
              " ['Gold'],\n",
              " ['Grey'],\n",
              " ['Gold'],\n",
              " ['Brown'],\n",
              " ['White'],\n",
              " ['Yellow'],\n",
              " ['Neutral'],\n",
              " ['Gold'],\n",
              " ['Pink'],\n",
              " ['Silver'],\n",
              " ['Gold'],\n",
              " ['Silver'],\n",
              " ['Pink'],\n",
              " ['Purple'],\n",
              " ['Gold'],\n",
              " ['Blue'],\n",
              " ['Gold'],\n",
              " ['Black'],\n",
              " ['Pink'],\n",
              " ['Purple'],\n",
              " ['Grey'],\n",
              " ['Gold'],\n",
              " ['Pink'],\n",
              " ['Purple'],\n",
              " ['Blue'],\n",
              " ['Gold'],\n",
              " ['Pink'],\n",
              " ['Grey'],\n",
              " ['Silver'],\n",
              " ['Blue'],\n",
              " ['White'],\n",
              " ['Gold'],\n",
              " ['Black'],\n",
              " ['Black'],\n",
              " ['Silver'],\n",
              " ['Gold'],\n",
              " ['Brown'],\n",
              " ['Neutral'],\n",
              " ['Neutral'],\n",
              " ['Gold'],\n",
              " ['Black'],\n",
              " ['Grey'],\n",
              " ['Silver'],\n",
              " ['Gold'],\n",
              " ['Pink'],\n",
              " ['Gold'],\n",
              " ['Grey'],\n",
              " ['Blue'],\n",
              " ['Gold'],\n",
              " ['Black'],\n",
              " ['Orange'],\n",
              " ['Yellow'],\n",
              " ['Pink'],\n",
              " ['Purple'],\n",
              " ['Black'],\n",
              " ['Gold'],\n",
              " ['Silver'],\n",
              " ['Black'],\n",
              " ['Grey'],\n",
              " ['Silver'],\n",
              " ['White'],\n",
              " ['Orange'],\n",
              " ['Yellow'],\n",
              " ['Neutral'],\n",
              " ['Silver'],\n",
              " ['Silver'],\n",
              " ['Black'],\n",
              " ['Gold'],\n",
              " ['Pink'],\n",
              " ['Blue'],\n",
              " ['Pink'],\n",
              " ['Purple'],\n",
              " ['Green'],\n",
              " ['Brown'],\n",
              " ['Pink'],\n",
              " ['Purple'],\n",
              " ['Black'],\n",
              " ['Blue'],\n",
              " ['Brown'],\n",
              " ['Black'],\n",
              " ['Gold'],\n",
              " ['Pink'],\n",
              " ['White'],\n",
              " ['Black'],\n",
              " ['Blue'],\n",
              " ['Pink'],\n",
              " ['Purple'],\n",
              " ['Gold'],\n",
              " ['Orange'],\n",
              " ['Yellow'],\n",
              " ['Blue'],\n",
              " ['Gold'],\n",
              " ['Silver'],\n",
              " ['Black'],\n",
              " ['Gold'],\n",
              " ['Pink'],\n",
              " ['Purple'],\n",
              " ['White'],\n",
              " ['Gold'],\n",
              " ['Black'],\n",
              " ['Blue'],\n",
              " ['Gold'],\n",
              " ['Neutral'],\n",
              " ['Pink'],\n",
              " ['White'],\n",
              " ['Silver'],\n",
              " ['White'],\n",
              " ['Gold'],\n",
              " ['Pink'],\n",
              " ['Red'],\n",
              " ['Blue'],\n",
              " ['Pink'],\n",
              " ['Purple'],\n",
              " ['Gold'],\n",
              " ['Neutral'],\n",
              " ['Silver'],\n",
              " ['White'],\n",
              " ['Black'],\n",
              " ['Gold'],\n",
              " ['Silver'],\n",
              " ['Black'],\n",
              " ['Blue'],\n",
              " ['Gold'],\n",
              " ['Pink'],\n",
              " ['Black'],\n",
              " ['Gold'],\n",
              " ['Pink'],\n",
              " ['Brown'],\n",
              " ['Blue'],\n",
              " ['Pink'],\n",
              " ['Purple'],\n",
              " ['Silver'],\n",
              " ['White'],\n",
              " ['Gold'],\n",
              " ['Gold'],\n",
              " ['Grey'],\n",
              " ['Silver'],\n",
              " ['Silver'],\n",
              " ['Brown'],\n",
              " ['White'],\n",
              " ['Pink'],\n",
              " ['Purple'],\n",
              " ['Pink'],\n",
              " ['Purple'],\n",
              " ['Gold'],\n",
              " ['Black'],\n",
              " ['Gold'],\n",
              " ['Pink'],\n",
              " ['Red'],\n",
              " ['Silver'],\n",
              " ['Blue'],\n",
              " ['White'],\n",
              " ['Red'],\n",
              " ['Red'],\n",
              " ['Blue'],\n",
              " ['Silver'],\n",
              " ['Blue'],\n",
              " ['Silver'],\n",
              " ['Blue'],\n",
              " ['Black'],\n",
              " ['Black'],\n",
              " ['Neutral'],\n",
              " ['Neutral'],\n",
              " ['Silver'],\n",
              " ['Orange'],\n",
              " ['Yellow'],\n",
              " ['Silver'],\n",
              " ['Red'],\n",
              " ['Blue'],\n",
              " ['Pink'],\n",
              " ['Purple'],\n",
              " ['Gold'],\n",
              " ['Red'],\n",
              " ['Green'],\n",
              " ['Neutral'],\n",
              " ['Blue'],\n",
              " ['Pink'],\n",
              " ['Purple'],\n",
              " ['Black'],\n",
              " ['Gold'],\n",
              " ['Silver'],\n",
              " ['Silver'],\n",
              " ['Brown'],\n",
              " ['Green'],\n",
              " ['Gold'],\n",
              " ['Pink'],\n",
              " ['Brown'],\n",
              " ['Blue'],\n",
              " ['Blue'],\n",
              " ['Blue'],\n",
              " ['Gold'],\n",
              " ['Black'],\n",
              " ['Brown'],\n",
              " ['White'],\n",
              " ['Pink'],\n",
              " ['Purple'],\n",
              " ['Silver'],\n",
              " ['Silver'],\n",
              " ['Blue'],\n",
              " ['Blue'],\n",
              " ['Green'],\n",
              " ['Green'],\n",
              " ['Silver'],\n",
              " ['Gold'],\n",
              " ['Black'],\n",
              " ['Black'],\n",
              " ['White'],\n",
              " ['Blue'],\n",
              " ['Gold'],\n",
              " ['Silver'],\n",
              " ['Gold'],\n",
              " ['Neutral'],\n",
              " ['Silver'],\n",
              " ['Silver'],\n",
              " ['Gold'],\n",
              " ['Gold'],\n",
              " ['Blue'],\n",
              " ['White'],\n",
              " ['White'],\n",
              " ['Black'],\n",
              " ['Silver'],\n",
              " ['Silver'],\n",
              " ['Green'],\n",
              " ['Neutral'],\n",
              " ['Red'],\n",
              " ['White'],\n",
              " ['White'],\n",
              " ['Blue'],\n",
              " ['Green'],\n",
              " ['Blue'],\n",
              " ['Blue'],\n",
              " ['Gold'],\n",
              " ['Blue'],\n",
              " ['Blue'],\n",
              " ['Silver'],\n",
              " ['Green'],\n",
              " ['Black'],\n",
              " ['Black'],\n",
              " ['Silver'],\n",
              " ['Silver'],\n",
              " ['Black'],\n",
              " ['Orange'],\n",
              " ['Yellow'],\n",
              " ['Blue'],\n",
              " ['Gold'],\n",
              " ['Silver'],\n",
              " ['Silver'],\n",
              " ['Gold'],\n",
              " ['Black'],\n",
              " ['Gold'],\n",
              " ['White'],\n",
              " ['Green'],\n",
              " ['Gold'],\n",
              " ['Silver'],\n",
              " ['Blue'],\n",
              " ['Blue'],\n",
              " ['Gold'],\n",
              " ['Pink'],\n",
              " ['Green'],\n",
              " ['Red'],\n",
              " ['Blue'],\n",
              " ['Blue'],\n",
              " ['Gold'],\n",
              " ['Gold'],\n",
              " ['White'],\n",
              " ['White'],\n",
              " ['Silver'],\n",
              " ['White'],\n",
              " ['Gold'],\n",
              " ['Gold'],\n",
              " ['Pink'],\n",
              " ['Purple'],\n",
              " ['Black'],\n",
              " ['Blue'],\n",
              " ['Black'],\n",
              " ['Brown'],\n",
              " ['Gold'],\n",
              " ['Pink'],\n",
              " ['Silver'],\n",
              " ['White'],\n",
              " ['Brown'],\n",
              " ['Grey'],\n",
              " ['Neutral'],\n",
              " ['Gold'],\n",
              " ['Gold'],\n",
              " ['Black'],\n",
              " ['Gold'],\n",
              " ['Silver'],\n",
              " ['White'],\n",
              " ['Brown'],\n",
              " ['Neutral'],\n",
              " ['Grey'],\n",
              " ['Gold'],\n",
              " ['White'],\n",
              " ['Brown'],\n",
              " ['Blue'],\n",
              " ['Pink'],\n",
              " ['Purple'],\n",
              " ['Brown'],\n",
              " ['Blue'],\n",
              " ['Gold'],\n",
              " ['Pink'],\n",
              " ['Green'],\n",
              " ['Green'],\n",
              " ['Silver'],\n",
              " ['Gold'],\n",
              " ['Gold'],\n",
              " ['Gold'],\n",
              " ['Pink'],\n",
              " ['Grey'],\n",
              " ['Red'],\n",
              " ['Orange'],\n",
              " ['Yellow'],\n",
              " ['Red'],\n",
              " ['Brown'],\n",
              " ['Gold'],\n",
              " ['Gold'],\n",
              " ['White'],\n",
              " ['Gold'],\n",
              " ['Gold'],\n",
              " ['Pink'],\n",
              " ['Purple'],\n",
              " ['Brown'],\n",
              " ['Silver'],\n",
              " ['Gold'],\n",
              " ['Gold'],\n",
              " ['Gold'],\n",
              " ['Red'],\n",
              " ['Silver'],\n",
              " ['Neutral'],\n",
              " ['Silver'],\n",
              " ['Blue'],\n",
              " ['Gold'],\n",
              " ['Neutral'],\n",
              " ['Neutral'],\n",
              " ['Brown'],\n",
              " ['Silver'],\n",
              " ['White'],\n",
              " ['Silver'],\n",
              " ['White'],\n",
              " ['Gold'],\n",
              " ['Green'],\n",
              " ['Gold'],\n",
              " ['White'],\n",
              " ['Gold'],\n",
              " ['Gold'],\n",
              " ['Pink'],\n",
              " ['Red'],\n",
              " ['Brown'],\n",
              " ['Silver'],\n",
              " ['Black'],\n",
              " ['Brown'],\n",
              " ['Gold'],\n",
              " ['Gold'],\n",
              " ['Gold'],\n",
              " ['Pink'],\n",
              " ['Brown'],\n",
              " ['Pink'],\n",
              " ['Purple'],\n",
              " ['Gold'],\n",
              " ['Green'],\n",
              " ['Black'],\n",
              " ['Silver'],\n",
              " ['Blue'],\n",
              " ['Red'],\n",
              " ['Silver'],\n",
              " ['Silver'],\n",
              " ['Blue'],\n",
              " ['Silver'],\n",
              " ['White'],\n",
              " ['Blue'],\n",
              " ['White'],\n",
              " ['Green'],\n",
              " ['Black'],\n",
              " ['Silver'],\n",
              " ['Gold'],\n",
              " ['Pink'],\n",
              " ['Silver'],\n",
              " ['Pink'],\n",
              " ['Purple'],\n",
              " ['Gold'],\n",
              " ['White'],\n",
              " ['Gold'],\n",
              " ['Gold'],\n",
              " ['Red'],\n",
              " ['Green'],\n",
              " ['Green'],\n",
              " ['Black'],\n",
              " ['White'],\n",
              " ['Grey'],\n",
              " ['Green'],\n",
              " ['Pink'],\n",
              " ['Purple'],\n",
              " ['Pink'],\n",
              " ['Purple'],\n",
              " ['Silver'],\n",
              " ['Pink'],\n",
              " ['Purple'],\n",
              " ['Blue'],\n",
              " ['Blue'],\n",
              " ['Blue'],\n",
              " ['Gold'],\n",
              " ['Blue'],\n",
              " ['Black'],\n",
              " ['Silver'],\n",
              " ['Silver'],\n",
              " ['White'],\n",
              " ['Gold'],\n",
              " ['Neutral'],\n",
              " ['Red'],\n",
              " ['White'],\n",
              " ['Green'],\n",
              " ['Green'],\n",
              " ['Orange'],\n",
              " ['Red'],\n",
              " ['Yellow'],\n",
              " ['Gold'],\n",
              " ['Black'],\n",
              " ['Brown'],\n",
              " ['Gold'],\n",
              " ['Blue'],\n",
              " ['Red'],\n",
              " ['White'],\n",
              " ['Black'],\n",
              " ['White'],\n",
              " ['Gold'],\n",
              " ['Pink'],\n",
              " ['Purple'],\n",
              " ['Gold'],\n",
              " ['White'],\n",
              " ['Gold'],\n",
              " ['Pink'],\n",
              " ['White'],\n",
              " ['White'],\n",
              " ['Gold'],\n",
              " ['Green'],\n",
              " ['Orange'],\n",
              " ['Yellow'],\n",
              " ['Blue'],\n",
              " ['Silver'],\n",
              " ['Pink'],\n",
              " ['Purple'],\n",
              " ['Silver'],\n",
              " ['Pink'],\n",
              " ['Purple'],\n",
              " ['White'],\n",
              " ['Black'],\n",
              " ['White'],\n",
              " ['Black'],\n",
              " ['White'],\n",
              " ['Brown'],\n",
              " ['Pink'],\n",
              " ['Purple'],\n",
              " ['Gold'],\n",
              " ['Gold'],\n",
              " ['Gold'],\n",
              " ['Pink'],\n",
              " ['White'],\n",
              " ['Gold'],\n",
              " ['Pink'],\n",
              " ['Green'],\n",
              " ['Green'],\n",
              " ['Green'],\n",
              " ['Silver'],\n",
              " ...]"
            ]
          },
          "metadata": {},
          "execution_count": 25
        }
      ]
    },
    {
      "cell_type": "code",
      "metadata": {
        "id": "0uwYF1_-0HGn",
        "colab": {
          "base_uri": "https://localhost:8080/",
          "height": 419
        },
        "outputId": "4f66ff01-2288-41e8-8cac-36a060ae331d"
      },
      "source": [
        "# create a dataframe with the colours listed in both datasets\n",
        "colors_dataframe = pd.DataFrame(colors, columns = ['Color'])\n",
        "colors_dataframe"
      ],
      "execution_count": null,
      "outputs": [
        {
          "output_type": "execute_result",
          "data": {
            "text/html": [
              "<div>\n",
              "<style scoped>\n",
              "    .dataframe tbody tr th:only-of-type {\n",
              "        vertical-align: middle;\n",
              "    }\n",
              "\n",
              "    .dataframe tbody tr th {\n",
              "        vertical-align: top;\n",
              "    }\n",
              "\n",
              "    .dataframe thead th {\n",
              "        text-align: right;\n",
              "    }\n",
              "</style>\n",
              "<table border=\"1\" class=\"dataframe\">\n",
              "  <thead>\n",
              "    <tr style=\"text-align: right;\">\n",
              "      <th></th>\n",
              "      <th>Color</th>\n",
              "    </tr>\n",
              "  </thead>\n",
              "  <tbody>\n",
              "    <tr>\n",
              "      <th>0</th>\n",
              "      <td>Brown</td>\n",
              "    </tr>\n",
              "    <tr>\n",
              "      <th>1</th>\n",
              "      <td>White</td>\n",
              "    </tr>\n",
              "    <tr>\n",
              "      <th>2</th>\n",
              "      <td>Blue</td>\n",
              "    </tr>\n",
              "    <tr>\n",
              "      <th>3</th>\n",
              "      <td>Black</td>\n",
              "    </tr>\n",
              "    <tr>\n",
              "      <th>4</th>\n",
              "      <td>Blue</td>\n",
              "    </tr>\n",
              "    <tr>\n",
              "      <th>...</th>\n",
              "      <td>...</td>\n",
              "    </tr>\n",
              "    <tr>\n",
              "      <th>120818</th>\n",
              "      <td>Brown</td>\n",
              "    </tr>\n",
              "    <tr>\n",
              "      <th>120819</th>\n",
              "      <td>Gold</td>\n",
              "    </tr>\n",
              "    <tr>\n",
              "      <th>120820</th>\n",
              "      <td>Green</td>\n",
              "    </tr>\n",
              "    <tr>\n",
              "      <th>120821</th>\n",
              "      <td>Beige</td>\n",
              "    </tr>\n",
              "    <tr>\n",
              "      <th>120822</th>\n",
              "      <td>Multicolored</td>\n",
              "    </tr>\n",
              "  </tbody>\n",
              "</table>\n",
              "<p>120823 rows × 1 columns</p>\n",
              "</div>"
            ],
            "text/plain": [
              "               Color\n",
              "0              Brown\n",
              "1              White\n",
              "2               Blue\n",
              "3              Black\n",
              "4               Blue\n",
              "...              ...\n",
              "120818         Brown\n",
              "120819          Gold\n",
              "120820         Green\n",
              "120821         Beige\n",
              "120822  Multicolored\n",
              "\n",
              "[120823 rows x 1 columns]"
            ]
          },
          "metadata": {},
          "execution_count": 26
        }
      ]
    },
    {
      "cell_type": "code",
      "metadata": {
        "id": "SwaTpSVE0Isj"
      },
      "source": [
        "# we should have only 110727 colour samples for each row.\n",
        "\n",
        "# import LabelEncoder\n",
        "from sklearn.preprocessing import LabelEncoder\n",
        "le=LabelEncoder()"
      ],
      "execution_count": null,
      "outputs": []
    },
    {
      "cell_type": "code",
      "metadata": {
        "id": "GhJHhJAP0Wzk",
        "colab": {
          "base_uri": "https://localhost:8080/",
          "height": 419
        },
        "outputId": "227c80fc-c39e-4782-9c7c-86f28c89e261"
      },
      "source": [
        "# will encode all the colours from 0-15\n",
        "colors_dataframe['Color']=le.fit_transform(colors_dataframe['Color'])\n",
        "colors_dataframe"
      ],
      "execution_count": null,
      "outputs": [
        {
          "output_type": "execute_result",
          "data": {
            "text/html": [
              "<div>\n",
              "<style scoped>\n",
              "    .dataframe tbody tr th:only-of-type {\n",
              "        vertical-align: middle;\n",
              "    }\n",
              "\n",
              "    .dataframe tbody tr th {\n",
              "        vertical-align: top;\n",
              "    }\n",
              "\n",
              "    .dataframe thead th {\n",
              "        text-align: right;\n",
              "    }\n",
              "</style>\n",
              "<table border=\"1\" class=\"dataframe\">\n",
              "  <thead>\n",
              "    <tr style=\"text-align: right;\">\n",
              "      <th></th>\n",
              "      <th>Color</th>\n",
              "    </tr>\n",
              "  </thead>\n",
              "  <tbody>\n",
              "    <tr>\n",
              "      <th>0</th>\n",
              "      <td>3</td>\n",
              "    </tr>\n",
              "    <tr>\n",
              "      <th>1</th>\n",
              "      <td>14</td>\n",
              "    </tr>\n",
              "    <tr>\n",
              "      <th>2</th>\n",
              "      <td>2</td>\n",
              "    </tr>\n",
              "    <tr>\n",
              "      <th>3</th>\n",
              "      <td>1</td>\n",
              "    </tr>\n",
              "    <tr>\n",
              "      <th>4</th>\n",
              "      <td>2</td>\n",
              "    </tr>\n",
              "    <tr>\n",
              "      <th>...</th>\n",
              "      <td>...</td>\n",
              "    </tr>\n",
              "    <tr>\n",
              "      <th>120818</th>\n",
              "      <td>3</td>\n",
              "    </tr>\n",
              "    <tr>\n",
              "      <th>120819</th>\n",
              "      <td>4</td>\n",
              "    </tr>\n",
              "    <tr>\n",
              "      <th>120820</th>\n",
              "      <td>5</td>\n",
              "    </tr>\n",
              "    <tr>\n",
              "      <th>120821</th>\n",
              "      <td>0</td>\n",
              "    </tr>\n",
              "    <tr>\n",
              "      <th>120822</th>\n",
              "      <td>7</td>\n",
              "    </tr>\n",
              "  </tbody>\n",
              "</table>\n",
              "<p>120823 rows × 1 columns</p>\n",
              "</div>"
            ],
            "text/plain": [
              "        Color\n",
              "0           3\n",
              "1          14\n",
              "2           2\n",
              "3           1\n",
              "4           2\n",
              "...       ...\n",
              "120818      3\n",
              "120819      4\n",
              "120820      5\n",
              "120821      0\n",
              "120822      7\n",
              "\n",
              "[120823 rows x 1 columns]"
            ]
          },
          "metadata": {},
          "execution_count": 28
        }
      ]
    },
    {
      "cell_type": "code",
      "metadata": {
        "id": "rZEHJ58b0Ymc",
        "colab": {
          "base_uri": "https://localhost:8080/",
          "height": 419
        },
        "outputId": "fe5f6fca-f29b-446a-96d4-8b7832dd932e"
      },
      "source": [
        "# look at the first 110,727 rows\n",
        "updated_color_df=colors_dataframe.head(110727)\n",
        "updated_color_df"
      ],
      "execution_count": null,
      "outputs": [
        {
          "output_type": "execute_result",
          "data": {
            "text/html": [
              "<div>\n",
              "<style scoped>\n",
              "    .dataframe tbody tr th:only-of-type {\n",
              "        vertical-align: middle;\n",
              "    }\n",
              "\n",
              "    .dataframe tbody tr th {\n",
              "        vertical-align: top;\n",
              "    }\n",
              "\n",
              "    .dataframe thead th {\n",
              "        text-align: right;\n",
              "    }\n",
              "</style>\n",
              "<table border=\"1\" class=\"dataframe\">\n",
              "  <thead>\n",
              "    <tr style=\"text-align: right;\">\n",
              "      <th></th>\n",
              "      <th>Color</th>\n",
              "    </tr>\n",
              "  </thead>\n",
              "  <tbody>\n",
              "    <tr>\n",
              "      <th>0</th>\n",
              "      <td>3</td>\n",
              "    </tr>\n",
              "    <tr>\n",
              "      <th>1</th>\n",
              "      <td>14</td>\n",
              "    </tr>\n",
              "    <tr>\n",
              "      <th>2</th>\n",
              "      <td>2</td>\n",
              "    </tr>\n",
              "    <tr>\n",
              "      <th>3</th>\n",
              "      <td>1</td>\n",
              "    </tr>\n",
              "    <tr>\n",
              "      <th>4</th>\n",
              "      <td>2</td>\n",
              "    </tr>\n",
              "    <tr>\n",
              "      <th>...</th>\n",
              "      <td>...</td>\n",
              "    </tr>\n",
              "    <tr>\n",
              "      <th>110722</th>\n",
              "      <td>10</td>\n",
              "    </tr>\n",
              "    <tr>\n",
              "      <th>110723</th>\n",
              "      <td>14</td>\n",
              "    </tr>\n",
              "    <tr>\n",
              "      <th>110724</th>\n",
              "      <td>5</td>\n",
              "    </tr>\n",
              "    <tr>\n",
              "      <th>110725</th>\n",
              "      <td>15</td>\n",
              "    </tr>\n",
              "    <tr>\n",
              "      <th>110726</th>\n",
              "      <td>1</td>\n",
              "    </tr>\n",
              "  </tbody>\n",
              "</table>\n",
              "<p>110727 rows × 1 columns</p>\n",
              "</div>"
            ],
            "text/plain": [
              "        Color\n",
              "0           3\n",
              "1          14\n",
              "2           2\n",
              "3           1\n",
              "4           2\n",
              "...       ...\n",
              "110722     10\n",
              "110723     14\n",
              "110724      5\n",
              "110725     15\n",
              "110726      1\n",
              "\n",
              "[110727 rows x 1 columns]"
            ]
          },
          "metadata": {},
          "execution_count": 29
        }
      ]
    },
    {
      "cell_type": "code",
      "metadata": {
        "id": "wZhlWs0N0at0",
        "colab": {
          "base_uri": "https://localhost:8080/"
        },
        "outputId": "e645f60b-5398-4d5d-c003-7b2c6bdc2944"
      },
      "source": [
        "# create an array\n",
        "updated_color_df_output=updated_color_df.iloc[:,:].values\n",
        "updated_color_df_output"
      ],
      "execution_count": null,
      "outputs": [
        {
          "output_type": "execute_result",
          "data": {
            "text/plain": [
              "array([[ 3],\n",
              "       [14],\n",
              "       [ 2],\n",
              "       ...,\n",
              "       [ 5],\n",
              "       [15],\n",
              "       [ 1]])"
            ]
          },
          "metadata": {},
          "execution_count": 30
        }
      ]
    },
    {
      "cell_type": "code",
      "metadata": {
        "id": "PL7pC_JT0cTB"
      },
      "source": [
        "# create train and test split\n",
        "train_X,test_X,train_y,test_y=train_test_split(tfidf_df,updated_color_df_output,test_size=0.2)"
      ],
      "execution_count": null,
      "outputs": []
    },
    {
      "cell_type": "markdown",
      "metadata": {
        "id": "5r8VV4xr7Xn3"
      },
      "source": [
        "### Multinomial NB"
      ]
    },
    {
      "cell_type": "code",
      "metadata": {
        "id": "RxJNNeu17eGM"
      },
      "source": [
        "# import MNB\n",
        "from sklearn.naive_bayes import MultinomialNB\n",
        "model_colour_MNB=MultinomialNB()\n",
        "\n",
        "# fit the train and test set on the MNB classifier\n",
        "model_colour_MNB.fit(train_X,train_y.ravel())\n",
        "y_pred_colour_MNB=model_colour_MNB.predict(test_X)"
      ],
      "execution_count": null,
      "outputs": []
    },
    {
      "cell_type": "code",
      "metadata": {
        "colab": {
          "base_uri": "https://localhost:8080/"
        },
        "id": "JdPBIv7v7hUU",
        "outputId": "3ccd521c-3b22-4559-aaf8-c419c618ff46"
      },
      "source": [
        "from sklearn.metrics import accuracy_score\n",
        "from sklearn.metrics import f1_score\n",
        "from sklearn.metrics import precision_score\n",
        "from sklearn.metrics import recall_score\n",
        "\n",
        "'Accuracy Score: ',accuracy_score(test_y,y_pred_colour_MNB)"
      ],
      "execution_count": null,
      "outputs": [
        {
          "output_type": "execute_result",
          "data": {
            "text/plain": [
              "('Accuracy Score: ', 0.19520455161202926)"
            ]
          },
          "metadata": {},
          "execution_count": 34
        }
      ]
    },
    {
      "cell_type": "code",
      "metadata": {
        "colab": {
          "base_uri": "https://localhost:8080/"
        },
        "id": "1EqS1JCxnsSF",
        "outputId": "ddc6c6fb-969d-4179-f5d1-e348b01269e9"
      },
      "source": [
        "'F1 Score: ',f1_score(test_y,y_pred_colour_MNB, average='weighted') "
      ],
      "execution_count": null,
      "outputs": [
        {
          "output_type": "execute_result",
          "data": {
            "text/plain": [
              "('F1 Score: ', 0.13008157333962025)"
            ]
          },
          "metadata": {},
          "execution_count": 35
        }
      ]
    },
    {
      "cell_type": "code",
      "metadata": {
        "colab": {
          "base_uri": "https://localhost:8080/"
        },
        "id": "O6WOdcFdny-4",
        "outputId": "45628dfd-5ce9-4bcb-9f9d-aaae38e61533"
      },
      "source": [
        "'Precision Score: ',precision_score(test_y,y_pred_colour_MNB, average='weighted') "
      ],
      "execution_count": null,
      "outputs": [
        {
          "output_type": "execute_result",
          "data": {
            "text/plain": [
              "('Precision Score: ', 0.11945208365145647)"
            ]
          },
          "metadata": {},
          "execution_count": 36
        }
      ]
    },
    {
      "cell_type": "code",
      "metadata": {
        "colab": {
          "base_uri": "https://localhost:8080/"
        },
        "id": "E7dQcYgin2tU",
        "outputId": "30df2f69-f9e1-4d83-b9b1-2da2991ba4f2"
      },
      "source": [
        "'Recall Score: ',recall_score(test_y,y_pred_colour_MNB, average='macro') "
      ],
      "execution_count": null,
      "outputs": [
        {
          "output_type": "execute_result",
          "data": {
            "text/plain": [
              "('Recall Score: ', 0.06958761168503087)"
            ]
          },
          "metadata": {},
          "execution_count": 37
        }
      ]
    },
    {
      "cell_type": "code",
      "metadata": {
        "colab": {
          "base_uri": "https://localhost:8080/",
          "height": 893
        },
        "id": "z-vnGrUmCcYA",
        "outputId": "06a818fc-332e-4502-8d0e-640360ed86a7"
      },
      "source": [
        "import sklearn.metrics as metrics\n",
        "import seaborn as sns\n",
        "\n",
        "# plot confusion matrix\n",
        "cm = metrics.confusion_matrix(test_y, y_pred_MB);\n",
        "fig, ax = plt.subplots(figsize=(20,15));\n",
        "sns.heatmap(cm, annot=True, fmt='d', ax=ax, cmap=plt.cm.Blues, \n",
        "            cbar=False);\n",
        "ax.set(xlabel=\"Pred\", ylabel=\"True\", title=\"Confusion matrix\");\n",
        "plt.yticks(rotation=0);\n"
      ],
      "execution_count": null,
      "outputs": [
        {
          "output_type": "display_data",
          "data": {
            "image/png": "[encoded data removed]",
            "text/plain": [
              "<Figure size 1440x1080 with 1 Axes>"
            ]
          },
          "metadata": {
            "needs_background": "light"
          }
        }
      ]
    },
    {
      "cell_type": "code",
      "metadata": {
        "id": "N0oRb8li71bT"
      },
      "source": [
        "# import Random Forest classifier\n",
        "from sklearn.ensemble import RandomForestClassifier\n",
        "model_colour_RF=RandomForestClassifier()\n",
        "\n",
        "# fit the train and test set on the Random Forest classifier\n",
        "model_colour_RF.fit(train_X,train_y.ravel())\n",
        "y_pred_colour_RF=model_colour_RF.predict(test_X)"
      ],
      "execution_count": null,
      "outputs": []
    },
    {
      "cell_type": "code",
      "metadata": {
        "colab": {
          "base_uri": "https://localhost:8080/"
        },
        "id": "5Q75bfZ6oqfW",
        "outputId": "7048e4f0-ec07-4d14-bdc9-dc64b36fa539"
      },
      "source": [
        "'Accuracy Score: ',accuracy_score(test_y,y_pred_colour_RF)"
      ],
      "execution_count": null,
      "outputs": [
        {
          "output_type": "execute_result",
          "data": {
            "text/plain": [
              "('Accuracy Score: ', 0.19786868960534634)"
            ]
          },
          "metadata": {},
          "execution_count": 40
        }
      ]
    },
    {
      "cell_type": "code",
      "metadata": {
        "colab": {
          "base_uri": "https://localhost:8080/"
        },
        "id": "0ULrsSLIo563",
        "outputId": "0634f4f1-ce2a-475b-d5fe-3d87b3f9ef68"
      },
      "source": [
        "'F1 Score: ',f1_score(test_y,y_pred_colour_RF, average='weighted') "
      ],
      "execution_count": null,
      "outputs": [
        {
          "output_type": "execute_result",
          "data": {
            "text/plain": [
              "('F1 Score: ', 0.12896893066479692)"
            ]
          },
          "metadata": {},
          "execution_count": 41
        }
      ]
    },
    {
      "cell_type": "code",
      "metadata": {
        "colab": {
          "base_uri": "https://localhost:8080/"
        },
        "id": "pGYutmx9o9Uh",
        "outputId": "f2297628-2091-48f9-9e7c-f5334cae3f25"
      },
      "source": [
        "'Precision Score: ',precision_score(test_y,y_pred_colour_RF, average='weighted') "
      ],
      "execution_count": null,
      "outputs": [
        {
          "output_type": "execute_result",
          "data": {
            "text/plain": [
              "('Precision Score: ', 0.11668743537672172)"
            ]
          },
          "metadata": {},
          "execution_count": 42
        }
      ]
    },
    {
      "cell_type": "code",
      "metadata": {
        "colab": {
          "base_uri": "https://localhost:8080/"
        },
        "id": "tx-QSoxfo9Zs",
        "outputId": "1f3c443c-0451-454c-ad6e-f4a99eaf6232"
      },
      "source": [
        "'Recall Score: ',recall_score(test_y,y_pred_colour_RF, average='macro') "
      ],
      "execution_count": null,
      "outputs": [
        {
          "output_type": "execute_result",
          "data": {
            "text/plain": [
              "('Recall Score: ', 0.06425999633905266)"
            ]
          },
          "metadata": {},
          "execution_count": 43
        }
      ]
    },
    {
      "cell_type": "code",
      "metadata": {
        "colab": {
          "base_uri": "https://localhost:8080/",
          "height": 893
        },
        "id": "gs7jZM-Q8CXE",
        "outputId": "f1b79b7b-723a-4c7e-ac83-8830d2625862"
      },
      "source": [
        "# plot confusion matrix\n",
        "cm_RF = metrics.confusion_matrix(test_y, y_pred_RF);\n",
        "fig, ax = plt.subplots(figsize=(20,15));\n",
        "sns.heatmap(cm, annot=True, fmt='d', ax=ax, cmap=plt.cm.Blues, \n",
        "            cbar=False);\n",
        "ax.set(xlabel=\"Pred\", ylabel=\"True\", title=\"Confusion matrix\");\n",
        "plt.yticks(rotation=0);"
      ],
      "execution_count": null,
      "outputs": [
        {
          "output_type": "display_data",
          "data": {
            "image/png": "[encoded data removed]",
            "text/plain": [
              "<Figure size 1440x1080 with 1 Axes>"
            ]
          },
          "metadata": {
            "needs_background": "light"
          }
        }
      ]
    },
    {
      "cell_type": "markdown",
      "metadata": {
        "id": "fBWK0KYR8J-B"
      },
      "source": [
        "### Decision Tree Classifier"
      ]
    },
    {
      "cell_type": "code",
      "metadata": {
        "id": "7en5oDa88Adz"
      },
      "source": [
        "# import Decision Tree classifier\n",
        "from sklearn.tree import DecisionTreeClassifier\n",
        "model_colour_DT=DecisionTreeClassifier()\n",
        "\n",
        "# fit the train and test set on the Decision Tree classifier\n",
        "model_colour_DT.fit(train_X,train_y.ravel())\n",
        "y_pred_colour_DT=model_colour_DT.predict(test_X)\n"
      ],
      "execution_count": null,
      "outputs": []
    },
    {
      "cell_type": "code",
      "metadata": {
        "colab": {
          "base_uri": "https://localhost:8080/"
        },
        "id": "0VT5QS04plQo",
        "outputId": "9f89e2f8-5919-4982-e4c0-4588678addb7"
      },
      "source": [
        "'Accuracy Score: ',accuracy_score(test_y,y_pred_colour_DT)"
      ],
      "execution_count": null,
      "outputs": [
        {
          "output_type": "execute_result",
          "data": {
            "text/plain": [
              "('Accuracy Score: ', 0.1323489569222433)"
            ]
          },
          "metadata": {},
          "execution_count": 45
        }
      ]
    },
    {
      "cell_type": "code",
      "metadata": {
        "colab": {
          "base_uri": "https://localhost:8080/"
        },
        "id": "qQcNG6qPpoo4",
        "outputId": "aeba3b59-6f7d-4d3b-fde2-ca611f85f2b5"
      },
      "source": [
        "'F1 Score: ',f1_score(test_y,y_pred_colour_DT, average='weighted') "
      ],
      "execution_count": null,
      "outputs": [
        {
          "output_type": "execute_result",
          "data": {
            "text/plain": [
              "('F1 Score: ', 0.12556196938615158)"
            ]
          },
          "metadata": {},
          "execution_count": 46
        }
      ]
    },
    {
      "cell_type": "code",
      "metadata": {
        "colab": {
          "base_uri": "https://localhost:8080/"
        },
        "id": "DNvYlh4Qpre4",
        "outputId": "23a4a59d-6d98-4c17-ddf0-829a56cc6cb5"
      },
      "source": [
        "'Precision Score: ',precision_score(test_y,y_pred_colour_DT, average='weighted') "
      ],
      "execution_count": null,
      "outputs": [
        {
          "output_type": "execute_result",
          "data": {
            "text/plain": [
              "('Precision Score: ', 0.12025706267499645)"
            ]
          },
          "metadata": {},
          "execution_count": 47
        }
      ]
    },
    {
      "cell_type": "code",
      "metadata": {
        "colab": {
          "base_uri": "https://localhost:8080/"
        },
        "id": "3Y9alD3bpvsV",
        "outputId": "66acc1e3-9803-4ac4-e4a4-69675e395d05"
      },
      "source": [
        "'Recall Score: ',recall_score(test_y,y_pred_colour_DT, average='macro') "
      ],
      "execution_count": null,
      "outputs": [
        {
          "output_type": "execute_result",
          "data": {
            "text/plain": [
              "('Recall Score: ', 0.06467379177474708)"
            ]
          },
          "metadata": {},
          "execution_count": 48
        }
      ]
    },
    {
      "cell_type": "code",
      "metadata": {
        "colab": {
          "base_uri": "https://localhost:8080/",
          "height": 893
        },
        "id": "3b6pvTMdEHK9",
        "outputId": "472e640c-d7d2-417c-9586-3ae2f15f578d"
      },
      "source": [
        "# plot confusion matrix\n",
        "cm_DT = metrics.confusion_matrix(test_y, y_pred_DT);\n",
        "fig, ax = plt.subplots(figsize=(20,15));\n",
        "sns.heatmap(cm_DT, annot=True, fmt='d', ax=ax, cmap=plt.cm.Blues, \n",
        "            cbar=False);\n",
        "ax.set(xlabel=\"Pred\", ylabel=\"True\", title=\"Confusion matrix\");\n",
        "plt.yticks(rotation=0);"
      ],
      "execution_count": null,
      "outputs": [
        {
          "output_type": "display_data",
          "data": {
            "image/png": "[encoded data removed]",
            "text/plain": [
              "<Figure size 1440x1080 with 1 Axes>"
            ]
          },
          "metadata": {
            "needs_background": "light"
          }
        }
      ]
    },
    {
      "cell_type": "code",
      "metadata": {
        "colab": {
          "base_uri": "https://localhost:8080/"
        },
        "id": "1eXoydskyp-l",
        "outputId": "a4f3b310-d1f2-41b1-9056-89930f907196"
      },
      "source": [
        "from sklearn.linear_model import LogisticRegression\n",
        "model_colour_LR=LogisticRegression()\n",
        "\n",
        "# fit the train and test set on the Random Forest classifier\n",
        "model_colour_LR.fit(train_X,train_y.ravel())\n",
        "y_pred_colour_LR=model_colour_LR.predict(test_X)\n"
      ],
      "execution_count": null,
      "outputs": [
        {
          "output_type": "stream",
          "text": [
            "/usr/local/lib/python3.7/dist-packages/sklearn/linear_model/_logistic.py:940: ConvergenceWarning: lbfgs failed to converge (status=1):\n",
            "STOP: TOTAL NO. of ITERATIONS REACHED LIMIT.\n",
            "\n",
            "Increase the number of iterations (max_iter) or scale the data as shown in:\n",
            "    https://scikit-learn.org/stable/modules/preprocessing.html\n",
            "Please also refer to the documentation for alternative solver options:\n",
            "    https://scikit-learn.org/stable/modules/linear_model.html#logistic-regression\n",
            "  extra_warning_msg=_LOGISTIC_SOLVER_CONVERGENCE_MSG)\n"
          ],
          "name": "stderr"
        }
      ]
    },
    {
      "cell_type": "code",
      "metadata": {
        "colab": {
          "base_uri": "https://localhost:8080/"
        },
        "id": "7uUlSDAJy0e-",
        "outputId": "c421d845-f506-4265-99a9-49177be2226b"
      },
      "source": [
        "'Accuracy Score: ',accuracy_score(test_y,y_pred_colour_LR)"
      ],
      "execution_count": null,
      "outputs": [
        {
          "output_type": "execute_result",
          "data": {
            "text/plain": [
              "('Accuracy Score: ', 0.18341912760769438)"
            ]
          },
          "metadata": {},
          "execution_count": 50
        }
      ]
    },
    {
      "cell_type": "code",
      "metadata": {
        "colab": {
          "base_uri": "https://localhost:8080/"
        },
        "id": "vQq-M2jLzFgJ",
        "outputId": "b8ed5c02-61c9-4dad-88f9-6fab41cb3153"
      },
      "source": [
        "'F1 Score: ',f1_score(test_y,y_pred_colour_LR, average='weighted') "
      ],
      "execution_count": null,
      "outputs": [
        {
          "output_type": "execute_result",
          "data": {
            "text/plain": [
              "('F1 Score: ', 0.12768283020826346)"
            ]
          },
          "metadata": {},
          "execution_count": 51
        }
      ]
    },
    {
      "cell_type": "code",
      "metadata": {
        "colab": {
          "base_uri": "https://localhost:8080/"
        },
        "id": "wZWoRSPEzIE_",
        "outputId": "d255bdef-25de-49d7-8521-9dee71ecbe81"
      },
      "source": [
        "'Precision Score: ',precision_score(test_y,y_pred_colour_LR, average='weighted') "
      ],
      "execution_count": null,
      "outputs": [
        {
          "output_type": "execute_result",
          "data": {
            "text/plain": [
              "('Precision Score: ', 0.11473064959064579)"
            ]
          },
          "metadata": {},
          "execution_count": 52
        }
      ]
    },
    {
      "cell_type": "code",
      "metadata": {
        "colab": {
          "base_uri": "https://localhost:8080/"
        },
        "id": "W_oAZ9BBzQnE",
        "outputId": "60d17119-3df7-4929-a0b0-b10bc62e7f76"
      },
      "source": [
        "'Recall Score: ',recall_score(test_y,y_pred_colour_LR, average='macro') "
      ],
      "execution_count": null,
      "outputs": [
        {
          "output_type": "execute_result",
          "data": {
            "text/plain": [
              "('Recall Score: ', 0.0625219662684009)"
            ]
          },
          "metadata": {},
          "execution_count": 53
        }
      ]
    },
    {
      "cell_type": "code",
      "metadata": {
        "colab": {
          "base_uri": "https://localhost:8080/",
          "height": 893
        },
        "id": "gjowJCpFzY4Q",
        "outputId": "0a7ea125-a9d6-414a-8248-8b6f965abe7e"
      },
      "source": [
        "# plot confusion matrix\n",
        "import sklearn.metrics as metrics\n",
        "import matplotlib.pyplot as plt \n",
        "import seaborn as sns\n",
        "\n",
        "cm_colour_LR = metrics.confusion_matrix(test_y, y_pred_colour_LR);\n",
        "fig, ax = plt.subplots(figsize=(20,15));\n",
        "sns.heatmap(cm_colour_LR, annot=True, fmt='d', ax=ax, cmap=plt.cm.Blues, \n",
        "            cbar=False);\n",
        "ax.set(xlabel=\"Pred\", ylabel=\"True\", title=\"Confusion matrix\");\n",
        "plt.yticks(rotation=0);"
      ],
      "execution_count": null,
      "outputs": [
        {
          "output_type": "display_data",
          "data": {
            "image/png": "[encoded data removed]",
            "text/plain": [
              "<Figure size 1440x1080 with 1 Axes>"
            ]
          },
          "metadata": {
            "needs_background": "light"
          }
        }
      ]
    },
    {
      "cell_type": "markdown",
      "metadata": {
        "id": "GGtMREHm9g1z"
      },
      "source": [
        "### **PRINT CLASSIFICATION**"
      ]
    },
    {
      "cell_type": "code",
      "metadata": {
        "colab": {
          "base_uri": "https://localhost:8080/",
          "height": 419
        },
        "id": "gCDXLail-OCC",
        "outputId": "fc89370e-e6f4-4428-8131-6d3e1994a780"
      },
      "source": [
        "Nlp_data_preparation\n",
        "\n",
        "required_data=Nlp_data_preparation[['description','ownKindAttributes']]\n",
        "required_data"
      ],
      "execution_count": null,
      "outputs": [
        {
          "output_type": "execute_result",
          "data": {
            "text/html": [
              "<div>\n",
              "<style scoped>\n",
              "    .dataframe tbody tr th:only-of-type {\n",
              "        vertical-align: middle;\n",
              "    }\n",
              "\n",
              "    .dataframe tbody tr th {\n",
              "        vertical-align: top;\n",
              "    }\n",
              "\n",
              "    .dataframe thead th {\n",
              "        text-align: right;\n",
              "    }\n",
              "</style>\n",
              "<table border=\"1\" class=\"dataframe\">\n",
              "  <thead>\n",
              "    <tr style=\"text-align: right;\">\n",
              "      <th></th>\n",
              "      <th>description</th>\n",
              "      <th>ownKindAttributes</th>\n",
              "    </tr>\n",
              "  </thead>\n",
              "  <tbody>\n",
              "    <tr>\n",
              "      <th>1</th>\n",
              "      <td>With its bold stripe and piqué weave, this pol...</td>\n",
              "      <td>{Style Menswear}:Preppy,{MW / WW}:Menswear,{St...</td>\n",
              "    </tr>\n",
              "    <tr>\n",
              "      <th>2</th>\n",
              "      <td>Crafted from pure cotton, this classic tee is ...</td>\n",
              "      <td>{Colour}:White,{Downplay}:Cleavage,{MW / WW}:M...</td>\n",
              "    </tr>\n",
              "    <tr>\n",
              "      <th>3</th>\n",
              "      <td>Get transported to the sunny beaches of the so...</td>\n",
              "      <td>{Style Womenswear}:Hypebeast,{MW / WW}:Menswea...</td>\n",
              "    </tr>\n",
              "    <tr>\n",
              "      <th>4</th>\n",
              "      <td>Made with organic cotton, our short-sleeved T-...</td>\n",
              "      <td>{Colour}:Black,{Downplay}:Stomach,{Style Women...</td>\n",
              "    </tr>\n",
              "    <tr>\n",
              "      <th>5</th>\n",
              "      <td>These printed Bermuda shorts take us to an und...</td>\n",
              "      <td>{Downplay}:Back,{Style Womenswear}:Boho,{MW / ...</td>\n",
              "    </tr>\n",
              "    <tr>\n",
              "      <th>...</th>\n",
              "      <td>...</td>\n",
              "      <td>...</td>\n",
              "    </tr>\n",
              "    <tr>\n",
              "      <th>110723</th>\n",
              "      <td>Pippa Holt - Pippa Holt's green No.255 kaftan ...</td>\n",
              "      <td>{Downplay}:Stomach,{Style Womenswear}:Boho,{Sh...</td>\n",
              "    </tr>\n",
              "    <tr>\n",
              "      <th>110724</th>\n",
              "      <td>Balenciaga - Balenciaga's brown sunglasses are...</td>\n",
              "      <td>{Style Womenswear}:Hypebeast,{Style Menswear}:...</td>\n",
              "    </tr>\n",
              "    <tr>\n",
              "      <th>110725</th>\n",
              "      <td>Shay - Tania and Ladan Shayan routinely draw f...</td>\n",
              "      <td>{Colour}:Gold,{Style Womenswear}:Feminine,{Col...</td>\n",
              "    </tr>\n",
              "    <tr>\n",
              "      <th>110726</th>\n",
              "      <td>GOLDWIN - Goldwin crafts this beige Spur Mount...</td>\n",
              "      <td>{Style Womenswear}:Hypebeast,{Style Menswear}:...</td>\n",
              "    </tr>\n",
              "    <tr>\n",
              "      <th>110727</th>\n",
              "      <td>Proenza Schouler - Proenza Schouler's black an...</td>\n",
              "      <td>{Colour}:Multicolored,{Style Womenswear}:Hypeb...</td>\n",
              "    </tr>\n",
              "  </tbody>\n",
              "</table>\n",
              "<p>110727 rows × 2 columns</p>\n",
              "</div>"
            ],
            "text/plain": [
              "                                              description                                  ownKindAttributes\n",
              "1       With its bold stripe and piqué weave, this pol...  {Style Menswear}:Preppy,{MW / WW}:Menswear,{St...\n",
              "2       Crafted from pure cotton, this classic tee is ...  {Colour}:White,{Downplay}:Cleavage,{MW / WW}:M...\n",
              "3       Get transported to the sunny beaches of the so...  {Style Womenswear}:Hypebeast,{MW / WW}:Menswea...\n",
              "4       Made with organic cotton, our short-sleeved T-...  {Colour}:Black,{Downplay}:Stomach,{Style Women...\n",
              "5       These printed Bermuda shorts take us to an und...  {Downplay}:Back,{Style Womenswear}:Boho,{MW / ...\n",
              "...                                                   ...                                                ...\n",
              "110723  Pippa Holt - Pippa Holt's green No.255 kaftan ...  {Downplay}:Stomach,{Style Womenswear}:Boho,{Sh...\n",
              "110724  Balenciaga - Balenciaga's brown sunglasses are...  {Style Womenswear}:Hypebeast,{Style Menswear}:...\n",
              "110725  Shay - Tania and Ladan Shayan routinely draw f...  {Colour}:Gold,{Style Womenswear}:Feminine,{Col...\n",
              "110726  GOLDWIN - Goldwin crafts this beige Spur Mount...  {Style Womenswear}:Hypebeast,{Style Menswear}:...\n",
              "110727  Proenza Schouler - Proenza Schouler's black an...  {Colour}:Multicolored,{Style Womenswear}:Hypeb...\n",
              "\n",
              "[110727 rows x 2 columns]"
            ]
          },
          "metadata": {},
          "execution_count": 401
        }
      ]
    },
    {
      "cell_type": "code",
      "metadata": {
        "id": "aebbLNEw-Qyf"
      },
      "source": [
        "required_data=required_data.head(279)"
      ],
      "execution_count": null,
      "outputs": []
    },
    {
      "cell_type": "code",
      "metadata": {
        "id": "NbXVvK16-a_Z"
      },
      "source": [
        "from sklearn.feature_extraction.text import TfidfVectorizer\n",
        "\n",
        "\n",
        "tfidf = TfidfVectorizer( min_df=2, max_features=100)\n",
        "tfidf.fit(required_data['description'].values.astype('U'))\n",
        "tfidf_df=tfidf.transform(required_data['description'].values.astype('U')).toarray()"
      ],
      "execution_count": null,
      "outputs": []
    },
    {
      "cell_type": "code",
      "metadata": {
        "id": "Elwse-ML9m9G",
        "colab": {
          "base_uri": "https://localhost:8080/",
          "height": 419
        },
        "outputId": "b354969a-fcc7-4310-9bc5-7acc56a824ba"
      },
      "source": [
        "attribute_csv_print=attribute_csv['Attribute-\\nPrint']\n",
        "\n",
        "attribute_csv_print=attribute_csv_print.dropna()\n",
        "attribute_csv_print\n",
        "\n",
        "attribute_csv_print_list=attribute_csv_print.to_list()\n",
        "attribute_csv_print_list\n",
        "type(attribute_csv_print_list)\n",
        "\n",
        "print=[]\n",
        "\n",
        "def Enquiry(lis1):\n",
        "    if not lis1:\n",
        "        return 1\n",
        "    else:\n",
        "        return 0\n",
        "\n",
        "for i in range(len(required_data_own_kind_attribute)):\n",
        "  for j in range(len(attribute_csv_print)):\n",
        "    value=re.findall(str(attribute_csv_print[j]),str(required_data_own_kind_attribute[i]))\n",
        "    if Enquiry(value)==0:\n",
        "      print.append(value)\n",
        "\n",
        "len(print)\n",
        "\n",
        "print\n",
        "\n",
        "print_dataframe = pd.DataFrame(print, columns = ['Prints'])\n",
        "print_dataframe"
      ],
      "execution_count": null,
      "outputs": [
        {
          "output_type": "execute_result",
          "data": {
            "text/html": [
              "<div>\n",
              "<style scoped>\n",
              "    .dataframe tbody tr th:only-of-type {\n",
              "        vertical-align: middle;\n",
              "    }\n",
              "\n",
              "    .dataframe tbody tr th {\n",
              "        vertical-align: top;\n",
              "    }\n",
              "\n",
              "    .dataframe thead th {\n",
              "        text-align: right;\n",
              "    }\n",
              "</style>\n",
              "<table border=\"1\" class=\"dataframe\">\n",
              "  <thead>\n",
              "    <tr style=\"text-align: right;\">\n",
              "      <th></th>\n",
              "      <th>Prints</th>\n",
              "    </tr>\n",
              "  </thead>\n",
              "  <tbody>\n",
              "    <tr>\n",
              "      <th>0</th>\n",
              "      <td>Animal</td>\n",
              "    </tr>\n",
              "    <tr>\n",
              "      <th>1</th>\n",
              "      <td>Animal</td>\n",
              "    </tr>\n",
              "    <tr>\n",
              "      <th>2</th>\n",
              "      <td>Animal</td>\n",
              "    </tr>\n",
              "    <tr>\n",
              "      <th>3</th>\n",
              "      <td>Animal</td>\n",
              "    </tr>\n",
              "    <tr>\n",
              "      <th>4</th>\n",
              "      <td>Animal</td>\n",
              "    </tr>\n",
              "    <tr>\n",
              "      <th>...</th>\n",
              "      <td>...</td>\n",
              "    </tr>\n",
              "    <tr>\n",
              "      <th>274</th>\n",
              "      <td>Animal</td>\n",
              "    </tr>\n",
              "    <tr>\n",
              "      <th>275</th>\n",
              "      <td>Animal</td>\n",
              "    </tr>\n",
              "    <tr>\n",
              "      <th>276</th>\n",
              "      <td>Animal</td>\n",
              "    </tr>\n",
              "    <tr>\n",
              "      <th>277</th>\n",
              "      <td>Animal</td>\n",
              "    </tr>\n",
              "    <tr>\n",
              "      <th>278</th>\n",
              "      <td>Animal</td>\n",
              "    </tr>\n",
              "  </tbody>\n",
              "</table>\n",
              "<p>279 rows × 1 columns</p>\n",
              "</div>"
            ],
            "text/plain": [
              "     Prints\n",
              "0    Animal\n",
              "1    Animal\n",
              "2    Animal\n",
              "3    Animal\n",
              "4    Animal\n",
              "..      ...\n",
              "274  Animal\n",
              "275  Animal\n",
              "276  Animal\n",
              "277  Animal\n",
              "278  Animal\n",
              "\n",
              "[279 rows x 1 columns]"
            ]
          },
          "metadata": {},
          "execution_count": 326
        }
      ]
    },
    {
      "cell_type": "code",
      "metadata": {
        "id": "-s6p7Obv9pnQ",
        "colab": {
          "base_uri": "https://localhost:8080/",
          "height": 419
        },
        "outputId": "164ddb77-737c-480b-809b-02738a6b9657"
      },
      "source": [
        "print_dataframe['Prints']=le.fit_transform(print_dataframe['Prints'])\n",
        "print_dataframe"
      ],
      "execution_count": null,
      "outputs": [
        {
          "output_type": "execute_result",
          "data": {
            "text/html": [
              "<div>\n",
              "<style scoped>\n",
              "    .dataframe tbody tr th:only-of-type {\n",
              "        vertical-align: middle;\n",
              "    }\n",
              "\n",
              "    .dataframe tbody tr th {\n",
              "        vertical-align: top;\n",
              "    }\n",
              "\n",
              "    .dataframe thead th {\n",
              "        text-align: right;\n",
              "    }\n",
              "</style>\n",
              "<table border=\"1\" class=\"dataframe\">\n",
              "  <thead>\n",
              "    <tr style=\"text-align: right;\">\n",
              "      <th></th>\n",
              "      <th>Prints</th>\n",
              "    </tr>\n",
              "  </thead>\n",
              "  <tbody>\n",
              "    <tr>\n",
              "      <th>0</th>\n",
              "      <td>0</td>\n",
              "    </tr>\n",
              "    <tr>\n",
              "      <th>1</th>\n",
              "      <td>0</td>\n",
              "    </tr>\n",
              "    <tr>\n",
              "      <th>2</th>\n",
              "      <td>0</td>\n",
              "    </tr>\n",
              "    <tr>\n",
              "      <th>3</th>\n",
              "      <td>0</td>\n",
              "    </tr>\n",
              "    <tr>\n",
              "      <th>4</th>\n",
              "      <td>0</td>\n",
              "    </tr>\n",
              "    <tr>\n",
              "      <th>...</th>\n",
              "      <td>...</td>\n",
              "    </tr>\n",
              "    <tr>\n",
              "      <th>274</th>\n",
              "      <td>0</td>\n",
              "    </tr>\n",
              "    <tr>\n",
              "      <th>275</th>\n",
              "      <td>0</td>\n",
              "    </tr>\n",
              "    <tr>\n",
              "      <th>276</th>\n",
              "      <td>0</td>\n",
              "    </tr>\n",
              "    <tr>\n",
              "      <th>277</th>\n",
              "      <td>0</td>\n",
              "    </tr>\n",
              "    <tr>\n",
              "      <th>278</th>\n",
              "      <td>0</td>\n",
              "    </tr>\n",
              "  </tbody>\n",
              "</table>\n",
              "<p>279 rows × 1 columns</p>\n",
              "</div>"
            ],
            "text/plain": [
              "     Prints\n",
              "0         0\n",
              "1         0\n",
              "2         0\n",
              "3         0\n",
              "4         0\n",
              "..      ...\n",
              "274       0\n",
              "275       0\n",
              "276       0\n",
              "277       0\n",
              "278       0\n",
              "\n",
              "[279 rows x 1 columns]"
            ]
          },
          "metadata": {},
          "execution_count": 327
        }
      ]
    },
    {
      "cell_type": "code",
      "metadata": {
        "id": "eNG_SYl29upz",
        "colab": {
          "base_uri": "https://localhost:8080/"
        },
        "outputId": "4e42dc73-0e87-4d93-ef8e-75d574570075"
      },
      "source": [
        "print_dataframe_y=print_dataframe.iloc[:,:].values\n",
        "print_dataframe_y"
      ],
      "execution_count": null,
      "outputs": [
        {
          "output_type": "execute_result",
          "data": {
            "text/plain": [
              "array([[0],\n",
              "       [0],\n",
              "       [0],\n",
              "       [0],\n",
              "       [0],\n",
              "       [0],\n",
              "       [0],\n",
              "       [0],\n",
              "       [0],\n",
              "       [0],\n",
              "       [0],\n",
              "       [0],\n",
              "       [0],\n",
              "       [0],\n",
              "       [0],\n",
              "       [0],\n",
              "       [0],\n",
              "       [0],\n",
              "       [0],\n",
              "       [0],\n",
              "       [0],\n",
              "       [0],\n",
              "       [0],\n",
              "       [0],\n",
              "       [0],\n",
              "       [0],\n",
              "       [0],\n",
              "       [0],\n",
              "       [0],\n",
              "       [0],\n",
              "       [0],\n",
              "       [0],\n",
              "       [0],\n",
              "       [0],\n",
              "       [0],\n",
              "       [0],\n",
              "       [0],\n",
              "       [0],\n",
              "       [0],\n",
              "       [0],\n",
              "       [0],\n",
              "       [0],\n",
              "       [0],\n",
              "       [0],\n",
              "       [0],\n",
              "       [0],\n",
              "       [0],\n",
              "       [0],\n",
              "       [0],\n",
              "       [0],\n",
              "       [0],\n",
              "       [0],\n",
              "       [0],\n",
              "       [0],\n",
              "       [0],\n",
              "       [0],\n",
              "       [0],\n",
              "       [0],\n",
              "       [0],\n",
              "       [0],\n",
              "       [0],\n",
              "       [0],\n",
              "       [0],\n",
              "       [0],\n",
              "       [0],\n",
              "       [0],\n",
              "       [0],\n",
              "       [0],\n",
              "       [0],\n",
              "       [0],\n",
              "       [0],\n",
              "       [0],\n",
              "       [0],\n",
              "       [0],\n",
              "       [0],\n",
              "       [0],\n",
              "       [0],\n",
              "       [0],\n",
              "       [0],\n",
              "       [0],\n",
              "       [0],\n",
              "       [0],\n",
              "       [1],\n",
              "       [0],\n",
              "       [0],\n",
              "       [0],\n",
              "       [0],\n",
              "       [0],\n",
              "       [0],\n",
              "       [0],\n",
              "       [0],\n",
              "       [0],\n",
              "       [0],\n",
              "       [0],\n",
              "       [0],\n",
              "       [0],\n",
              "       [0],\n",
              "       [0],\n",
              "       [0],\n",
              "       [0],\n",
              "       [0],\n",
              "       [0],\n",
              "       [0],\n",
              "       [0],\n",
              "       [0],\n",
              "       [0],\n",
              "       [0],\n",
              "       [0],\n",
              "       [0],\n",
              "       [0],\n",
              "       [0],\n",
              "       [0],\n",
              "       [0],\n",
              "       [0],\n",
              "       [0],\n",
              "       [0],\n",
              "       [1],\n",
              "       [0],\n",
              "       [0],\n",
              "       [0],\n",
              "       [0],\n",
              "       [0],\n",
              "       [1],\n",
              "       [0],\n",
              "       [0],\n",
              "       [0],\n",
              "       [0],\n",
              "       [0],\n",
              "       [0],\n",
              "       [0],\n",
              "       [0],\n",
              "       [0],\n",
              "       [0],\n",
              "       [0],\n",
              "       [0],\n",
              "       [0],\n",
              "       [0],\n",
              "       [0],\n",
              "       [0],\n",
              "       [0],\n",
              "       [0],\n",
              "       [0],\n",
              "       [0],\n",
              "       [0],\n",
              "       [0],\n",
              "       [0],\n",
              "       [0],\n",
              "       [0],\n",
              "       [0],\n",
              "       [0],\n",
              "       [0],\n",
              "       [0],\n",
              "       [0],\n",
              "       [0],\n",
              "       [0],\n",
              "       [0],\n",
              "       [1],\n",
              "       [0],\n",
              "       [0],\n",
              "       [0],\n",
              "       [0],\n",
              "       [0],\n",
              "       [0],\n",
              "       [0],\n",
              "       [1],\n",
              "       [0],\n",
              "       [0],\n",
              "       [0],\n",
              "       [0],\n",
              "       [0],\n",
              "       [0],\n",
              "       [0],\n",
              "       [0],\n",
              "       [0],\n",
              "       [0],\n",
              "       [0],\n",
              "       [0],\n",
              "       [0],\n",
              "       [0],\n",
              "       [0],\n",
              "       [0],\n",
              "       [0],\n",
              "       [0],\n",
              "       [0],\n",
              "       [0],\n",
              "       [0],\n",
              "       [0],\n",
              "       [0],\n",
              "       [0],\n",
              "       [0],\n",
              "       [0],\n",
              "       [0],\n",
              "       [0],\n",
              "       [0],\n",
              "       [0],\n",
              "       [0],\n",
              "       [0],\n",
              "       [0],\n",
              "       [0],\n",
              "       [0],\n",
              "       [0],\n",
              "       [0],\n",
              "       [0],\n",
              "       [0],\n",
              "       [0],\n",
              "       [0],\n",
              "       [0],\n",
              "       [0],\n",
              "       [0],\n",
              "       [0],\n",
              "       [0],\n",
              "       [0],\n",
              "       [0],\n",
              "       [0],\n",
              "       [0],\n",
              "       [0],\n",
              "       [0],\n",
              "       [0],\n",
              "       [0],\n",
              "       [0],\n",
              "       [0],\n",
              "       [0],\n",
              "       [0],\n",
              "       [1],\n",
              "       [0],\n",
              "       [0],\n",
              "       [0],\n",
              "       [0],\n",
              "       [0],\n",
              "       [0],\n",
              "       [0],\n",
              "       [0],\n",
              "       [0],\n",
              "       [0],\n",
              "       [0],\n",
              "       [0],\n",
              "       [0],\n",
              "       [0],\n",
              "       [0],\n",
              "       [0],\n",
              "       [0],\n",
              "       [0],\n",
              "       [0],\n",
              "       [0],\n",
              "       [0],\n",
              "       [0],\n",
              "       [0],\n",
              "       [1],\n",
              "       [0],\n",
              "       [0],\n",
              "       [0],\n",
              "       [0],\n",
              "       [0],\n",
              "       [0],\n",
              "       [0],\n",
              "       [0],\n",
              "       [0],\n",
              "       [0],\n",
              "       [0],\n",
              "       [0],\n",
              "       [0],\n",
              "       [0],\n",
              "       [0],\n",
              "       [1],\n",
              "       [0],\n",
              "       [0],\n",
              "       [0],\n",
              "       [0],\n",
              "       [0],\n",
              "       [0],\n",
              "       [0],\n",
              "       [0],\n",
              "       [0],\n",
              "       [0],\n",
              "       [0],\n",
              "       [0],\n",
              "       [0],\n",
              "       [0],\n",
              "       [0]])"
            ]
          },
          "metadata": {},
          "execution_count": 328
        }
      ]
    },
    {
      "cell_type": "code",
      "metadata": {
        "id": "2saaETDH9xXs",
        "colab": {
          "base_uri": "https://localhost:8080/"
        },
        "outputId": "acaa9d47-5284-4c4f-8766-460b477a9d80"
      },
      "source": [
        "tfidf_df.shape"
      ],
      "execution_count": null,
      "outputs": [
        {
          "output_type": "execute_result",
          "data": {
            "text/plain": [
              "(279, 100)"
            ]
          },
          "metadata": {},
          "execution_count": 329
        }
      ]
    },
    {
      "cell_type": "code",
      "metadata": {
        "id": "-SSVxTTi-ChP"
      },
      "source": [
        "from sklearn.metrics import classification_report\n",
        "\n",
        "train_X,test_X,train_y,test_y=train_test_split(tfidf_df,print_dataframe_y,test_size=0.2)"
      ],
      "execution_count": null,
      "outputs": []
    },
    {
      "cell_type": "code",
      "metadata": {
        "id": "N4a1RE8hzgzc"
      },
      "source": [
        "# import MNB classifier\n",
        "from sklearn.naive_bayes import MultinomialNB\n",
        "model_print_MNB=MultinomialNB()\n",
        "\n",
        "# fit the train and test set on the MNB classifier\n",
        "model_print_MNB.fit(train_X,train_y.ravel())\n",
        "y_pred_print_MNB=model_print_MNB.predict(test_X)"
      ],
      "execution_count": null,
      "outputs": []
    },
    {
      "cell_type": "code",
      "metadata": {
        "colab": {
          "base_uri": "https://localhost:8080/"
        },
        "id": "tk9JCrClAgij",
        "outputId": "d663b68a-9077-4101-bf4c-460dd7193780"
      },
      "source": [
        "'Accuracy Score: ',accuracy_score(test_y,y_pred_print_MNB)"
      ],
      "execution_count": null,
      "outputs": [
        {
          "output_type": "execute_result",
          "data": {
            "text/plain": [
              "('Accuracy Score: ', 0.9821428571428571)"
            ]
          },
          "metadata": {},
          "execution_count": 333
        }
      ]
    },
    {
      "cell_type": "code",
      "metadata": {
        "colab": {
          "base_uri": "https://localhost:8080/"
        },
        "id": "LpXY3LLoC5oy",
        "outputId": "a1e64e92-a71e-48be-b64d-b9c26c7e060d"
      },
      "source": [
        "'F1 Score: ',f1_score(test_y,y_pred_print_MNB, average='weighted') "
      ],
      "execution_count": null,
      "outputs": [
        {
          "output_type": "execute_result",
          "data": {
            "text/plain": [
              "('F1 Score: ', 0.9732947232947231)"
            ]
          },
          "metadata": {},
          "execution_count": 334
        }
      ]
    },
    {
      "cell_type": "code",
      "metadata": {
        "colab": {
          "base_uri": "https://localhost:8080/"
        },
        "id": "jlI8mRvjC_i-",
        "outputId": "f8b9e320-c3e4-4a31-d105-7cfdf4b07dad"
      },
      "source": [
        "'Precision Score: ',precision_score(test_y,y_pred_print_MNB, average='weighted') "
      ],
      "execution_count": null,
      "outputs": [
        {
          "output_type": "stream",
          "text": [
            "/usr/local/lib/python3.7/dist-packages/sklearn/metrics/_classification.py:1272: UndefinedMetricWarning: Precision is ill-defined and being set to 0.0 in labels with no predicted samples. Use `zero_division` parameter to control this behavior.\n",
            "  _warn_prf(average, modifier, msg_start, len(result))\n"
          ],
          "name": "stderr"
        },
        {
          "output_type": "execute_result",
          "data": {
            "text/plain": [
              "('Precision Score: ', 0.9646045918367346)"
            ]
          },
          "metadata": {},
          "execution_count": 335
        }
      ]
    },
    {
      "cell_type": "code",
      "metadata": {
        "colab": {
          "base_uri": "https://localhost:8080/"
        },
        "id": "FJWNCXogDEN8",
        "outputId": "a1b54c6b-cad4-4841-8db1-7fc8ee3f64d3"
      },
      "source": [
        "'Recall Score: ',recall_score(test_y,y_pred_print_MNB, average='macro') "
      ],
      "execution_count": null,
      "outputs": [
        {
          "output_type": "execute_result",
          "data": {
            "text/plain": [
              "('Recall Score: ', 0.5)"
            ]
          },
          "metadata": {},
          "execution_count": 338
        }
      ]
    },
    {
      "cell_type": "code",
      "metadata": {
        "id": "TbnrxumRtTeg"
      },
      "source": [
        "# import Random Forest classifier\n",
        "from sklearn.ensemble import RandomForestClassifier\n",
        "model_print_RF=RandomForestClassifier()\n",
        "\n",
        "# fit the train and test set on the Random Forest classifier\n",
        "model_print_RF.fit(train_X,train_y.ravel())\n",
        "y_pred_print_RF=model_print_RF.predict(test_X)"
      ],
      "execution_count": null,
      "outputs": []
    },
    {
      "cell_type": "code",
      "metadata": {
        "colab": {
          "base_uri": "https://localhost:8080/"
        },
        "id": "gLnThzyLDST_",
        "outputId": "dc3d9443-5102-48ea-9885-185ddf1d24e1"
      },
      "source": [
        "'Accuracy Score: ',accuracy_score(test_y,y_pred_print_RF)"
      ],
      "execution_count": null,
      "outputs": [
        {
          "output_type": "execute_result",
          "data": {
            "text/plain": [
              "('Accuracy Score: ', 0.9821428571428571)"
            ]
          },
          "metadata": {},
          "execution_count": 340
        }
      ]
    },
    {
      "cell_type": "code",
      "metadata": {
        "colab": {
          "base_uri": "https://localhost:8080/"
        },
        "id": "entXRUMwDcvd",
        "outputId": "e53a3c07-ea57-461b-f845-3c11e104b740"
      },
      "source": [
        "'F1 Score: ',f1_score(test_y,y_pred_print_RF, average='weighted') "
      ],
      "execution_count": null,
      "outputs": [
        {
          "output_type": "execute_result",
          "data": {
            "text/plain": [
              "('F1 Score: ', 0.9732947232947231)"
            ]
          },
          "metadata": {},
          "execution_count": 341
        }
      ]
    },
    {
      "cell_type": "code",
      "metadata": {
        "colab": {
          "base_uri": "https://localhost:8080/"
        },
        "id": "5u5evccgDp--",
        "outputId": "7f730534-d137-4319-dffd-95d37b8ea079"
      },
      "source": [
        "'Precision Score: ',precision_score(test_y,y_pred_print_RF, average='weighted') "
      ],
      "execution_count": null,
      "outputs": [
        {
          "output_type": "stream",
          "text": [
            "/usr/local/lib/python3.7/dist-packages/sklearn/metrics/_classification.py:1272: UndefinedMetricWarning: Precision is ill-defined and being set to 0.0 in labels with no predicted samples. Use `zero_division` parameter to control this behavior.\n",
            "  _warn_prf(average, modifier, msg_start, len(result))\n"
          ],
          "name": "stderr"
        },
        {
          "output_type": "execute_result",
          "data": {
            "text/plain": [
              "('Precision Score: ', 0.9646045918367346)"
            ]
          },
          "metadata": {},
          "execution_count": 342
        }
      ]
    },
    {
      "cell_type": "code",
      "metadata": {
        "colab": {
          "base_uri": "https://localhost:8080/"
        },
        "id": "k1SO2Kc8DxgC",
        "outputId": "41790749-0eac-479f-8b04-29cce027f106"
      },
      "source": [
        "'Recall Score: ',recall_score(test_y,y_pred_print_RF, average='macro') "
      ],
      "execution_count": null,
      "outputs": [
        {
          "output_type": "execute_result",
          "data": {
            "text/plain": [
              "('Recall Score: ', 0.5)"
            ]
          },
          "metadata": {},
          "execution_count": 343
        }
      ]
    },
    {
      "cell_type": "code",
      "metadata": {
        "id": "F4OG9j-0MjfP"
      },
      "source": [
        "from sklearn.linear_model import LogisticRegression\n",
        "model_print_LR=LogisticRegression()\n",
        "\n",
        "# fit the train and test set on the Random Forest classifier\n",
        "model_print_LR.fit(train_X,train_y.ravel())\n",
        "y_pred_print_LR=model_print_LR.predict(test_X)\n"
      ],
      "execution_count": null,
      "outputs": []
    },
    {
      "cell_type": "code",
      "metadata": {
        "colab": {
          "base_uri": "https://localhost:8080/"
        },
        "id": "xeaD2PxTD6dY",
        "outputId": "9fc534cc-3c8a-41fb-f734-2c567562038e"
      },
      "source": [
        "'Accuracy Score: ',accuracy_score(test_y,y_pred_print_LR)"
      ],
      "execution_count": null,
      "outputs": [
        {
          "output_type": "execute_result",
          "data": {
            "text/plain": [
              "('Accuracy Score: ', 0.9821428571428571)"
            ]
          },
          "metadata": {},
          "execution_count": 345
        }
      ]
    },
    {
      "cell_type": "code",
      "metadata": {
        "id": "OJvxj-ZxIgW-"
      },
      "source": [
        "# import Decision Tree classifier\n",
        "from sklearn.tree import DecisionTreeClassifier\n",
        "model_print_DT=DecisionTreeClassifier()\n",
        "\n",
        "# fit the train and test set on the Decision Tree classifier\n",
        "model_print_DT.fit(train_X,train_y.ravel())\n",
        "y_pred_print_DT=model_print_DT.predict(test_X)"
      ],
      "execution_count": null,
      "outputs": []
    },
    {
      "cell_type": "code",
      "metadata": {
        "colab": {
          "base_uri": "https://localhost:8080/"
        },
        "id": "ex4zG0lGExQH",
        "outputId": "2b7ea7be-b87c-4fa8-df91-fb551f0499ce"
      },
      "source": [
        "'Accuracy Score: ',accuracy_score(test_y,y_pred_print_DT)"
      ],
      "execution_count": null,
      "outputs": [
        {
          "output_type": "execute_result",
          "data": {
            "text/plain": [
              "('Accuracy Score: ', 0.8928571428571429)"
            ]
          },
          "metadata": {},
          "execution_count": 349
        }
      ]
    },
    {
      "cell_type": "code",
      "metadata": {
        "colab": {
          "base_uri": "https://localhost:8080/"
        },
        "id": "Cn5z_628E5Oo",
        "outputId": "42e6d9ce-d620-4836-d9d1-a7ea77f303f5"
      },
      "source": [
        "'F1 Score: ',f1_score(test_y,y_pred_print_DT, average='weighted') "
      ],
      "execution_count": null,
      "outputs": [
        {
          "output_type": "execute_result",
          "data": {
            "text/plain": [
              "('F1 Score: ', 0.9265498652291105)"
            ]
          },
          "metadata": {},
          "execution_count": 350
        }
      ]
    },
    {
      "cell_type": "code",
      "metadata": {
        "colab": {
          "base_uri": "https://localhost:8080/"
        },
        "id": "ICf0p2byE93o",
        "outputId": "9aced7fa-8504-4d12-d52b-005ca46600a8"
      },
      "source": [
        "'Precision Score: ',precision_score(test_y,y_pred_print_DT, average='weighted') "
      ],
      "execution_count": null,
      "outputs": [
        {
          "output_type": "execute_result",
          "data": {
            "text/plain": [
              "('Precision Score: ', 0.9628851540616247)"
            ]
          },
          "metadata": {},
          "execution_count": 351
        }
      ]
    },
    {
      "cell_type": "code",
      "metadata": {
        "colab": {
          "base_uri": "https://localhost:8080/"
        },
        "id": "PX7mLn2SFBzi",
        "outputId": "82f0139a-b812-4151-b10c-b3494de2a828"
      },
      "source": [
        "'Recall Score: ',recall_score(test_y,y_pred_print_DT, average='macro') "
      ],
      "execution_count": null,
      "outputs": [
        {
          "output_type": "execute_result",
          "data": {
            "text/plain": [
              "('Recall Score: ', 0.45454545454545453)"
            ]
          },
          "metadata": {},
          "execution_count": 352
        }
      ]
    },
    {
      "cell_type": "markdown",
      "metadata": {
        "id": "4l2P9Uofzse9"
      },
      "source": [
        "Womenswear"
      ]
    },
    {
      "cell_type": "code",
      "metadata": {
        "colab": {
          "base_uri": "https://localhost:8080/",
          "height": 419
        },
        "id": "vR3yS7U-NIvu",
        "outputId": "0d70517e-e378-425c-ea68-8b43ee383565"
      },
      "source": [
        "Nlp_data_preparation\n",
        "required_data=Nlp_data_preparation[['description','ownKindAttributes']]\n",
        "required_data\n"
      ],
      "execution_count": null,
      "outputs": [
        {
          "output_type": "execute_result",
          "data": {
            "text/html": [
              "<div>\n",
              "<style scoped>\n",
              "    .dataframe tbody tr th:only-of-type {\n",
              "        vertical-align: middle;\n",
              "    }\n",
              "\n",
              "    .dataframe tbody tr th {\n",
              "        vertical-align: top;\n",
              "    }\n",
              "\n",
              "    .dataframe thead th {\n",
              "        text-align: right;\n",
              "    }\n",
              "</style>\n",
              "<table border=\"1\" class=\"dataframe\">\n",
              "  <thead>\n",
              "    <tr style=\"text-align: right;\">\n",
              "      <th></th>\n",
              "      <th>description</th>\n",
              "      <th>ownKindAttributes</th>\n",
              "    </tr>\n",
              "  </thead>\n",
              "  <tbody>\n",
              "    <tr>\n",
              "      <th>1</th>\n",
              "      <td>With its bold stripe and piqué weave, this pol...</td>\n",
              "      <td>{Style Menswear}:Preppy,{MW / WW}:Menswear,{St...</td>\n",
              "    </tr>\n",
              "    <tr>\n",
              "      <th>2</th>\n",
              "      <td>Crafted from pure cotton, this classic tee is ...</td>\n",
              "      <td>{Colour}:White,{Downplay}:Cleavage,{MW / WW}:M...</td>\n",
              "    </tr>\n",
              "    <tr>\n",
              "      <th>3</th>\n",
              "      <td>Get transported to the sunny beaches of the so...</td>\n",
              "      <td>{Style Womenswear}:Hypebeast,{MW / WW}:Menswea...</td>\n",
              "    </tr>\n",
              "    <tr>\n",
              "      <th>4</th>\n",
              "      <td>Made with organic cotton, our short-sleeved T-...</td>\n",
              "      <td>{Colour}:Black,{Downplay}:Stomach,{Style Women...</td>\n",
              "    </tr>\n",
              "    <tr>\n",
              "      <th>5</th>\n",
              "      <td>These printed Bermuda shorts take us to an und...</td>\n",
              "      <td>{Downplay}:Back,{Style Womenswear}:Boho,{MW / ...</td>\n",
              "    </tr>\n",
              "    <tr>\n",
              "      <th>...</th>\n",
              "      <td>...</td>\n",
              "      <td>...</td>\n",
              "    </tr>\n",
              "    <tr>\n",
              "      <th>110723</th>\n",
              "      <td>Pippa Holt - Pippa Holt's green No.255 kaftan ...</td>\n",
              "      <td>{Downplay}:Stomach,{Style Womenswear}:Boho,{Sh...</td>\n",
              "    </tr>\n",
              "    <tr>\n",
              "      <th>110724</th>\n",
              "      <td>Balenciaga - Balenciaga's brown sunglasses are...</td>\n",
              "      <td>{Style Womenswear}:Hypebeast,{Style Menswear}:...</td>\n",
              "    </tr>\n",
              "    <tr>\n",
              "      <th>110725</th>\n",
              "      <td>Shay - Tania and Ladan Shayan routinely draw f...</td>\n",
              "      <td>{Colour}:Gold,{Style Womenswear}:Feminine,{Col...</td>\n",
              "    </tr>\n",
              "    <tr>\n",
              "      <th>110726</th>\n",
              "      <td>GOLDWIN - Goldwin crafts this beige Spur Mount...</td>\n",
              "      <td>{Style Womenswear}:Hypebeast,{Style Menswear}:...</td>\n",
              "    </tr>\n",
              "    <tr>\n",
              "      <th>110727</th>\n",
              "      <td>Proenza Schouler - Proenza Schouler's black an...</td>\n",
              "      <td>{Colour}:Multicolored,{Style Womenswear}:Hypeb...</td>\n",
              "    </tr>\n",
              "  </tbody>\n",
              "</table>\n",
              "<p>110727 rows × 2 columns</p>\n",
              "</div>"
            ],
            "text/plain": [
              "                                              description                                  ownKindAttributes\n",
              "1       With its bold stripe and piqué weave, this pol...  {Style Menswear}:Preppy,{MW / WW}:Menswear,{St...\n",
              "2       Crafted from pure cotton, this classic tee is ...  {Colour}:White,{Downplay}:Cleavage,{MW / WW}:M...\n",
              "3       Get transported to the sunny beaches of the so...  {Style Womenswear}:Hypebeast,{MW / WW}:Menswea...\n",
              "4       Made with organic cotton, our short-sleeved T-...  {Colour}:Black,{Downplay}:Stomach,{Style Women...\n",
              "5       These printed Bermuda shorts take us to an und...  {Downplay}:Back,{Style Womenswear}:Boho,{MW / ...\n",
              "...                                                   ...                                                ...\n",
              "110723  Pippa Holt - Pippa Holt's green No.255 kaftan ...  {Downplay}:Stomach,{Style Womenswear}:Boho,{Sh...\n",
              "110724  Balenciaga - Balenciaga's brown sunglasses are...  {Style Womenswear}:Hypebeast,{Style Menswear}:...\n",
              "110725  Shay - Tania and Ladan Shayan routinely draw f...  {Colour}:Gold,{Style Womenswear}:Feminine,{Col...\n",
              "110726  GOLDWIN - Goldwin crafts this beige Spur Mount...  {Style Womenswear}:Hypebeast,{Style Menswear}:...\n",
              "110727  Proenza Schouler - Proenza Schouler's black an...  {Colour}:Multicolored,{Style Womenswear}:Hypeb...\n",
              "\n",
              "[110727 rows x 2 columns]"
            ]
          },
          "metadata": {},
          "execution_count": 402
        }
      ]
    },
    {
      "cell_type": "code",
      "metadata": {
        "id": "kNgzrEF7NKUj"
      },
      "source": [
        "from sklearn.feature_extraction.text import TfidfVectorizer\n",
        "\n",
        "\n",
        "tfidf = TfidfVectorizer( min_df=2, max_features=100)\n",
        "tfidf.fit(required_data['description'].values.astype('U'))\n",
        "tfidf_df=tfidf.transform(required_data['description'].values.astype('U')).toarray()"
      ],
      "execution_count": null,
      "outputs": []
    },
    {
      "cell_type": "code",
      "metadata": {
        "colab": {
          "base_uri": "https://localhost:8080/"
        },
        "id": "YYXSX6UszxFO",
        "outputId": "f1d29614-a50b-49c1-eea4-c551991b4081"
      },
      "source": [
        "attribute_csv_ww=attribute_csv['Styles\\nwomenswear']\n",
        "attribute_csv_wwt=attribute_csv_ww.dropna()\n",
        "attribute_csv_ww\n",
        "\n",
        "attribute_csv_ww_list=attribute_csv_ww.to_list()\n",
        "attribute_csv_ww_list\n",
        "\n",
        "type(attribute_csv_ww_list)\n",
        "\n",
        "ww=[]\n",
        "\n",
        "def Enquiry(lis1):\n",
        "    if not lis1:\n",
        "        return 1\n",
        "    else:\n",
        "        return 0\n",
        "\n",
        "for i in range(len(required_data_own_kind_attribute)):\n",
        "  for j in range(len(attribute_csv_ww)):\n",
        "    value=re.findall(str(attribute_csv_ww[j]),str(required_data_own_kind_attribute[i]))\n",
        "    if Enquiry(value)==0:\n",
        "      ww.append(value)\n",
        "\n",
        "len(ww)\n",
        "\n",
        "ww\n",
        "\n",
        "\n"
      ],
      "execution_count": null,
      "outputs": [
        {
          "output_type": "execute_result",
          "data": {
            "text/plain": [
              "[['Classic'],\n",
              " ['Rebel'],\n",
              " ['Classic'],\n",
              " ['Hypebeast'],\n",
              " ['Classic'],\n",
              " ['Hypebeast', 'Hypebeast'],\n",
              " ['Boho'],\n",
              " ['Boho'],\n",
              " ['Boho'],\n",
              " ['Feminine'],\n",
              " ['Normcore'],\n",
              " ['Rebel'],\n",
              " ['Rebel'],\n",
              " ['Hypebeast'],\n",
              " ['Normcore'],\n",
              " ['Rebel', 'Rebel'],\n",
              " ['Minimal'],\n",
              " ['Rebel'],\n",
              " ['Feminine'],\n",
              " ['Rebel'],\n",
              " ['Classic'],\n",
              " ['Minimal'],\n",
              " ['Rebel'],\n",
              " ['Hypebeast'],\n",
              " ['Normcore'],\n",
              " ['Minimal'],\n",
              " ['Classic', 'Classic'],\n",
              " ['Feminine'],\n",
              " ['Minimal'],\n",
              " ['Rebel'],\n",
              " ['Hypebeast', 'Hypebeast'],\n",
              " ['Normcore'],\n",
              " ['Boho'],\n",
              " ['Rebel'],\n",
              " ['Hypebeast', 'Hypebeast'],\n",
              " ['Feminine'],\n",
              " ['Classic'],\n",
              " ['Hypebeast', 'Hypebeast'],\n",
              " ['Minimal'],\n",
              " ['Normcore', 'Normcore'],\n",
              " ['Rebel'],\n",
              " ['Classic'],\n",
              " ['Hypebeast'],\n",
              " ['Normcore'],\n",
              " ['Rebel'],\n",
              " ['Hypebeast', 'Hypebeast'],\n",
              " ['Feminine'],\n",
              " ['Boho'],\n",
              " ['Rebel'],\n",
              " ['Hypebeast', 'Hypebeast'],\n",
              " ['Minimal'],\n",
              " ['Normcore', 'Normcore'],\n",
              " ['Hypebeast', 'Hypebeast'],\n",
              " ['Rebel'],\n",
              " ['Classic'],\n",
              " ['Minimal'],\n",
              " ['Rebel'],\n",
              " ['Rebel'],\n",
              " ['Hypebeast', 'Hypebeast'],\n",
              " ['Classic'],\n",
              " ['Minimal'],\n",
              " ['Rebel'],\n",
              " ['Hypebeast', 'Hypebeast'],\n",
              " ['Classic'],\n",
              " ['Minimal'],\n",
              " ['Rebel'],\n",
              " ['Hypebeast'],\n",
              " ['Minimal'],\n",
              " ['Normcore'],\n",
              " ['Feminine'],\n",
              " ['Feminine'],\n",
              " ['Minimal'],\n",
              " ['Rebel'],\n",
              " ['Classic'],\n",
              " ['Rebel'],\n",
              " ['Minimal'],\n",
              " ['Hypebeast', 'Hypebeast'],\n",
              " ['Normcore', 'Normcore'],\n",
              " ['Minimal'],\n",
              " ['Rebel', 'Rebel'],\n",
              " ['Hypebeast'],\n",
              " ['Normcore'],\n",
              " ['Classic'],\n",
              " ['Minimal'],\n",
              " ['Boho'],\n",
              " ['Rebel'],\n",
              " ['Minimal'],\n",
              " ['Rebel'],\n",
              " ['Feminine'],\n",
              " ['Rebel'],\n",
              " ['Hypebeast', 'Hypebeast'],\n",
              " ['Rebel', 'Rebel'],\n",
              " ['Rebel'],\n",
              " ['Rebel', 'Rebel'],\n",
              " ['Rebel'],\n",
              " ['Hypebeast'],\n",
              " ['Minimal'],\n",
              " ['Normcore'],\n",
              " ['Hypebeast', 'Hypebeast'],\n",
              " ['Rebel', 'Rebel'],\n",
              " ['Normcore'],\n",
              " ['Boho'],\n",
              " ['Classic', 'Classic'],\n",
              " ['Minimal'],\n",
              " ['Rebel'],\n",
              " ['Hypebeast', 'Hypebeast'],\n",
              " ['Normcore', 'Normcore'],\n",
              " ['Rebel'],\n",
              " ['Rebel'],\n",
              " ['Hypebeast'],\n",
              " ['Normcore'],\n",
              " ['Rebel'],\n",
              " ['Hypebeast'],\n",
              " ['Minimal'],\n",
              " ['Normcore'],\n",
              " ['Minimal'],\n",
              " ['Minimal'],\n",
              " ['Rebel'],\n",
              " ['Hypebeast'],\n",
              " ['Normcore'],\n",
              " ['Minimal'],\n",
              " ['Classic'],\n",
              " ['Minimal'],\n",
              " ['Rebel'],\n",
              " ['Hypebeast'],\n",
              " ['Minimal'],\n",
              " ['Normcore'],\n",
              " ['Classic'],\n",
              " ['Minimal'],\n",
              " ['Rebel'],\n",
              " ['Hypebeast', 'Hypebeast'],\n",
              " ['Minimal'],\n",
              " ['Minimal'],\n",
              " ['Minimal'],\n",
              " ['Feminine'],\n",
              " ['Minimal'],\n",
              " ['Normcore'],\n",
              " ['Feminine'],\n",
              " ['Hypebeast', 'Hypebeast'],\n",
              " ['Normcore', 'Normcore'],\n",
              " ['Classic'],\n",
              " ['Hypebeast', 'Hypebeast'],\n",
              " ['Rebel', 'Rebel'],\n",
              " ['Boho'],\n",
              " ['Rebel', 'Rebel'],\n",
              " ['Rebel'],\n",
              " ['Rebel'],\n",
              " ['Feminine'],\n",
              " ['Hypebeast', 'Hypebeast'],\n",
              " ['Boho'],\n",
              " ['Classic'],\n",
              " ['Classic', 'Classic'],\n",
              " ['Minimal'],\n",
              " ['Boho'],\n",
              " ['Hypebeast', 'Hypebeast'],\n",
              " ['Classic', 'Classic'],\n",
              " ['Minimal'],\n",
              " ['Classic', 'Classic'],\n",
              " ['Minimal'],\n",
              " ['nan'],\n",
              " ['nan'],\n",
              " ['nan'],\n",
              " ['nan'],\n",
              " ['nan'],\n",
              " ['nan'],\n",
              " ['nan'],\n",
              " ['nan'],\n",
              " ['nan'],\n",
              " ['nan'],\n",
              " ['nan'],\n",
              " ['nan'],\n",
              " ['nan'],\n",
              " ['nan'],\n",
              " ['nan'],\n",
              " ['nan'],\n",
              " ['nan'],\n",
              " ['Rebel', 'Rebel'],\n",
              " ['Feminine'],\n",
              " ['Hypebeast', 'Hypebeast'],\n",
              " ['Boho'],\n",
              " ['Classic'],\n",
              " ['Boho'],\n",
              " ['Classic'],\n",
              " ['Minimal'],\n",
              " ['Classic'],\n",
              " ['Hypebeast', 'Hypebeast'],\n",
              " ['Minimal'],\n",
              " ['Normcore', 'Normcore'],\n",
              " ['Rebel'],\n",
              " ['Hypebeast'],\n",
              " ['Normcore'],\n",
              " ['Boho'],\n",
              " ['Rebel'],\n",
              " ['Feminine'],\n",
              " ['Boho'],\n",
              " ['Hypebeast', 'Hypebeast'],\n",
              " ['Rebel'],\n",
              " ['Classic'],\n",
              " ['Rebel', 'Rebel'],\n",
              " ['Rebel'],\n",
              " ['Boho'],\n",
              " ['Rebel'],\n",
              " ['Minimal'],\n",
              " ['Rebel', 'Rebel'],\n",
              " ['Hypebeast', 'Hypebeast'],\n",
              " ['Minimal'],\n",
              " ['Rebel'],\n",
              " ['Hypebeast', 'Hypebeast'],\n",
              " ['Minimal'],\n",
              " ['Feminine'],\n",
              " ['Normcore'],\n",
              " ['Rebel'],\n",
              " ['Rebel'],\n",
              " ['Hypebeast'],\n",
              " ['Normcore'],\n",
              " ['Boho'],\n",
              " ['Minimal'],\n",
              " ['Rebel'],\n",
              " ['Classic'],\n",
              " ['Rebel', 'Rebel'],\n",
              " ['Rebel'],\n",
              " ['Boho'],\n",
              " ['Minimal'],\n",
              " ['Minimal'],\n",
              " ['Classic'],\n",
              " ['Hypebeast', 'Hypebeast'],\n",
              " ['Minimal'],\n",
              " ['Rebel'],\n",
              " ['Hypebeast'],\n",
              " ['Minimal'],\n",
              " ['Normcore'],\n",
              " ['Minimal'],\n",
              " ['Rebel'],\n",
              " ['Hypebeast'],\n",
              " ['Minimal'],\n",
              " ['Normcore'],\n",
              " ['Rebel', 'Rebel'],\n",
              " ['Hypebeast'],\n",
              " ['Normcore'],\n",
              " ['Rebel'],\n",
              " ['Hypebeast', 'Hypebeast'],\n",
              " ['Minimal'],\n",
              " ['Normcore'],\n",
              " ['Rebel'],\n",
              " ['Minimal'],\n",
              " ['Feminine'],\n",
              " ['Hypebeast', 'Hypebeast'],\n",
              " ['Minimal'],\n",
              " ['Boho'],\n",
              " ['Normcore'],\n",
              " ['Rebel', 'Rebel'],\n",
              " ['Feminine'],\n",
              " ['Boho'],\n",
              " ['Feminine'],\n",
              " ['Hypebeast', 'Hypebeast'],\n",
              " ['Normcore', 'Normcore'],\n",
              " ['Hypebeast', 'Hypebeast'],\n",
              " ['Minimal'],\n",
              " ['Classic'],\n",
              " ['Hypebeast', 'Hypebeast'],\n",
              " ['Boho'],\n",
              " ['Rebel', 'Rebel'],\n",
              " ['Hypebeast', 'Hypebeast'],\n",
              " ['Normcore'],\n",
              " ['Rebel'],\n",
              " ['Hypebeast'],\n",
              " ['Normcore'],\n",
              " ['Hypebeast', 'Hypebeast'],\n",
              " ['Normcore', 'Normcore'],\n",
              " ['Classic', 'Classic'],\n",
              " ['Rebel'],\n",
              " ['Hypebeast', 'Hypebeast'],\n",
              " ['Normcore', 'Normcore'],\n",
              " ['Rebel'],\n",
              " ['Classic'],\n",
              " ['Rebel'],\n",
              " ['Hypebeast'],\n",
              " ['Minimal'],\n",
              " ['Normcore'],\n",
              " ['Rebel'],\n",
              " ['Rebel', 'Rebel'],\n",
              " ['Minimal'],\n",
              " ['Classic'],\n",
              " ['Feminine'],\n",
              " ['Normcore'],\n",
              " ['Rebel', 'Rebel'],\n",
              " ['Classic'],\n",
              " ['Rebel'],\n",
              " ['Hypebeast'],\n",
              " ['Normcore'],\n",
              " ['Feminine'],\n",
              " ['Rebel', 'Rebel'],\n",
              " ['Hypebeast'],\n",
              " ['Normcore'],\n",
              " ['Classic', 'Classic'],\n",
              " ['Minimal'],\n",
              " ['Boho'],\n",
              " ['Boho'],\n",
              " ['Rebel', 'Rebel'],\n",
              " ['Minimal'],\n",
              " ['Rebel'],\n",
              " ['Classic'],\n",
              " ['Classic'],\n",
              " ['Minimal'],\n",
              " ['Normcore'],\n",
              " ['Classic'],\n",
              " ['Hypebeast', 'Hypebeast'],\n",
              " ['Boho'],\n",
              " ['Minimal'],\n",
              " ['Rebel'],\n",
              " ['Classic', 'Classic'],\n",
              " ['Minimal'],\n",
              " ['Normcore', 'Normcore'],\n",
              " ['Boho'],\n",
              " ['Boho'],\n",
              " ['Boho'],\n",
              " ['Rebel', 'Rebel'],\n",
              " ['Feminine'],\n",
              " ['Boho'],\n",
              " ['Rebel'],\n",
              " ['Hypebeast', 'Hypebeast'],\n",
              " ['Classic'],\n",
              " ['Feminine'],\n",
              " ['Boho'],\n",
              " ['Classic'],\n",
              " ['Rebel'],\n",
              " ['Hypebeast', 'Hypebeast'],\n",
              " ['Minimal'],\n",
              " ['Rebel', 'Rebel'],\n",
              " ['Hypebeast'],\n",
              " ['Minimal'],\n",
              " ['Classic'],\n",
              " ['Classic'],\n",
              " ['Minimal'],\n",
              " ['Minimal'],\n",
              " ['Classic'],\n",
              " ['Rebel'],\n",
              " ['Classic'],\n",
              " ['Minimal'],\n",
              " ['Minimal'],\n",
              " ['Classic'],\n",
              " ['Minimal'],\n",
              " ['Classic', 'Classic'],\n",
              " ['Minimal'],\n",
              " ['Boho'],\n",
              " ['Minimal'],\n",
              " ['Boho'],\n",
              " ['Rebel'],\n",
              " ['Rebel'],\n",
              " ['Minimal'],\n",
              " ['Rebel'],\n",
              " ['Classic'],\n",
              " ['Classic'],\n",
              " ['Minimal'],\n",
              " ['Rebel'],\n",
              " ['Feminine'],\n",
              " ['Boho'],\n",
              " ['Rebel'],\n",
              " ['Rebel'],\n",
              " ['Rebel'],\n",
              " ['Hypebeast', 'Hypebeast'],\n",
              " ['Feminine'],\n",
              " ['Classic'],\n",
              " ['Rebel'],\n",
              " ['Feminine'],\n",
              " ['Rebel'],\n",
              " ['Rebel'],\n",
              " ['Classic'],\n",
              " ['Minimal'],\n",
              " ['Rebel'],\n",
              " ['Classic', 'Classic'],\n",
              " ['Feminine'],\n",
              " ['Rebel'],\n",
              " ['Boho'],\n",
              " ['Normcore', 'Normcore'],\n",
              " ['Boho'],\n",
              " ['Rebel'],\n",
              " ['Rebel'],\n",
              " ['Hypebeast', 'Hypebeast'],\n",
              " ['Rebel'],\n",
              " ['Feminine'],\n",
              " ['Rebel'],\n",
              " ['Classic'],\n",
              " ['Minimal'],\n",
              " ['Rebel'],\n",
              " ['Rebel', 'Rebel'],\n",
              " ['Minimal'],\n",
              " ['Classic', 'Classic'],\n",
              " ['Minimal'],\n",
              " ['Boho'],\n",
              " ['Rebel'],\n",
              " ['Normcore', 'Normcore'],\n",
              " ['Rebel'],\n",
              " ['Hypebeast', 'Hypebeast'],\n",
              " ['Rebel'],\n",
              " ['Classic'],\n",
              " ['Minimal'],\n",
              " ['Classic'],\n",
              " ['Minimal'],\n",
              " ['Rebel'],\n",
              " ['Minimal'],\n",
              " ['Rebel'],\n",
              " ['Hypebeast', 'Hypebeast'],\n",
              " ['Minimal'],\n",
              " ['Minimal'],\n",
              " ['Boho'],\n",
              " ['Rebel', 'Rebel'],\n",
              " ['Hypebeast', 'Hypebeast'],\n",
              " ['Feminine'],\n",
              " ['Boho'],\n",
              " ['Rebel'],\n",
              " ['Feminine'],\n",
              " ['Boho'],\n",
              " ['Rebel'],\n",
              " ['Hypebeast', 'Hypebeast'],\n",
              " ['Rebel'],\n",
              " ['Classic'],\n",
              " ['Feminine'],\n",
              " ['Minimal'],\n",
              " ['Rebel'],\n",
              " ['Rebel', 'Rebel'],\n",
              " ['Hypebeast', 'Hypebeast'],\n",
              " ['Rebel'],\n",
              " ['Rebel'],\n",
              " ['Classic', 'Classic'],\n",
              " ['Boho'],\n",
              " ['Classic'],\n",
              " ['Rebel', 'Rebel'],\n",
              " ['Hypebeast', 'Hypebeast'],\n",
              " ['Normcore', 'Normcore'],\n",
              " ['Classic'],\n",
              " ['Minimal'],\n",
              " ['Rebel', 'Rebel'],\n",
              " ['Boho'],\n",
              " ['Rebel', 'Rebel'],\n",
              " ['Classic'],\n",
              " ['Rebel', 'Rebel'],\n",
              " ['Minimal'],\n",
              " ['Classic'],\n",
              " ['Minimal'],\n",
              " ['Rebel'],\n",
              " ['Rebel'],\n",
              " ['Boho'],\n",
              " ['Hypebeast'],\n",
              " ['Boho'],\n",
              " ['Boho'],\n",
              " ['Rebel', 'Rebel'],\n",
              " ['Classic'],\n",
              " ['Hypebeast', 'Hypebeast'],\n",
              " ['Rebel'],\n",
              " ['Normcore', 'Normcore'],\n",
              " ['Classic'],\n",
              " ['Classic'],\n",
              " ['Minimal'],\n",
              " ['Boho'],\n",
              " ['Rebel'],\n",
              " ['Boho'],\n",
              " ['Classic'],\n",
              " ['Feminine'],\n",
              " ['Rebel'],\n",
              " ['Classic'],\n",
              " ['Minimal'],\n",
              " ['Minimal'],\n",
              " ['Rebel'],\n",
              " ['Classic'],\n",
              " ['Minimal'],\n",
              " ['Minimal'],\n",
              " ['Rebel', 'Rebel'],\n",
              " ['Rebel'],\n",
              " ['Rebel'],\n",
              " ['Feminine'],\n",
              " ['Hypebeast', 'Hypebeast'],\n",
              " ['Boho'],\n",
              " ['Rebel'],\n",
              " ['Rebel'],\n",
              " ['Rebel'],\n",
              " ['Feminine'],\n",
              " ['Rebel'],\n",
              " ['Rebel'],\n",
              " ['Rebel'],\n",
              " ['Hypebeast', 'Hypebeast'],\n",
              " ['Rebel'],\n",
              " ['Minimal'],\n",
              " ['Normcore'],\n",
              " ['Classic'],\n",
              " ['Rebel'],\n",
              " ['Normcore'],\n",
              " ['Minimal'],\n",
              " ['Classic', 'Classic'],\n",
              " ['Feminine'],\n",
              " ['Minimal'],\n",
              " ['Feminine'],\n",
              " ['Boho'],\n",
              " ['Rebel', 'Rebel'],\n",
              " ['Rebel'],\n",
              " ['Hypebeast', 'Hypebeast'],\n",
              " ['Rebel'],\n",
              " ['Classic'],\n",
              " ['Minimal'],\n",
              " ['Rebel'],\n",
              " ['Minimal'],\n",
              " ['Feminine'],\n",
              " ['Classic'],\n",
              " ['Feminine'],\n",
              " ['Minimal'],\n",
              " ['Rebel', 'Rebel'],\n",
              " ['Rebel'],\n",
              " ['Hypebeast', 'Hypebeast'],\n",
              " ['Normcore', 'Normcore'],\n",
              " ['Rebel'],\n",
              " ['Feminine'],\n",
              " ['Hypebeast', 'Hypebeast'],\n",
              " ['Minimal'],\n",
              " ['Rebel'],\n",
              " ['Normcore'],\n",
              " ['Classic'],\n",
              " ['Minimal'],\n",
              " ['Classic'],\n",
              " ['Classic'],\n",
              " ['Feminine'],\n",
              " ['Minimal'],\n",
              " ['Boho'],\n",
              " ['Feminine'],\n",
              " ['Boho'],\n",
              " ['Rebel'],\n",
              " ['Minimal'],\n",
              " ['Normcore'],\n",
              " ['Rebel'],\n",
              " ['Classic'],\n",
              " ['Minimal'],\n",
              " ['Classic'],\n",
              " ['Feminine'],\n",
              " ['Boho'],\n",
              " ['Rebel', 'Rebel'],\n",
              " ['Rebel', 'Rebel'],\n",
              " ['Hypebeast', 'Hypebeast'],\n",
              " ['Rebel'],\n",
              " ['Boho'],\n",
              " ['Feminine'],\n",
              " ['Normcore'],\n",
              " ['Boho'],\n",
              " ['Rebel'],\n",
              " ['Rebel'],\n",
              " ['Hypebeast', 'Hypebeast'],\n",
              " ['Rebel'],\n",
              " ['Feminine'],\n",
              " ['Rebel'],\n",
              " ['Hypebeast', 'Hypebeast'],\n",
              " ['Classic'],\n",
              " ['Feminine'],\n",
              " ['Normcore'],\n",
              " ['Boho'],\n",
              " ['Rebel'],\n",
              " ['Rebel'],\n",
              " ['Rebel'],\n",
              " ['Classic'],\n",
              " ['Rebel'],\n",
              " ['Rebel'],\n",
              " ['Classic'],\n",
              " ['Normcore'],\n",
              " ['Boho'],\n",
              " ['Rebel'],\n",
              " ['Hypebeast'],\n",
              " ['Rebel'],\n",
              " ['Classic'],\n",
              " ['Minimal'],\n",
              " ['Boho'],\n",
              " ['Rebel', 'Rebel'],\n",
              " ['Classic'],\n",
              " ['Hypebeast', 'Hypebeast'],\n",
              " ['Rebel'],\n",
              " ['Hypebeast', 'Hypebeast'],\n",
              " ['Minimal'],\n",
              " ['Feminine'],\n",
              " ['Boho'],\n",
              " ['Rebel'],\n",
              " ['Minimal'],\n",
              " ['Normcore', 'Normcore'],\n",
              " ['Rebel'],\n",
              " ['Classic'],\n",
              " ['Minimal'],\n",
              " ['Normcore', 'Normcore'],\n",
              " ['Rebel'],\n",
              " ['Rebel'],\n",
              " ['Classic', 'Classic'],\n",
              " ['Minimal'],\n",
              " ['Rebel'],\n",
              " ['Minimal'],\n",
              " ['Boho'],\n",
              " ['Minimal'],\n",
              " ['Boho'],\n",
              " ['Rebel'],\n",
              " ['Classic'],\n",
              " ['Rebel'],\n",
              " ['Minimal'],\n",
              " ['Rebel'],\n",
              " ['Feminine'],\n",
              " ['Normcore'],\n",
              " ['Boho'],\n",
              " ['Classic'],\n",
              " ['Minimal'],\n",
              " ['Feminine'],\n",
              " ['Boho'],\n",
              " ['Rebel'],\n",
              " ['Minimal'],\n",
              " ['Rebel'],\n",
              " ['Rebel'],\n",
              " ['Rebel'],\n",
              " ['Minimal'],\n",
              " ['Boho'],\n",
              " ['Feminine'],\n",
              " ['Minimal'],\n",
              " ['Normcore', 'Normcore'],\n",
              " ['Classic'],\n",
              " ['Minimal'],\n",
              " ['Classic'],\n",
              " ['Rebel'],\n",
              " ['Hypebeast', 'Hypebeast'],\n",
              " ['Classic'],\n",
              " ['Rebel'],\n",
              " ['Rebel'],\n",
              " ['Classic'],\n",
              " ['Feminine'],\n",
              " ['Classic'],\n",
              " ['Minimal'],\n",
              " ['Feminine'],\n",
              " ['Boho'],\n",
              " ['Rebel'],\n",
              " ['Classic'],\n",
              " ['Minimal'],\n",
              " ['Rebel'],\n",
              " ['Hypebeast'],\n",
              " ['Normcore'],\n",
              " ['Rebel'],\n",
              " ['Classic'],\n",
              " ['Minimal'],\n",
              " ['Rebel'],\n",
              " ['Rebel'],\n",
              " ['Rebel'],\n",
              " ['Hypebeast', 'Hypebeast'],\n",
              " ['Feminine'],\n",
              " ['Minimal'],\n",
              " ['Feminine'],\n",
              " ['Rebel'],\n",
              " ['Rebel'],\n",
              " ['Classic'],\n",
              " ['Minimal'],\n",
              " ['Feminine'],\n",
              " ['Minimal'],\n",
              " ['Rebel'],\n",
              " ['Hypebeast'],\n",
              " ['Normcore'],\n",
              " ['Classic'],\n",
              " ['Hypebeast', 'Hypebeast'],\n",
              " ['Minimal'],\n",
              " ['Rebel'],\n",
              " ['Rebel'],\n",
              " ['Hypebeast', 'Hypebeast'],\n",
              " ['Minimal'],\n",
              " ['Rebel'],\n",
              " ['Classic'],\n",
              " ['Feminine'],\n",
              " ['Hypebeast', 'Hypebeast'],\n",
              " ['Normcore'],\n",
              " ['Boho'],\n",
              " ['Boho'],\n",
              " ['Rebel'],\n",
              " ['Minimal'],\n",
              " ['Rebel'],\n",
              " ['Normcore', 'Normcore'],\n",
              " ['Rebel'],\n",
              " ['Hypebeast', 'Hypebeast'],\n",
              " ['Rebel', 'Rebel'],\n",
              " ['Rebel'],\n",
              " ['Classic', 'Classic'],\n",
              " ['Hypebeast', 'Hypebeast'],\n",
              " ['Normcore'],\n",
              " ['Rebel', 'Rebel'],\n",
              " ['Classic'],\n",
              " ['Minimal'],\n",
              " ['Rebel'],\n",
              " ['Classic'],\n",
              " ['Rebel'],\n",
              " ['Classic'],\n",
              " ['Feminine'],\n",
              " ['Feminine'],\n",
              " ['Minimal'],\n",
              " ['Boho'],\n",
              " ['Rebel'],\n",
              " ['Rebel'],\n",
              " ['Rebel'],\n",
              " ['Classic', 'Classic'],\n",
              " ['Hypebeast'],\n",
              " ['Minimal'],\n",
              " ['Normcore'],\n",
              " ['Rebel', 'Rebel'],\n",
              " ['Feminine'],\n",
              " ['Hypebeast', 'Hypebeast'],\n",
              " ['Rebel'],\n",
              " ['Feminine'],\n",
              " ['Boho'],\n",
              " ['Rebel', 'Rebel'],\n",
              " ['Hypebeast', 'Hypebeast'],\n",
              " ['Normcore', 'Normcore'],\n",
              " ['Classic'],\n",
              " ['Feminine'],\n",
              " ['Minimal'],\n",
              " ['Boho'],\n",
              " ['Rebel'],\n",
              " ['Classic'],\n",
              " ['Minimal'],\n",
              " ['Normcore', 'Normcore'],\n",
              " ['Rebel'],\n",
              " ['Hypebeast', 'Hypebeast'],\n",
              " ['Boho'],\n",
              " ['Classic'],\n",
              " ['Rebel'],\n",
              " ['Feminine'],\n",
              " ['Minimal'],\n",
              " ['Rebel'],\n",
              " ['Rebel'],\n",
              " ['Classic'],\n",
              " ['Hypebeast'],\n",
              " ['Minimal'],\n",
              " ['Normcore'],\n",
              " ['Boho'],\n",
              " ['Rebel', 'Rebel'],\n",
              " ['Rebel', 'Rebel'],\n",
              " ['Boho'],\n",
              " ['Rebel'],\n",
              " ['Hypebeast', 'Hypebeast'],\n",
              " ['Rebel'],\n",
              " ['Rebel'],\n",
              " ['Hypebeast', 'Hypebeast'],\n",
              " ['Rebel'],\n",
              " ['Rebel', 'Rebel'],\n",
              " ['Classic'],\n",
              " ['Feminine'],\n",
              " ['Minimal'],\n",
              " ['Rebel', 'Rebel'],\n",
              " ['Boho'],\n",
              " ['Hypebeast', 'Hypebeast'],\n",
              " ['Normcore', 'Normcore'],\n",
              " ['Boho'],\n",
              " ['Rebel'],\n",
              " ['Hypebeast', 'Hypebeast'],\n",
              " ['Classic'],\n",
              " ['Rebel'],\n",
              " ['Classic'],\n",
              " ['Minimal'],\n",
              " ['Rebel'],\n",
              " ['Classic', 'Classic'],\n",
              " ['Classic', 'Classic'],\n",
              " ['Minimal'],\n",
              " ['Hypebeast', 'Hypebeast'],\n",
              " ['Minimal'],\n",
              " ['Rebel'],\n",
              " ['Classic'],\n",
              " ['Hypebeast', 'Hypebeast'],\n",
              " ['Normcore', 'Normcore'],\n",
              " ['Rebel'],\n",
              " ['Classic'],\n",
              " ['Boho'],\n",
              " ['Rebel'],\n",
              " ['Hypebeast'],\n",
              " ['Normcore'],\n",
              " ['Classic'],\n",
              " ['Rebel'],\n",
              " ['Minimal'],\n",
              " ['Rebel'],\n",
              " ['Hypebeast'],\n",
              " ['Rebel', 'Rebel'],\n",
              " ['Classic'],\n",
              " ['Minimal'],\n",
              " ['Rebel', 'Rebel'],\n",
              " ['Hypebeast', 'Hypebeast'],\n",
              " ['Classic'],\n",
              " ['Minimal'],\n",
              " ['Classic'],\n",
              " ['Rebel', 'Rebel'],\n",
              " ['Normcore', 'Normcore'],\n",
              " ['Boho'],\n",
              " ['Rebel'],\n",
              " ['Rebel', 'Rebel'],\n",
              " ['Rebel', 'Rebel'],\n",
              " ['Hypebeast', 'Hypebeast'],\n",
              " ['Classic'],\n",
              " ['Minimal'],\n",
              " ['Boho'],\n",
              " ['Rebel'],\n",
              " ['Rebel', 'Rebel'],\n",
              " ['Classic'],\n",
              " ['Hypebeast', 'Hypebeast'],\n",
              " ['Minimal'],\n",
              " ['Rebel'],\n",
              " ['Rebel'],\n",
              " ['Feminine'],\n",
              " ['Rebel'],\n",
              " ['Hypebeast'],\n",
              " ['Minimal'],\n",
              " ['Rebel', 'Rebel'],\n",
              " ['Rebel'],\n",
              " ['Boho'],\n",
              " ['Rebel'],\n",
              " ['Rebel'],\n",
              " ['Hypebeast', 'Hypebeast'],\n",
              " ['Rebel'],\n",
              " ['Hypebeast', 'Hypebeast'],\n",
              " ['Rebel'],\n",
              " ['Feminine'],\n",
              " ['Boho'],\n",
              " ['Classic', 'Classic'],\n",
              " ['Classic'],\n",
              " ['Minimal'],\n",
              " ['Classic'],\n",
              " ['Minimal'],\n",
              " ['Rebel'],\n",
              " ['Classic'],\n",
              " ['Classic'],\n",
              " ['Classic'],\n",
              " ['Classic'],\n",
              " ['Classic'],\n",
              " ['Rebel'],\n",
              " ['Hypebeast', 'Hypebeast'],\n",
              " ['Rebel'],\n",
              " ['Rebel'],\n",
              " ['Classic'],\n",
              " ['Feminine'],\n",
              " ['Minimal'],\n",
              " ['Rebel'],\n",
              " ['Rebel', 'Rebel'],\n",
              " ['Rebel'],\n",
              " ['Hypebeast', 'Hypebeast'],\n",
              " ['Rebel'],\n",
              " ['Hypebeast', 'Hypebeast'],\n",
              " ['Rebel'],\n",
              " ['Rebel'],\n",
              " ['Rebel'],\n",
              " ['Normcore', 'Normcore'],\n",
              " ['Rebel'],\n",
              " ['Hypebeast', 'Hypebeast'],\n",
              " ['Classic'],\n",
              " ['Minimal'],\n",
              " ['Rebel', 'Rebel'],\n",
              " ['Classic'],\n",
              " ['Minimal'],\n",
              " ['Boho'],\n",
              " ['Classic'],\n",
              " ['Minimal'],\n",
              " ['Rebel', 'Rebel'],\n",
              " ['Classic'],\n",
              " ['Rebel', 'Rebel'],\n",
              " ['Minimal'],\n",
              " ['Boho'],\n",
              " ['Classic'],\n",
              " ['Hypebeast'],\n",
              " ['Rebel', 'Rebel'],\n",
              " ['Classic'],\n",
              " ['Rebel'],\n",
              " ['Minimal'],\n",
              " ['Rebel'],\n",
              " ['Classic'],\n",
              " ['Minimal'],\n",
              " ['Classic'],\n",
              " ['Rebel'],\n",
              " ['Hypebeast', 'Hypebeast'],\n",
              " ['Normcore'],\n",
              " ['Boho'],\n",
              " ['Rebel', 'Rebel'],\n",
              " ['Boho'],\n",
              " ['Classic'],\n",
              " ['Rebel'],\n",
              " ['Hypebeast'],\n",
              " ['Rebel', 'Rebel'],\n",
              " ['Boho'],\n",
              " ['Boho'],\n",
              " ['Hypebeast', 'Hypebeast'],\n",
              " ['Normcore', 'Normcore'],\n",
              " ['Rebel'],\n",
              " ['Hypebeast'],\n",
              " ['Normcore'],\n",
              " ['Boho'],\n",
              " ['Classic', 'Classic'],\n",
              " ['Rebel', 'Rebel'],\n",
              " ['Hypebeast', 'Hypebeast'],\n",
              " ['Boho'],\n",
              " ['Rebel'],\n",
              " ['Minimal'],\n",
              " ['Hypebeast', 'Hypebeast'],\n",
              " ['Classic'],\n",
              " ['Rebel'],\n",
              " ['Normcore', 'Normcore'],\n",
              " ['Classic'],\n",
              " ['Feminine'],\n",
              " ['Boho'],\n",
              " ['Rebel'],\n",
              " ['Rebel'],\n",
              " ['Rebel'],\n",
              " ['Hypebeast', 'Hypebeast'],\n",
              " ['Rebel'],\n",
              " ['Rebel'],\n",
              " ['Rebel'],\n",
              " ['Classic', 'Classic'],\n",
              " ['Hypebeast', 'Hypebeast'],\n",
              " ['Minimal'],\n",
              " ['Rebel'],\n",
              " ['Hypebeast', 'Hypebeast'],\n",
              " ['Hypebeast'],\n",
              " ['Classic'],\n",
              " ['Rebel'],\n",
              " ['Rebel'],\n",
              " ['Hypebeast'],\n",
              " ['Rebel'],\n",
              " ['Classic'],\n",
              " ['Rebel'],\n",
              " ['Rebel'],\n",
              " ['Rebel'],\n",
              " ['Hypebeast', 'Hypebeast'],\n",
              " ['Classic'],\n",
              " ['Classic'],\n",
              " ['Rebel'],\n",
              " ['Hypebeast', 'Hypebeast'],\n",
              " ['Boho'],\n",
              " ['Rebel', 'Rebel'],\n",
              " ['Minimal'],\n",
              " ['Rebel'],\n",
              " ['Hypebeast'],\n",
              " ['Minimal'],\n",
              " ['Normcore'],\n",
              " ['Rebel', 'Rebel'],\n",
              " ['Rebel'],\n",
              " ['Feminine'],\n",
              " ['Rebel'],\n",
              " ['Boho'],\n",
              " ['Rebel'],\n",
              " ['Minimal'],\n",
              " ['Classic'],\n",
              " ['Rebel'],\n",
              " ['Hypebeast', 'Hypebeast'],\n",
              " ['Boho'],\n",
              " ['Classic'],\n",
              " ['Boho'],\n",
              " ['Classic'],\n",
              " ['Rebel'],\n",
              " ['Minimal'],\n",
              " ['Boho'],\n",
              " ['Feminine'],\n",
              " ['Boho'],\n",
              " ['Feminine'],\n",
              " ['Boho'],\n",
              " ['Rebel'],\n",
              " ['Classic'],\n",
              " ['Minimal'],\n",
              " ['Rebel'],\n",
              " ['Hypebeast', 'Hypebeast'],\n",
              " ['Rebel'],\n",
              " ['Classic', 'Classic'],\n",
              " ['Hypebeast', 'Hypebeast'],\n",
              " ['Minimal'],\n",
              " ['Minimal'],\n",
              " ['Rebel'],\n",
              " ['Feminine'],\n",
              " ['Classic'],\n",
              " ['Minimal'],\n",
              " ['Hypebeast', 'Hypebeast'],\n",
              " ['Rebel'],\n",
              " ['Rebel'],\n",
              " ['Rebel', 'Rebel'],\n",
              " ['Hypebeast', 'Hypebeast'],\n",
              " ['Rebel'],\n",
              " ['Hypebeast', 'Hypebeast'],\n",
              " ['Classic'],\n",
              " ['Classic'],\n",
              " ['Feminine'],\n",
              " ['Classic'],\n",
              " ['Feminine'],\n",
              " ['Classic'],\n",
              " ['Hypebeast', 'Hypebeast'],\n",
              " ['Rebel'],\n",
              " ['Classic'],\n",
              " ['Minimal'],\n",
              " ['Normcore', 'Normcore'],\n",
              " ['Boho'],\n",
              " ['Boho'],\n",
              " ['Classic'],\n",
              " ['Minimal'],\n",
              " ['Feminine'],\n",
              " ['Rebel'],\n",
              " ['Hypebeast', 'Hypebeast'],\n",
              " ['Classic'],\n",
              " ['Boho'],\n",
              " ['Feminine'],\n",
              " ['Rebel'],\n",
              " ['Rebel'],\n",
              " ['Hypebeast'],\n",
              " ['Minimal'],\n",
              " ['Boho'],\n",
              " ['Rebel'],\n",
              " ['Hypebeast', 'Hypebeast'],\n",
              " ['Boho'],\n",
              " ...]"
            ]
          },
          "metadata": {},
          "execution_count": 381
        }
      ]
    },
    {
      "cell_type": "code",
      "metadata": {
        "colab": {
          "base_uri": "https://localhost:8080/",
          "height": 419
        },
        "id": "LAKKAlG_zy6f",
        "outputId": "e683fa32-bb79-44d6-b77c-eddfebc88cc8"
      },
      "source": [
        "ww_dataframe = pd.DataFrame(ww)\n",
        "ww_dataframe.columns=['WW','Dummy_WW']\n",
        "ww_dataframe"
      ],
      "execution_count": null,
      "outputs": [
        {
          "output_type": "execute_result",
          "data": {
            "text/html": [
              "<div>\n",
              "<style scoped>\n",
              "    .dataframe tbody tr th:only-of-type {\n",
              "        vertical-align: middle;\n",
              "    }\n",
              "\n",
              "    .dataframe tbody tr th {\n",
              "        vertical-align: top;\n",
              "    }\n",
              "\n",
              "    .dataframe thead th {\n",
              "        text-align: right;\n",
              "    }\n",
              "</style>\n",
              "<table border=\"1\" class=\"dataframe\">\n",
              "  <thead>\n",
              "    <tr style=\"text-align: right;\">\n",
              "      <th></th>\n",
              "      <th>WW</th>\n",
              "      <th>Dummy_WW</th>\n",
              "    </tr>\n",
              "  </thead>\n",
              "  <tbody>\n",
              "    <tr>\n",
              "      <th>0</th>\n",
              "      <td>Classic</td>\n",
              "      <td>None</td>\n",
              "    </tr>\n",
              "    <tr>\n",
              "      <th>1</th>\n",
              "      <td>Rebel</td>\n",
              "      <td>None</td>\n",
              "    </tr>\n",
              "    <tr>\n",
              "      <th>2</th>\n",
              "      <td>Classic</td>\n",
              "      <td>None</td>\n",
              "    </tr>\n",
              "    <tr>\n",
              "      <th>3</th>\n",
              "      <td>Hypebeast</td>\n",
              "      <td>None</td>\n",
              "    </tr>\n",
              "    <tr>\n",
              "      <th>4</th>\n",
              "      <td>Classic</td>\n",
              "      <td>None</td>\n",
              "    </tr>\n",
              "    <tr>\n",
              "      <th>...</th>\n",
              "      <td>...</td>\n",
              "      <td>...</td>\n",
              "    </tr>\n",
              "    <tr>\n",
              "      <th>131993</th>\n",
              "      <td>Hypebeast</td>\n",
              "      <td>Hypebeast</td>\n",
              "    </tr>\n",
              "    <tr>\n",
              "      <th>131994</th>\n",
              "      <td>Feminine</td>\n",
              "      <td>None</td>\n",
              "    </tr>\n",
              "    <tr>\n",
              "      <th>131995</th>\n",
              "      <td>Hypebeast</td>\n",
              "      <td>Hypebeast</td>\n",
              "    </tr>\n",
              "    <tr>\n",
              "      <th>131996</th>\n",
              "      <td>Rebel</td>\n",
              "      <td>None</td>\n",
              "    </tr>\n",
              "    <tr>\n",
              "      <th>131997</th>\n",
              "      <td>Hypebeast</td>\n",
              "      <td>Hypebeast</td>\n",
              "    </tr>\n",
              "  </tbody>\n",
              "</table>\n",
              "<p>131998 rows × 2 columns</p>\n",
              "</div>"
            ],
            "text/plain": [
              "               WW   Dummy_WW\n",
              "0         Classic       None\n",
              "1           Rebel       None\n",
              "2         Classic       None\n",
              "3       Hypebeast       None\n",
              "4         Classic       None\n",
              "...           ...        ...\n",
              "131993  Hypebeast  Hypebeast\n",
              "131994   Feminine       None\n",
              "131995  Hypebeast  Hypebeast\n",
              "131996      Rebel       None\n",
              "131997  Hypebeast  Hypebeast\n",
              "\n",
              "[131998 rows x 2 columns]"
            ]
          },
          "metadata": {},
          "execution_count": 404
        }
      ]
    },
    {
      "cell_type": "code",
      "metadata": {
        "colab": {
          "base_uri": "https://localhost:8080/",
          "height": 419
        },
        "id": "y5Adsmmfz0Pc",
        "outputId": "76de2b21-5db9-4468-daaf-e11ea8d2901f"
      },
      "source": [
        "ww_dataframe_updated=ww_dataframe.drop('Dummy_WW',axis=1)\n",
        "ww_dataframe_updated"
      ],
      "execution_count": null,
      "outputs": [
        {
          "output_type": "execute_result",
          "data": {
            "text/html": [
              "<div>\n",
              "<style scoped>\n",
              "    .dataframe tbody tr th:only-of-type {\n",
              "        vertical-align: middle;\n",
              "    }\n",
              "\n",
              "    .dataframe tbody tr th {\n",
              "        vertical-align: top;\n",
              "    }\n",
              "\n",
              "    .dataframe thead th {\n",
              "        text-align: right;\n",
              "    }\n",
              "</style>\n",
              "<table border=\"1\" class=\"dataframe\">\n",
              "  <thead>\n",
              "    <tr style=\"text-align: right;\">\n",
              "      <th></th>\n",
              "      <th>WW</th>\n",
              "    </tr>\n",
              "  </thead>\n",
              "  <tbody>\n",
              "    <tr>\n",
              "      <th>0</th>\n",
              "      <td>Classic</td>\n",
              "    </tr>\n",
              "    <tr>\n",
              "      <th>1</th>\n",
              "      <td>Rebel</td>\n",
              "    </tr>\n",
              "    <tr>\n",
              "      <th>2</th>\n",
              "      <td>Classic</td>\n",
              "    </tr>\n",
              "    <tr>\n",
              "      <th>3</th>\n",
              "      <td>Hypebeast</td>\n",
              "    </tr>\n",
              "    <tr>\n",
              "      <th>4</th>\n",
              "      <td>Classic</td>\n",
              "    </tr>\n",
              "    <tr>\n",
              "      <th>...</th>\n",
              "      <td>...</td>\n",
              "    </tr>\n",
              "    <tr>\n",
              "      <th>131993</th>\n",
              "      <td>Hypebeast</td>\n",
              "    </tr>\n",
              "    <tr>\n",
              "      <th>131994</th>\n",
              "      <td>Feminine</td>\n",
              "    </tr>\n",
              "    <tr>\n",
              "      <th>131995</th>\n",
              "      <td>Hypebeast</td>\n",
              "    </tr>\n",
              "    <tr>\n",
              "      <th>131996</th>\n",
              "      <td>Rebel</td>\n",
              "    </tr>\n",
              "    <tr>\n",
              "      <th>131997</th>\n",
              "      <td>Hypebeast</td>\n",
              "    </tr>\n",
              "  </tbody>\n",
              "</table>\n",
              "<p>131998 rows × 1 columns</p>\n",
              "</div>"
            ],
            "text/plain": [
              "               WW\n",
              "0         Classic\n",
              "1           Rebel\n",
              "2         Classic\n",
              "3       Hypebeast\n",
              "4         Classic\n",
              "...           ...\n",
              "131993  Hypebeast\n",
              "131994   Feminine\n",
              "131995  Hypebeast\n",
              "131996      Rebel\n",
              "131997  Hypebeast\n",
              "\n",
              "[131998 rows x 1 columns]"
            ]
          },
          "metadata": {},
          "execution_count": 405
        }
      ]
    },
    {
      "cell_type": "code",
      "metadata": {
        "id": "G2eilPWQz1-Z"
      },
      "source": [
        "ww_dataframe_updated=ww_dataframe_updated.head(110727)"
      ],
      "execution_count": null,
      "outputs": []
    },
    {
      "cell_type": "code",
      "metadata": {
        "colab": {
          "base_uri": "https://localhost:8080/"
        },
        "id": "mSkHt8Knz3P8",
        "outputId": "89c0cded-cd29-47bf-d57d-991dc45b1ec5"
      },
      "source": [
        "ww_dataframe_updated['WW']=le.fit_transform(ww_dataframe_updated['WW'])"
      ],
      "execution_count": null,
      "outputs": [
        {
          "output_type": "stream",
          "text": [
            "/usr/local/lib/python3.7/dist-packages/ipykernel_launcher.py:1: SettingWithCopyWarning: \n",
            "A value is trying to be set on a copy of a slice from a DataFrame.\n",
            "Try using .loc[row_indexer,col_indexer] = value instead\n",
            "\n",
            "See the caveats in the documentation: https://pandas.pydata.org/pandas-docs/stable/user_guide/indexing.html#returning-a-view-versus-a-copy\n",
            "  \"\"\"Entry point for launching an IPython kernel.\n"
          ],
          "name": "stderr"
        }
      ]
    },
    {
      "cell_type": "code",
      "metadata": {
        "colab": {
          "base_uri": "https://localhost:8080/",
          "height": 419
        },
        "id": "8pMq3Lmbz4lM",
        "outputId": "2737ab5b-8255-4e58-eb78-fc1ec6e9842b"
      },
      "source": [
        "ww_dataframe_updated"
      ],
      "execution_count": null,
      "outputs": [
        {
          "output_type": "execute_result",
          "data": {
            "text/html": [
              "<div>\n",
              "<style scoped>\n",
              "    .dataframe tbody tr th:only-of-type {\n",
              "        vertical-align: middle;\n",
              "    }\n",
              "\n",
              "    .dataframe tbody tr th {\n",
              "        vertical-align: top;\n",
              "    }\n",
              "\n",
              "    .dataframe thead th {\n",
              "        text-align: right;\n",
              "    }\n",
              "</style>\n",
              "<table border=\"1\" class=\"dataframe\">\n",
              "  <thead>\n",
              "    <tr style=\"text-align: right;\">\n",
              "      <th></th>\n",
              "      <th>WW</th>\n",
              "    </tr>\n",
              "  </thead>\n",
              "  <tbody>\n",
              "    <tr>\n",
              "      <th>0</th>\n",
              "      <td>1</td>\n",
              "    </tr>\n",
              "    <tr>\n",
              "      <th>1</th>\n",
              "      <td>6</td>\n",
              "    </tr>\n",
              "    <tr>\n",
              "      <th>2</th>\n",
              "      <td>1</td>\n",
              "    </tr>\n",
              "    <tr>\n",
              "      <th>3</th>\n",
              "      <td>3</td>\n",
              "    </tr>\n",
              "    <tr>\n",
              "      <th>4</th>\n",
              "      <td>1</td>\n",
              "    </tr>\n",
              "    <tr>\n",
              "      <th>...</th>\n",
              "      <td>...</td>\n",
              "    </tr>\n",
              "    <tr>\n",
              "      <th>110722</th>\n",
              "      <td>5</td>\n",
              "    </tr>\n",
              "    <tr>\n",
              "      <th>110723</th>\n",
              "      <td>0</td>\n",
              "    </tr>\n",
              "    <tr>\n",
              "      <th>110724</th>\n",
              "      <td>3</td>\n",
              "    </tr>\n",
              "    <tr>\n",
              "      <th>110725</th>\n",
              "      <td>6</td>\n",
              "    </tr>\n",
              "    <tr>\n",
              "      <th>110726</th>\n",
              "      <td>1</td>\n",
              "    </tr>\n",
              "  </tbody>\n",
              "</table>\n",
              "<p>110727 rows × 1 columns</p>\n",
              "</div>"
            ],
            "text/plain": [
              "        WW\n",
              "0        1\n",
              "1        6\n",
              "2        1\n",
              "3        3\n",
              "4        1\n",
              "...     ..\n",
              "110722   5\n",
              "110723   0\n",
              "110724   3\n",
              "110725   6\n",
              "110726   1\n",
              "\n",
              "[110727 rows x 1 columns]"
            ]
          },
          "metadata": {},
          "execution_count": 408
        }
      ]
    },
    {
      "cell_type": "code",
      "metadata": {
        "colab": {
          "base_uri": "https://localhost:8080/"
        },
        "id": "pZmE8Ec3z6LS",
        "outputId": "ad39a47c-bf02-4340-f4e5-06ab540157a9"
      },
      "source": [
        "ww_dataframe_updated=ww_dataframe_updated.iloc[:,:].values\n",
        "ww_dataframe_updated"
      ],
      "execution_count": null,
      "outputs": [
        {
          "output_type": "execute_result",
          "data": {
            "text/plain": [
              "array([[1],\n",
              "       [6],\n",
              "       [1],\n",
              "       ...,\n",
              "       [3],\n",
              "       [6],\n",
              "       [1]])"
            ]
          },
          "metadata": {},
          "execution_count": 409
        }
      ]
    },
    {
      "cell_type": "code",
      "metadata": {
        "colab": {
          "base_uri": "https://localhost:8080/"
        },
        "id": "R56TdSCez9Dx",
        "outputId": "2cde7263-0d4a-4e17-fa70-5d9e38d07511"
      },
      "source": [
        "tfidf_df"
      ],
      "execution_count": null,
      "outputs": [
        {
          "output_type": "execute_result",
          "data": {
            "text/plain": [
              "array([[0., 0., 0., ..., 0., 0., 0.],\n",
              "       [0., 0., 0., ..., 0., 0., 0.],\n",
              "       [0., 0., 0., ..., 0., 0., 0.],\n",
              "       ...,\n",
              "       [0., 0., 0., ..., 0., 0., 0.],\n",
              "       [0., 0., 0., ..., 0., 0., 0.],\n",
              "       [0., 0., 0., ..., 0., 0., 0.]])"
            ]
          },
          "metadata": {},
          "execution_count": 410
        }
      ]
    },
    {
      "cell_type": "code",
      "metadata": {
        "colab": {
          "base_uri": "https://localhost:8080/"
        },
        "id": "qr312QwUIeba",
        "outputId": "4565c869-7099-46d8-de9c-2e3bcd63dd60"
      },
      "source": [
        "tfidf_df.shape"
      ],
      "execution_count": null,
      "outputs": [
        {
          "output_type": "execute_result",
          "data": {
            "text/plain": [
              "(110727, 100)"
            ]
          },
          "metadata": {},
          "execution_count": 411
        }
      ]
    },
    {
      "cell_type": "code",
      "metadata": {
        "id": "tk3zlriCz-Xs"
      },
      "source": [
        "from sklearn.model_selection import train_test_split\n",
        "train_X,test_X,train_y,test_y=train_test_split(tfidf_df,ww_dataframe_updated,test_size=0.2)"
      ],
      "execution_count": null,
      "outputs": []
    },
    {
      "cell_type": "code",
      "metadata": {
        "id": "_sh3Yjp-0CXY"
      },
      "source": [
        "\n",
        "from sklearn.naive_bayes import MultinomialNB\n",
        "model_womenswear_MNB=MultinomialNB()\n",
        "\n",
        "model_womenswear_MNB.fit(train_X,train_y.ravel())\n",
        "y_pred_womenswear_MNB=model_womenswear_MNB.predict(test_X)"
      ],
      "execution_count": null,
      "outputs": []
    },
    {
      "cell_type": "code",
      "metadata": {
        "colab": {
          "base_uri": "https://localhost:8080/"
        },
        "id": "Uj_3o4RiJGiE",
        "outputId": "51eeef8d-14c0-4801-8cfb-b5cb7e3e30f6"
      },
      "source": [
        "'Accuracy Score: ',accuracy_score(test_y,y_pred_womenswear_MNB)"
      ],
      "execution_count": null,
      "outputs": [
        {
          "output_type": "execute_result",
          "data": {
            "text/plain": [
              "('Accuracy Score: ', 0.34024203016346066)"
            ]
          },
          "metadata": {},
          "execution_count": 414
        }
      ]
    },
    {
      "cell_type": "code",
      "metadata": {
        "colab": {
          "base_uri": "https://localhost:8080/"
        },
        "id": "vZ45AxybJz7p",
        "outputId": "689b90f0-9fe7-4569-9532-7e65e42a713f"
      },
      "source": [
        "'F1 Score: ',f1_score(test_y,y_pred_womenswear_MNB, average='weighted') "
      ],
      "execution_count": null,
      "outputs": [
        {
          "output_type": "execute_result",
          "data": {
            "text/plain": [
              "('F1 Score: ', 0.17275184106207178)"
            ]
          },
          "metadata": {},
          "execution_count": 415
        }
      ]
    },
    {
      "cell_type": "code",
      "metadata": {
        "colab": {
          "base_uri": "https://localhost:8080/"
        },
        "id": "ggqYzEbNKQ3u",
        "outputId": "adcac081-c484-40d8-fe7e-0fbb87d1308a"
      },
      "source": [
        "'Precision Score: ',precision_score(test_y,y_pred_womenswear_MNB, average='weighted') "
      ],
      "execution_count": null,
      "outputs": [
        {
          "output_type": "stream",
          "text": [
            "/usr/local/lib/python3.7/dist-packages/sklearn/metrics/_classification.py:1272: UndefinedMetricWarning: Precision is ill-defined and being set to 0.0 in labels with no predicted samples. Use `zero_division` parameter to control this behavior.\n",
            "  _warn_prf(average, modifier, msg_start, len(result))\n"
          ],
          "name": "stderr"
        },
        {
          "output_type": "execute_result",
          "data": {
            "text/plain": [
              "('Precision Score: ', 0.11576463908975326)"
            ]
          },
          "metadata": {},
          "execution_count": 416
        }
      ]
    },
    {
      "cell_type": "code",
      "metadata": {
        "colab": {
          "base_uri": "https://localhost:8080/"
        },
        "id": "i96w-4nbfWft",
        "outputId": "0781c4fc-e889-497c-b588-3c774417f830"
      },
      "source": [
        "'Recall Score: ',recall_score(test_y,y_pred_womenswear_MNB, average='macro') "
      ],
      "execution_count": null,
      "outputs": [
        {
          "output_type": "execute_result",
          "data": {
            "text/plain": [
              "('Recall Score: ', 0.125)"
            ]
          },
          "metadata": {},
          "execution_count": 442
        }
      ]
    },
    {
      "cell_type": "code",
      "metadata": {
        "colab": {
          "base_uri": "https://localhost:8080/",
          "height": 879
        },
        "id": "Fb9Kw5bc0Teb",
        "outputId": "40b69353-edb5-402f-9d2e-e62340de9c86"
      },
      "source": [
        "# plot confusion matrix\n",
        "cm_womenswear_MNB = metrics.confusion_matrix(test_y, y_pred_womenswear_MNB);\n",
        "fig, ax = plt.subplots(figsize=(20,15));\n",
        "sns.heatmap(cm_womenswear_MNB, annot=True, fmt='d', ax=ax, cmap=plt.cm.Blues, \n",
        "            cbar=False);\n",
        "ax.set(xlabel=\"Pred\", ylabel=\"True\", title=\"Confusion matrix\");\n",
        "plt.yticks(rotation=0);"
      ],
      "execution_count": null,
      "outputs": [
        {
          "output_type": "display_data",
          "data": {
            "image/png": "[encoded data removed]",
            "text/plain": [
              "<Figure size 1440x1080 with 1 Axes>"
            ]
          },
          "metadata": {}
        }
      ]
    },
    {
      "cell_type": "code",
      "metadata": {
        "id": "pkg-o8EoPx9B"
      },
      "source": [
        "# import Random Forest classifier\n",
        "from sklearn.ensemble import RandomForestClassifier\n",
        "model_womenswear_RF=RandomForestClassifier()\n",
        "\n",
        "# fit the train and test set on the Random Forest classifier\n",
        "model_womenswear_RF.fit(train_X,train_y.ravel())\n",
        "y_pred_womenswear_RF=model_womenswear_RF.predict(test_X)\n"
      ],
      "execution_count": null,
      "outputs": []
    },
    {
      "cell_type": "code",
      "metadata": {
        "colab": {
          "base_uri": "https://localhost:8080/"
        },
        "id": "5BnDs_o2R-aG",
        "outputId": "5475bb9c-7888-43a1-fb08-99fb4ccdf59d"
      },
      "source": [
        "'Accuracy Score: ',accuracy_score(test_y,y_pred_womenswear_RF)"
      ],
      "execution_count": null,
      "outputs": [
        {
          "output_type": "execute_result",
          "data": {
            "text/plain": [
              "('Accuracy Score: ', 0.29878984918269663)"
            ]
          },
          "metadata": {},
          "execution_count": 420
        }
      ]
    },
    {
      "cell_type": "code",
      "metadata": {
        "colab": {
          "base_uri": "https://localhost:8080/"
        },
        "id": "eW4EzfPaTvAP",
        "outputId": "458f7e34-b6b1-45f7-f4e2-64c14e828aa8"
      },
      "source": [
        "'F1 Score: ',f1_score(test_y,y_pred_womenswear_RF, average='weighted') "
      ],
      "execution_count": null,
      "outputs": [
        {
          "output_type": "execute_result",
          "data": {
            "text/plain": [
              "('F1 Score: ', 0.1991790183731173)"
            ]
          },
          "metadata": {},
          "execution_count": 421
        }
      ]
    },
    {
      "cell_type": "code",
      "metadata": {
        "colab": {
          "base_uri": "https://localhost:8080/"
        },
        "id": "wN0xSiA0T66R",
        "outputId": "2b80e368-346b-41bf-ce00-46dbd07b7123"
      },
      "source": [
        "'Precision Score: ',precision_score(test_y,y_pred_womenswear_RF, average='weighted') "
      ],
      "execution_count": null,
      "outputs": [
        {
          "output_type": "execute_result",
          "data": {
            "text/plain": [
              "('Precision Score: ', 0.19274930273306382)"
            ]
          },
          "metadata": {},
          "execution_count": 422
        }
      ]
    },
    {
      "cell_type": "code",
      "metadata": {
        "colab": {
          "base_uri": "https://localhost:8080/"
        },
        "id": "zRd9xkpDUBIW",
        "outputId": "4ff3faea-5929-4ace-ab73-a6e0c0041b38"
      },
      "source": [
        "'Recall Score: ',recall_score(test_y,y_pred_womenswear_RF, average='macro') "
      ],
      "execution_count": null,
      "outputs": [
        {
          "output_type": "execute_result",
          "data": {
            "text/plain": [
              "('Recall Score: ', 0.1315319311162556)"
            ]
          },
          "metadata": {},
          "execution_count": 423
        }
      ]
    },
    {
      "cell_type": "code",
      "metadata": {
        "id": "hZzV7MZgbYsq"
      },
      "source": [
        "# import Decision Tree classifier\n",
        "from sklearn.tree import DecisionTreeClassifier\n",
        "model_womenswear_DT=DecisionTreeClassifier()\n",
        "\n",
        "model_womenswear_DT.fit(train_X,train_y.ravel())\n",
        "y_pred_womenswear_DT=model_womenswear_DT.predict(test_X)"
      ],
      "execution_count": null,
      "outputs": []
    },
    {
      "cell_type": "code",
      "metadata": {
        "colab": {
          "base_uri": "https://localhost:8080/"
        },
        "id": "Efbi8wzneFy-",
        "outputId": "7d13f6d3-eb40-4fc3-ddf4-d3c5fd4e2058"
      },
      "source": [
        "'Accuracy Score: ',accuracy_score(test_y,y_pred_womenswear_DT)"
      ],
      "execution_count": null,
      "outputs": [
        {
          "output_type": "execute_result",
          "data": {
            "text/plain": [
              "('Accuracy Score: ', 0.1895150365754538)"
            ]
          },
          "metadata": {},
          "execution_count": 433
        }
      ]
    },
    {
      "cell_type": "code",
      "metadata": {
        "colab": {
          "base_uri": "https://localhost:8080/"
        },
        "id": "-NRJtjqseTLc",
        "outputId": "98d0b17e-0ba3-412e-adb1-4b0b2d7dfbad"
      },
      "source": [
        "'F1 Score: ',f1_score(test_y,y_pred_womenswear_DT, average='weighted') "
      ],
      "execution_count": null,
      "outputs": [
        {
          "output_type": "execute_result",
          "data": {
            "text/plain": [
              "('F1 Score: ', 0.18678210717608)"
            ]
          },
          "metadata": {},
          "execution_count": 434
        }
      ]
    },
    {
      "cell_type": "code",
      "metadata": {
        "colab": {
          "base_uri": "https://localhost:8080/"
        },
        "id": "oXWOYLrBeYjH",
        "outputId": "064c241b-15cc-45df-aa73-ef3ab1163f1a"
      },
      "source": [
        "'Precision Score: ',precision_score(test_y,y_pred_womenswear_DT, average='weighted') "
      ],
      "execution_count": null,
      "outputs": [
        {
          "output_type": "execute_result",
          "data": {
            "text/plain": [
              "('Precision Score: ', 0.18452015017633347)"
            ]
          },
          "metadata": {},
          "execution_count": 435
        }
      ]
    },
    {
      "cell_type": "code",
      "metadata": {
        "colab": {
          "base_uri": "https://localhost:8080/"
        },
        "id": "8K1dW90ceciX",
        "outputId": "f17164d8-8d5e-49d1-c2f8-1ba7a0eae738"
      },
      "source": [
        "'Recall Score: ',recall_score(test_y,y_pred_womenswear_DT, average='macro') "
      ],
      "execution_count": null,
      "outputs": [
        {
          "output_type": "execute_result",
          "data": {
            "text/plain": [
              "('Recall Score: ', 0.12804854691286557)"
            ]
          },
          "metadata": {},
          "execution_count": 436
        }
      ]
    },
    {
      "cell_type": "code",
      "metadata": {
        "colab": {
          "base_uri": "https://localhost:8080/"
        },
        "id": "vVNwADqDRhAR",
        "outputId": "3747f1f5-fdb1-4944-a8e0-8e39de29f7e2"
      },
      "source": [
        "# import Logistic Regression classifier\n",
        "from sklearn.linear_model import LogisticRegression\n",
        "model_womenswear_LR=LogisticRegression()\n",
        "\n",
        "# fit the train and test set on the Random Forest classifier\n",
        "model_womenswear_LR.fit(train_X,train_y.ravel())\n",
        "y_pred_womenswear_LR=model_womenswear_LR.predict(test_X)"
      ],
      "execution_count": null,
      "outputs": [
        {
          "output_type": "stream",
          "text": [
            "/usr/local/lib/python3.7/dist-packages/sklearn/linear_model/_logistic.py:940: ConvergenceWarning: lbfgs failed to converge (status=1):\n",
            "STOP: TOTAL NO. of ITERATIONS REACHED LIMIT.\n",
            "\n",
            "Increase the number of iterations (max_iter) or scale the data as shown in:\n",
            "    https://scikit-learn.org/stable/modules/preprocessing.html\n",
            "Please also refer to the documentation for alternative solver options:\n",
            "    https://scikit-learn.org/stable/modules/linear_model.html#logistic-regression\n",
            "  extra_warning_msg=_LOGISTIC_SOLVER_CONVERGENCE_MSG)\n"
          ],
          "name": "stderr"
        }
      ]
    },
    {
      "cell_type": "code",
      "metadata": {
        "colab": {
          "base_uri": "https://localhost:8080/"
        },
        "id": "in9wWShxetWI",
        "outputId": "1e197145-b34b-4467-959b-6861f4aaa4b3"
      },
      "source": [
        "'Accuracy Score: ',accuracy_score(test_y,y_pred_womenswear_LR)"
      ],
      "execution_count": null,
      "outputs": [
        {
          "output_type": "execute_result",
          "data": {
            "text/plain": [
              "('Accuracy Score: ', 0.34046780456967396)"
            ]
          },
          "metadata": {},
          "execution_count": 438
        }
      ]
    },
    {
      "cell_type": "code",
      "metadata": {
        "colab": {
          "base_uri": "https://localhost:8080/"
        },
        "id": "WBpTdtBXezUZ",
        "outputId": "7ecb2173-b2e7-441f-8ba1-209bf33a2012"
      },
      "source": [
        "'F1 Score: ',f1_score(test_y,y_pred_womenswear_LR, average='weighted') "
      ],
      "execution_count": null,
      "outputs": [
        {
          "output_type": "execute_result",
          "data": {
            "text/plain": [
              "('F1 Score: ', 0.1741755063111957)"
            ]
          },
          "metadata": {},
          "execution_count": 439
        }
      ]
    },
    {
      "cell_type": "code",
      "metadata": {
        "colab": {
          "base_uri": "https://localhost:8080/"
        },
        "id": "srdexvYze307",
        "outputId": "6b7745a8-74b4-450a-b6eb-42d37a257a7f"
      },
      "source": [
        "'Precision Score: ',precision_score(test_y,y_pred_womenswear_LR, average='weighted') "
      ],
      "execution_count": null,
      "outputs": [
        {
          "output_type": "stream",
          "text": [
            "/usr/local/lib/python3.7/dist-packages/sklearn/metrics/_classification.py:1272: UndefinedMetricWarning: Precision is ill-defined and being set to 0.0 in labels with no predicted samples. Use `zero_division` parameter to control this behavior.\n",
            "  _warn_prf(average, modifier, msg_start, len(result))\n"
          ],
          "name": "stderr"
        },
        {
          "output_type": "execute_result",
          "data": {
            "text/plain": [
              "('Precision Score: ', 0.13957566179647293)"
            ]
          },
          "metadata": {},
          "execution_count": 440
        }
      ]
    },
    {
      "cell_type": "code",
      "metadata": {
        "colab": {
          "base_uri": "https://localhost:8080/"
        },
        "id": "v044OBzYe9n1",
        "outputId": "bcdc7033-bf7c-48c5-8edc-b8a6b91bab82"
      },
      "source": [
        "'Recall Score: ',recall_score(test_y,y_pred_womenswear_LR, average='macro') "
      ],
      "execution_count": null,
      "outputs": [
        {
          "output_type": "execute_result",
          "data": {
            "text/plain": [
              "('Recall Score: ', 0.12611285503573993)"
            ]
          },
          "metadata": {},
          "execution_count": 441
        }
      ]
    },
    {
      "cell_type": "markdown",
      "metadata": {
        "id": "jGiZrgKn0WvF"
      },
      "source": [
        "### **Menswear**"
      ]
    },
    {
      "cell_type": "code",
      "metadata": {
        "id": "Krw0T37b0XkL"
      },
      "source": [
        "required_data=required_data.head(89410)"
      ],
      "execution_count": null,
      "outputs": []
    },
    {
      "cell_type": "code",
      "metadata": {
        "id": "8A34H9Dj0Zbr"
      },
      "source": [
        "from sklearn.feature_extraction.text import TfidfVectorizer\n",
        "\n",
        "\n",
        "tfidf = TfidfVectorizer( min_df=2, max_features=100)\n",
        "tfidf.fit(required_data['description'].values.astype('U'))\n",
        "tfidf_df=tfidf.transform(required_data['description'].values.astype('U')).toarray()"
      ],
      "execution_count": null,
      "outputs": []
    },
    {
      "cell_type": "code",
      "metadata": {
        "colab": {
          "base_uri": "https://localhost:8080/"
        },
        "id": "lNvEnu0k0a3D",
        "outputId": "5b64e484-6985-412f-8758-0aad3e7972fc"
      },
      "source": [
        "attribute_csv_mw=attribute_csv['Styles\\nMenswear']\n",
        "attribute_csv_mw=attribute_csv_mw.dropna()\n",
        "attribute_csv_mw\n",
        "\n",
        "attribute_csv_mw_list=attribute_csv_mw.to_list()\n",
        "attribute_csv_mw_list\n",
        "\n",
        "type(attribute_csv_mw_list)\n",
        "\n",
        "mw=[]\n",
        "\n",
        "def Enquiry(lis1):\n",
        "    if not lis1:\n",
        "        return 1\n",
        "    else:\n",
        "        return 0\n",
        "\n",
        "for i in range(len(required_data_own_kind_attribute)):\n",
        "  for j in range(len(attribute_csv_mw)):\n",
        "    value=re.findall(str(attribute_csv_mw[j]),str(required_data_own_kind_attribute[i]))\n",
        "    if Enquiry(value)==0:\n",
        "      mw.append(value)\n",
        "\n",
        "len(mw)\n",
        "\n",
        "mw"
      ],
      "execution_count": null,
      "outputs": [
        {
          "output_type": "execute_result",
          "data": {
            "text/plain": [
              "[['Classic'],\n",
              " ['Preppy'],\n",
              " ['Rebel'],\n",
              " ['Classic'],\n",
              " ['Hypebeast'],\n",
              " ['Classic'],\n",
              " ['Hypebeast', 'Hypebeast'],\n",
              " ['Normcore'],\n",
              " ['Rebel'],\n",
              " ['Rebel'],\n",
              " ['Hypebeast'],\n",
              " ['Normcore'],\n",
              " ['Rebel', 'Rebel'],\n",
              " ['Rebel'],\n",
              " ['Rebel'],\n",
              " ['Classic'],\n",
              " ['Preppy'],\n",
              " ['Rebel'],\n",
              " ['Hypebeast'],\n",
              " ['Normcore'],\n",
              " ['Classic', 'Classic'],\n",
              " ['Utilitarian'],\n",
              " ['Rebel'],\n",
              " ['Hypebeast', 'Hypebeast'],\n",
              " ['Normcore'],\n",
              " ['Rebel'],\n",
              " ['Hypebeast', 'Hypebeast'],\n",
              " ['Utilitarian'],\n",
              " ['Classic'],\n",
              " ['Hypebeast', 'Hypebeast'],\n",
              " ['Normcore', 'Normcore'],\n",
              " ['Rebel'],\n",
              " ['Classic'],\n",
              " ['Hypebeast'],\n",
              " ['Normcore'],\n",
              " ['Rebel'],\n",
              " ['Hypebeast', 'Hypebeast'],\n",
              " ['Rebel'],\n",
              " ['Hypebeast', 'Hypebeast'],\n",
              " ['Normcore', 'Normcore'],\n",
              " ['Hypebeast', 'Hypebeast'],\n",
              " ['Rebel'],\n",
              " ['Classic'],\n",
              " ['Preppy'],\n",
              " ['Rebel'],\n",
              " ['Rebel'],\n",
              " ['Hypebeast', 'Hypebeast'],\n",
              " ['Classic'],\n",
              " ['Preppy'],\n",
              " ['Rebel'],\n",
              " ['Hypebeast', 'Hypebeast'],\n",
              " ['Classic'],\n",
              " ['Rebel'],\n",
              " ['Hypebeast'],\n",
              " ['Normcore'],\n",
              " ['Rebel'],\n",
              " ['Classic'],\n",
              " ['Preppy'],\n",
              " ['Rebel'],\n",
              " ['Preppy'],\n",
              " ['Hypebeast', 'Hypebeast'],\n",
              " ['Normcore', 'Normcore'],\n",
              " ['Rebel', 'Rebel'],\n",
              " ['Hypebeast'],\n",
              " ['Normcore'],\n",
              " ['Classic'],\n",
              " ['Rebel'],\n",
              " ['Rebel'],\n",
              " ['Rebel'],\n",
              " ['Hypebeast', 'Hypebeast'],\n",
              " ['Rebel', 'Rebel'],\n",
              " ['Rebel'],\n",
              " ['Preppy'],\n",
              " ['Rebel', 'Rebel'],\n",
              " ['Rebel'],\n",
              " ['Hypebeast'],\n",
              " ['Normcore'],\n",
              " ['Hypebeast', 'Hypebeast'],\n",
              " ['Rebel', 'Rebel'],\n",
              " ['Utilitarian'],\n",
              " ['Normcore'],\n",
              " ['Classic', 'Classic'],\n",
              " ['Utilitarian'],\n",
              " ['Rebel'],\n",
              " ['Hypebeast', 'Hypebeast'],\n",
              " ['Normcore', 'Normcore'],\n",
              " ['Rebel'],\n",
              " ['Rebel'],\n",
              " ['Hypebeast'],\n",
              " ['Normcore'],\n",
              " ['Rebel'],\n",
              " ['Hypebeast'],\n",
              " ['Normcore'],\n",
              " ['Utilitarian'],\n",
              " ['Rebel'],\n",
              " ['Hypebeast'],\n",
              " ['Normcore'],\n",
              " ['Classic'],\n",
              " ['Rebel'],\n",
              " ['Hypebeast'],\n",
              " ['Normcore'],\n",
              " ['Classic'],\n",
              " ['Utilitarian'],\n",
              " ['Rebel'],\n",
              " ['Hypebeast', 'Hypebeast'],\n",
              " ['Preppy'],\n",
              " ['Normcore'],\n",
              " ['Hypebeast', 'Hypebeast'],\n",
              " ['Normcore', 'Normcore'],\n",
              " ['Classic'],\n",
              " ['Utilitarian'],\n",
              " ['Hypebeast', 'Hypebeast'],\n",
              " ['Rebel', 'Rebel'],\n",
              " ['Rebel', 'Rebel'],\n",
              " ['Rebel'],\n",
              " ['Rebel'],\n",
              " ['Hypebeast', 'Hypebeast'],\n",
              " ['Classic'],\n",
              " ['Classic', 'Classic'],\n",
              " ['Hypebeast', 'Hypebeast'],\n",
              " ['Utilitarian'],\n",
              " ['Classic', 'Classic'],\n",
              " ['Classic', 'Classic'],\n",
              " ['Preppy'],\n",
              " ['Rebel', 'Rebel'],\n",
              " ['Hypebeast', 'Hypebeast'],\n",
              " ['Classic'],\n",
              " ['Classic'],\n",
              " ['Classic'],\n",
              " ['Hypebeast', 'Hypebeast'],\n",
              " ['Normcore', 'Normcore'],\n",
              " ['Rebel'],\n",
              " ['Hypebeast'],\n",
              " ['Normcore'],\n",
              " ['Rebel'],\n",
              " ['Hypebeast', 'Hypebeast'],\n",
              " ['Rebel'],\n",
              " ['Classic'],\n",
              " ['Preppy'],\n",
              " ['Rebel', 'Rebel'],\n",
              " ['Rebel'],\n",
              " ['Rebel'],\n",
              " ['Rebel', 'Rebel'],\n",
              " ['Hypebeast', 'Hypebeast'],\n",
              " ['Rebel'],\n",
              " ['Hypebeast', 'Hypebeast'],\n",
              " ['Normcore'],\n",
              " ['Rebel'],\n",
              " ['Rebel'],\n",
              " ['Hypebeast'],\n",
              " ['Normcore'],\n",
              " ['Rebel'],\n",
              " ['Classic'],\n",
              " ['Rebel', 'Rebel'],\n",
              " ['Preppy'],\n",
              " ['Rebel'],\n",
              " ['Classic'],\n",
              " ['Preppy'],\n",
              " ['Hypebeast', 'Hypebeast'],\n",
              " ['Rebel'],\n",
              " ['Hypebeast'],\n",
              " ['Normcore'],\n",
              " ['Rebel'],\n",
              " ['Hypebeast'],\n",
              " ['Normcore'],\n",
              " ['Rebel', 'Rebel'],\n",
              " ['Hypebeast'],\n",
              " ['Normcore'],\n",
              " ['Rebel'],\n",
              " ['Hypebeast', 'Hypebeast'],\n",
              " ['Normcore'],\n",
              " ['Rebel'],\n",
              " ['Hypebeast', 'Hypebeast'],\n",
              " ['Utilitarian'],\n",
              " ['Utilitarian'],\n",
              " ['Normcore'],\n",
              " ['Rebel', 'Rebel'],\n",
              " ['Preppy'],\n",
              " ['Preppy'],\n",
              " ['Hypebeast', 'Hypebeast'],\n",
              " ['Normcore', 'Normcore'],\n",
              " ['Utilitarian'],\n",
              " ['Hypebeast', 'Hypebeast'],\n",
              " ['Utilitarian'],\n",
              " ['Classic'],\n",
              " ['Hypebeast', 'Hypebeast'],\n",
              " ['Rebel', 'Rebel'],\n",
              " ['Hypebeast', 'Hypebeast'],\n",
              " ['Normcore'],\n",
              " ['Rebel'],\n",
              " ['Hypebeast'],\n",
              " ['Normcore'],\n",
              " ['Hypebeast', 'Hypebeast'],\n",
              " ['Normcore', 'Normcore'],\n",
              " ['Classic', 'Classic'],\n",
              " ['Rebel'],\n",
              " ['Hypebeast', 'Hypebeast'],\n",
              " ['Normcore', 'Normcore'],\n",
              " ['Rebel'],\n",
              " ['Classic'],\n",
              " ['Preppy'],\n",
              " ['Rebel'],\n",
              " ['Hypebeast'],\n",
              " ['Normcore'],\n",
              " ['Rebel'],\n",
              " ['Rebel', 'Rebel'],\n",
              " ['Preppy'],\n",
              " ['Classic'],\n",
              " ['Preppy'],\n",
              " ['Normcore'],\n",
              " ['Rebel', 'Rebel'],\n",
              " ['Classic'],\n",
              " ['Rebel'],\n",
              " ['Hypebeast'],\n",
              " ['Normcore'],\n",
              " ['Rebel', 'Rebel'],\n",
              " ['Hypebeast'],\n",
              " ['Utilitarian'],\n",
              " ['Normcore'],\n",
              " ['Classic', 'Classic'],\n",
              " ['Preppy'],\n",
              " ['Rebel', 'Rebel'],\n",
              " ['Rebel'],\n",
              " ['Classic'],\n",
              " ['Classic'],\n",
              " ['Utilitarian'],\n",
              " ['Normcore'],\n",
              " ['Classic'],\n",
              " ['Hypebeast', 'Hypebeast'],\n",
              " ['Rebel'],\n",
              " ['Classic', 'Classic'],\n",
              " ['Normcore', 'Normcore'],\n",
              " ['Preppy'],\n",
              " ['Rebel', 'Rebel'],\n",
              " ['Rebel'],\n",
              " ['Hypebeast', 'Hypebeast'],\n",
              " ['Classic'],\n",
              " ['Classic'],\n",
              " ['Rebel'],\n",
              " ['Hypebeast', 'Hypebeast'],\n",
              " ['Rebel', 'Rebel'],\n",
              " ['Hypebeast'],\n",
              " ['Utilitarian'],\n",
              " ['Classic'],\n",
              " ['Preppy'],\n",
              " ['Classic'],\n",
              " ['Utilitarian'],\n",
              " ['Classic'],\n",
              " ['Preppy'],\n",
              " ['Rebel'],\n",
              " ['Classic'],\n",
              " ['Classic'],\n",
              " ['Preppy'],\n",
              " ['Classic', 'Classic'],\n",
              " ['Utilitarian'],\n",
              " ['Rebel'],\n",
              " ['Rebel'],\n",
              " ['Rebel'],\n",
              " ['Utilitarian'],\n",
              " ['Classic'],\n",
              " ['Classic'],\n",
              " ['Rebel'],\n",
              " ['Rebel'],\n",
              " ['Rebel'],\n",
              " ['Rebel'],\n",
              " ['Hypebeast', 'Hypebeast'],\n",
              " ['Classic'],\n",
              " ['Preppy'],\n",
              " ['Rebel'],\n",
              " ['Rebel'],\n",
              " ['Rebel'],\n",
              " ['Classic'],\n",
              " ['Utilitarian'],\n",
              " ['Rebel'],\n",
              " ['Classic', 'Classic'],\n",
              " ['Rebel'],\n",
              " ['Normcore', 'Normcore'],\n",
              " ['Rebel'],\n",
              " ['Rebel'],\n",
              " ['Hypebeast', 'Hypebeast'],\n",
              " ['Rebel'],\n",
              " ['Rebel'],\n",
              " ['Classic'],\n",
              " ['Rebel'],\n",
              " ['Rebel', 'Rebel'],\n",
              " ['Classic', 'Classic'],\n",
              " ['Rebel'],\n",
              " ['Normcore', 'Normcore'],\n",
              " ['Rebel'],\n",
              " ['Hypebeast', 'Hypebeast'],\n",
              " ['Rebel'],\n",
              " ['Classic'],\n",
              " ['Classic'],\n",
              " ['Rebel'],\n",
              " ['Preppy'],\n",
              " ['Rebel'],\n",
              " ['Hypebeast', 'Hypebeast'],\n",
              " ['Rebel', 'Rebel'],\n",
              " ['Hypebeast', 'Hypebeast'],\n",
              " ['Rebel'],\n",
              " ['Utilitarian'],\n",
              " ['Rebel'],\n",
              " ['Hypebeast', 'Hypebeast'],\n",
              " ['Rebel'],\n",
              " ['Classic'],\n",
              " ['Rebel'],\n",
              " ['Rebel', 'Rebel'],\n",
              " ['Hypebeast', 'Hypebeast'],\n",
              " ['Rebel'],\n",
              " ['Rebel'],\n",
              " ['Classic', 'Classic'],\n",
              " ['Classic'],\n",
              " ['Rebel', 'Rebel'],\n",
              " ['Hypebeast', 'Hypebeast'],\n",
              " ['Normcore', 'Normcore'],\n",
              " ['Classic'],\n",
              " ['Rebel', 'Rebel'],\n",
              " ['Rebel', 'Rebel'],\n",
              " ['Classic'],\n",
              " ['Rebel', 'Rebel'],\n",
              " ['Classic'],\n",
              " ['Rebel'],\n",
              " ['Rebel'],\n",
              " ['Utilitarian'],\n",
              " ['Hypebeast'],\n",
              " ['Rebel', 'Rebel'],\n",
              " ['Classic'],\n",
              " ['Hypebeast', 'Hypebeast'],\n",
              " ['Rebel'],\n",
              " ['Normcore', 'Normcore'],\n",
              " ['Classic'],\n",
              " ['Classic'],\n",
              " ['Rebel'],\n",
              " ['Classic'],\n",
              " ['Utilitarian'],\n",
              " ['Rebel'],\n",
              " ['Classic'],\n",
              " ['Rebel'],\n",
              " ['Classic'],\n",
              " ['Rebel', 'Rebel'],\n",
              " ['Rebel'],\n",
              " ['Rebel'],\n",
              " ['Hypebeast', 'Hypebeast'],\n",
              " ['Rebel'],\n",
              " ['Rebel'],\n",
              " ['Rebel'],\n",
              " ['Rebel'],\n",
              " ['Rebel'],\n",
              " ['Rebel'],\n",
              " ['Hypebeast', 'Hypebeast'],\n",
              " ['Rebel'],\n",
              " ['Normcore'],\n",
              " ['Classic'],\n",
              " ['Rebel'],\n",
              " ['Normcore'],\n",
              " ['Utilitarian'],\n",
              " ['Classic', 'Classic'],\n",
              " ['Rebel', 'Rebel'],\n",
              " ['Rebel'],\n",
              " ['Hypebeast', 'Hypebeast'],\n",
              " ['Rebel'],\n",
              " ['Classic'],\n",
              " ['Rebel'],\n",
              " ['Classic'],\n",
              " ['Rebel', 'Rebel'],\n",
              " ['Rebel'],\n",
              " ['Hypebeast', 'Hypebeast'],\n",
              " ['Normcore', 'Normcore'],\n",
              " ['Rebel'],\n",
              " ['Hypebeast', 'Hypebeast'],\n",
              " ['Rebel'],\n",
              " ['Normcore'],\n",
              " ['Classic'],\n",
              " ['Classic'],\n",
              " ['Classic'],\n",
              " ['Rebel'],\n",
              " ['Normcore'],\n",
              " ['Rebel'],\n",
              " ['Classic'],\n",
              " ['Classic'],\n",
              " ['Rebel', 'Rebel'],\n",
              " ['Rebel', 'Rebel'],\n",
              " ['Hypebeast', 'Hypebeast'],\n",
              " ['Rebel'],\n",
              " ['Normcore'],\n",
              " ['Rebel'],\n",
              " ['Rebel'],\n",
              " ['Hypebeast', 'Hypebeast'],\n",
              " ['Rebel'],\n",
              " ['Rebel'],\n",
              " ['Hypebeast', 'Hypebeast'],\n",
              " ['Classic'],\n",
              " ['Normcore'],\n",
              " ['Rebel'],\n",
              " ['Rebel'],\n",
              " ['Rebel'],\n",
              " ['Classic'],\n",
              " ['Rebel'],\n",
              " ['Rebel'],\n",
              " ['Classic'],\n",
              " ['Normcore'],\n",
              " ['Rebel'],\n",
              " ['Hypebeast'],\n",
              " ['Rebel'],\n",
              " ['Classic'],\n",
              " ['Rebel', 'Rebel'],\n",
              " ['Classic'],\n",
              " ['Hypebeast', 'Hypebeast'],\n",
              " ['Rebel'],\n",
              " ['Hypebeast', 'Hypebeast'],\n",
              " ['Rebel'],\n",
              " ['Normcore', 'Normcore'],\n",
              " ['Rebel'],\n",
              " ['Classic'],\n",
              " ['Normcore', 'Normcore'],\n",
              " ['Rebel'],\n",
              " ['Rebel'],\n",
              " ['Classic', 'Classic'],\n",
              " ['Rebel'],\n",
              " ['Rebel'],\n",
              " ['Classic'],\n",
              " ['Rebel'],\n",
              " ['Utilitarian'],\n",
              " ['Rebel'],\n",
              " ['Normcore'],\n",
              " ['Classic'],\n",
              " ['Rebel'],\n",
              " ['Rebel'],\n",
              " ['Rebel'],\n",
              " ['Rebel'],\n",
              " ['Normcore', 'Normcore'],\n",
              " ['Classic'],\n",
              " ['Classic'],\n",
              " ['Rebel'],\n",
              " ['Hypebeast', 'Hypebeast'],\n",
              " ['Classic'],\n",
              " ['Rebel'],\n",
              " ['Rebel'],\n",
              " ['Preppy'],\n",
              " ['Classic'],\n",
              " ['Classic'],\n",
              " ['Rebel'],\n",
              " ['Classic'],\n",
              " ['Rebel'],\n",
              " ['Hypebeast'],\n",
              " ['Normcore'],\n",
              " ['Rebel'],\n",
              " ['Classic'],\n",
              " ['Rebel'],\n",
              " ['Rebel'],\n",
              " ['Rebel'],\n",
              " ['Hypebeast', 'Hypebeast'],\n",
              " ['Rebel'],\n",
              " ['Rebel'],\n",
              " ['Classic'],\n",
              " ['Rebel'],\n",
              " ['Hypebeast'],\n",
              " ['Normcore'],\n",
              " ['Classic'],\n",
              " ['Hypebeast', 'Hypebeast'],\n",
              " ['Rebel'],\n",
              " ['Utilitarian'],\n",
              " ['Rebel'],\n",
              " ['Hypebeast', 'Hypebeast'],\n",
              " ['Rebel'],\n",
              " ['Classic'],\n",
              " ['Hypebeast', 'Hypebeast'],\n",
              " ['Normcore'],\n",
              " ['Rebel'],\n",
              " ['Rebel'],\n",
              " ['Normcore', 'Normcore'],\n",
              " ['Rebel'],\n",
              " ['Hypebeast', 'Hypebeast'],\n",
              " ['Rebel', 'Rebel'],\n",
              " ['Rebel'],\n",
              " ['Classic', 'Classic'],\n",
              " ['Hypebeast', 'Hypebeast'],\n",
              " ['Normcore'],\n",
              " ['Rebel', 'Rebel'],\n",
              " ['Classic'],\n",
              " ['Rebel'],\n",
              " ['Classic'],\n",
              " ['Rebel'],\n",
              " ['Classic'],\n",
              " ['Rebel'],\n",
              " ['Rebel'],\n",
              " ['Rebel'],\n",
              " ['Classic', 'Classic'],\n",
              " ['Hypebeast'],\n",
              " ['Normcore'],\n",
              " ['Rebel', 'Rebel'],\n",
              " ['Hypebeast', 'Hypebeast'],\n",
              " ['Rebel'],\n",
              " ['Rebel', 'Rebel'],\n",
              " ['Hypebeast', 'Hypebeast'],\n",
              " ['Normcore', 'Normcore'],\n",
              " ['Classic'],\n",
              " ['Rebel'],\n",
              " ['Classic'],\n",
              " ['Normcore', 'Normcore'],\n",
              " ['Rebel'],\n",
              " ['Hypebeast', 'Hypebeast'],\n",
              " ['Classic'],\n",
              " ['Rebel'],\n",
              " ['Rebel'],\n",
              " ['Rebel'],\n",
              " ['Classic'],\n",
              " ['Hypebeast'],\n",
              " ['Normcore'],\n",
              " ['Rebel', 'Rebel'],\n",
              " ['Rebel', 'Rebel'],\n",
              " ['Preppy'],\n",
              " ['Rebel'],\n",
              " ['Hypebeast', 'Hypebeast'],\n",
              " ['Rebel'],\n",
              " ['Rebel'],\n",
              " ['Hypebeast', 'Hypebeast'],\n",
              " ['Rebel'],\n",
              " ['Rebel', 'Rebel'],\n",
              " ['Classic'],\n",
              " ['Rebel', 'Rebel'],\n",
              " ['Hypebeast', 'Hypebeast'],\n",
              " ['Normcore', 'Normcore'],\n",
              " ['Rebel'],\n",
              " ['Hypebeast', 'Hypebeast'],\n",
              " ['Utilitarian'],\n",
              " ['Classic'],\n",
              " ['Rebel'],\n",
              " ['Classic'],\n",
              " ['Rebel'],\n",
              " ['Classic', 'Classic'],\n",
              " ['Classic', 'Classic'],\n",
              " ['Hypebeast', 'Hypebeast'],\n",
              " ['Rebel'],\n",
              " ['Classic'],\n",
              " ['Hypebeast', 'Hypebeast'],\n",
              " ['Normcore', 'Normcore'],\n",
              " ['Rebel'],\n",
              " ['Classic'],\n",
              " ['Rebel'],\n",
              " ['Hypebeast'],\n",
              " ['Normcore'],\n",
              " ['Classic'],\n",
              " ['Rebel'],\n",
              " ['Rebel'],\n",
              " ['Hypebeast'],\n",
              " ['Rebel', 'Rebel'],\n",
              " ['Classic'],\n",
              " ['Rebel', 'Rebel'],\n",
              " ['Hypebeast', 'Hypebeast'],\n",
              " ['Classic'],\n",
              " ['Classic'],\n",
              " ['Rebel', 'Rebel'],\n",
              " ['Normcore', 'Normcore'],\n",
              " ['Rebel'],\n",
              " ['Rebel', 'Rebel'],\n",
              " ['Rebel', 'Rebel'],\n",
              " ['Hypebeast', 'Hypebeast'],\n",
              " ['Classic'],\n",
              " ['Rebel'],\n",
              " ['Rebel', 'Rebel'],\n",
              " ['Classic'],\n",
              " ['Preppy'],\n",
              " ['Hypebeast', 'Hypebeast'],\n",
              " ['Rebel'],\n",
              " ['Rebel'],\n",
              " ['Rebel'],\n",
              " ['Hypebeast'],\n",
              " ['Rebel', 'Rebel'],\n",
              " ['Rebel'],\n",
              " ['Rebel'],\n",
              " ['Rebel'],\n",
              " ['Hypebeast', 'Hypebeast'],\n",
              " ['Rebel'],\n",
              " ['Hypebeast', 'Hypebeast'],\n",
              " ['Rebel'],\n",
              " ['Classic', 'Classic'],\n",
              " ['Classic'],\n",
              " ['Classic'],\n",
              " ['Rebel'],\n",
              " ['Classic'],\n",
              " ['Classic'],\n",
              " ['Classic'],\n",
              " ['Classic'],\n",
              " ['Classic'],\n",
              " ['Rebel'],\n",
              " ['Hypebeast', 'Hypebeast'],\n",
              " ['Rebel'],\n",
              " ['Rebel'],\n",
              " ['Classic'],\n",
              " ['Rebel'],\n",
              " ['Rebel', 'Rebel'],\n",
              " ['Rebel'],\n",
              " ['Hypebeast', 'Hypebeast'],\n",
              " ['Rebel'],\n",
              " ['Hypebeast', 'Hypebeast'],\n",
              " ['Rebel'],\n",
              " ['Rebel'],\n",
              " ['Rebel'],\n",
              " ['Normcore', 'Normcore'],\n",
              " ['Utilitarian'],\n",
              " ['Rebel'],\n",
              " ['Hypebeast', 'Hypebeast'],\n",
              " ['Classic'],\n",
              " ['Rebel', 'Rebel'],\n",
              " ['Classic'],\n",
              " ['Classic'],\n",
              " ['Rebel', 'Rebel'],\n",
              " ['Classic'],\n",
              " ['Rebel', 'Rebel'],\n",
              " ['Classic'],\n",
              " ['Hypebeast'],\n",
              " ['Rebel', 'Rebel'],\n",
              " ['Classic'],\n",
              " ['Rebel'],\n",
              " ['Rebel'],\n",
              " ['Classic'],\n",
              " ['Classic'],\n",
              " ['Rebel'],\n",
              " ['Hypebeast', 'Hypebeast'],\n",
              " ['Normcore'],\n",
              " ['Rebel', 'Rebel'],\n",
              " ['Classic'],\n",
              " ['Rebel'],\n",
              " ['Hypebeast'],\n",
              " ['Rebel', 'Rebel'],\n",
              " ['Hypebeast', 'Hypebeast'],\n",
              " ['Normcore', 'Normcore'],\n",
              " ['Rebel'],\n",
              " ['Hypebeast'],\n",
              " ['Normcore'],\n",
              " ['Classic', 'Classic'],\n",
              " ['Rebel', 'Rebel'],\n",
              " ['Hypebeast', 'Hypebeast'],\n",
              " ['Rebel'],\n",
              " ['Hypebeast', 'Hypebeast'],\n",
              " ['Utilitarian'],\n",
              " ['Classic'],\n",
              " ['Rebel'],\n",
              " ['Normcore', 'Normcore'],\n",
              " ['Classic'],\n",
              " ['Rebel'],\n",
              " ['Rebel'],\n",
              " ['Rebel'],\n",
              " ['Hypebeast', 'Hypebeast'],\n",
              " ['Rebel'],\n",
              " ['Rebel'],\n",
              " ['Rebel'],\n",
              " ['Classic', 'Classic'],\n",
              " ['Hypebeast', 'Hypebeast'],\n",
              " ['Rebel'],\n",
              " ['Hypebeast', 'Hypebeast'],\n",
              " ['Hypebeast'],\n",
              " ['Classic'],\n",
              " ['Rebel'],\n",
              " ['Rebel'],\n",
              " ['Hypebeast'],\n",
              " ['Rebel'],\n",
              " ['Classic'],\n",
              " ['Rebel'],\n",
              " ['Rebel'],\n",
              " ['Rebel'],\n",
              " ['Hypebeast', 'Hypebeast'],\n",
              " ['Classic'],\n",
              " ['Classic'],\n",
              " ['Rebel'],\n",
              " ['Hypebeast', 'Hypebeast'],\n",
              " ['Rebel', 'Rebel'],\n",
              " ['Rebel'],\n",
              " ['Hypebeast'],\n",
              " ['Normcore'],\n",
              " ['Rebel', 'Rebel'],\n",
              " ['Rebel'],\n",
              " ['Rebel'],\n",
              " ['Rebel'],\n",
              " ['Classic'],\n",
              " ['Rebel'],\n",
              " ['Hypebeast', 'Hypebeast'],\n",
              " ['Classic'],\n",
              " ['Classic'],\n",
              " ['Rebel'],\n",
              " ['Rebel'],\n",
              " ['Classic'],\n",
              " ['Rebel'],\n",
              " ['Hypebeast', 'Hypebeast'],\n",
              " ['Rebel'],\n",
              " ['Classic', 'Classic'],\n",
              " ['Hypebeast', 'Hypebeast'],\n",
              " ['Rebel'],\n",
              " ['Classic'],\n",
              " ['Hypebeast', 'Hypebeast'],\n",
              " ['Rebel'],\n",
              " ['Rebel'],\n",
              " ['Rebel', 'Rebel'],\n",
              " ['Hypebeast', 'Hypebeast'],\n",
              " ['Rebel'],\n",
              " ['Hypebeast', 'Hypebeast'],\n",
              " ['Classic'],\n",
              " ['Classic'],\n",
              " ['Classic'],\n",
              " ['Utilitarian'],\n",
              " ['Classic'],\n",
              " ['Hypebeast', 'Hypebeast'],\n",
              " ['Rebel'],\n",
              " ['Classic'],\n",
              " ['Normcore', 'Normcore'],\n",
              " ['Classic'],\n",
              " ['Rebel'],\n",
              " ['Hypebeast', 'Hypebeast'],\n",
              " ['Classic'],\n",
              " ['Rebel'],\n",
              " ['Utilitarian'],\n",
              " ['Rebel'],\n",
              " ['Hypebeast'],\n",
              " ['Rebel'],\n",
              " ['Hypebeast', 'Hypebeast'],\n",
              " ['Rebel'],\n",
              " ['Hypebeast', 'Hypebeast'],\n",
              " ['Rebel'],\n",
              " ['Hypebeast', 'Hypebeast'],\n",
              " ['Rebel'],\n",
              " ['Rebel'],\n",
              " ['Classic'],\n",
              " ['Rebel'],\n",
              " ['Rebel'],\n",
              " ['Rebel'],\n",
              " ['Rebel'],\n",
              " ['Classic'],\n",
              " ['Hypebeast', 'Hypebeast'],\n",
              " ['Normcore'],\n",
              " ['Classic'],\n",
              " ['Hypebeast', 'Hypebeast'],\n",
              " ['Rebel'],\n",
              " ['Classic'],\n",
              " ['Rebel', 'Rebel'],\n",
              " ['Hypebeast', 'Hypebeast'],\n",
              " ['Rebel'],\n",
              " ['Rebel'],\n",
              " ['Rebel'],\n",
              " ['Rebel'],\n",
              " ['Rebel'],\n",
              " ['Classic'],\n",
              " ['Hypebeast', 'Hypebeast'],\n",
              " ['Hypebeast'],\n",
              " ['Rebel'],\n",
              " ['Hypebeast', 'Hypebeast'],\n",
              " ['Classic'],\n",
              " ['Normcore', 'Normcore'],\n",
              " ['Classic'],\n",
              " ['Normcore'],\n",
              " ['Rebel', 'Rebel'],\n",
              " ['Rebel'],\n",
              " ['Preppy'],\n",
              " ['Classic'],\n",
              " ['Rebel'],\n",
              " ['Hypebeast', 'Hypebeast'],\n",
              " ['Rebel'],\n",
              " ['Classic'],\n",
              " ['Hypebeast', 'Hypebeast'],\n",
              " ['Normcore', 'Normcore'],\n",
              " ['Rebel'],\n",
              " ['Rebel', 'Rebel'],\n",
              " ['Rebel'],\n",
              " ['Classic'],\n",
              " ['Hypebeast', 'Hypebeast'],\n",
              " ['Hypebeast'],\n",
              " ['Classic'],\n",
              " ['Rebel'],\n",
              " ['Hypebeast', 'Hypebeast'],\n",
              " ['Utilitarian'],\n",
              " ['Classic'],\n",
              " ['Classic'],\n",
              " ['Hypebeast'],\n",
              " ['Rebel', 'Rebel'],\n",
              " ['Classic'],\n",
              " ['Classic'],\n",
              " ['Rebel'],\n",
              " ['Classic'],\n",
              " ['Rebel'],\n",
              " ['Classic'],\n",
              " ['Rebel'],\n",
              " ['Classic', 'Classic'],\n",
              " ['Classic'],\n",
              " ['Classic'],\n",
              " ['Hypebeast'],\n",
              " ['Rebel', 'Rebel'],\n",
              " ['Rebel'],\n",
              " ['Classic'],\n",
              " ['Utilitarian'],\n",
              " ['Normcore'],\n",
              " ['Rebel'],\n",
              " ['Rebel'],\n",
              " ['Rebel'],\n",
              " ['Hypebeast', 'Hypebeast'],\n",
              " ['Rebel'],\n",
              " ['Preppy'],\n",
              " ['Rebel'],\n",
              " ['Classic', 'Classic'],\n",
              " ['Rebel', 'Rebel'],\n",
              " ['Rebel'],\n",
              " ['Rebel'],\n",
              " ['Rebel'],\n",
              " ['Rebel'],\n",
              " ['Rebel'],\n",
              " ['Rebel', 'Rebel'],\n",
              " ['Hypebeast'],\n",
              " ['Normcore', 'Normcore'],\n",
              " ['Rebel'],\n",
              " ['Hypebeast', 'Hypebeast'],\n",
              " ['Normcore', 'Normcore'],\n",
              " ['Rebel'],\n",
              " ['Hypebeast'],\n",
              " ['Rebel'],\n",
              " ['Hypebeast', 'Hypebeast'],\n",
              " ['Utilitarian'],\n",
              " ['Classic'],\n",
              " ['Rebel', 'Rebel'],\n",
              " ['Rebel'],\n",
              " ['Classic'],\n",
              " ['Rebel'],\n",
              " ['Normcore', 'Normcore'],\n",
              " ['Classic'],\n",
              " ['Classic'],\n",
              " ['Classic'],\n",
              " ['Rebel'],\n",
              " ['Rebel'],\n",
              " ['Rebel'],\n",
              " ['Rebel'],\n",
              " ['Rebel'],\n",
              " ['Classic'],\n",
              " ['Rebel'],\n",
              " ['Hypebeast', 'Hypebeast'],\n",
              " ['Rebel', 'Rebel'],\n",
              " ['Rebel', 'Rebel'],\n",
              " ['Rebel'],\n",
              " ['Rebel'],\n",
              " ['Hypebeast', 'Hypebeast'],\n",
              " ['Hypebeast', 'Hypebeast'],\n",
              " ['Rebel'],\n",
              " ['Classic'],\n",
              " ['Classic', 'Classic'],\n",
              " ['Rebel'],\n",
              " ['Rebel'],\n",
              " ['Hypebeast', 'Hypebeast'],\n",
              " ['Rebel'],\n",
              " ['Rebel'],\n",
              " ['Hypebeast', 'Hypebeast'],\n",
              " ['Normcore', 'Normcore'],\n",
              " ['Rebel', 'Rebel'],\n",
              " ['Classic'],\n",
              " ['Classic'],\n",
              " ['Normcore'],\n",
              " ['Rebel'],\n",
              " ['Rebel'],\n",
              " ['Rebel'],\n",
              " ['Hypebeast', 'Hypebeast'],\n",
              " ['Rebel'],\n",
              " ['Hypebeast', 'Hypebeast'],\n",
              " ['Rebel', 'Rebel'],\n",
              " ['Classic'],\n",
              " ['Classic', 'Classic'],\n",
              " ['Rebel'],\n",
              " ['Rebel'],\n",
              " ['Hypebeast', 'Hypebeast'],\n",
              " ['Rebel'],\n",
              " ['Rebel'],\n",
              " ['Rebel'],\n",
              " ['Normcore'],\n",
              " ['Rebel'],\n",
              " ['Hypebeast'],\n",
              " ['Normcore'],\n",
              " ['Rebel'],\n",
              " ['Classic'],\n",
              " ['Hypebeast'],\n",
              " ['Normcore'],\n",
              " ['Rebel'],\n",
              " ['Classic'],\n",
              " ['Rebel'],\n",
              " ['Classic', 'Classic'],\n",
              " ['Hypebeast', 'Hypebeast'],\n",
              " ['Rebel'],\n",
              " ['Classic', 'Classic'],\n",
              " ['Hypebeast', 'Hypebeast'],\n",
              " ['Rebel'],\n",
              " ['Rebel'],\n",
              " ['Hypebeast'],\n",
              " ['Normcore'],\n",
              " ['Rebel', 'Rebel'],\n",
              " ['Classic'],\n",
              " ['Rebel', 'Rebel'],\n",
              " ['Hypebeast', 'Hypebeast'],\n",
              " ['Rebel'],\n",
              " ['Classic'],\n",
              " ['Rebel'],\n",
              " ['Classic'],\n",
              " ['Classic'],\n",
              " ['Rebel'],\n",
              " ['Rebel'],\n",
              " ['Rebel'],\n",
              " ['Utilitarian'],\n",
              " ['Rebel'],\n",
              " ['Classic'],\n",
              " ['Rebel'],\n",
              " ['Rebel'],\n",
              " ['Rebel'],\n",
              " ['Rebel'],\n",
              " ['Rebel', 'Rebel'],\n",
              " ['Classic'],\n",
              " ['Hypebeast'],\n",
              " ['Rebel'],\n",
              " ['Hypebeast'],\n",
              " ['Rebel'],\n",
              " ['Rebel', 'Rebel'],\n",
              " ['Hypebeast', 'Hypebeast'],\n",
              " ['Rebel'],\n",
              " ['Rebel'],\n",
              " ['Rebel'],\n",
              " ['Hypebeast'],\n",
              " ['Rebel'],\n",
              " ['Rebel', 'Rebel'],\n",
              " ['Classic'],\n",
              " ['Normcore', 'Normcore'],\n",
              " ['Rebel'],\n",
              " ['Hypebeast', 'Hypebeast'],\n",
              " ['Classic'],\n",
              " ['Rebel'],\n",
              " ['Rebel'],\n",
              " ['Preppy'],\n",
              " ['Rebel'],\n",
              " ['Normcore'],\n",
              " ['Classic'],\n",
              " ['Rebel', 'Rebel'],\n",
              " ['Normcore', 'Normcore'],\n",
              " ['Classic'],\n",
              " ['Rebel', 'Rebel'],\n",
              " ['Classic'],\n",
              " ['Rebel'],\n",
              " ['Classic'],\n",
              " ['Classic'],\n",
              " ['Classic'],\n",
              " ['Rebel'],\n",
              " ['Normcore', 'Normcore'],\n",
              " ['Rebel'],\n",
              " ['Normcore', 'Normcore'],\n",
              " ['Rebel', 'Rebel'],\n",
              " ['Classic'],\n",
              " ['Utilitarian'],\n",
              " ['Classic'],\n",
              " ['Classic'],\n",
              " ['Classic'],\n",
              " ['Classic'],\n",
              " ['Rebel'],\n",
              " ['Classic'],\n",
              " ['Rebel'],\n",
              " ['Normcore', 'Normcore'],\n",
              " ['Classic', 'Classic'],\n",
              " ['Hypebeast', 'Hypebeast'],\n",
              " ['Rebel'],\n",
              " ['Classic'],\n",
              " ['Hypebeast', 'Hypebeast'],\n",
              " ['Rebel'],\n",
              " ['Utilitarian'],\n",
              " ['Rebel'],\n",
              " ['Rebel'],\n",
              " ['Rebel', 'Rebel'],\n",
              " ['Hypebeast', 'Hypebeast'],\n",
              " ['Normcore', 'Normcore'],\n",
              " ['Rebel'],\n",
              " ['Hypebeast'],\n",
              " ['Rebel', 'Rebel'],\n",
              " ['Classic'],\n",
              " ['Rebel'],\n",
              " ['Classic', 'Classic'],\n",
              " ['Rebel'],\n",
              " ['Rebel', 'Rebel'],\n",
              " ['Rebel'],\n",
              " ['Hypebeast'],\n",
              " ['Normcore'],\n",
              " ['Rebel'],\n",
              " ['Rebel'],\n",
              " ['Classic'],\n",
              " ['Rebel', 'Rebel'],\n",
              " ['Classic'],\n",
              " ['Preppy'],\n",
              " ['Rebel'],\n",
              " ['Rebel'],\n",
              " ['Classic'],\n",
              " ['Rebel'],\n",
              " ['Rebel'],\n",
              " ['Rebel'],\n",
              " ['Rebel'],\n",
              " ['Hypebeast', 'Hypebeast'],\n",
              " ['Normcore', 'Normcore'],\n",
              " ['Rebel'],\n",
              " ['Rebel'],\n",
              " ['Utilitarian'],\n",
              " ['Rebel'],\n",
              " ['Hypebeast'],\n",
              " ['Rebel'],\n",
              " ['Rebel'],\n",
              " ...]"
            ]
          },
          "metadata": {},
          "execution_count": 177
        }
      ]
    },
    {
      "cell_type": "code",
      "metadata": {
        "colab": {
          "base_uri": "https://localhost:8080/",
          "height": 419
        },
        "id": "avlkYUUr0cTk",
        "outputId": "ad48df63-6892-479e-dffb-4ba275378205"
      },
      "source": [
        "mw_dataframe = pd.DataFrame(mw)\n",
        "mw_dataframe.columns=['MW','Dummy_MW']\n",
        "mw_dataframe"
      ],
      "execution_count": null,
      "outputs": [
        {
          "output_type": "execute_result",
          "data": {
            "text/html": [
              "<div>\n",
              "<style scoped>\n",
              "    .dataframe tbody tr th:only-of-type {\n",
              "        vertical-align: middle;\n",
              "    }\n",
              "\n",
              "    .dataframe tbody tr th {\n",
              "        vertical-align: top;\n",
              "    }\n",
              "\n",
              "    .dataframe thead th {\n",
              "        text-align: right;\n",
              "    }\n",
              "</style>\n",
              "<table border=\"1\" class=\"dataframe\">\n",
              "  <thead>\n",
              "    <tr style=\"text-align: right;\">\n",
              "      <th></th>\n",
              "      <th>MW</th>\n",
              "      <th>Dummy_MW</th>\n",
              "    </tr>\n",
              "  </thead>\n",
              "  <tbody>\n",
              "    <tr>\n",
              "      <th>0</th>\n",
              "      <td>Classic</td>\n",
              "      <td>None</td>\n",
              "    </tr>\n",
              "    <tr>\n",
              "      <th>1</th>\n",
              "      <td>Preppy</td>\n",
              "      <td>None</td>\n",
              "    </tr>\n",
              "    <tr>\n",
              "      <th>2</th>\n",
              "      <td>Rebel</td>\n",
              "      <td>None</td>\n",
              "    </tr>\n",
              "    <tr>\n",
              "      <th>3</th>\n",
              "      <td>Classic</td>\n",
              "      <td>None</td>\n",
              "    </tr>\n",
              "    <tr>\n",
              "      <th>4</th>\n",
              "      <td>Hypebeast</td>\n",
              "      <td>None</td>\n",
              "    </tr>\n",
              "    <tr>\n",
              "      <th>...</th>\n",
              "      <td>...</td>\n",
              "      <td>...</td>\n",
              "    </tr>\n",
              "    <tr>\n",
              "      <th>89405</th>\n",
              "      <td>Hypebeast</td>\n",
              "      <td>Hypebeast</td>\n",
              "    </tr>\n",
              "    <tr>\n",
              "      <th>89406</th>\n",
              "      <td>Hypebeast</td>\n",
              "      <td>Hypebeast</td>\n",
              "    </tr>\n",
              "    <tr>\n",
              "      <th>89407</th>\n",
              "      <td>Utilitarian</td>\n",
              "      <td>None</td>\n",
              "    </tr>\n",
              "    <tr>\n",
              "      <th>89408</th>\n",
              "      <td>Rebel</td>\n",
              "      <td>None</td>\n",
              "    </tr>\n",
              "    <tr>\n",
              "      <th>89409</th>\n",
              "      <td>Hypebeast</td>\n",
              "      <td>Hypebeast</td>\n",
              "    </tr>\n",
              "  </tbody>\n",
              "</table>\n",
              "<p>89410 rows × 2 columns</p>\n",
              "</div>"
            ],
            "text/plain": [
              "                MW   Dummy_MW\n",
              "0          Classic       None\n",
              "1           Preppy       None\n",
              "2            Rebel       None\n",
              "3          Classic       None\n",
              "4        Hypebeast       None\n",
              "...            ...        ...\n",
              "89405    Hypebeast  Hypebeast\n",
              "89406    Hypebeast  Hypebeast\n",
              "89407  Utilitarian       None\n",
              "89408        Rebel       None\n",
              "89409    Hypebeast  Hypebeast\n",
              "\n",
              "[89410 rows x 2 columns]"
            ]
          },
          "metadata": {},
          "execution_count": 178
        }
      ]
    },
    {
      "cell_type": "code",
      "metadata": {
        "colab": {
          "base_uri": "https://localhost:8080/",
          "height": 419
        },
        "id": "AjF8drrK0gi8",
        "outputId": "080afa94-c27f-4ade-e8b9-3038a6cd31ea"
      },
      "source": [
        "mw_dataframe=mw_dataframe.drop('Dummy_MW',axis=1)\n",
        "mw_dataframe"
      ],
      "execution_count": null,
      "outputs": [
        {
          "output_type": "execute_result",
          "data": {
            "text/html": [
              "<div>\n",
              "<style scoped>\n",
              "    .dataframe tbody tr th:only-of-type {\n",
              "        vertical-align: middle;\n",
              "    }\n",
              "\n",
              "    .dataframe tbody tr th {\n",
              "        vertical-align: top;\n",
              "    }\n",
              "\n",
              "    .dataframe thead th {\n",
              "        text-align: right;\n",
              "    }\n",
              "</style>\n",
              "<table border=\"1\" class=\"dataframe\">\n",
              "  <thead>\n",
              "    <tr style=\"text-align: right;\">\n",
              "      <th></th>\n",
              "      <th>MW</th>\n",
              "    </tr>\n",
              "  </thead>\n",
              "  <tbody>\n",
              "    <tr>\n",
              "      <th>0</th>\n",
              "      <td>Classic</td>\n",
              "    </tr>\n",
              "    <tr>\n",
              "      <th>1</th>\n",
              "      <td>Preppy</td>\n",
              "    </tr>\n",
              "    <tr>\n",
              "      <th>2</th>\n",
              "      <td>Rebel</td>\n",
              "    </tr>\n",
              "    <tr>\n",
              "      <th>3</th>\n",
              "      <td>Classic</td>\n",
              "    </tr>\n",
              "    <tr>\n",
              "      <th>4</th>\n",
              "      <td>Hypebeast</td>\n",
              "    </tr>\n",
              "    <tr>\n",
              "      <th>...</th>\n",
              "      <td>...</td>\n",
              "    </tr>\n",
              "    <tr>\n",
              "      <th>89405</th>\n",
              "      <td>Hypebeast</td>\n",
              "    </tr>\n",
              "    <tr>\n",
              "      <th>89406</th>\n",
              "      <td>Hypebeast</td>\n",
              "    </tr>\n",
              "    <tr>\n",
              "      <th>89407</th>\n",
              "      <td>Utilitarian</td>\n",
              "    </tr>\n",
              "    <tr>\n",
              "      <th>89408</th>\n",
              "      <td>Rebel</td>\n",
              "    </tr>\n",
              "    <tr>\n",
              "      <th>89409</th>\n",
              "      <td>Hypebeast</td>\n",
              "    </tr>\n",
              "  </tbody>\n",
              "</table>\n",
              "<p>89410 rows × 1 columns</p>\n",
              "</div>"
            ],
            "text/plain": [
              "                MW\n",
              "0          Classic\n",
              "1           Preppy\n",
              "2            Rebel\n",
              "3          Classic\n",
              "4        Hypebeast\n",
              "...            ...\n",
              "89405    Hypebeast\n",
              "89406    Hypebeast\n",
              "89407  Utilitarian\n",
              "89408        Rebel\n",
              "89409    Hypebeast\n",
              "\n",
              "[89410 rows x 1 columns]"
            ]
          },
          "metadata": {},
          "execution_count": 179
        }
      ]
    },
    {
      "cell_type": "code",
      "metadata": {
        "colab": {
          "base_uri": "https://localhost:8080/",
          "height": 419
        },
        "id": "w120u3Z30jP8",
        "outputId": "25e5c262-a4ba-4e07-e2af-81201e1b2d8b"
      },
      "source": [
        "mw_dataframe['MW']=le.fit_transform(mw_dataframe['MW'])\n",
        "mw_dataframe"
      ],
      "execution_count": null,
      "outputs": [
        {
          "output_type": "execute_result",
          "data": {
            "text/html": [
              "<div>\n",
              "<style scoped>\n",
              "    .dataframe tbody tr th:only-of-type {\n",
              "        vertical-align: middle;\n",
              "    }\n",
              "\n",
              "    .dataframe tbody tr th {\n",
              "        vertical-align: top;\n",
              "    }\n",
              "\n",
              "    .dataframe thead th {\n",
              "        text-align: right;\n",
              "    }\n",
              "</style>\n",
              "<table border=\"1\" class=\"dataframe\">\n",
              "  <thead>\n",
              "    <tr style=\"text-align: right;\">\n",
              "      <th></th>\n",
              "      <th>MW</th>\n",
              "    </tr>\n",
              "  </thead>\n",
              "  <tbody>\n",
              "    <tr>\n",
              "      <th>0</th>\n",
              "      <td>0</td>\n",
              "    </tr>\n",
              "    <tr>\n",
              "      <th>1</th>\n",
              "      <td>3</td>\n",
              "    </tr>\n",
              "    <tr>\n",
              "      <th>2</th>\n",
              "      <td>4</td>\n",
              "    </tr>\n",
              "    <tr>\n",
              "      <th>3</th>\n",
              "      <td>0</td>\n",
              "    </tr>\n",
              "    <tr>\n",
              "      <th>4</th>\n",
              "      <td>1</td>\n",
              "    </tr>\n",
              "    <tr>\n",
              "      <th>...</th>\n",
              "      <td>...</td>\n",
              "    </tr>\n",
              "    <tr>\n",
              "      <th>89405</th>\n",
              "      <td>1</td>\n",
              "    </tr>\n",
              "    <tr>\n",
              "      <th>89406</th>\n",
              "      <td>1</td>\n",
              "    </tr>\n",
              "    <tr>\n",
              "      <th>89407</th>\n",
              "      <td>5</td>\n",
              "    </tr>\n",
              "    <tr>\n",
              "      <th>89408</th>\n",
              "      <td>4</td>\n",
              "    </tr>\n",
              "    <tr>\n",
              "      <th>89409</th>\n",
              "      <td>1</td>\n",
              "    </tr>\n",
              "  </tbody>\n",
              "</table>\n",
              "<p>89410 rows × 1 columns</p>\n",
              "</div>"
            ],
            "text/plain": [
              "       MW\n",
              "0       0\n",
              "1       3\n",
              "2       4\n",
              "3       0\n",
              "4       1\n",
              "...    ..\n",
              "89405   1\n",
              "89406   1\n",
              "89407   5\n",
              "89408   4\n",
              "89409   1\n",
              "\n",
              "[89410 rows x 1 columns]"
            ]
          },
          "metadata": {},
          "execution_count": 180
        }
      ]
    },
    {
      "cell_type": "code",
      "metadata": {
        "colab": {
          "base_uri": "https://localhost:8080/"
        },
        "id": "3pLjmcMV0n2s",
        "outputId": "fcc408f9-f24c-4a7d-89b5-a923454b5930"
      },
      "source": [
        "mw_dataframe=mw_dataframe.iloc[:,:].values\n",
        "mw_dataframe"
      ],
      "execution_count": null,
      "outputs": [
        {
          "output_type": "execute_result",
          "data": {
            "text/plain": [
              "array([[0],\n",
              "       [3],\n",
              "       [4],\n",
              "       ...,\n",
              "       [5],\n",
              "       [4],\n",
              "       [1]])"
            ]
          },
          "metadata": {},
          "execution_count": 181
        }
      ]
    },
    {
      "cell_type": "code",
      "metadata": {
        "colab": {
          "base_uri": "https://localhost:8080/"
        },
        "id": "JrAsYJ2p0peT",
        "outputId": "c20e8032-dd1c-4967-d92c-63879b47a909"
      },
      "source": [
        "tfidf_df.shape"
      ],
      "execution_count": null,
      "outputs": [
        {
          "output_type": "execute_result",
          "data": {
            "text/plain": [
              "(89410, 100)"
            ]
          },
          "metadata": {},
          "execution_count": 182
        }
      ]
    },
    {
      "cell_type": "code",
      "metadata": {
        "id": "_p58fLDd0q7M"
      },
      "source": [
        "tfidf_df=pd.DataFrame(tfidf_df)\n",
        "tfidf_df=tfidf_df.head(89410)"
      ],
      "execution_count": null,
      "outputs": []
    },
    {
      "cell_type": "code",
      "metadata": {
        "id": "shCixBHX0v_c"
      },
      "source": [
        "from sklearn.model_selection import train_test_split\n",
        "train_X,test_X,train_y,test_y=train_test_split(tfidf_df,mw_dataframe,test_size=0.2)"
      ],
      "execution_count": null,
      "outputs": []
    },
    {
      "cell_type": "code",
      "metadata": {
        "id": "iGvp6Oi20wwT"
      },
      "source": [
        "## Multinomial NB Classifier\n",
        "\n",
        "from sklearn.naive_bayes import MultinomialNB\n",
        "model_menswear_MNB=MultinomialNB()\n",
        "\n",
        "model_menswear_MNB.fit(train_X,train_y.ravel())\n",
        "y_pred_menswear_MNB=model_menswear_MNB.predict(test_X)"
      ],
      "execution_count": null,
      "outputs": []
    },
    {
      "cell_type": "code",
      "metadata": {
        "colab": {
          "base_uri": "https://localhost:8080/"
        },
        "id": "6sERbUmgnHFk",
        "outputId": "00481b45-50df-4053-9bb1-a1d8fc94a758"
      },
      "source": [
        "from sklearn.metrics import confusion_matrix\n",
        "cm_menswear_MNB=confusion_matrix(test_y,y_pred_menswear_MNB)\n",
        "cm_menswear_MNB\n"
      ],
      "execution_count": null,
      "outputs": [
        {
          "output_type": "execute_result",
          "data": {
            "text/plain": [
              "array([[   0,    0,    0,    0, 2640,    0],\n",
              "       [   0,    0,    0,    0, 2709,    0],\n",
              "       [   0,    0,    0,    0, 1640,    0],\n",
              "       [   0,    0,    0,    0,  425,    0],\n",
              "       [   0,    0,    0,    0, 9014,    0],\n",
              "       [   0,    0,    0,    0, 1454,    0]])"
            ]
          },
          "metadata": {},
          "execution_count": 242
        }
      ]
    },
    {
      "cell_type": "code",
      "metadata": {
        "colab": {
          "base_uri": "https://localhost:8080/"
        },
        "id": "jvmRTeXNzys5",
        "outputId": "24dd2e5b-05e8-4d52-d6c5-ef873222ec73"
      },
      "source": [
        "from sklearn.metrics import accuracy_score\n",
        "\n",
        "'Accuracy Score: ',accuracy_score(test_y,y_pred_menswear_MNB)"
      ],
      "execution_count": null,
      "outputs": [
        {
          "output_type": "execute_result",
          "data": {
            "text/plain": [
              "('Accuracy Score: ', 0.5040823174141595)"
            ]
          },
          "metadata": {},
          "execution_count": 274
        }
      ]
    },
    {
      "cell_type": "code",
      "metadata": {
        "colab": {
          "base_uri": "https://localhost:8080/"
        },
        "id": "oxFgLJC11nGv",
        "outputId": "649759ac-2acb-489c-e524-2e1cb6f351a8"
      },
      "source": [
        "'F1 Score: ',f1_score(test_y,y_pred_menswear_MNB, average='weighted') "
      ],
      "execution_count": null,
      "outputs": [
        {
          "output_type": "execute_result",
          "data": {
            "text/plain": [
              "('F1 Score: ', 0.3378790905094612)"
            ]
          },
          "metadata": {},
          "execution_count": 289
        }
      ]
    },
    {
      "cell_type": "code",
      "metadata": {
        "colab": {
          "base_uri": "https://localhost:8080/"
        },
        "id": "g3sEEmmM2aOu",
        "outputId": "9990de2e-3023-4996-cb2a-26f8cef3c157"
      },
      "source": [
        "'Precision Score: ',precision_score(test_y,y_pred_menswear_MNB, average='weighted') "
      ],
      "execution_count": null,
      "outputs": [
        {
          "output_type": "stream",
          "text": [
            "/usr/local/lib/python3.7/dist-packages/sklearn/metrics/_classification.py:1272: UndefinedMetricWarning: Precision is ill-defined and being set to 0.0 in labels with no predicted samples. Use `zero_division` parameter to control this behavior.\n",
            "  _warn_prf(average, modifier, msg_start, len(result))\n"
          ],
          "name": "stderr"
        },
        {
          "output_type": "execute_result",
          "data": {
            "text/plain": [
              "('Precision Score: ', 0.2540989827296295)"
            ]
          },
          "metadata": {},
          "execution_count": 290
        }
      ]
    },
    {
      "cell_type": "code",
      "metadata": {
        "colab": {
          "base_uri": "https://localhost:8080/"
        },
        "id": "034XoRuY1qz0",
        "outputId": "51d57b07-f9a4-4b03-92b5-b0a20816935d"
      },
      "source": [
        "'Recall Score: ',recall_score(test_y,y_pred_menswear_MNB, average='macro') "
      ],
      "execution_count": null,
      "outputs": [
        {
          "output_type": "execute_result",
          "data": {
            "text/plain": [
              "('Recall Score: ', 0.16666666666666666)"
            ]
          },
          "metadata": {},
          "execution_count": 299
        }
      ]
    },
    {
      "cell_type": "code",
      "metadata": {
        "id": "B8TLLUe2V7WL"
      },
      "source": [
        "## Random Forest Classifier\n",
        "from sklearn.ensemble import RandomForestClassifier\n",
        "model_womenswear_RF=RandomForestClassifier()\n",
        "\n",
        "model_womenswear_RF.fit(train_X,train_y.ravel())\n",
        "y_pred_womenswear_RF=model_womenswear_RF.predict(test_X)"
      ],
      "execution_count": null,
      "outputs": []
    },
    {
      "cell_type": "code",
      "metadata": {
        "colab": {
          "base_uri": "https://localhost:8080/"
        },
        "id": "OiB53qtRZGyn",
        "outputId": "6ac2a661-fd78-40d2-d8d7-5de93b8d2e59"
      },
      "source": [
        "'Accuracy Score: ',accuracy_score(test_y,y_pred_womenswear_RF)"
      ],
      "execution_count": null,
      "outputs": [
        {
          "output_type": "execute_result",
          "data": {
            "text/plain": [
              "('Accuracy Score: ', 0.29797706132032875)"
            ]
          },
          "metadata": {},
          "execution_count": 427
        }
      ]
    },
    {
      "cell_type": "code",
      "metadata": {
        "colab": {
          "base_uri": "https://localhost:8080/"
        },
        "id": "rtd4dJVjZfyw",
        "outputId": "6afc9c64-9637-405f-d99d-3cb54bcf4378"
      },
      "source": [
        "'F1 Score: ',f1_score(test_y,y_pred_womenswear_RF, average='weighted') "
      ],
      "execution_count": null,
      "outputs": [
        {
          "output_type": "execute_result",
          "data": {
            "text/plain": [
              "('F1 Score: ', 0.19797813885369747)"
            ]
          },
          "metadata": {},
          "execution_count": 428
        }
      ]
    },
    {
      "cell_type": "code",
      "metadata": {
        "colab": {
          "base_uri": "https://localhost:8080/"
        },
        "id": "iGGa3M9EaUjt",
        "outputId": "a17db678-4f20-41c0-c96e-875f27e8cad7"
      },
      "source": [
        "'Precision Score: ',precision_score(test_y,y_pred_womenswear_RF, average='weighted') "
      ],
      "execution_count": null,
      "outputs": [
        {
          "output_type": "execute_result",
          "data": {
            "text/plain": [
              "('Precision Score: ', 0.190150108283077)"
            ]
          },
          "metadata": {},
          "execution_count": 429
        }
      ]
    },
    {
      "cell_type": "code",
      "metadata": {
        "colab": {
          "base_uri": "https://localhost:8080/"
        },
        "id": "6ds-dLE0a5Bs",
        "outputId": "0c25b23a-ce2c-4899-dd13-24928c077582"
      },
      "source": [
        "'Recall Score: ',recall_score(test_y,y_pred_womenswear_RF, average='macro') "
      ],
      "execution_count": null,
      "outputs": [
        {
          "output_type": "execute_result",
          "data": {
            "text/plain": [
              "('Recall Score: ', 0.13056435089602075)"
            ]
          },
          "metadata": {},
          "execution_count": 430
        }
      ]
    },
    {
      "cell_type": "code",
      "metadata": {
        "colab": {
          "base_uri": "https://localhost:8080/"
        },
        "id": "HjZoYhydwJKg",
        "outputId": "e10582a2-e332-435f-f167-48c0c1cfbdab"
      },
      "source": [
        "cm_menswear_RF=confusion_matrix(test_y,y_pred_menswear_RF)\n",
        "cm_menswear_RF\n"
      ],
      "execution_count": null,
      "outputs": [
        {
          "output_type": "execute_result",
          "data": {
            "text/plain": [
              "array([[  78,   99,   38,   19, 2359,   47],\n",
              "       [  81,   82,   38,    7, 2467,   34],\n",
              "       [  45,   49,   29,    4, 1497,   16],\n",
              "       [  13,   13,    7,    1,  386,    5],\n",
              "       [ 298,  289,  130,   26, 8148,  123],\n",
              "       [  46,   37,   24,    4, 1317,   26]])"
            ]
          },
          "metadata": {},
          "execution_count": 305
        }
      ]
    },
    {
      "cell_type": "code",
      "metadata": {
        "colab": {
          "base_uri": "https://localhost:8080/"
        },
        "id": "Wm15MVr2wMq1",
        "outputId": "e871ac24-f49c-4e2e-920f-7b3952460605"
      },
      "source": [
        "from sklearn.metrics import accuracy_score\n",
        "\n",
        "'Accuracy Score: ',accuracy_score(test_y,y_pred_menswear_RF)\n"
      ],
      "execution_count": null,
      "outputs": [
        {
          "output_type": "execute_result",
          "data": {
            "text/plain": [
              "('Accuracy Score: ', 0.46773291578123255)"
            ]
          },
          "metadata": {},
          "execution_count": 306
        }
      ]
    },
    {
      "cell_type": "code",
      "metadata": {
        "colab": {
          "base_uri": "https://localhost:8080/"
        },
        "id": "5UayfNp79aoS",
        "outputId": "2b8bfec9-b59b-4726-91b1-bb08e18a976b"
      },
      "source": [
        "'F1 Score: ',f1_score(test_y,y_pred_menswear_RF, average='weighted') "
      ],
      "execution_count": null,
      "outputs": [
        {
          "output_type": "execute_result",
          "data": {
            "text/plain": [
              "('F1 Score: ', 0.34627123541602295)"
            ]
          },
          "metadata": {},
          "execution_count": 307
        }
      ]
    },
    {
      "cell_type": "code",
      "metadata": {
        "colab": {
          "base_uri": "https://localhost:8080/"
        },
        "id": "W7QYfBGk9cUo",
        "outputId": "fa212698-ba91-4291-d11b-49ef8aa23f2a"
      },
      "source": [
        "'Precision Score: ',precision_score(test_y,y_pred_menswear_RF, average='weighted') "
      ],
      "execution_count": null,
      "outputs": [
        {
          "output_type": "execute_result",
          "data": {
            "text/plain": [
              "('Precision Score: ', 0.3151120369431314)"
            ]
          },
          "metadata": {},
          "execution_count": 308
        }
      ]
    },
    {
      "cell_type": "code",
      "metadata": {
        "colab": {
          "base_uri": "https://localhost:8080/"
        },
        "id": "5YHvwCg29eyO",
        "outputId": "333c2501-7761-4784-cee6-a32bdcf9a416"
      },
      "source": [
        "'Recall Score: ',recall_score(test_y,y_pred_menswear_RF, average='macro') "
      ],
      "execution_count": null,
      "outputs": [
        {
          "output_type": "execute_result",
          "data": {
            "text/plain": [
              "('Recall Score: ', 0.1669432874397456)"
            ]
          },
          "metadata": {},
          "execution_count": 309
        }
      ]
    },
    {
      "cell_type": "code",
      "metadata": {
        "id": "hfTTYqo-ZQUI"
      },
      "source": [
        "# import Decision Tree classifier\n",
        "from sklearn.tree import DecisionTreeClassifier\n",
        "model_menswear_DT=DecisionTreeClassifier()\n",
        "\n",
        "model_menswear_DT.fit(train_X,train_y.ravel())\n",
        "y_pred_menswear_DT=model_menswear_DT.predict(test_X)"
      ],
      "execution_count": null,
      "outputs": []
    },
    {
      "cell_type": "code",
      "metadata": {
        "colab": {
          "base_uri": "https://localhost:8080/"
        },
        "id": "Hycn2mQk9K_r",
        "outputId": "f5ec8056-7d4f-44d4-fdd1-a46bedb81b63"
      },
      "source": [
        "cm_menswear_DT=confusion_matrix(test_y,y_pred_menswear_DT)\n",
        "cm_menswear_DT\n"
      ],
      "execution_count": null,
      "outputs": [
        {
          "output_type": "execute_result",
          "data": {
            "text/plain": [
              "array([[ 406,  379,  251,   63, 1355,  186],\n",
              "       [ 394,  404,  246,   56, 1424,  185],\n",
              "       [ 251,  217,  143,   34,  893,  102],\n",
              "       [  61,   56,   38,    7,  245,   18],\n",
              "       [1383, 1337,  771,  214, 4701,  608],\n",
              "       [ 230,  190,  108,   32,  763,  131]])"
            ]
          },
          "metadata": {},
          "execution_count": 311
        }
      ]
    },
    {
      "cell_type": "code",
      "metadata": {
        "colab": {
          "base_uri": "https://localhost:8080/"
        },
        "id": "yOBdkfuE-k_v",
        "outputId": "6201a033-0f3e-41dc-ab9c-8a840dec50d4"
      },
      "source": [
        "'Accuracy Score: ',accuracy_score(test_y,y_pred_menswear_DT)"
      ],
      "execution_count": null,
      "outputs": [
        {
          "output_type": "execute_result",
          "data": {
            "text/plain": [
              "('Accuracy Score: ', 0.32390112962755846)"
            ]
          },
          "metadata": {},
          "execution_count": 313
        }
      ]
    },
    {
      "cell_type": "code",
      "metadata": {
        "colab": {
          "base_uri": "https://localhost:8080/"
        },
        "id": "d3ffl5RH-wc9",
        "outputId": "6c1772b5-09ca-4465-ad30-3d44b39a01b2"
      },
      "source": [
        "'F1 Score: ',f1_score(test_y,y_pred_menswear_DT, average='weighted') "
      ],
      "execution_count": null,
      "outputs": [
        {
          "output_type": "execute_result",
          "data": {
            "text/plain": [
              "('F1 Score: ', 0.31966235012667127)"
            ]
          },
          "metadata": {},
          "execution_count": 314
        }
      ]
    },
    {
      "cell_type": "code",
      "metadata": {
        "colab": {
          "base_uri": "https://localhost:8080/"
        },
        "id": "cEAYCnPC-yNP",
        "outputId": "1533b729-8c0e-48f9-b98c-63235e9ca219"
      },
      "source": [
        "'Precision Score: ',precision_score(test_y,y_pred_menswear_DT, average='weighted') \n"
      ],
      "execution_count": null,
      "outputs": [
        {
          "output_type": "execute_result",
          "data": {
            "text/plain": [
              "('Precision Score: ', 0.31578905097294285)"
            ]
          },
          "metadata": {},
          "execution_count": 315
        }
      ]
    },
    {
      "cell_type": "code",
      "metadata": {
        "colab": {
          "base_uri": "https://localhost:8080/"
        },
        "id": "O8Q_xAvZ-0UM",
        "outputId": "966a0a17-a639-4886-fbb2-0c08838b42a0"
      },
      "source": [
        "'Recall Score: ',recall_score(test_y,y_pred_menswear_DT, average='macro') "
      ],
      "execution_count": null,
      "outputs": [
        {
          "output_type": "execute_result",
          "data": {
            "text/plain": [
              "('Recall Score: ', 0.1697007455127828)"
            ]
          },
          "metadata": {},
          "execution_count": 316
        }
      ]
    },
    {
      "cell_type": "code",
      "metadata": {
        "colab": {
          "base_uri": "https://localhost:8080/"
        },
        "id": "edNA_LBJX84L",
        "outputId": "9a3bfa85-fe2b-4189-8b52-c05caa7b8c20"
      },
      "source": [
        "# import Logistic Regression\n",
        "from sklearn.linear_model import LogisticRegression\n",
        "model_menswear_LR=LogisticRegression()\n",
        "\n",
        "model_menswear_LR.fit(train_X,train_y.ravel())\n",
        "y_pred_menswear_LR=model_menswear_LR.predict(test_X)\n"
      ],
      "execution_count": null,
      "outputs": [
        {
          "output_type": "stream",
          "text": [
            "/usr/local/lib/python3.7/dist-packages/sklearn/linear_model/_logistic.py:940: ConvergenceWarning: lbfgs failed to converge (status=1):\n",
            "STOP: TOTAL NO. of ITERATIONS REACHED LIMIT.\n",
            "\n",
            "Increase the number of iterations (max_iter) or scale the data as shown in:\n",
            "    https://scikit-learn.org/stable/modules/preprocessing.html\n",
            "Please also refer to the documentation for alternative solver options:\n",
            "    https://scikit-learn.org/stable/modules/linear_model.html#logistic-regression\n",
            "  extra_warning_msg=_LOGISTIC_SOLVER_CONVERGENCE_MSG)\n"
          ],
          "name": "stderr"
        }
      ]
    },
    {
      "cell_type": "code",
      "metadata": {
        "colab": {
          "base_uri": "https://localhost:8080/"
        },
        "id": "IUnxda7J_DL9",
        "outputId": "b3fb29e9-db18-49b4-d908-af1ec838173d"
      },
      "source": [
        "from sklearn.metrics import confusion_matrix\n",
        "cm_menswear_LR=confusion_matrix(test_y,y_pred_menswear_LR)\n",
        "cm_menswear_LR\n"
      ],
      "execution_count": null,
      "outputs": [
        {
          "output_type": "execute_result",
          "data": {
            "text/plain": [
              "array([[   0,    0,    0,    0, 2640,    0],\n",
              "       [   0,    0,    0,    0, 2709,    0],\n",
              "       [   0,    0,    0,    0, 1640,    0],\n",
              "       [   0,    0,    0,    0,  425,    0],\n",
              "       [   0,    0,    0,    0, 9014,    0],\n",
              "       [   0,    0,    0,    0, 1454,    0]])"
            ]
          },
          "metadata": {},
          "execution_count": 318
        }
      ]
    },
    {
      "cell_type": "code",
      "metadata": {
        "colab": {
          "base_uri": "https://localhost:8080/"
        },
        "id": "kqmmpo88YqLf",
        "outputId": "7d27b429-c428-4279-9139-11b0ca87cb22"
      },
      "source": [
        "'Accuracy Score: ',accuracy_score(test_y,y_pred_menswear_LR)"
      ],
      "execution_count": null,
      "outputs": [
        {
          "output_type": "execute_result",
          "data": {
            "text/plain": [
              "('Accuracy Score: ', 0.5040823174141595)"
            ]
          },
          "metadata": {},
          "execution_count": 319
        }
      ]
    },
    {
      "cell_type": "code",
      "metadata": {
        "colab": {
          "base_uri": "https://localhost:8080/"
        },
        "id": "nQX1Nns7_Ksd",
        "outputId": "10455826-61e5-4330-b6c9-26ae880d38e5"
      },
      "source": [
        "'F1 Score: ',f1_score(test_y,y_pred_menswear_LR, average='weighted') "
      ],
      "execution_count": null,
      "outputs": [
        {
          "output_type": "execute_result",
          "data": {
            "text/plain": [
              "('F1 Score: ', 0.3378790905094612)"
            ]
          },
          "metadata": {},
          "execution_count": 320
        }
      ]
    },
    {
      "cell_type": "code",
      "metadata": {
        "colab": {
          "base_uri": "https://localhost:8080/"
        },
        "id": "SUP2VKO9_M-q",
        "outputId": "597200ba-86d6-4db7-a86a-5100ba57b099"
      },
      "source": [
        "'Precision Score: ',precision_score(test_y,y_pred_menswear_LR, average='weighted') "
      ],
      "execution_count": null,
      "outputs": [
        {
          "output_type": "stream",
          "text": [
            "/usr/local/lib/python3.7/dist-packages/sklearn/metrics/_classification.py:1272: UndefinedMetricWarning: Precision is ill-defined and being set to 0.0 in labels with no predicted samples. Use `zero_division` parameter to control this behavior.\n",
            "  _warn_prf(average, modifier, msg_start, len(result))\n"
          ],
          "name": "stderr"
        },
        {
          "output_type": "execute_result",
          "data": {
            "text/plain": [
              "('Precision Score: ', 0.2540989827296295)"
            ]
          },
          "metadata": {},
          "execution_count": 321
        }
      ]
    },
    {
      "cell_type": "code",
      "metadata": {
        "colab": {
          "base_uri": "https://localhost:8080/"
        },
        "id": "6dmZVp05_QRp",
        "outputId": "75b271c7-487b-4f92-845f-165f6f039981"
      },
      "source": [
        "'Recall Score: ',recall_score(test_y,y_pred_menswear_LR, average='macro') "
      ],
      "execution_count": null,
      "outputs": [
        {
          "output_type": "execute_result",
          "data": {
            "text/plain": [
              "('Recall Score: ', 0.16666666666666666)"
            ]
          },
          "metadata": {},
          "execution_count": 322
        }
      ]
    },
    {
      "cell_type": "code",
      "metadata": {
        "id": "6UYUgcIQ_Suw"
      },
      "source": [
        ""
      ],
      "execution_count": null,
      "outputs": []
    }
  ]
}